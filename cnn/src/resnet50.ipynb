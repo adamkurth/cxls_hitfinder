{
 "cells": [
  {
   "cell_type": "markdown",
   "metadata": {},
   "source": [
    "## ResNet 50 REVISED demo"
   ]
  },
  {
   "cell_type": "code",
   "execution_count": 27,
   "metadata": {},
   "outputs": [
    {
     "name": "stdout",
     "output_type": "stream",
     "text": [
      "Number of peak images: 54\n",
      "Number of water images: 54\n",
      "Number of label images: 54\n",
      "<class 'numpy.ndarray'>\n"
     ]
    }
   ],
   "source": [
    "import os\n",
    "import torch\n",
    "import torch.nn as nn\n",
    "import torch.optim as optim\n",
    "import logging\n",
    "import numpy as np\n",
    "import matplotlib.pyplot as plt\n",
    "from pkg import c, m, f \n",
    "\n",
    "# classes \n",
    "paths = c.PathManager()\n",
    "data = c.PeakImageDataset(paths)\n",
    "prep = c.DataPreparation(paths, data, batch_size=5)\n",
    "water_h5 = data.load_h5(paths.water_background_h5)\n",
    "ip = c.ImageProcessor(water_h5)\n",
    "p = c.PeakThresholdProcessor(threshold_value=10)"
   ]
  },
  {
   "cell_type": "code",
   "execution_count": 28,
   "metadata": {},
   "outputs": [],
   "source": [
    "# if not already generated \n",
    "# ip.process_directory(paths, p.threshold_value) "
   ]
  },
  {
   "cell_type": "code",
   "execution_count": 29,
   "metadata": {},
   "outputs": [
    {
     "name": "stdout",
     "output_type": "stream",
     "text": [
      "Using device: cpu\n",
      "Criterion:  BCEWithLogitsLoss()\n",
      "Optimizer: \n",
      " Adam (\n",
      "Parameter Group 0\n",
      "    amsgrad: False\n",
      "    betas: (0.9, 0.999)\n",
      "    capturable: False\n",
      "    differentiable: False\n",
      "    eps: 1e-08\n",
      "    foreach: None\n",
      "    fused: None\n",
      "    lr: 0.001\n",
      "    maximize: False\n",
      "    weight_decay: 0\n",
      ")\n",
      "Learning rate:  0.001\n",
      "Data prepared.\n",
      "Train size: 43\n",
      "Test size: 11\n",
      "Batch size: 5\n",
      "Number of batches in train_loader: 9 \n",
      "\n",
      "\n"
     ]
    }
   ],
   "source": [
    "# GPU/CPU\n",
    "device = torch.device(\"cuda:0\" if torch.cuda.is_available() else \"cpu\")\n",
    "print(f\"Using device: {device}\")\n",
    "# model\n",
    "model = m.ResNet50BraggPeakClassifier()\n",
    "# loss function/ combines a Sigmoid layer and the BCELoss in one single class\n",
    "criterion = nn.BCEWithLogitsLoss()\n",
    "# optimizer\n",
    "optimizer = torch.optim.Adam(model.parameters(), lr=0.001)\n",
    "print(\"Criterion: \", criterion)\n",
    "print(\"Optimizer: \\n\", optimizer)\n",
    "print(\"Learning rate: \", optimizer.param_groups[0]['lr'])\n",
    "# data loaders \n",
    "train_loader, test_loader = prep.prep_data()"
   ]
  },
  {
   "cell_type": "code",
   "execution_count": 30,
   "metadata": {},
   "outputs": [
    {
     "name": "stderr",
     "output_type": "stream",
     "text": [
      "2024-03-14 13:43:05,245 - INFO - Staring training...\n"
     ]
    }
   ],
   "source": [
    "\"\"\"Training ResNet50BraggPeakClassifier model\"\"\"\n",
    "num_epochs = 5\n",
    "logging.basicConfig(level=logging.INFO, format='%(asctime)s - %(levelname)s - %(message)s')\n",
    "train_losses = test_losses = []\n",
    "\n",
    "logging.info('Staring training...')\n",
    "for epoch in range(num_epochs):\n",
    "    model.train()\n",
    "    running_loss = 0.0\n",
    "    correct_predictions = 0\n",
    "    total_predictions = 0\n",
    "    \n",
    "    for inputs, labels in train_loader: \n",
    "        peak_images, water_images = inputs[0].to(device), inputs[1].to(device)\n",
    "        labels = labels.to(device)\n",
    "        \n",
    "        # zero parameter gradients\n",
    "        optimizer.zero_grad()\n",
    "        # forward pass\n",
    "        outputs = model(peak_images)\n",
    "        loss = criterion(outputs, labels)\n",
    "        # backward pass/optimize\n",
    "        loss.backward()\n",
    "        optimizer.step()\n",
    "        running_loss += loss.item()\n",
    "        # calculate accuracy\n",
    "        predicted = (torch.sigmoid(outputs) > 0.5).float()\n",
    "        correct_predictions += (predicted == labels).float().sum()\n",
    "        total_predictions += labels.size(0)\n",
    "    \n",
    "    epoch_loss = running_loss / len(train_loader)\n",
    "    epoch_acc = correct_predictions / total_predictions\n",
    "    train_losses.append(epoch_loss)\n",
    "    logging.info(f'Epoch [{epoch+1}/{num_epochs}], Loss: {epoch_loss}, Accuracy: {epoch_acc}')"
   ]
  },
  {
   "cell_type": "code",
   "execution_count": 11,
   "metadata": {},
   "outputs": [
    {
     "name": "stderr",
     "output_type": "stream",
     "text": [
      "2024-03-14 10:34:08,840 - INFO - Starting testing...\n",
      "2024-03-14 10:34:57,753 - INFO - Test Loss: 0.0001, Bragg Peak Detection Accuracy: 1.0000\n",
      "2024-03-14 10:34:57,754 - INFO - Test loss: 0.0003261209130869247\n",
      "2024-03-14 10:34:57,755 - INFO - Testing completed.\n"
     ]
    }
   ],
   "source": [
    "\"\"\"Testing ResNet50BraggPeakClassifier model\"\"\"\n",
    "logging.info('Starting testing...')\n",
    "model.eval()  \n",
    "test_loss = correct_peaks = total = 0\n",
    "\n",
    "with torch.no_grad():\n",
    "    for inputs, labels in test_loader:\n",
    "        peak_images, water_images = inputs\n",
    "        # forward pass prediction\n",
    "        peak_pred = model(peak_images) \n",
    "        # compute loss\n",
    "        loss = criterion(peak_pred, labels)\n",
    "        test_loss += loss.item()\n",
    "        # convert predictions to binary to compare with labels \n",
    "        peak_prediction = torch.sigmoid(peak_pred) > 0.5 \n",
    "        # calculate accuracy of peak detection\n",
    "        correct_peaks += (peak_prediction == labels).sum().item()\n",
    "        total += np.prod(labels.shape) \n",
    "\n",
    "    avg_test_loss = test_loss / len(test_loader)\n",
    "    peak_detection_accuracy = correct_peaks / total\n",
    "    test_losses.append(avg_test_loss)\n",
    "    # log results \n",
    "    logging.info(f\"Test Loss: {avg_test_loss:.4f}, Bragg Peak Detection Accuracy: {peak_detection_accuracy:.4f}\")\n",
    "    logging.info(f'Test loss: {test_loss}')\n",
    "    \n",
    "logging.info('Testing completed.')"
   ]
  },
  {
   "cell_type": "code",
   "execution_count": 22,
   "metadata": {},
   "outputs": [
    {
     "data": {
      "text/plain": [
       "1"
      ]
     },
     "execution_count": 22,
     "metadata": {},
     "output_type": "execute_result"
    }
   ],
   "source": [
    "len(train_losses)\n",
    "# len(test_losses)"
   ]
  },
  {
   "cell_type": "code",
   "execution_count": 25,
   "metadata": {},
   "outputs": [
    {
     "data": {
      "image/png": "[encoded data removed]",
      "text/plain": [
       "<Figure size 640x480 with 1 Axes>"
      ]
     },
     "metadata": {},
     "output_type": "display_data"
    }
   ],
   "source": [
    "plt.plot(train_losses)\n",
    "plt.plot(test_losses, color='r')\n",
    "plt.xlabel('Epoch')\n",
    "plt.ylabel('Training Loss')\n",
    "plt.title('Training Losses')\n",
    "plt.show()"
   ]
  },
  {
   "cell_type": "code",
   "execution_count": null,
   "metadata": {},
   "outputs": [],
   "source": [
    "import matplotlib.pyplot as plt\n",
    "\n",
    "plt.plot(test_losses)\n",
    "plt.xlabel('Epoch')\n",
    "plt.ylabel('Test Loss')\n",
    "plt.title('Test Losses')\n",
    "plt.show()\n"
   ]
  }
 ],
 "metadata": {
  "kernelspec": {
   "display_name": "torch",
   "language": "python",
   "name": "python3"
  },
  "language_info": {
   "codemirror_mode": {
    "name": "ipython",
    "version": 3
   },
   "file_extension": ".py",
   "mimetype": "text/x-python",
   "name": "python",
   "nbconvert_exporter": "python",
   "pygments_lexer": "ipython3",
   "version": "3.8.18"
  }
 },
 "nbformat": 4,
 "nbformat_minor": 2
}
