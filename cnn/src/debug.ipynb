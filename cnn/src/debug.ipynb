{
 "cells": [
  {
   "cell_type": "markdown",
   "metadata": {},
   "source": [
    "## DEBUG"
   ]
  },
  {
   "cell_type": "code",
   "execution_count": 1,
   "metadata": {},
   "outputs": [
    {
     "name": "stdout",
     "output_type": "stream",
     "text": [
      "Number of peak images: 54\n",
      "Number of water images: 54\n",
      "Number of label images: 28\n",
      "<class 'numpy.ndarray'>\n"
     ]
    }
   ],
   "source": [
    "import torch\n",
    "import torch.nn as nn\n",
    "import torch.optim as optim\n",
    "import logging\n",
    "\n",
    "from pkg import c, m, f \n",
    "\n",
    "# classes \n",
    "paths = c.PathManager()\n",
    "data = c.PeakImageDataset(paths)\n",
    "prep = c.DataPreparation(paths, data, batch_size=5)\n",
    "water_h5 = data.load_h5(paths.water_background_h5)\n",
    "ip = c.ImageProcessor(water_h5)\n",
    "p = c.PeakThresholdProcessor(threshold_value=10)"
   ]
  },
  {
   "cell_type": "code",
   "execution_count": 2,
   "metadata": {},
   "outputs": [
    {
     "name": "stdout",
     "output_type": "stream",
     "text": [
      "Processed and labeled images saved:\n",
      " /Users/adamkurth/Documents/vscode/CXFEL/cxls_hitfinder/images/processed_images/processed_img_7keV_clen01_00051.h5 --> /Users/adamkurth/Documents/vscode/CXFEL/cxls_hitfinder/images/labels/labeled_img_7keV_clen01_00051.h5\n",
      "Processed and labeled images saved:\n",
      " /Users/adamkurth/Documents/vscode/CXFEL/cxls_hitfinder/images/processed_images/processed_img_7keV_clen01_00034.h5 --> /Users/adamkurth/Documents/vscode/CXFEL/cxls_hitfinder/images/labels/labeled_img_7keV_clen01_00034.h5\n",
      "Processed and labeled images saved:\n",
      " /Users/adamkurth/Documents/vscode/CXFEL/cxls_hitfinder/images/processed_images/processed_img_7keV_clen01_00024.h5 --> /Users/adamkurth/Documents/vscode/CXFEL/cxls_hitfinder/images/labels/labeled_img_7keV_clen01_00024.h5\n",
      "Processed and labeled images saved:\n",
      " /Users/adamkurth/Documents/vscode/CXFEL/cxls_hitfinder/images/processed_images/processed_img_7keV_clen01_00010.h5 --> /Users/adamkurth/Documents/vscode/CXFEL/cxls_hitfinder/images/labels/labeled_img_7keV_clen01_00010.h5\n",
      "Processed and labeled images saved:\n",
      " /Users/adamkurth/Documents/vscode/CXFEL/cxls_hitfinder/images/processed_images/processed_img_7keV_clen01_00041.h5 --> /Users/adamkurth/Documents/vscode/CXFEL/cxls_hitfinder/images/labels/labeled_img_7keV_clen01_00041.h5\n",
      "Processed and labeled images saved:\n",
      " /Users/adamkurth/Documents/vscode/CXFEL/cxls_hitfinder/images/processed_images/processed_img_7keV_clen01_00030.h5 --> /Users/adamkurth/Documents/vscode/CXFEL/cxls_hitfinder/images/labels/labeled_img_7keV_clen01_00030.h5\n",
      "Processed and labeled images saved:\n",
      " /Users/adamkurth/Documents/vscode/CXFEL/cxls_hitfinder/images/processed_images/processed_img_7keV_clen01_00004.h5 --> /Users/adamkurth/Documents/vscode/CXFEL/cxls_hitfinder/images/labels/labeled_img_7keV_clen01_00004.h5\n",
      "Processed and labeled images saved:\n",
      " /Users/adamkurth/Documents/vscode/CXFEL/cxls_hitfinder/images/processed_images/processed_img_7keV_clen01_00045.h5 --> /Users/adamkurth/Documents/vscode/CXFEL/cxls_hitfinder/images/labels/labeled_img_7keV_clen01_00045.h5\n",
      "Processed and labeled images saved:\n",
      " /Users/adamkurth/Documents/vscode/CXFEL/cxls_hitfinder/images/processed_images/processed_img_7keV_clen01_00014.h5 --> /Users/adamkurth/Documents/vscode/CXFEL/cxls_hitfinder/images/labels/labeled_img_7keV_clen01_00014.h5\n",
      "Processed and labeled images saved:\n",
      " /Users/adamkurth/Documents/vscode/CXFEL/cxls_hitfinder/images/processed_images/processed_img_7keV_clen01_00020.h5 --> /Users/adamkurth/Documents/vscode/CXFEL/cxls_hitfinder/images/labels/labeled_img_7keV_clen01_00020.h5\n",
      "Processed and labeled images saved:\n",
      " /Users/adamkurth/Documents/vscode/CXFEL/cxls_hitfinder/images/processed_images/processed_img_7keV_clen01_00031.h5 --> /Users/adamkurth/Documents/vscode/CXFEL/cxls_hitfinder/images/labels/labeled_img_7keV_clen01_00031.h5\n",
      "Processed and labeled images saved:\n",
      " /Users/adamkurth/Documents/vscode/CXFEL/cxls_hitfinder/images/processed_images/processed_img_7keV_clen01_00005.h5 --> /Users/adamkurth/Documents/vscode/CXFEL/cxls_hitfinder/images/labels/labeled_img_7keV_clen01_00005.h5\n",
      "Processed and labeled images saved:\n",
      " /Users/adamkurth/Documents/vscode/CXFEL/cxls_hitfinder/images/processed_images/processed_img_7keV_clen01_00054.h5 --> /Users/adamkurth/Documents/vscode/CXFEL/cxls_hitfinder/images/labels/labeled_img_7keV_clen01_00054.h5\n",
      "Processed and labeled images saved:\n",
      " /Users/adamkurth/Documents/vscode/CXFEL/cxls_hitfinder/images/processed_images/processed_img_7keV_clen01_00044.h5 --> /Users/adamkurth/Documents/vscode/CXFEL/cxls_hitfinder/images/labels/labeled_img_7keV_clen01_00044.h5\n",
      "Processed and labeled images saved:\n",
      " /Users/adamkurth/Documents/vscode/CXFEL/cxls_hitfinder/images/processed_images/processed_img_7keV_clen01_00015.h5 --> /Users/adamkurth/Documents/vscode/CXFEL/cxls_hitfinder/images/labels/labeled_img_7keV_clen01_00015.h5\n",
      "Processed and labeled images saved:\n",
      " /Users/adamkurth/Documents/vscode/CXFEL/cxls_hitfinder/images/processed_images/processed_img_7keV_clen01_00021.h5 --> /Users/adamkurth/Documents/vscode/CXFEL/cxls_hitfinder/images/labels/labeled_img_7keV_clen01_00021.h5\n",
      "Processed and labeled images saved:\n",
      " /Users/adamkurth/Documents/vscode/CXFEL/cxls_hitfinder/images/processed_images/processed_img_7keV_clen01_00050.h5 --> /Users/adamkurth/Documents/vscode/CXFEL/cxls_hitfinder/images/labels/labeled_img_7keV_clen01_00050.h5\n",
      "Processed and labeled images saved:\n",
      " /Users/adamkurth/Documents/vscode/CXFEL/cxls_hitfinder/images/processed_images/processed_img_7keV_clen01_00001.h5 --> /Users/adamkurth/Documents/vscode/CXFEL/cxls_hitfinder/images/labels/labeled_img_7keV_clen01_00001.h5\n",
      "Processed and labeled images saved:\n",
      " /Users/adamkurth/Documents/vscode/CXFEL/cxls_hitfinder/images/processed_images/processed_img_7keV_clen01_00035.h5 --> /Users/adamkurth/Documents/vscode/CXFEL/cxls_hitfinder/images/labels/labeled_img_7keV_clen01_00035.h5\n",
      "Processed and labeled images saved:\n",
      " /Users/adamkurth/Documents/vscode/CXFEL/cxls_hitfinder/images/processed_images/processed_img_7keV_clen01_00025.h5 --> /Users/adamkurth/Documents/vscode/CXFEL/cxls_hitfinder/images/labels/labeled_img_7keV_clen01_00025.h5\n",
      "Processed and labeled images saved:\n",
      " /Users/adamkurth/Documents/vscode/CXFEL/cxls_hitfinder/images/processed_images/processed_img_7keV_clen01_00011.h5 --> /Users/adamkurth/Documents/vscode/CXFEL/cxls_hitfinder/images/labels/labeled_img_7keV_clen01_00011.h5\n",
      "Processed and labeled images saved:\n",
      " /Users/adamkurth/Documents/vscode/CXFEL/cxls_hitfinder/images/processed_images/processed_img_7keV_clen01_00040.h5 --> /Users/adamkurth/Documents/vscode/CXFEL/cxls_hitfinder/images/labels/labeled_img_7keV_clen01_00040.h5\n",
      "Processed and labeled images saved:\n",
      " /Users/adamkurth/Documents/vscode/CXFEL/cxls_hitfinder/images/processed_images/processed_img_7keV_clen01_00032.h5 --> /Users/adamkurth/Documents/vscode/CXFEL/cxls_hitfinder/images/labels/labeled_img_7keV_clen01_00032.h5\n",
      "Processed and labeled images saved:\n",
      " /Users/adamkurth/Documents/vscode/CXFEL/cxls_hitfinder/images/processed_images/processed_img_7keV_clen01_00006.h5 --> /Users/adamkurth/Documents/vscode/CXFEL/cxls_hitfinder/images/labels/labeled_img_7keV_clen01_00006.h5\n",
      "Processed and labeled images saved:\n",
      " /Users/adamkurth/Documents/vscode/CXFEL/cxls_hitfinder/images/processed_images/processed_img_7keV_clen01_00016.h5 --> /Users/adamkurth/Documents/vscode/CXFEL/cxls_hitfinder/images/labels/labeled_img_7keV_clen01_00016.h5\n",
      "Processed and labeled images saved:\n",
      " /Users/adamkurth/Documents/vscode/CXFEL/cxls_hitfinder/images/processed_images/processed_img_7keV_clen01_00047.h5 --> /Users/adamkurth/Documents/vscode/CXFEL/cxls_hitfinder/images/labels/labeled_img_7keV_clen01_00047.h5\n",
      "Processed and labeled images saved:\n",
      " /Users/adamkurth/Documents/vscode/CXFEL/cxls_hitfinder/images/processed_images/processed_img_7keV_clen01_00022.h5 --> /Users/adamkurth/Documents/vscode/CXFEL/cxls_hitfinder/images/labels/labeled_img_7keV_clen01_00022.h5\n",
      "Processed and labeled images saved:\n",
      " /Users/adamkurth/Documents/vscode/CXFEL/cxls_hitfinder/images/processed_images/processed_img_7keV_clen01_00002.h5 --> /Users/adamkurth/Documents/vscode/CXFEL/cxls_hitfinder/images/labels/labeled_img_7keV_clen01_00002.h5\n",
      "Processed and labeled images saved:\n",
      " /Users/adamkurth/Documents/vscode/CXFEL/cxls_hitfinder/images/processed_images/processed_img_7keV_clen01_00053.h5 --> /Users/adamkurth/Documents/vscode/CXFEL/cxls_hitfinder/images/labels/labeled_img_7keV_clen01_00053.h5\n",
      "Processed and labeled images saved:\n",
      " /Users/adamkurth/Documents/vscode/CXFEL/cxls_hitfinder/images/processed_images/processed_img_7keV_clen01_00036.h5 --> /Users/adamkurth/Documents/vscode/CXFEL/cxls_hitfinder/images/labels/labeled_img_7keV_clen01_00036.h5\n",
      "Processed and labeled images saved:\n",
      " /Users/adamkurth/Documents/vscode/CXFEL/cxls_hitfinder/images/processed_images/processed_img_7keV_clen01_00026.h5 --> /Users/adamkurth/Documents/vscode/CXFEL/cxls_hitfinder/images/labels/labeled_img_7keV_clen01_00026.h5\n",
      "Processed and labeled images saved:\n",
      " /Users/adamkurth/Documents/vscode/CXFEL/cxls_hitfinder/images/processed_images/processed_img_7keV_clen01_00043.h5 --> /Users/adamkurth/Documents/vscode/CXFEL/cxls_hitfinder/images/labels/labeled_img_7keV_clen01_00043.h5\n",
      "Processed and labeled images saved:\n",
      " /Users/adamkurth/Documents/vscode/CXFEL/cxls_hitfinder/images/processed_images/processed_img_7keV_clen01_00012.h5 --> /Users/adamkurth/Documents/vscode/CXFEL/cxls_hitfinder/images/labels/labeled_img_7keV_clen01_00012.h5\n",
      "Processed and labeled images saved:\n",
      " /Users/adamkurth/Documents/vscode/CXFEL/cxls_hitfinder/images/processed_images/processed_img_7keV_clen01_00003.h5 --> /Users/adamkurth/Documents/vscode/CXFEL/cxls_hitfinder/images/labels/labeled_img_7keV_clen01_00003.h5\n",
      "Processed and labeled images saved:\n",
      " /Users/adamkurth/Documents/vscode/CXFEL/cxls_hitfinder/images/processed_images/processed_img_7keV_clen01_00052.h5 --> /Users/adamkurth/Documents/vscode/CXFEL/cxls_hitfinder/images/labels/labeled_img_7keV_clen01_00052.h5\n",
      "Processed and labeled images saved:\n",
      " /Users/adamkurth/Documents/vscode/CXFEL/cxls_hitfinder/images/processed_images/processed_img_7keV_clen01_00037.h5 --> /Users/adamkurth/Documents/vscode/CXFEL/cxls_hitfinder/images/labels/labeled_img_7keV_clen01_00037.h5\n",
      "Processed and labeled images saved:\n",
      " /Users/adamkurth/Documents/vscode/CXFEL/cxls_hitfinder/images/processed_images/processed_img_7keV_clen01_00027.h5 --> /Users/adamkurth/Documents/vscode/CXFEL/cxls_hitfinder/images/labels/labeled_img_7keV_clen01_00027.h5\n",
      "Processed and labeled images saved:\n",
      " /Users/adamkurth/Documents/vscode/CXFEL/cxls_hitfinder/images/processed_images/processed_img_7keV_clen01_00042.h5 --> /Users/adamkurth/Documents/vscode/CXFEL/cxls_hitfinder/images/labels/labeled_img_7keV_clen01_00042.h5\n",
      "Processed and labeled images saved:\n",
      " /Users/adamkurth/Documents/vscode/CXFEL/cxls_hitfinder/images/processed_images/processed_img_7keV_clen01_00013.h5 --> /Users/adamkurth/Documents/vscode/CXFEL/cxls_hitfinder/images/labels/labeled_img_7keV_clen01_00013.h5\n",
      "Processed and labeled images saved:\n",
      " /Users/adamkurth/Documents/vscode/CXFEL/cxls_hitfinder/images/processed_images/processed_img_7keV_clen01_00033.h5 --> /Users/adamkurth/Documents/vscode/CXFEL/cxls_hitfinder/images/labels/labeled_img_7keV_clen01_00033.h5\n",
      "Processed and labeled images saved:\n",
      " /Users/adamkurth/Documents/vscode/CXFEL/cxls_hitfinder/images/processed_images/processed_img_7keV_clen01_00007.h5 --> /Users/adamkurth/Documents/vscode/CXFEL/cxls_hitfinder/images/labels/labeled_img_7keV_clen01_00007.h5\n",
      "Processed and labeled images saved:\n",
      " /Users/adamkurth/Documents/vscode/CXFEL/cxls_hitfinder/images/processed_images/processed_img_7keV_clen01_00017.h5 --> /Users/adamkurth/Documents/vscode/CXFEL/cxls_hitfinder/images/labels/labeled_img_7keV_clen01_00017.h5\n",
      "Processed and labeled images saved:\n",
      " /Users/adamkurth/Documents/vscode/CXFEL/cxls_hitfinder/images/processed_images/processed_img_7keV_clen01_00046.h5 --> /Users/adamkurth/Documents/vscode/CXFEL/cxls_hitfinder/images/labels/labeled_img_7keV_clen01_00046.h5\n",
      "Processed and labeled images saved:\n",
      " /Users/adamkurth/Documents/vscode/CXFEL/cxls_hitfinder/images/processed_images/processed_img_7keV_clen01_00023.h5 --> /Users/adamkurth/Documents/vscode/CXFEL/cxls_hitfinder/images/labels/labeled_img_7keV_clen01_00023.h5\n",
      "Processed and labeled images saved:\n",
      " /Users/adamkurth/Documents/vscode/CXFEL/cxls_hitfinder/images/processed_images/processed_img_7keV_clen01_00038.h5 --> /Users/adamkurth/Documents/vscode/CXFEL/cxls_hitfinder/images/labels/labeled_img_7keV_clen01_00038.h5\n",
      "Processed and labeled images saved:\n",
      " /Users/adamkurth/Documents/vscode/CXFEL/cxls_hitfinder/images/processed_images/processed_img_7keV_clen01_00028.h5 --> /Users/adamkurth/Documents/vscode/CXFEL/cxls_hitfinder/images/labels/labeled_img_7keV_clen01_00028.h5\n",
      "Processed and labeled images saved:\n",
      " /Users/adamkurth/Documents/vscode/CXFEL/cxls_hitfinder/images/processed_images/processed_img_7keV_clen01_00008.h5 --> /Users/adamkurth/Documents/vscode/CXFEL/cxls_hitfinder/images/labels/labeled_img_7keV_clen01_00008.h5\n",
      "Processed and labeled images saved:\n",
      " /Users/adamkurth/Documents/vscode/CXFEL/cxls_hitfinder/images/processed_images/processed_img_7keV_clen01_00049.h5 --> /Users/adamkurth/Documents/vscode/CXFEL/cxls_hitfinder/images/labels/labeled_img_7keV_clen01_00049.h5\n",
      "Processed and labeled images saved:\n",
      " /Users/adamkurth/Documents/vscode/CXFEL/cxls_hitfinder/images/processed_images/processed_img_7keV_clen01_00018.h5 --> /Users/adamkurth/Documents/vscode/CXFEL/cxls_hitfinder/images/labels/labeled_img_7keV_clen01_00018.h5\n",
      "Processed and labeled images saved:\n",
      " /Users/adamkurth/Documents/vscode/CXFEL/cxls_hitfinder/images/processed_images/processed_img_7keV_clen01_00009.h5 --> /Users/adamkurth/Documents/vscode/CXFEL/cxls_hitfinder/images/labels/labeled_img_7keV_clen01_00009.h5\n",
      "Processed and labeled images saved:\n",
      " /Users/adamkurth/Documents/vscode/CXFEL/cxls_hitfinder/images/processed_images/processed_img_7keV_clen01_00048.h5 --> /Users/adamkurth/Documents/vscode/CXFEL/cxls_hitfinder/images/labels/labeled_img_7keV_clen01_00048.h5\n",
      "Processed and labeled images saved:\n",
      " /Users/adamkurth/Documents/vscode/CXFEL/cxls_hitfinder/images/processed_images/processed_img_7keV_clen01_00019.h5 --> /Users/adamkurth/Documents/vscode/CXFEL/cxls_hitfinder/images/labels/labeled_img_7keV_clen01_00019.h5\n"
     ]
    },
    {
     "ename": "KeyboardInterrupt",
     "evalue": "",
     "output_type": "error",
     "traceback": [
      "\u001b[0;31m---------------------------------------------------------------------------\u001b[0m",
      "\u001b[0;31mKeyboardInterrupt\u001b[0m                         Traceback (most recent call last)",
      "Cell \u001b[0;32mIn[2], line 2\u001b[0m\n\u001b[1;32m      1\u001b[0m \u001b[38;5;66;03m# working \u001b[39;00m\n\u001b[0;32m----> 2\u001b[0m \u001b[43mip\u001b[49m\u001b[38;5;241;43m.\u001b[39;49m\u001b[43mprocess_directory\u001b[49m\u001b[43m(\u001b[49m\u001b[43mpaths\u001b[49m\u001b[43m,\u001b[49m\u001b[43m \u001b[49m\u001b[43mp\u001b[49m\u001b[38;5;241;43m.\u001b[39;49m\u001b[43mthreshold_value\u001b[49m\u001b[43m)\u001b[49m\n\u001b[1;32m      4\u001b[0m \u001b[38;5;66;03m# model \u001b[39;00m\n\u001b[1;32m      5\u001b[0m model \u001b[38;5;241m=\u001b[39m m\u001b[38;5;241m.\u001b[39mResNet50BraggPeakClassifier()\n",
      "File \u001b[0;32m~/Documents/vscode/CXFEL/cxls_hitfinder/cnn/src/pkg/classes.py:326\u001b[0m, in \u001b[0;36mImageProcessor.process_directory\u001b[0;34m(self, paths, threshold_value)\u001b[0m\n\u001b[1;32m    324\u001b[0m image \u001b[38;5;241m=\u001b[39m \u001b[38;5;28mself\u001b[39m\u001b[38;5;241m.\u001b[39mload_h5_image(full_path)\n\u001b[1;32m    325\u001b[0m processed_image \u001b[38;5;241m=\u001b[39m \u001b[38;5;28mself\u001b[39m\u001b[38;5;241m.\u001b[39mapply_water_background(image)\n\u001b[0;32m--> 326\u001b[0m heatmap_tensor, coordinates \u001b[38;5;241m=\u001b[39m \u001b[38;5;28;43mself\u001b[39;49m\u001b[38;5;241;43m.\u001b[39;49m\u001b[43mheatmap\u001b[49m\u001b[43m(\u001b[49m\u001b[43mprocessed_image\u001b[49m\u001b[43m,\u001b[49m\u001b[43m \u001b[49m\u001b[43mthreshold_value\u001b[49m\u001b[43m)\u001b[49m\n\u001b[1;32m    327\u001b[0m heatmap_np \u001b[38;5;241m=\u001b[39m heatmap_tensor\u001b[38;5;241m.\u001b[39msqueeze()\u001b[38;5;241m.\u001b[39mcpu()\u001b[38;5;241m.\u001b[39mnumpy()    \n\u001b[1;32m    329\u001b[0m processed_save_path \u001b[38;5;241m=\u001b[39m os\u001b[38;5;241m.\u001b[39mpath\u001b[38;5;241m.\u001b[39mjoin(processed_out_path, \u001b[38;5;124mf\u001b[39m\u001b[38;5;124m\"\u001b[39m\u001b[38;5;124mprocessed_\u001b[39m\u001b[38;5;132;01m{\u001b[39;00mf\u001b[38;5;132;01m}\u001b[39;00m\u001b[38;5;124m\"\u001b[39m)\n",
      "File \u001b[0;32m~/Documents/vscode/CXFEL/cxls_hitfinder/cnn/src/pkg/classes.py:304\u001b[0m, in \u001b[0;36mImageProcessor.heatmap\u001b[0;34m(self, peak_image_array, threshold_value, min_distance)\u001b[0m\n\u001b[1;32m    291\u001b[0m \u001b[38;5;28;01mdef\u001b[39;00m \u001b[38;5;21mheatmap\u001b[39m(\u001b[38;5;28mself\u001b[39m, peak_image_array, threshold_value\u001b[38;5;241m=\u001b[39m\u001b[38;5;241m0\u001b[39m, min_distance\u001b[38;5;241m=\u001b[39m\u001b[38;5;241m3\u001b[39m):\n\u001b[1;32m    292\u001b[0m \u001b[38;5;250m    \u001b[39m\u001b[38;5;124;03m\"\"\"\u001b[39;00m\n\u001b[1;32m    293\u001b[0m \u001b[38;5;124;03m    Generates a heatmap based on detected Bragg peaks in an image.\u001b[39;00m\n\u001b[1;32m    294\u001b[0m \n\u001b[0;32m   (...)\u001b[0m\n\u001b[1;32m    302\u001b[0m \u001b[38;5;124;03m        with the same dimensions as the input array.\u001b[39;00m\n\u001b[1;32m    303\u001b[0m \u001b[38;5;124;03m    \"\"\"\u001b[39;00m\n\u001b[0;32m--> 304\u001b[0m     coordinates \u001b[38;5;241m=\u001b[39m \u001b[43mpeak_local_max\u001b[49m\u001b[43m(\u001b[49m\u001b[43mpeak_image_array\u001b[49m\u001b[43m,\u001b[49m\u001b[43m \u001b[49m\u001b[43mmin_distance\u001b[49m\u001b[38;5;241;43m=\u001b[39;49m\u001b[43mmin_distance\u001b[49m\u001b[43m,\u001b[49m\u001b[43m \u001b[49m\u001b[43mthreshold_abs\u001b[49m\u001b[38;5;241;43m=\u001b[39;49m\u001b[43mthreshold_value\u001b[49m\u001b[43m)\u001b[49m\n\u001b[1;32m    305\u001b[0m     labeled_array \u001b[38;5;241m=\u001b[39m np\u001b[38;5;241m.\u001b[39mzeros(peak_image_array\u001b[38;5;241m.\u001b[39mshape)\n\u001b[1;32m    306\u001b[0m     \u001b[38;5;28;01mfor\u001b[39;00m y, x \u001b[38;5;129;01min\u001b[39;00m coordinates:\n",
      "File \u001b[0;32m~/anaconda3/envs/torch/lib/python3.8/site-packages/skimage/feature/peak.py:254\u001b[0m, in \u001b[0;36mpeak_local_max\u001b[0;34m(image, min_distance, threshold_abs, threshold_rel, exclude_border, num_peaks, footprint, labels, num_peaks_per_label, p_norm)\u001b[0m\n\u001b[1;32m    251\u001b[0m     mask \u001b[38;5;241m=\u001b[39m _exclude_border(mask, border_width)\n\u001b[1;32m    253\u001b[0m     \u001b[38;5;66;03m# Select highest intensities (num_peaks)\u001b[39;00m\n\u001b[0;32m--> 254\u001b[0m     coordinates \u001b[38;5;241m=\u001b[39m \u001b[43m_get_high_intensity_peaks\u001b[49m\u001b[43m(\u001b[49m\u001b[43mimage\u001b[49m\u001b[43m,\u001b[49m\u001b[43m \u001b[49m\u001b[43mmask\u001b[49m\u001b[43m,\u001b[49m\n\u001b[1;32m    255\u001b[0m \u001b[43m                                            \u001b[49m\u001b[43mnum_peaks\u001b[49m\u001b[43m,\u001b[49m\n\u001b[1;32m    256\u001b[0m \u001b[43m                                            \u001b[49m\u001b[43mmin_distance\u001b[49m\u001b[43m,\u001b[49m\u001b[43m \u001b[49m\u001b[43mp_norm\u001b[49m\u001b[43m)\u001b[49m\n\u001b[1;32m    258\u001b[0m \u001b[38;5;28;01melse\u001b[39;00m:\n\u001b[1;32m    259\u001b[0m     _labels \u001b[38;5;241m=\u001b[39m _exclude_border(labels\u001b[38;5;241m.\u001b[39mastype(\u001b[38;5;28mint\u001b[39m, casting\u001b[38;5;241m=\u001b[39m\u001b[38;5;124m\"\u001b[39m\u001b[38;5;124msafe\u001b[39m\u001b[38;5;124m\"\u001b[39m),\n\u001b[1;32m    260\u001b[0m                               border_width)\n",
      "File \u001b[0;32m~/anaconda3/envs/torch/lib/python3.8/site-packages/skimage/feature/peak.py:26\u001b[0m, in \u001b[0;36m_get_high_intensity_peaks\u001b[0;34m(image, mask, num_peaks, min_distance, p_norm)\u001b[0m\n\u001b[1;32m     23\u001b[0m \u001b[38;5;28;01melse\u001b[39;00m:\n\u001b[1;32m     24\u001b[0m     max_out \u001b[38;5;241m=\u001b[39m \u001b[38;5;28;01mNone\u001b[39;00m\n\u001b[0;32m---> 26\u001b[0m coord \u001b[38;5;241m=\u001b[39m \u001b[43mensure_spacing\u001b[49m\u001b[43m(\u001b[49m\u001b[43mcoord\u001b[49m\u001b[43m,\u001b[49m\u001b[43m \u001b[49m\u001b[43mspacing\u001b[49m\u001b[38;5;241;43m=\u001b[39;49m\u001b[43mmin_distance\u001b[49m\u001b[43m,\u001b[49m\u001b[43m \u001b[49m\u001b[43mp_norm\u001b[49m\u001b[38;5;241;43m=\u001b[39;49m\u001b[43mp_norm\u001b[49m\u001b[43m,\u001b[49m\n\u001b[1;32m     27\u001b[0m \u001b[43m                       \u001b[49m\u001b[43mmax_out\u001b[49m\u001b[38;5;241;43m=\u001b[39;49m\u001b[43mmax_out\u001b[49m\u001b[43m)\u001b[49m\n\u001b[1;32m     29\u001b[0m \u001b[38;5;28;01mif\u001b[39;00m \u001b[38;5;28mlen\u001b[39m(coord) \u001b[38;5;241m>\u001b[39m num_peaks:\n\u001b[1;32m     30\u001b[0m     coord \u001b[38;5;241m=\u001b[39m coord[:num_peaks]\n",
      "File \u001b[0;32m~/anaconda3/envs/torch/lib/python3.8/site-packages/skimage/_shared/coord.py:116\u001b[0m, in \u001b[0;36mensure_spacing\u001b[0;34m(coords, spacing, p_norm, min_split_size, max_out, max_split_size)\u001b[0m\n\u001b[1;32m    114\u001b[0m output \u001b[38;5;241m=\u001b[39m np\u001b[38;5;241m.\u001b[39mzeros((\u001b[38;5;241m0\u001b[39m, coords\u001b[38;5;241m.\u001b[39mshape[\u001b[38;5;241m1\u001b[39m]), dtype\u001b[38;5;241m=\u001b[39mcoords\u001b[38;5;241m.\u001b[39mdtype)\n\u001b[1;32m    115\u001b[0m \u001b[38;5;28;01mfor\u001b[39;00m batch \u001b[38;5;129;01min\u001b[39;00m batch_list:\n\u001b[0;32m--> 116\u001b[0m     output \u001b[38;5;241m=\u001b[39m \u001b[43m_ensure_spacing\u001b[49m\u001b[43m(\u001b[49m\u001b[43mnp\u001b[49m\u001b[38;5;241;43m.\u001b[39;49m\u001b[43mvstack\u001b[49m\u001b[43m(\u001b[49m\u001b[43m[\u001b[49m\u001b[43moutput\u001b[49m\u001b[43m,\u001b[49m\u001b[43m \u001b[49m\u001b[43mbatch\u001b[49m\u001b[43m]\u001b[49m\u001b[43m)\u001b[49m\u001b[43m,\u001b[49m\n\u001b[1;32m    117\u001b[0m \u001b[43m                             \u001b[49m\u001b[43mspacing\u001b[49m\u001b[43m,\u001b[49m\u001b[43m \u001b[49m\u001b[43mp_norm\u001b[49m\u001b[43m,\u001b[49m\u001b[43m \u001b[49m\u001b[43mmax_out\u001b[49m\u001b[43m)\u001b[49m\n\u001b[1;32m    118\u001b[0m     \u001b[38;5;28;01mif\u001b[39;00m max_out \u001b[38;5;129;01mis\u001b[39;00m \u001b[38;5;129;01mnot\u001b[39;00m \u001b[38;5;28;01mNone\u001b[39;00m \u001b[38;5;129;01mand\u001b[39;00m \u001b[38;5;28mlen\u001b[39m(output) \u001b[38;5;241m>\u001b[39m\u001b[38;5;241m=\u001b[39m max_out:\n\u001b[1;32m    119\u001b[0m         \u001b[38;5;28;01mbreak\u001b[39;00m\n",
      "File \u001b[0;32m~/anaconda3/envs/torch/lib/python3.8/site-packages/skimage/_shared/coord.py:40\u001b[0m, in \u001b[0;36m_ensure_spacing\u001b[0;34m(coord, spacing, p_norm, max_out)\u001b[0m\n\u001b[1;32m     37\u001b[0m \u001b[38;5;28;01mif\u001b[39;00m idx \u001b[38;5;129;01mnot\u001b[39;00m \u001b[38;5;129;01min\u001b[39;00m rejected_peaks_indices:\n\u001b[1;32m     38\u001b[0m     \u001b[38;5;66;03m# keep current point and the points at exactly spacing from it\u001b[39;00m\n\u001b[1;32m     39\u001b[0m     candidates\u001b[38;5;241m.\u001b[39mremove(idx)\n\u001b[0;32m---> 40\u001b[0m     dist \u001b[38;5;241m=\u001b[39m \u001b[43mdistance\u001b[49m\u001b[38;5;241;43m.\u001b[39;49m\u001b[43mcdist\u001b[49m\u001b[43m(\u001b[49m\u001b[43m[\u001b[49m\u001b[43mcoord\u001b[49m\u001b[43m[\u001b[49m\u001b[43midx\u001b[49m\u001b[43m]\u001b[49m\u001b[43m]\u001b[49m\u001b[43m,\u001b[49m\n\u001b[1;32m     41\u001b[0m \u001b[43m                          \u001b[49m\u001b[43mcoord\u001b[49m\u001b[43m[\u001b[49m\u001b[43mcandidates\u001b[49m\u001b[43m]\u001b[49m\u001b[43m,\u001b[49m\n\u001b[1;32m     42\u001b[0m \u001b[43m                          \u001b[49m\u001b[43mdistance\u001b[49m\u001b[38;5;241;43m.\u001b[39;49m\u001b[43mminkowski\u001b[49m\u001b[43m,\u001b[49m\n\u001b[1;32m     43\u001b[0m \u001b[43m                          \u001b[49m\u001b[43mp\u001b[49m\u001b[38;5;241;43m=\u001b[39;49m\u001b[43mp_norm\u001b[49m\u001b[43m)\u001b[49m\u001b[38;5;241m.\u001b[39mreshape(\u001b[38;5;241m-\u001b[39m\u001b[38;5;241m1\u001b[39m)\n\u001b[1;32m     44\u001b[0m     candidates \u001b[38;5;241m=\u001b[39m [c \u001b[38;5;28;01mfor\u001b[39;00m c, d \u001b[38;5;129;01min\u001b[39;00m \u001b[38;5;28mzip\u001b[39m(candidates, dist)\n\u001b[1;32m     45\u001b[0m                   \u001b[38;5;28;01mif\u001b[39;00m d \u001b[38;5;241m<\u001b[39m spacing]\n\u001b[1;32m     47\u001b[0m     \u001b[38;5;66;03m# candidates.remove(keep)\u001b[39;00m\n",
      "File \u001b[0;32m~/anaconda3/envs/torch/lib/python3.8/site-packages/scipy/spatial/distance.py:2931\u001b[0m, in \u001b[0;36mcdist\u001b[0;34m(XA, XB, metric, out, **kwargs)\u001b[0m\n\u001b[1;32m   2929\u001b[0m     metric_info \u001b[38;5;241m=\u001b[39m _METRIC_ALIAS\u001b[38;5;241m.\u001b[39mget(mstr, \u001b[38;5;28;01mNone\u001b[39;00m)\n\u001b[1;32m   2930\u001b[0m     \u001b[38;5;28;01mif\u001b[39;00m metric_info \u001b[38;5;129;01mis\u001b[39;00m \u001b[38;5;129;01mnot\u001b[39;00m \u001b[38;5;28;01mNone\u001b[39;00m:\n\u001b[0;32m-> 2931\u001b[0m         XA, XB, typ, kwargs \u001b[38;5;241m=\u001b[39m \u001b[43m_validate_cdist_input\u001b[49m\u001b[43m(\u001b[49m\n\u001b[1;32m   2932\u001b[0m \u001b[43m            \u001b[49m\u001b[43mXA\u001b[49m\u001b[43m,\u001b[49m\u001b[43m \u001b[49m\u001b[43mXB\u001b[49m\u001b[43m,\u001b[49m\u001b[43m \u001b[49m\u001b[43mmA\u001b[49m\u001b[43m,\u001b[49m\u001b[43m \u001b[49m\u001b[43mmB\u001b[49m\u001b[43m,\u001b[49m\u001b[43m \u001b[49m\u001b[43mn\u001b[49m\u001b[43m,\u001b[49m\u001b[43m \u001b[49m\u001b[43mmetric_info\u001b[49m\u001b[43m,\u001b[49m\u001b[43m \u001b[49m\u001b[38;5;241;43m*\u001b[39;49m\u001b[38;5;241;43m*\u001b[39;49m\u001b[43mkwargs\u001b[49m\u001b[43m)\u001b[49m\n\u001b[1;32m   2933\u001b[0m     \u001b[38;5;28;01mreturn\u001b[39;00m _cdist_callable(XA, XB, metric\u001b[38;5;241m=\u001b[39mmetric, out\u001b[38;5;241m=\u001b[39mout, \u001b[38;5;241m*\u001b[39m\u001b[38;5;241m*\u001b[39mkwargs)\n\u001b[1;32m   2934\u001b[0m \u001b[38;5;28;01melif\u001b[39;00m \u001b[38;5;28misinstance\u001b[39m(metric, \u001b[38;5;28mstr\u001b[39m):\n",
      "File \u001b[0;32m~/anaconda3/envs/torch/lib/python3.8/site-packages/scipy/spatial/distance.py:204\u001b[0m, in \u001b[0;36m_validate_cdist_input\u001b[0;34m(XA, XB, mA, mB, n, metric_info, **kwargs)\u001b[0m\n\u001b[1;32m    201\u001b[0m XB \u001b[38;5;241m=\u001b[39m _convert_to_type(XB, out_type\u001b[38;5;241m=\u001b[39mtyp)\n\u001b[1;32m    203\u001b[0m \u001b[38;5;66;03m# validate kwargs\u001b[39;00m\n\u001b[0;32m--> 204\u001b[0m _validate_kwargs \u001b[38;5;241m=\u001b[39m \u001b[43mmetric_info\u001b[49m\u001b[38;5;241;43m.\u001b[39;49m\u001b[43mvalidator\u001b[49m\n\u001b[1;32m    205\u001b[0m \u001b[38;5;28;01mif\u001b[39;00m _validate_kwargs:\n\u001b[1;32m    206\u001b[0m     kwargs \u001b[38;5;241m=\u001b[39m _validate_kwargs((XA, XB), mA \u001b[38;5;241m+\u001b[39m mB, n, \u001b[38;5;241m*\u001b[39m\u001b[38;5;241m*\u001b[39mkwargs)\n",
      "\u001b[0;31mKeyboardInterrupt\u001b[0m: "
     ]
    }
   ],
   "source": [
    "# if not already generated \n",
    "# ip.process_directory(paths, p.threshold_value) "
   ]
  },
  {
   "cell_type": "code",
   "execution_count": null,
   "metadata": {},
   "outputs": [],
   "source": [
    "\n",
    "# model \n",
    "model = m.ResNet50BraggPeakClassifier()\n",
    "# loss function/ combines a Sigmoid layer and the BCELoss in one single class\n",
    "criterion = nn.BCEWithLogitsLoss()\n",
    "# optimizer\n",
    "optimizer = torch.optim.Adam(model.parameters(), lr=0.001)\n",
    "print(\"Criterion: \", criterion)\n",
    "print(\"Optimizer: \\n\", optimizer)\n",
    "print(\"Learning rate: \", optimizer.param_groups[0]['lr'])\n",
    "# data loaders \n",
    "train_loader, test_loader = prep.prep_data()"
   ]
  },
  {
   "cell_type": "code",
   "execution_count": 3,
   "metadata": {},
   "outputs": [
    {
     "name": "stderr",
     "output_type": "stream",
     "text": [
      "2024-03-13 17:09:17,725 - INFO - Staring training...\n"
     ]
    },
    {
     "ename": "IndexError",
     "evalue": "list index out of range",
     "output_type": "error",
     "traceback": [
      "\u001b[0;31m---------------------------------------------------------------------------\u001b[0m",
      "\u001b[0;31mIndexError\u001b[0m                                Traceback (most recent call last)",
      "Cell \u001b[0;32mIn[3], line 11\u001b[0m\n\u001b[1;32m      9\u001b[0m model\u001b[38;5;241m.\u001b[39mtrain()\n\u001b[1;32m     10\u001b[0m running_loss \u001b[38;5;241m=\u001b[39m \u001b[38;5;241m0.0\u001b[39m\n\u001b[0;32m---> 11\u001b[0m \u001b[38;5;28;01mfor\u001b[39;00m inputs, labels \u001b[38;5;129;01min\u001b[39;00m train_loader: \n\u001b[1;32m     12\u001b[0m     peak_images, water_images \u001b[38;5;241m=\u001b[39m inputs\n\u001b[1;32m     13\u001b[0m     \u001b[38;5;66;03m# zero parameter gradients\u001b[39;00m\n",
      "File \u001b[0;32m~/anaconda3/envs/torch/lib/python3.8/site-packages/torch/utils/data/dataloader.py:630\u001b[0m, in \u001b[0;36m_BaseDataLoaderIter.__next__\u001b[0;34m(self)\u001b[0m\n\u001b[1;32m    627\u001b[0m \u001b[38;5;28;01mif\u001b[39;00m \u001b[38;5;28mself\u001b[39m\u001b[38;5;241m.\u001b[39m_sampler_iter \u001b[38;5;129;01mis\u001b[39;00m \u001b[38;5;28;01mNone\u001b[39;00m:\n\u001b[1;32m    628\u001b[0m     \u001b[38;5;66;03m# TODO(https://github.com/pytorch/pytorch/issues/76750)\u001b[39;00m\n\u001b[1;32m    629\u001b[0m     \u001b[38;5;28mself\u001b[39m\u001b[38;5;241m.\u001b[39m_reset()  \u001b[38;5;66;03m# type: ignore[call-arg]\u001b[39;00m\n\u001b[0;32m--> 630\u001b[0m data \u001b[38;5;241m=\u001b[39m \u001b[38;5;28;43mself\u001b[39;49m\u001b[38;5;241;43m.\u001b[39;49m\u001b[43m_next_data\u001b[49m\u001b[43m(\u001b[49m\u001b[43m)\u001b[49m\n\u001b[1;32m    631\u001b[0m \u001b[38;5;28mself\u001b[39m\u001b[38;5;241m.\u001b[39m_num_yielded \u001b[38;5;241m+\u001b[39m\u001b[38;5;241m=\u001b[39m \u001b[38;5;241m1\u001b[39m\n\u001b[1;32m    632\u001b[0m \u001b[38;5;28;01mif\u001b[39;00m \u001b[38;5;28mself\u001b[39m\u001b[38;5;241m.\u001b[39m_dataset_kind \u001b[38;5;241m==\u001b[39m _DatasetKind\u001b[38;5;241m.\u001b[39mIterable \u001b[38;5;129;01mand\u001b[39;00m \\\n\u001b[1;32m    633\u001b[0m         \u001b[38;5;28mself\u001b[39m\u001b[38;5;241m.\u001b[39m_IterableDataset_len_called \u001b[38;5;129;01mis\u001b[39;00m \u001b[38;5;129;01mnot\u001b[39;00m \u001b[38;5;28;01mNone\u001b[39;00m \u001b[38;5;129;01mand\u001b[39;00m \\\n\u001b[1;32m    634\u001b[0m         \u001b[38;5;28mself\u001b[39m\u001b[38;5;241m.\u001b[39m_num_yielded \u001b[38;5;241m>\u001b[39m \u001b[38;5;28mself\u001b[39m\u001b[38;5;241m.\u001b[39m_IterableDataset_len_called:\n",
      "File \u001b[0;32m~/anaconda3/envs/torch/lib/python3.8/site-packages/torch/utils/data/dataloader.py:674\u001b[0m, in \u001b[0;36m_SingleProcessDataLoaderIter._next_data\u001b[0;34m(self)\u001b[0m\n\u001b[1;32m    672\u001b[0m \u001b[38;5;28;01mdef\u001b[39;00m \u001b[38;5;21m_next_data\u001b[39m(\u001b[38;5;28mself\u001b[39m):\n\u001b[1;32m    673\u001b[0m     index \u001b[38;5;241m=\u001b[39m \u001b[38;5;28mself\u001b[39m\u001b[38;5;241m.\u001b[39m_next_index()  \u001b[38;5;66;03m# may raise StopIteration\u001b[39;00m\n\u001b[0;32m--> 674\u001b[0m     data \u001b[38;5;241m=\u001b[39m \u001b[38;5;28;43mself\u001b[39;49m\u001b[38;5;241;43m.\u001b[39;49m\u001b[43m_dataset_fetcher\u001b[49m\u001b[38;5;241;43m.\u001b[39;49m\u001b[43mfetch\u001b[49m\u001b[43m(\u001b[49m\u001b[43mindex\u001b[49m\u001b[43m)\u001b[49m  \u001b[38;5;66;03m# may raise StopIteration\u001b[39;00m\n\u001b[1;32m    675\u001b[0m     \u001b[38;5;28;01mif\u001b[39;00m \u001b[38;5;28mself\u001b[39m\u001b[38;5;241m.\u001b[39m_pin_memory:\n\u001b[1;32m    676\u001b[0m         data \u001b[38;5;241m=\u001b[39m _utils\u001b[38;5;241m.\u001b[39mpin_memory\u001b[38;5;241m.\u001b[39mpin_memory(data, \u001b[38;5;28mself\u001b[39m\u001b[38;5;241m.\u001b[39m_pin_memory_device)\n",
      "File \u001b[0;32m~/anaconda3/envs/torch/lib/python3.8/site-packages/torch/utils/data/_utils/fetch.py:49\u001b[0m, in \u001b[0;36m_MapDatasetFetcher.fetch\u001b[0;34m(self, possibly_batched_index)\u001b[0m\n\u001b[1;32m     47\u001b[0m \u001b[38;5;28;01mif\u001b[39;00m \u001b[38;5;28mself\u001b[39m\u001b[38;5;241m.\u001b[39mauto_collation:\n\u001b[1;32m     48\u001b[0m     \u001b[38;5;28;01mif\u001b[39;00m \u001b[38;5;28mhasattr\u001b[39m(\u001b[38;5;28mself\u001b[39m\u001b[38;5;241m.\u001b[39mdataset, \u001b[38;5;124m\"\u001b[39m\u001b[38;5;124m__getitems__\u001b[39m\u001b[38;5;124m\"\u001b[39m) \u001b[38;5;129;01mand\u001b[39;00m \u001b[38;5;28mself\u001b[39m\u001b[38;5;241m.\u001b[39mdataset\u001b[38;5;241m.\u001b[39m__getitems__:\n\u001b[0;32m---> 49\u001b[0m         data \u001b[38;5;241m=\u001b[39m \u001b[38;5;28;43mself\u001b[39;49m\u001b[38;5;241;43m.\u001b[39;49m\u001b[43mdataset\u001b[49m\u001b[38;5;241;43m.\u001b[39;49m\u001b[43m__getitems__\u001b[49m\u001b[43m(\u001b[49m\u001b[43mpossibly_batched_index\u001b[49m\u001b[43m)\u001b[49m\n\u001b[1;32m     50\u001b[0m     \u001b[38;5;28;01melse\u001b[39;00m:\n\u001b[1;32m     51\u001b[0m         data \u001b[38;5;241m=\u001b[39m [\u001b[38;5;28mself\u001b[39m\u001b[38;5;241m.\u001b[39mdataset[idx] \u001b[38;5;28;01mfor\u001b[39;00m idx \u001b[38;5;129;01min\u001b[39;00m possibly_batched_index]\n",
      "File \u001b[0;32m~/anaconda3/envs/torch/lib/python3.8/site-packages/torch/utils/data/dataset.py:364\u001b[0m, in \u001b[0;36mSubset.__getitems__\u001b[0;34m(self, indices)\u001b[0m\n\u001b[1;32m    362\u001b[0m     \u001b[38;5;28;01mreturn\u001b[39;00m \u001b[38;5;28mself\u001b[39m\u001b[38;5;241m.\u001b[39mdataset\u001b[38;5;241m.\u001b[39m__getitems__([\u001b[38;5;28mself\u001b[39m\u001b[38;5;241m.\u001b[39mindices[idx] \u001b[38;5;28;01mfor\u001b[39;00m idx \u001b[38;5;129;01min\u001b[39;00m indices])  \u001b[38;5;66;03m# type: ignore[attr-defined]\u001b[39;00m\n\u001b[1;32m    363\u001b[0m \u001b[38;5;28;01melse\u001b[39;00m:\n\u001b[0;32m--> 364\u001b[0m     \u001b[38;5;28;01mreturn\u001b[39;00m [\u001b[38;5;28mself\u001b[39m\u001b[38;5;241m.\u001b[39mdataset[\u001b[38;5;28mself\u001b[39m\u001b[38;5;241m.\u001b[39mindices[idx]] \u001b[38;5;28;01mfor\u001b[39;00m idx \u001b[38;5;129;01min\u001b[39;00m indices]\n",
      "File \u001b[0;32m~/anaconda3/envs/torch/lib/python3.8/site-packages/torch/utils/data/dataset.py:364\u001b[0m, in \u001b[0;36m<listcomp>\u001b[0;34m(.0)\u001b[0m\n\u001b[1;32m    362\u001b[0m     \u001b[38;5;28;01mreturn\u001b[39;00m \u001b[38;5;28mself\u001b[39m\u001b[38;5;241m.\u001b[39mdataset\u001b[38;5;241m.\u001b[39m__getitems__([\u001b[38;5;28mself\u001b[39m\u001b[38;5;241m.\u001b[39mindices[idx] \u001b[38;5;28;01mfor\u001b[39;00m idx \u001b[38;5;129;01min\u001b[39;00m indices])  \u001b[38;5;66;03m# type: ignore[attr-defined]\u001b[39;00m\n\u001b[1;32m    363\u001b[0m \u001b[38;5;28;01melse\u001b[39;00m:\n\u001b[0;32m--> 364\u001b[0m     \u001b[38;5;28;01mreturn\u001b[39;00m [\u001b[38;5;28;43mself\u001b[39;49m\u001b[38;5;241;43m.\u001b[39;49m\u001b[43mdataset\u001b[49m\u001b[43m[\u001b[49m\u001b[38;5;28;43mself\u001b[39;49m\u001b[38;5;241;43m.\u001b[39;49m\u001b[43mindices\u001b[49m\u001b[43m[\u001b[49m\u001b[43midx\u001b[49m\u001b[43m]\u001b[49m\u001b[43m]\u001b[49m \u001b[38;5;28;01mfor\u001b[39;00m idx \u001b[38;5;129;01min\u001b[39;00m indices]\n",
      "File \u001b[0;32m~/Documents/vscode/CXFEL/cxls_hitfinder/cnn/src/pkg/classes.py:151\u001b[0m, in \u001b[0;36mPeakImageDataset.__getitem__\u001b[0;34m(self, idx)\u001b[0m\n\u001b[1;32m    149\u001b[0m peak_image \u001b[38;5;241m=\u001b[39m \u001b[38;5;28mself\u001b[39m\u001b[38;5;241m.\u001b[39mload_h5(\u001b[38;5;28mself\u001b[39m\u001b[38;5;241m.\u001b[39mpeak_image_paths[idx])\n\u001b[1;32m    150\u001b[0m water_image \u001b[38;5;241m=\u001b[39m \u001b[38;5;28mself\u001b[39m\u001b[38;5;241m.\u001b[39mload_h5(\u001b[38;5;28mself\u001b[39m\u001b[38;5;241m.\u001b[39mwater_image_paths[idx])\n\u001b[0;32m--> 151\u001b[0m label_image \u001b[38;5;241m=\u001b[39m \u001b[38;5;28mself\u001b[39m\u001b[38;5;241m.\u001b[39mload_h5(\u001b[38;5;28;43mself\u001b[39;49m\u001b[38;5;241;43m.\u001b[39;49m\u001b[43mlabel_image_paths\u001b[49m\u001b[43m[\u001b[49m\u001b[43midx\u001b[49m\u001b[43m]\u001b[49m)\n\u001b[1;32m    153\u001b[0m \u001b[38;5;28;01mif\u001b[39;00m \u001b[38;5;28mself\u001b[39m\u001b[38;5;241m.\u001b[39mtransform:\n\u001b[1;32m    154\u001b[0m     peak_image \u001b[38;5;241m=\u001b[39m \u001b[38;5;28mself\u001b[39m\u001b[38;5;241m.\u001b[39mtransform(peak_image) \n",
      "\u001b[0;31mIndexError\u001b[0m: list index out of range"
     ]
    }
   ],
   "source": [
    "\"\"\"Training the model\"\"\"\n",
    "num_epochs = 1 \n",
    "logging.basicConfig(level=logging.INFO, format='%(asctime)s - %(levelname)s - %(message)s')\n",
    "train_losses = []\n",
    "test_losses = []\n",
    "\n",
    "logging.info('Staring training...')\n",
    "for epoch in range(num_epochs):\n",
    "    model.train()\n",
    "    running_loss = 0.0\n",
    "    for inputs, labels in train_loader: \n",
    "        peak_images, water_images = inputs\n",
    "        # zero parameter gradients\n",
    "        optimizer.zero_grad()\n",
    "        # forward pass\n",
    "        outputs = model(peak_images)\n",
    "        loss = criterion(outputs, labels)\n",
    "        # backward pass/optimize\n",
    "        loss.backward()\n",
    "        optimizer.step()\n",
    "        running_loss += loss.item()\n",
    "\n",
    "    logging.info(f'Epoch [{epoch+1}/{num_epochs}], Loss: {running_loss/len(train_loader)}')"
   ]
  }
 ],
 "metadata": {
  "kernelspec": {
   "display_name": "torch",
   "language": "python",
   "name": "python3"
  },
  "language_info": {
   "codemirror_mode": {
    "name": "ipython",
    "version": 3
   },
   "file_extension": ".py",
   "mimetype": "text/x-python",
   "name": "python",
   "nbconvert_exporter": "python",
   "pygments_lexer": "ipython3",
   "version": "3.8.18"
  }
 },
 "nbformat": 4,
 "nbformat_minor": 2
}
