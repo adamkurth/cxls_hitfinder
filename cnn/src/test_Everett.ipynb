{
 "cells": [
  {
   "cell_type": "code",
   "execution_count": 7,
   "metadata": {},
   "outputs": [
    {
     "name": "stdout",
     "output_type": "stream",
     "text": [
      "\n",
      "true parameter matrix...\n",
      "\n",
      "[[(1.5, 6000.) (1.5, 7000.) (1.5, 8000.)]\n",
      " [(2.5, 6000.) (2.5, 7000.) (2.5, 8000.)]\n",
      " [(3.5, 6000.) (3.5, 7000.) (3.5, 8000.)]] \n",
      "\n",
      "[1.5, 6000]\n",
      "Found water background image: water01.h5\n",
      "Number of peak images: 39\n",
      "Number of water images: 39\n",
      "Number of label images: 39\n",
      "Check: Path to water background image: /Users/adamkurth/Documents/vscode/CXFEL/cxls_hitfinder/images/water/01/water01.h5\n",
      "\n"
     ]
    }
   ],
   "source": [
    "import os\n",
    "import torch\n",
    "import torch.nn as nn\n",
    "import torch.optim as optim\n",
    "import torch.nn.functional as F\n",
    "import numpy as np\n",
    "\n",
    "from pkg import u,m\n",
    "\n",
    "clen_values, photon_energy_values = [1.5, 2.5, 3.5], [6000, 7000, 8000]\n",
    "param_matrix = u.parameter_matrix(clen_values, photon_energy_values)\n",
    "print(param_matrix, '\\n')\n",
    "\n",
    "dataset_dict = {\n",
    "    '01': [clen_values[0], photon_energy_values[0]],\n",
    "    '02': [clen_values[0], photon_energy_values[1]],\n",
    "    '03': [clen_values[0], photon_energy_values[2]],\n",
    "    '04': [clen_values[1], photon_energy_values[0]],\n",
    "    '05': [clen_values[1], photon_energy_values[1]],\n",
    "    '06': [clen_values[1], photon_energy_values[2]],\n",
    "    '07': [clen_values[2], photon_energy_values[0]],\n",
    "    '08': [clen_values[2], photon_energy_values[1]],\n",
    "    '09': [clen_values[2], photon_energy_values[2]],\n",
    "}\n",
    "\n",
    "\n",
    "# parameters\n",
    "dataset = '01'\n",
    "print(dataset_dict[dataset])\n",
    "clen, photon_energy = dataset_dict[dataset]\n",
    "threshold = 1\n",
    "# clen = 1.5 # meters \n",
    "# photon_energy = 6000 # eV/ 6 keV\n",
    "\n",
    "# instances\n",
    "pm = u.PathManager()\n",
    "peak_paths, water_peak_paths, labels, water_background_path = pm.select_dataset(dataset=dataset)\n",
    "p = u.Processor(paths=pm, dataset=dataset)\n",
    "dm = u.DatasetManager(paths=pm, dataset=dataset, transform=None)"
   ]
  },
  {
   "cell_type": "code",
   "execution_count": 2,
   "metadata": {},
   "outputs": [],
   "source": [
    "# p.process_directory(dataset=dataset, clen=clen, photon_energy=photon_energy)"
   ]
  },
  {
   "cell_type": "code",
   "execution_count": 8,
   "metadata": {},
   "outputs": [
    {
     "name": "stdout",
     "output_type": "stream",
     "text": [
      "\n",
      "true parameter matrix...\n",
      "\n",
      "All files in dataset 01 of type 'label' have matching attributes.\n",
      "\n",
      "Data prepared.\n",
      "Train size: 31\n",
      "Test size: 8\n",
      "Batch size: 10\n",
      "Number of batches in train_loader: 4 \n",
      "\n"
     ]
    }
   ],
   "source": [
    "# generate peak/overlay/label and upate attributes\n",
    "# overlaying the correct water01.h5 path to the peak images\n",
    "# p.process_directory(dataset=dataset, clen=clen, photon_energy=photon_energy)\n",
    "\n",
    "# peak, label, overlay, background are valid types\n",
    "u.check_attributes(paths=pm, dataset=dataset, type='label') \n",
    "\n",
    "train_loader, test_loader = u.prepare(data_manager=dm, batch_size=10)"
   ]
  },
  {
   "cell_type": "code",
   "execution_count": 9,
   "metadata": {},
   "outputs": [
    {
     "name": "stdout",
     "output_type": "stream",
     "text": [
      "Model training: BasicCNN1\n",
      "-- epoch 0\n",
      "Train loss: 0.2570850968360901\n",
      "Train accuracy: 0.9999890327453613\n",
      "-- epoch 1\n",
      "Train loss: 0.24890608191490174\n",
      "Train accuracy: 0.9999979138374329\n",
      "-- epoch 2\n",
      "Train loss: 0.24081361889839173\n",
      "Train accuracy: 0.9999991059303284\n",
      "-- epoch 3\n",
      "Train loss: 0.23254562616348268\n",
      "Train accuracy: 0.9999992847442627\n",
      "-- epoch 4\n",
      "Train loss: 0.22400551438331603\n",
      "Train accuracy: 0.9999992847442627\n",
      "-- epoch 5\n",
      "Train loss: 0.21513925194740297\n",
      "Train accuracy: 0.9999992847442627\n",
      "-- epoch 6\n",
      "Train loss: 0.20595051646232604\n",
      "Train accuracy: 0.9999992847442627\n",
      "-- epoch 7\n",
      "Train loss: 0.19638171195983886\n",
      "Train accuracy: 0.9999992847442627\n",
      "-- epoch 8\n",
      "Train loss: 0.1863972157239914\n",
      "Train accuracy: 0.9999992847442627\n",
      "-- epoch 9\n",
      "Train loss: 0.176109379529953\n",
      "Train accuracy: 0.9999992847442627\n"
     ]
    }
   ],
   "source": [
    "model1 = m.BasicCNN1()\n",
    "criterion = nn.BCEWithLogitsLoss()\n",
    "optimizer = optim.Adam(model1.parameters(), lr=0.001)\n",
    "device = torch.device(\"cuda\" if torch.cuda.is_available() else \"cpu\")\n",
    "\n",
    "cfg = {\n",
    "    'num_epochs': 10,\n",
    "    'num_classes': 2,\n",
    "    'batch_size': train_loader.batch_size,\n",
    "    'test_size': len(train_loader.dataset),\n",
    "    'test_size': len(test_loader.dataset),\n",
    "    'criterion': criterion,\n",
    "    'optimizer': optimizer,\n",
    "    'device': device,\n",
    "    'model': model1,\n",
    "}\n",
    "\n",
    "# arguments: self, model, loader: list, criterion, optimizer, device, cfg: dict\n",
    "t = u.TrainTestModels(model=model1, loader=[train_loader, test_loader], criterion=criterion, optimizer=optimizer, device=device, cfg=cfg)\n",
    "t.train()"
   ]
  },
  {
   "cell_type": "code",
   "execution_count": null,
   "metadata": {},
   "outputs": [],
   "source": []
  }
 ],
 "metadata": {
  "kernelspec": {
   "display_name": "torch",
   "language": "python",
   "name": "python3"
  },
  "language_info": {
   "codemirror_mode": {
    "name": "ipython",
    "version": 3
   },
   "file_extension": ".py",
   "mimetype": "text/x-python",
   "name": "python",
   "nbconvert_exporter": "python",
   "pygments_lexer": "ipython3",
   "version": "3.11.5"
  }
 },
 "nbformat": 4,
 "nbformat_minor": 2
}
