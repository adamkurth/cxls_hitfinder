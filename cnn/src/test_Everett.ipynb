{
 "cells": [
  {
   "cell_type": "code",
   "execution_count": 1,
   "metadata": {},
   "outputs": [
    {
     "name": "stdout",
     "output_type": "stream",
     "text": [
      "clen: 1.5, photon_energy: 6000\n"
     ]
    }
   ],
   "source": [
    "import os\n",
    "import torch\n",
    "import torch.nn as nn\n",
    "import torch.optim as optim\n",
    "import torch.nn.functional as F\n",
    "import numpy as np\n",
    "import subprocess\n",
    "from glob import glob\n",
    "\n",
    "from pkg import u,m\n",
    "\n",
    "# dataset_num = input(\"Enter dataset number: \")\n",
    "# dataset = dataset_num.zfill(2) # string (ex '01')\n",
    "dataset = '01'\n",
    "\n",
    "pm = u.PathManager(dataset=dataset)\n",
    "p = u.Processor(paths=pm, dataset=dataset)\n",
    "clen, photon_energy = p.get_parameters()\n",
    "print(f\"clen: {clen}, photon_energy: {photon_energy}\")\n",
    "# instances\n",
    "pm = u.PathManager(dataset=dataset)\n",
    "peak_paths, water_peak_paths, labels, water_background_path = pm.select_dataset(dataset=dataset)\n",
    "p = u.Processor(paths=pm, dataset=dataset)"
   ]
  },
  {
   "cell_type": "code",
   "execution_count": 2,
   "metadata": {},
   "outputs": [
    {
     "name": "stdout",
     "output_type": "stream",
     "text": [
      "Paths refreshed for dataset 01.\n",
      "Directory: peaks/01\n",
      "  Total files: 54\n",
      "  Normal images: 39\n",
      "  Empty images: 15\n",
      "Directory: labels/01\n",
      "  Total files: 54\n",
      "  Normal images: 39\n",
      "  Empty images: 15\n",
      "Directory: peaks_water_overlay/01\n",
      "  Total files: 54\n",
      "  Normal images: 39\n",
      "  Empty images: 15\n",
      "Directories '01' through '09' already created in '../../images/labels'.\n",
      "Directories '01' through '09' already created in '../../images/peaks'.\n",
      "Directories '01' through '09' already created in '../../images/peaks_water_overlay'.\n",
      "Directories '01' through '09' already created in '../../images/water'.\n",
      "Directories for dataset 01 have been processed. Matching file counts found.\n",
      "Directories for dataset 02 have been processed. Matching file counts found.\n",
      "Directories for dataset 03 have been processed. Matching file counts found.\n",
      "Directories for dataset 04 have been processed. Matching file counts found.\n",
      "Directories for dataset 05 have been processed. Matching file counts found.\n",
      "Directories for dataset 06 have been processed. Matching file counts found.\n",
      "Directories for dataset 07 are ready for processing (Step 1).\n",
      "Directories for dataset 08 are ready for processing (Step 1).\n",
      "Directories for dataset 09 are ready for processing (Step 1).\n",
      "Directory structure and image count verification completed successfully. Proceeding with data processing.\n",
      "\n",
      "Proceeding with data processing...\n"
     ]
    },
    {
     "ename": "FileNotFoundError",
     "evalue": "[Errno 2] No such file or directory: '/home/eseverett/Desktop/CXFEL/cxls_hitfinder/images/peaks/00'",
     "output_type": "error",
     "traceback": [
      "\u001b[0;31m---------------------------------------------------------------------------\u001b[0m",
      "\u001b[0;31mFileNotFoundError\u001b[0m                         Traceback (most recent call last)",
      "File \u001b[0;32m~/Desktop/CXFEL/cxls_hitfinder/cnn/src/process_directory.py:145\u001b[0m\n\u001b[1;32m    142\u001b[0m parser\u001b[38;5;241m.\u001b[39madd_argument(\u001b[38;5;124m\"\u001b[39m\u001b[38;5;124m--percent_empty\u001b[39m\u001b[38;5;124m\"\u001b[39m, \u001b[38;5;28mtype\u001b[39m\u001b[38;5;241m=\u001b[39m\u001b[38;5;28mfloat\u001b[39m, default\u001b[38;5;241m=\u001b[39m\u001b[38;5;241m0.3\u001b[39m, help\u001b[38;5;241m=\u001b[39m\u001b[38;5;124m\"\u001b[39m\u001b[38;5;124mPercentage of empty images to add.\u001b[39m\u001b[38;5;124m\"\u001b[39m)\n\u001b[1;32m    143\u001b[0m args \u001b[38;5;241m=\u001b[39m parser\u001b[38;5;241m.\u001b[39mparse_args()\n\u001b[0;32m--> 145\u001b[0m main(images_dir\u001b[38;5;241m=\u001b[39margs\u001b[38;5;241m.\u001b[39mimages_dir, force\u001b[38;5;241m=\u001b[39margs\u001b[38;5;241m.\u001b[39mforce, percent_empty\u001b[38;5;241m=\u001b[39margs\u001b[38;5;241m.\u001b[39mpercent_empty)\n",
      "File \u001b[0;32m~/Desktop/CXFEL/cxls_hitfinder/cnn/src/process_directory.py:131\u001b[0m, in \u001b[0;36mmain\u001b[0;34m(images_dir, force, percent_empty)\u001b[0m\n\u001b[1;32m    129\u001b[0m     \u001b[38;5;28mprint\u001b[39m(\u001b[38;5;124m\"\u001b[39m\u001b[38;5;130;01m\\n\u001b[39;00m\u001b[38;5;124mProceeding with data processing...\u001b[39m\u001b[38;5;124m\"\u001b[39m)\n\u001b[1;32m    130\u001b[0m     \u001b[38;5;66;03m# generate labels, overlays, and images, then add empty images\u001b[39;00m\n\u001b[0;32m--> 131\u001b[0m     process_data(images_dir, percent_empty)\n\u001b[1;32m    132\u001b[0m \u001b[38;5;28;01melif\u001b[39;00m is_valid \u001b[38;5;129;01mand\u001b[39;00m \u001b[38;5;129;01mnot\u001b[39;00m proceed_with_processing:\n\u001b[1;32m    133\u001b[0m     \u001b[38;5;28mprint\u001b[39m(\u001b[38;5;124m\"\u001b[39m\u001b[38;5;124mProcessing not required. Directories already contain processed data.\u001b[39m\u001b[38;5;124m\"\u001b[39m)\n",
      "File \u001b[0;32m~/Desktop/CXFEL/cxls_hitfinder/cnn/src/process_directory.py:97\u001b[0m, in \u001b[0;36mprocess_data\u001b[0;34m(directory, percent_empty)\u001b[0m\n\u001b[1;32m     94\u001b[0m dataset_num \u001b[38;5;241m=\u001b[39m \u001b[38;5;28minput\u001b[39m(\u001b[38;5;124m\"\u001b[39m\u001b[38;5;124mEnter dataset number: \u001b[39m\u001b[38;5;124m\"\u001b[39m)\n\u001b[1;32m     95\u001b[0m dataset \u001b[38;5;241m=\u001b[39m dataset_num\u001b[38;5;241m.\u001b[39mzfill(\u001b[38;5;241m2\u001b[39m) \u001b[38;5;66;03m# string (ex '01')\u001b[39;00m\n\u001b[0;32m---> 97\u001b[0m pm \u001b[38;5;241m=\u001b[39m u\u001b[38;5;241m.\u001b[39mPathManager(dataset\u001b[38;5;241m=\u001b[39mdataset)\n\u001b[1;32m     98\u001b[0m p \u001b[38;5;241m=\u001b[39m u\u001b[38;5;241m.\u001b[39mProcessor(paths\u001b[38;5;241m=\u001b[39mpm, dataset\u001b[38;5;241m=\u001b[39mdataset)\n\u001b[1;32m     99\u001b[0m clen, photon_energy \u001b[38;5;241m=\u001b[39m p\u001b[38;5;241m.\u001b[39mget_parameters()\n",
      "File \u001b[0;32m~/Desktop/CXFEL/cxls_hitfinder/cnn/src/pkg/util.py:156\u001b[0m, in \u001b[0;36mPathManager.__init__\u001b[0;34m(self, dataset, root_dir)\u001b[0m\n\u001b[1;32m    154\u001b[0m     \u001b[38;5;28mself\u001b[39m\u001b[38;5;241m.\u001b[39mroot \u001b[38;5;241m=\u001b[39m root_dir  \u001b[38;5;66;03m# Directly using the provided root directory\u001b[39;00m\n\u001b[1;32m    155\u001b[0m \u001b[38;5;28mself\u001b[39m\u001b[38;5;241m.\u001b[39mdataset \u001b[38;5;241m=\u001b[39m dataset\n\u001b[0;32m--> 156\u001b[0m \u001b[38;5;28mself\u001b[39m\u001b[38;5;241m.\u001b[39msetup_directories()\n",
      "File \u001b[0;32m~/Desktop/CXFEL/cxls_hitfinder/cnn/src/pkg/util.py:166\u001b[0m, in \u001b[0;36mPathManager.setup_directories\u001b[0;34m(self)\u001b[0m\n\u001b[1;32m    164\u001b[0m \u001b[38;5;28mself\u001b[39m\u001b[38;5;241m.\u001b[39mwater_background_dir \u001b[38;5;241m=\u001b[39m os\u001b[38;5;241m.\u001b[39mpath\u001b[38;5;241m.\u001b[39mjoin(\u001b[38;5;28mself\u001b[39m\u001b[38;5;241m.\u001b[39mimages_dir, \u001b[38;5;124m'\u001b[39m\u001b[38;5;124mwater\u001b[39m\u001b[38;5;124m'\u001b[39m)\n\u001b[1;32m    165\u001b[0m \u001b[38;5;28mself\u001b[39m\u001b[38;5;241m.\u001b[39mtemp \u001b[38;5;241m=\u001b[39m os\u001b[38;5;241m.\u001b[39mpath\u001b[38;5;241m.\u001b[39mjoin(\u001b[38;5;28mself\u001b[39m\u001b[38;5;241m.\u001b[39mimages_dir, \u001b[38;5;124m'\u001b[39m\u001b[38;5;124mtemp\u001b[39m\u001b[38;5;124m'\u001b[39m)\n\u001b[0;32m--> 166\u001b[0m \u001b[38;5;28mself\u001b[39m\u001b[38;5;241m.\u001b[39mselect_dataset(dataset\u001b[38;5;241m=\u001b[39m\u001b[38;5;28mself\u001b[39m\u001b[38;5;241m.\u001b[39mdataset)\n",
      "File \u001b[0;32m~/Desktop/CXFEL/cxls_hitfinder/cnn/src/pkg/util.py:200\u001b[0m, in \u001b[0;36mPathManager.select_dataset\u001b[0;34m(self, dataset)\u001b[0m\n\u001b[1;32m    198\u001b[0m \u001b[38;5;28;01mdef\u001b[39;00m \u001b[38;5;21mselect_dataset\u001b[39m(\u001b[38;5;28mself\u001b[39m, dataset:\u001b[38;5;28mstr\u001b[39m) \u001b[38;5;241m-\u001b[39m\u001b[38;5;241m>\u001b[39m \u001b[38;5;28mtuple\u001b[39m:    \n\u001b[1;32m    199\u001b[0m     \u001b[38;5;28mself\u001b[39m\u001b[38;5;241m.\u001b[39mdataset \u001b[38;5;241m=\u001b[39m dataset \u001b[38;5;66;03m# select dataset 01 through 09\u001b[39;00m\n\u001b[0;32m--> 200\u001b[0m     \u001b[38;5;28;01mreturn\u001b[39;00m \u001b[38;5;28mself\u001b[39m\u001b[38;5;241m.\u001b[39minit_lists(\u001b[38;5;28mself\u001b[39m\u001b[38;5;241m.\u001b[39mdataset)\n",
      "File \u001b[0;32m~/Desktop/CXFEL/cxls_hitfinder/cnn/src/pkg/util.py:169\u001b[0m, in \u001b[0;36mPathManager.init_lists\u001b[0;34m(self, dataset)\u001b[0m\n\u001b[1;32m    168\u001b[0m \u001b[38;5;28;01mdef\u001b[39;00m \u001b[38;5;21minit_lists\u001b[39m(\u001b[38;5;28mself\u001b[39m, dataset:\u001b[38;5;28mstr\u001b[39m) \u001b[38;5;241m-\u001b[39m\u001b[38;5;241m>\u001b[39m \u001b[38;5;28;01mNone\u001b[39;00m:\n\u001b[0;32m--> 169\u001b[0m     \u001b[38;5;28mself\u001b[39m\u001b[38;5;241m.\u001b[39mpeak_list \u001b[38;5;241m=\u001b[39m \u001b[38;5;28mself\u001b[39m\u001b[38;5;241m.\u001b[39mget_peak_image_paths(\u001b[38;5;28mself\u001b[39m\u001b[38;5;241m.\u001b[39mdataset)\n\u001b[1;32m    170\u001b[0m     \u001b[38;5;28mself\u001b[39m\u001b[38;5;241m.\u001b[39mwater_peak_list \u001b[38;5;241m=\u001b[39m \u001b[38;5;28mself\u001b[39m\u001b[38;5;241m.\u001b[39mget_peaks_water_overlay_image_paths(\u001b[38;5;28mself\u001b[39m\u001b[38;5;241m.\u001b[39mdataset)\n\u001b[1;32m    171\u001b[0m     \u001b[38;5;28mself\u001b[39m\u001b[38;5;241m.\u001b[39mlabel_list \u001b[38;5;241m=\u001b[39m \u001b[38;5;28mself\u001b[39m\u001b[38;5;241m.\u001b[39mget_label_images_paths(\u001b[38;5;28mself\u001b[39m\u001b[38;5;241m.\u001b[39mdataset)\n",
      "File \u001b[0;32m~/Desktop/CXFEL/cxls_hitfinder/cnn/src/pkg/util.py:220\u001b[0m, in \u001b[0;36mPathManager.get_peak_image_paths\u001b[0;34m(self, dataset)\u001b[0m\n\u001b[1;32m    216\u001b[0m \u001b[38;5;129m@lru_cache\u001b[39m(maxsize\u001b[38;5;241m=\u001b[39m\u001b[38;5;241m32\u001b[39m)\n\u001b[1;32m    217\u001b[0m \u001b[38;5;28;01mdef\u001b[39;00m \u001b[38;5;21mget_peak_image_paths\u001b[39m(\u001b[38;5;28mself\u001b[39m, dataset:\u001b[38;5;28mstr\u001b[39m) \u001b[38;5;241m-\u001b[39m\u001b[38;5;241m>\u001b[39m \u001b[38;5;28mlist\u001b[39m:\n\u001b[1;32m    218\u001b[0m     \u001b[38;5;66;03m# returns all peak images of dataset 01 through 09\u001b[39;00m\n\u001b[1;32m    219\u001b[0m     dataset_dir \u001b[38;5;241m=\u001b[39m os\u001b[38;5;241m.\u001b[39mpath\u001b[38;5;241m.\u001b[39mjoin(\u001b[38;5;28mself\u001b[39m\u001b[38;5;241m.\u001b[39mpeaks_dir, dataset)\n\u001b[0;32m--> 220\u001b[0m     \u001b[38;5;28;01mreturn\u001b[39;00m [os\u001b[38;5;241m.\u001b[39mpath\u001b[38;5;241m.\u001b[39mjoin(dataset_dir, f) \u001b[38;5;28;01mfor\u001b[39;00m f \u001b[38;5;129;01min\u001b[39;00m os\u001b[38;5;241m.\u001b[39mlistdir(dataset_dir) \u001b[38;5;28;01mif\u001b[39;00m f\u001b[38;5;241m.\u001b[39mendswith(\u001b[38;5;124m'\u001b[39m\u001b[38;5;124m.h5\u001b[39m\u001b[38;5;124m'\u001b[39m)]\n",
      "\u001b[0;31mFileNotFoundError\u001b[0m: [Errno 2] No such file or directory: '/home/eseverett/Desktop/CXFEL/cxls_hitfinder/images/peaks/00'"
     ]
    },
    {
     "name": "stdout",
     "output_type": "stream",
     "text": [
      "Paths refreshed for dataset 01.\n",
      "Directory: peaks/01\n",
      "  Total files: 54\n",
      "  Normal images: 39\n",
      "  Empty images: 15\n",
      "Directory: labels/01\n",
      "  Total files: 54\n",
      "  Normal images: 39\n",
      "  Empty images: 15\n",
      "Directory: peaks_water_overlay/01\n",
      "  Total files: 54\n",
      "  Normal images: 39\n",
      "  Empty images: 15\n"
     ]
    }
   ],
   "source": [
    "u.get_counts(pm)\n",
    "%run process_directory.py ../../images  --percent_empty 0.4\n",
    "u.get_counts(pm)\n"
   ]
  },
  {
   "cell_type": "code",
   "execution_count": 3,
   "metadata": {},
   "outputs": [
    {
     "name": "stdout",
     "output_type": "stream",
     "text": [
      "Paths refreshed for dataset 01.\n",
      "Directory: peaks/01\n",
      "  Total files: 54\n",
      "  Normal images: 39\n",
      "  Empty images: 15\n",
      "Directory: labels/01\n",
      "  Total files: 54\n",
      "  Normal images: 39\n",
      "  Empty images: 15\n",
      "Directory: peaks_water_overlay/01\n",
      "  Total files: 54\n",
      "  Normal images: 39\n",
      "  Empty images: 15\n",
      "Paths refreshed for dataset 01.\n",
      "Actual percentage of empty images: 27.77777777777778% across peaks, water_overlays, and labels directories.\n",
      "\n",
      "All files in dataset 01 of type 'peak' have matching attributes.\n",
      "All files in dataset 01 of type 'label' have matching attributes.\n",
      "All files in dataset 01 of type 'overlay' have matching attributes.\n",
      "All files in dataset 01 of type 'background' have matching attributes.\n",
      "Dataset 01 authenticated.\n",
      "\n",
      "All files in dataset 01 of type 'peak' have matching attributes.\n",
      "All files in dataset 01 of type 'overlay' have matching attributes.\n",
      "All files in dataset 01 of type 'label' have matching attributes.\n",
      "\n",
      "Data prepared.\n",
      "Train size: 43\n",
      "Test size: 11\n",
      "Batch size: 10\n",
      "Number of batches in train_loader: 5 \n",
      "\n"
     ]
    }
   ],
   "source": [
    "dm = u.DatasetManager(paths=pm, dataset=dataset, parameters=(clen, photon_energy), transform=None)\n",
    "\n",
    "# peak, label, overlay are valid types\n",
    "u.check_attributes(paths=pm, dataset=dataset, type='peak') \n",
    "u.check_attributes(paths=pm, dataset=dataset, type='overlay')\n",
    "u.check_attributes(paths=pm, dataset=dataset, type='label')\n",
    "\n",
    "train_loader, test_loader = u.prepare(data_manager=dm, batch_size=10)"
   ]
  },
  {
   "cell_type": "code",
   "execution_count": 4,
   "metadata": {},
   "outputs": [
    {
     "data": {
      "text/plain": [
       "['BasicCNN1',\n",
       " 'BasicCNN2',\n",
       " 'DenseNet121_Weights',\n",
       " 'DenseNetBraggPeakClassifier',\n",
       " 'F',\n",
       " 'ResNet50BraggPeakClassifier',\n",
       " 'ResNet50_Weights',\n",
       " '__builtins__',\n",
       " '__cached__',\n",
       " '__doc__',\n",
       " '__file__',\n",
       " '__loader__',\n",
       " '__name__',\n",
       " '__package__',\n",
       " '__spec__',\n",
       " 'models',\n",
       " 'nn',\n",
       " 'np',\n",
       " 'optim',\n",
       " 'os',\n",
       " 'torch']"
      ]
     },
     "execution_count": 4,
     "metadata": {},
     "output_type": "execute_result"
    }
   ],
   "source": [
    "dir(m)"
   ]
  },
  {
   "cell_type": "code",
   "execution_count": 5,
   "metadata": {},
   "outputs": [],
   "source": [
    "model1 = m.BasicCNN3()\n",
    "criterion = nn.BCEWithLogitsLoss()\n",
    "optimizer = optim.Adam(model1.parameters(), lr=0.001)\n",
    "device = torch.device(\"cuda\" if torch.cuda.is_available() else \"cpu\")\n",
    "\n",
    "cfg = {\n",
    "    'num_epochs': 5,\n",
    "    'num_classes': 2,\n",
    "    'batch_size': train_loader.batch_size,\n",
    "    'test_size': len(train_loader.dataset),\n",
    "    'test_size': len(test_loader.dataset),\n",
    "    'criterion': criterion,\n",
    "    'optimizer': optimizer,\n",
    "    'device': device,\n",
    "    'model': model1,\n",
    "}\n",
    "\n",
    "# # arguments: self, model, loader: list, criterion, optimizer, device, cfg: dict\n",
    "t = u.TrainTestModels(model=model1, loader=[train_loader, test_loader], criterion=criterion, optimizer=optimizer, device=device, cfg=cfg)"
   ]
  },
  {
   "cell_type": "code",
   "execution_count": 6,
   "metadata": {},
   "outputs": [
    {
     "name": "stdout",
     "output_type": "stream",
     "text": [
      "Model testing and validating: BasicCNN1\n",
      "-- epoch 0\n",
      "tensor([1.], requires_grad=True) tensor([1.])\n",
      "tensor([1.], requires_grad=True) tensor([1.])\n",
      "tensor([1.], requires_grad=True) tensor([1.])\n",
      "tensor([1.], requires_grad=True) tensor([1.])\n",
      "tensor([1.], requires_grad=True) tensor([1.])\n",
      "Train loss: 0.15663082897663116\n",
      "Train accuracy: 1.0\n",
      "Test loss: 0.06265233159065246\n",
      "Test accuracy: 1.0\n",
      "-- epoch 1\n",
      "tensor([1.], requires_grad=True) tensor([1.])\n",
      "tensor([1.], requires_grad=True) tensor([1.])\n",
      "tensor([1.], requires_grad=True) tensor([1.])\n",
      "tensor([1.], requires_grad=True) tensor([1.])\n",
      "tensor([1.], requires_grad=True) tensor([1.])\n",
      "Train loss: 0.15663082897663116\n",
      "Train accuracy: 1.0\n",
      "Test loss: 0.06265233159065246\n",
      "Test accuracy: 1.0\n",
      "-- epoch 2\n",
      "tensor([1.], requires_grad=True) tensor([1.])\n",
      "tensor([1.], requires_grad=True) tensor([1.])\n",
      "tensor([1.], requires_grad=True) tensor([1.])\n",
      "tensor([1.], requires_grad=True) tensor([1.])\n",
      "tensor([1.], requires_grad=True) tensor([1.])\n",
      "Train loss: 0.15663082897663116\n",
      "Train accuracy: 1.0\n",
      "Test loss: 0.06265233159065246\n",
      "Test accuracy: 1.0\n",
      "-- epoch 3\n",
      "tensor([1.], requires_grad=True) tensor([1.])\n",
      "tensor([1.], requires_grad=True) tensor([1.])\n",
      "tensor([1.], requires_grad=True) tensor([1.])\n",
      "tensor([1.], requires_grad=True) tensor([1.])\n",
      "tensor([1.], requires_grad=True) tensor([1.])\n",
      "Train loss: 0.15663082897663116\n",
      "Train accuracy: 1.0\n",
      "Test loss: 0.06265233159065246\n",
      "Test accuracy: 1.0\n",
      "-- epoch 4\n",
      "tensor([1.], requires_grad=True) tensor([1.])\n",
      "tensor([1.], requires_grad=True) tensor([1.])\n",
      "tensor([1.], requires_grad=True) tensor([1.])\n",
      "tensor([1.], requires_grad=True) tensor([1.])\n",
      "tensor([1.], requires_grad=True) tensor([1.])\n",
      "Train loss: 0.15663082897663116\n",
      "Train accuracy: 1.0\n",
      "Test loss: 0.06265233159065246\n",
      "Test accuracy: 1.0\n"
     ]
    }
   ],
   "source": [
    "t.epoch_loop()"
   ]
  },
  {
   "cell_type": "code",
   "execution_count": 7,
   "metadata": {},
   "outputs": [
    {
     "data": {
      "image/png": "[encoded data removed]",
      "text/plain": [
       "<Figure size 640x480 with 1 Axes>"
      ]
     },
     "metadata": {},
     "output_type": "display_data"
    }
   ],
   "source": [
    "t.plot_loss_accuracy()"
   ]
  },
  {
   "cell_type": "code",
   "execution_count": 8,
   "metadata": {},
   "outputs": [
    {
     "data": {
      "image/png": "[encoded data removed]",
      "text/plain": [
       "<Figure size 480x480 with 2 Axes>"
      ]
     },
     "metadata": {},
     "output_type": "display_data"
    }
   ],
   "source": [
    "t.plot_confusion_matrix()"
   ]
  },
  {
   "cell_type": "code",
   "execution_count": 9,
   "metadata": {},
   "outputs": [
    {
     "data": {
      "text/plain": [
       "array([[1.]])"
      ]
     },
     "execution_count": 9,
     "metadata": {},
     "output_type": "execute_result"
    }
   ],
   "source": [
    "t.get_confusion_matrix()"
   ]
  }
 ],
 "metadata": {
  "kernelspec": {
   "display_name": "torch",
   "language": "python",
   "name": "python3"
  },
  "language_info": {
   "codemirror_mode": {
    "name": "ipython",
    "version": 3
   },
   "file_extension": ".py",
   "mimetype": "text/x-python",
   "name": "python",
   "nbconvert_exporter": "python",
   "pygments_lexer": "ipython3",
   "version": "3.11.5"
  }
 },
 "nbformat": 4,
 "nbformat_minor": 2
}
