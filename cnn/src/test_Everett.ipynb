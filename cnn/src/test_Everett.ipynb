{
 "cells": [
  {
   "cell_type": "code",
   "execution_count": 1,
   "metadata": {},
   "outputs": [
    {
     "name": "stdout",
     "output_type": "stream",
     "text": [
      "clen: 1.5, photon_energy: 6000\n"
     ]
    }
   ],
   "source": [
    "import os\n",
    "import torch\n",
    "import torch.nn as nn\n",
    "import torch.optim as optim\n",
    "import torch.nn.functional as F\n",
    "import numpy as np\n",
    "import subprocess\n",
    "from glob import glob\n",
    "                    \n",
    "from pkg import u,m\n",
    "\n",
    "# dataset_num = input(\"Enter dataset number: \")\n",
    "# dataset = dataset_num.zfill(2) # string (ex '01')\n",
    "dataset = '01'\n",
    "\n",
    "pm = u.PathManager(dataset=dataset)\n",
    "p = u.Processor(paths=pm, dataset=dataset)\n",
    "clen, photon_energy = p.get_parameters()\n",
    "print(f\"clen: {clen}, photon_energy: {photon_energy}\")\n",
    "p = u.Processor(paths=pm, dataset=dataset)\n"
   ]
  },
  {
   "cell_type": "code",
   "execution_count": 2,
   "metadata": {},
   "outputs": [
    {
     "name": "stdout",
     "output_type": "stream",
     "text": [
      "Paths refreshed for dataset 01.\n",
      "Directory: peaks/01\n",
      "  Total files: 54\n",
      "  Normal images: 39\n",
      "  Empty images: 15\n",
      "Directory: labels/01\n",
      "  Total files: 93\n",
      "  Normal images: 78\n",
      "  Empty images: 15\n",
      "Directory: peaks_water_overlay/01\n",
      "  Total files: 93\n",
      "  Normal images: 78\n",
      "  Empty images: 15\n",
      "Paths refreshed for dataset 01.\n",
      "Directory: peaks/01\n",
      "  Total files: 54\n",
      "  Normal images: 39\n",
      "  Empty images: 15\n",
      "Directory: labels/01\n",
      "  Total files: 93\n",
      "  Normal images: 78\n",
      "  Empty images: 15\n",
      "Directory: peaks_water_overlay/01\n",
      "  Total files: 93\n",
      "  Normal images: 78\n",
      "  Empty images: 15\n"
     ]
    }
   ],
   "source": [
    "u.get_counts(pm)\n",
    "# %run process_directory.py ../../images  --percent_empty 0.4  \n",
    "u.get_counts(pm)\n"
   ]
  },
  {
   "cell_type": "code",
   "execution_count": 3,
   "metadata": {},
   "outputs": [
    {
     "name": "stdout",
     "output_type": "stream",
     "text": [
      "Paths refreshed for dataset 01.\n",
      "Directory: peaks/01\n",
      "  Total files: 54\n",
      "  Normal images: 39\n",
      "  Empty images: 15\n",
      "Directory: labels/01\n",
      "  Total files: 93\n",
      "  Normal images: 78\n",
      "  Empty images: 15\n",
      "Directory: peaks_water_overlay/01\n",
      "  Total files: 93\n",
      "  Normal images: 78\n",
      "  Empty images: 15\n",
      "Paths refreshed for dataset 01.\n",
      "Actual percentage of empty images: 22.388059701492537% across peaks, water_overlays, and labels directories.\n",
      "\n",
      "All files in dataset 01 of type 'peak' have matching attributes.\n"
     ]
    },
    {
     "name": "stdout",
     "output_type": "stream",
     "text": [
      "All files in dataset 01 of type 'label' have matching attributes.\n",
      "All files in dataset 01 of type 'overlay' have matching attributes.\n",
      "All files in dataset 01 of type 'background' have matching attributes.\n",
      "Dataset 01 authenticated.\n",
      "\n",
      "Final dataset sizes - Peaks: 54, Labels: 54, Overlays: 93\n",
      "All files in dataset 01 of type 'peak' have matching attributes.\n",
      "All files in dataset 01 of type 'overlay' have matching attributes.\n",
      "All files in dataset 01 of type 'label' have matching attributes.\n",
      "\n",
      "Data prepared.\n",
      "Train size: 43\n",
      "Test size: 11\n",
      "Batch size: 10\n",
      "Number of batches in train_loader: 5 \n",
      "\n"
     ]
    }
   ],
   "source": [
    "dm = u.DatasetManager(paths=pm, dataset=dataset, parameters=(clen, photon_energy), transform=None)\n",
    "\n",
    "# peak, label, overlay are valid types\n",
    "u.check_attributes(paths=pm, dataset=dataset, type='peak') \n",
    "u.check_attributes(paths=pm, dataset=dataset, type='overlay')\n",
    "u.check_attributes(paths=pm, dataset=dataset, type='label')\n",
    "\n",
    "train_loader, test_loader = u.prepare(data_manager=dm, batch_size=10)"
   ]
  },
  {
   "cell_type": "code",
   "execution_count": 4,
   "metadata": {},
   "outputs": [
    {
     "data": {
      "text/plain": [
       "['BasicCNN1',\n",
       " 'BasicCNN2',\n",
       " 'BasicCNN3',\n",
       " 'DenseNet121_Weights',\n",
       " 'DenseNetBraggPeakClassifier',\n",
       " 'F',\n",
       " 'ResNet50BraggPeakClassifier',\n",
       " 'ResNet50_Weights',\n",
       " '__builtins__',\n",
       " '__cached__',\n",
       " '__doc__',\n",
       " '__file__',\n",
       " '__loader__',\n",
       " '__name__',\n",
       " '__package__',\n",
       " '__spec__',\n",
       " 'models',\n",
       " 'nn',\n",
       " 'np',\n",
       " 'optim',\n",
       " 'os',\n",
       " 'torch']"
      ]
     },
     "execution_count": 4,
     "metadata": {},
     "output_type": "execute_result"
    }
   ],
   "source": [
    "dir(m)"
   ]
  },
  {
   "cell_type": "code",
   "execution_count": 5,
   "metadata": {},
   "outputs": [],
   "source": [
    "model1 = m.BasicCNN3()\n",
    "criterion = nn.BCEWithLogitsLoss()\n",
    "optimizer = optim.Adam(model1.parameters(), lr=0.001)\n",
    "device = torch.device(\"cuda\" if torch.cuda.is_available() else \"cpu\")\n",
    "\n",
    "cfg = {\n",
    "    'num_epochs': 1,\n",
    "    'num_classes': 2,\n",
    "    'batch_size': train_loader.batch_size,\n",
    "    'test_size': len(train_loader.dataset),\n",
    "    'test_size': len(test_loader.dataset),\n",
    "    'criterion': criterion,\n",
    "    'optimizer': optimizer,\n",
    "    'device': device,\n",
    "    'model': model1,\n",
    "}\n",
    "\n",
    "# # arguments: self, model, loader: list, criterion, optimizer, device, cfg: dict\n",
    "t = u.TrainTestModels(model=model1, loader=[train_loader, test_loader], criterion=criterion, optimizer=optimizer, device=device, cfg=cfg)"
   ]
  },
  {
   "cell_type": "code",
   "execution_count": 6,
   "metadata": {},
   "outputs": [
    {
     "name": "stdout",
     "output_type": "stream",
     "text": [
      "Model testing and validating: BasicCNN3\n",
      "-- epoch 0\n",
      "23\n",
      "16\n",
      "24\n",
      "26\n",
      "10\n",
      "Train loss: 0.15663082897663116\n",
      "Train accuracy: 1.0\n",
      "Test loss: 0.06265233159065246\n",
      "Test accuracy: 1.0\n",
      "-- epoch 1\n",
      "15\n",
      "17\n",
      "33\n",
      "33\n",
      "1\n",
      "Train loss: 0.15663082897663116\n",
      "Train accuracy: 1.0\n",
      "Test loss: 0.06265233159065246\n",
      "Test accuracy: 1.0\n"
     ]
    }
   ],
   "source": [
    "t.epoch_loop()"
   ]
  },
  {
   "cell_type": "code",
   "execution_count": 7,
   "metadata": {},
   "outputs": [
    {
     "data": {
      "image/png": "[encoded data removed]",
      "text/plain": [
       "<Figure size 640x480 with 1 Axes>"
      ]
     },
     "metadata": {},
     "output_type": "display_data"
    }
   ],
   "source": [
    "t.plot_loss_accuracy()"
   ]
  },
  {
   "cell_type": "code",
   "execution_count": 8,
   "metadata": {},
   "outputs": [
    {
     "data": {
      "image/png": "[encoded data removed]",
      "text/plain": [
       "<Figure size 480x480 with 2 Axes>"
      ]
     },
     "metadata": {},
     "output_type": "display_data"
    }
   ],
   "source": [
    "t.plot_confusion_matrix()"
   ]
  },
  {
   "cell_type": "code",
   "execution_count": 9,
   "metadata": {},
   "outputs": [
    {
     "data": {
      "text/plain": [
       "array([[1.]])"
      ]
     },
     "execution_count": 9,
     "metadata": {},
     "output_type": "execute_result"
    }
   ],
   "source": [
    "t.get_confusion_matrix()"
   ]
  },
  {
   "cell_type": "code",
   "execution_count": 10,
   "metadata": {},
   "outputs": [],
   "source": [
    "# for i, j in test_loader:\n",
    "#     print(i[0])\n",
    "#     print(j[9])\n",
    "#     break"
   ]
  },
  {
   "cell_type": "code",
   "execution_count": 11,
   "metadata": {},
   "outputs": [],
   "source": [
    "t.save_model(\"../models/test_model.pt\")"
   ]
  },
  {
   "cell_type": "code",
   "execution_count": 12,
   "metadata": {},
   "outputs": [
    {
     "ename": "NameError",
     "evalue": "name 'tensorboard_trace_handler' is not defined",
     "output_type": "error",
     "traceback": [
      "\u001b[0;31m---------------------------------------------------------------------------\u001b[0m",
      "\u001b[0;31mNameError\u001b[0m                                 Traceback (most recent call last)",
      "Cell \u001b[0;32mIn[12], line 1\u001b[0m\n\u001b[0;32m----> 1\u001b[0m t\u001b[38;5;241m.\u001b[39mtensor_board()\n",
      "File \u001b[0;32m~/Desktop/CXFEL/cxls_hitfinder/cnn/src/pkg/util.py:885\u001b[0m, in \u001b[0;36mTrainTestModels.tensor_board\u001b[0;34m(self)\u001b[0m\n\u001b[1;32m    878\u001b[0m \u001b[38;5;28;01mdef\u001b[39;00m \u001b[38;5;21mtensor_board\u001b[39m(\u001b[38;5;28mself\u001b[39m) \u001b[38;5;241m-\u001b[39m\u001b[38;5;241m>\u001b[39m \u001b[38;5;28;01mNone\u001b[39;00m:\n\u001b[1;32m    879\u001b[0m     \u001b[38;5;28;01mwith\u001b[39;00m torch\u001b[38;5;241m.\u001b[39mprofiler\u001b[38;5;241m.\u001b[39mprofile(\n\u001b[1;32m    880\u001b[0m         schedule\u001b[38;5;241m=\u001b[39mtorch\u001b[38;5;241m.\u001b[39mprofiler\u001b[38;5;241m.\u001b[39mschedule(\n\u001b[1;32m    881\u001b[0m             wait\u001b[38;5;241m=\u001b[39m\u001b[38;5;241m2\u001b[39m,\n\u001b[1;32m    882\u001b[0m             warmup\u001b[38;5;241m=\u001b[39m\u001b[38;5;241m2\u001b[39m,\n\u001b[1;32m    883\u001b[0m             active\u001b[38;5;241m=\u001b[39m\u001b[38;5;241m6\u001b[39m,\n\u001b[1;32m    884\u001b[0m             repeat\u001b[38;5;241m=\u001b[39m\u001b[38;5;241m1\u001b[39m),\n\u001b[0;32m--> 885\u001b[0m         on_trace_ready\u001b[38;5;241m=\u001b[39mtensorboard_trace_handler,\n\u001b[1;32m    886\u001b[0m         with_stack\u001b[38;5;241m=\u001b[39m\u001b[38;5;28;01mTrue\u001b[39;00m\n\u001b[1;32m    887\u001b[0m     ) \u001b[38;5;28;01mas\u001b[39;00m profiler:\n\u001b[1;32m    888\u001b[0m         \u001b[38;5;28;01mfor\u001b[39;00m step, data \u001b[38;5;129;01min\u001b[39;00m \u001b[38;5;28menumerate\u001b[39m(\u001b[38;5;28mself\u001b[39m\u001b[38;5;241m.\u001b[39mtrain_loader, \u001b[38;5;241m0\u001b[39m):\n\u001b[1;32m    889\u001b[0m             \u001b[38;5;28mprint\u001b[39m(\u001b[38;5;124m\"\u001b[39m\u001b[38;5;124mstep:\u001b[39m\u001b[38;5;132;01m{}\u001b[39;00m\u001b[38;5;124m\"\u001b[39m\u001b[38;5;241m.\u001b[39mformat(step))\n",
      "\u001b[0;31mNameError\u001b[0m: name 'tensorboard_trace_handler' is not defined"
     ]
    }
   ],
   "source": [
    "t.tensor_board()"
   ]
  }
 ],
 "metadata": {
  "kernelspec": {
   "display_name": "torch",
   "language": "python",
   "name": "python3"
  },
  "language_info": {
   "codemirror_mode": {
    "name": "ipython",
    "version": 3
   },
   "file_extension": ".py",
   "mimetype": "text/x-python",
   "name": "python",
   "nbconvert_exporter": "python",
   "pygments_lexer": "ipython3",
   "version": "3.11.5"
  }
 },
 "nbformat": 4,
 "nbformat_minor": 2
}
