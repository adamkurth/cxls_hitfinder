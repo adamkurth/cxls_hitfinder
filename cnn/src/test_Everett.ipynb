{
 "cells": [
  {
   "cell_type": "code",
   "execution_count": 1,
   "metadata": {},
   "outputs": [],
   "source": [
    "import os\n",
    "import torch\n",
    "import torch.nn as nn\n",
    "import torch.optim as optim\n",
    "import torch.nn.functional as F\n",
    "import numpy as np\n",
    "import subprocess\n",
    "from glob import glob\n",
    "from pkg import *"
   ]
  },
  {
   "cell_type": "code",
   "execution_count": 2,
   "metadata": {},
   "outputs": [
    {
     "name": "stdout",
     "output_type": "stream",
     "text": [
      "clen: 1.5, photon_energy: 6000\n",
      "Paths refreshed for dataset 01.\n",
      "Directory: peaks/01\n",
      "\tTotal files: 58\n",
      "\tNormal images: 39\n",
      "\tEmpty images: 19\n",
      "Directory: labels/01\n",
      "\tTotal files: 97\n",
      "\tNormal images: 78\n",
      "\tEmpty images: 19\n",
      "Directory: peaks_water_overlay/01\n",
      "\tTotal files: 97\n",
      "\tNormal images: 78\n",
      "\tEmpty images: 19\n"
     ]
    }
   ],
   "source": [
    "# dataset_num = input(\"Enter dataset number: \")\n",
    "# dataset = dataset_num.zfill(2) # string (ex '01')\n",
    "dataset = '01'\n",
    "\n",
    "myPaths = pm.PathManager(dataset=dataset)\n",
    "myProcessor = p.Processor(paths=myPaths, dataset=dataset)\n",
    "clen, photon_energy = myProcessor.get_parameters()\n",
    "print(f\"clen: {clen}, photon_energy: {photon_energy}\")\n",
    "\n",
    "f.get_counts(paths=myPaths)"
   ]
  },
  {
   "cell_type": "code",
   "execution_count": 3,
   "metadata": {},
   "outputs": [
    {
     "name": "stdout",
     "output_type": "stream",
     "text": [
      "Paths refreshed for dataset 01.\n",
      "Directory: peaks/01\n",
      "\tTotal files: 58\n",
      "\tNormal images: 39\n",
      "\tEmpty images: 19\n",
      "Directory: labels/01\n",
      "\tTotal files: 97\n",
      "\tNormal images: 78\n",
      "\tEmpty images: 19\n",
      "Directory: peaks_water_overlay/01\n",
      "\tTotal files: 97\n",
      "\tNormal images: 78\n",
      "\tEmpty images: 19\n"
     ]
    }
   ],
   "source": [
    "# f.get_counts(paths=myPaths)\n",
    "\n",
    "# %run process_directory.py ../../images  --percent_empty 0.5 \n",
    "\n",
    "f.get_counts(paths=myPaths)\n"
   ]
  },
  {
   "cell_type": "code",
   "execution_count": 4,
   "metadata": {},
   "outputs": [
    {
     "name": "stdout",
     "output_type": "stream",
     "text": [
      "Paths refreshed for dataset 01.\n",
      "Directory: peaks/01\n",
      "\tTotal files: 58\n",
      "\tNormal images: 39\n",
      "\tEmpty images: 19\n",
      "Directory: labels/01\n",
      "\tTotal files: 97\n",
      "\tNormal images: 78\n",
      "\tEmpty images: 19\n",
      "Directory: peaks_water_overlay/01\n",
      "\tTotal files: 97\n",
      "\tNormal images: 78\n",
      "\tEmpty images: 19\n",
      "Paths refreshed for dataset 01.\n",
      "Actual percentage of empty images: 26.76056338028169% across peaks, water_overlays, and labels directories.\n",
      "\n",
      "All files in dataset 01 of type 'peak' have matching attributes.\n",
      "All files in dataset 01 of type 'label' have matching attributes.\n",
      "All files in dataset 01 of type 'overlay' have matching attributes.\n",
      "All files in dataset 01 of type 'background' have matching attributes.\n",
      "Dataset 01 authenticated.\n",
      "\n",
      "Final dataset sizes - Peaks: 58, Labels: 58, Overlays: 97\n",
      "All files in dataset 01 of type 'peak' have matching attributes.\n",
      "All files in dataset 01 of type 'overlay' have matching attributes.\n",
      "All files in dataset 01 of type 'label' have matching attributes.\n",
      "\n",
      "Data prepared.\n",
      "Train size: 46\n",
      "Test size: 12\n",
      "Batch size: 10\n",
      "Number of batches in train_loader: 5 \n",
      "\n"
     ]
    }
   ],
   "source": [
    "myDataManager = dm.DatasetManager(paths=myPaths, dataset=dataset, parameters=[clen,photon_energy], transform=None)\n",
    "\n",
    "# peak, label, overlay are valid types\n",
    "clen, photon_energy = myProcessor.get_parameters()\n",
    "\n",
    "f.check_attributes(paths=myPaths, dataset=dataset, type='peak', clen=clen, photon_energy=photon_energy) \n",
    "f.check_attributes(paths=myPaths, dataset=dataset, type='overlay', clen=clen, photon_energy=photon_energy)\n",
    "f.check_attributes(paths=myPaths, dataset=dataset, type='label', clen=clen, photon_energy=photon_energy)\n",
    "\n",
    "train_loader, test_loader = f.prepare(data_manager=myDataManager, batch_size=10)"
   ]
  },
  {
   "cell_type": "code",
   "execution_count": 5,
   "metadata": {},
   "outputs": [
    {
     "name": "stdout",
     "output_type": "stream",
     "text": [
      "All files in dataset 01 of type 'peak' have matching attributes.\n",
      "{'clen': 1.5, 'params': array([5.e-01, 9.e+03]), 'peak': False, 'photon_energy': 6000}\n"
     ]
    }
   ],
   "source": [
    "f.check_attributes(paths=myPaths, dataset=dataset, type='peak', clen=clen, photon_energy=photon_energy)\n",
    "test_path = myPaths.get_peak_image_paths(dataset)[0]\n",
    "test = f.retrieve_attributes(test_path) \n",
    "print(test)"
   ]
  },
  {
   "cell_type": "code",
   "execution_count": 6,
   "metadata": {},
   "outputs": [
    {
     "data": {
      "text/plain": [
       "['BasicCNN1',\n",
       " 'BasicCNN2',\n",
       " 'BasicCNN3',\n",
       " 'DenseNet121_Weights',\n",
       " 'DenseNetBraggPeakClassifier',\n",
       " 'F',\n",
       " 'Photon_Scattering_CNN1',\n",
       " 'ResNet50BraggPeakClassifier',\n",
       " 'ResNet50_Weights',\n",
       " '__builtins__',\n",
       " '__cached__',\n",
       " '__doc__',\n",
       " '__file__',\n",
       " '__loader__',\n",
       " '__name__',\n",
       " '__package__',\n",
       " '__spec__',\n",
       " 'models',\n",
       " 'nn',\n",
       " 'np',\n",
       " 'optim',\n",
       " 'os',\n",
       " 'torch']"
      ]
     },
     "execution_count": 6,
     "metadata": {},
     "output_type": "execute_result"
    }
   ],
   "source": [
    "dir(m)"
   ]
  },
  {
   "cell_type": "code",
   "execution_count": 7,
   "metadata": {},
   "outputs": [
    {
     "name": "stdout",
     "output_type": "stream",
     "text": [
      "cuda\n"
     ]
    }
   ],
   "source": [
    "device = torch.device(\"cuda\" if torch.cuda.is_available() else \"cpu\")\n",
    "# device = torch.device(\"cpu\")\n",
    "print(device)\n",
    "\n",
    "model1 = m.Photon_Scattering_CNN1().to(device)\n",
    "# model1 = m.BasicCNN3().to(device)\n",
    "# criterion = nn.BCEWithLogitsLoss()\n",
    "criterion = nn.CrossEntropyLoss()\n",
    "optimizer = optim.Adam(model1.parameters(), lr=0.001)\n",
    "\n",
    "feature = 'photon_energy'\n",
    "# feature = 'peak'\n",
    "\n",
    "cfg = {\n",
    "    'num_epochs': 2,\n",
    "    'num_classes': 3,\n",
    "    'batch_size': train_loader.batch_size,\n",
    "    'test_size': len(train_loader.dataset),\n",
    "    'test_size': len(test_loader.dataset),\n",
    "    'criterion': criterion,\n",
    "    'optimizer': optimizer,\n",
    "    'device': device,\n",
    "    'model': model1,\n",
    "    }\n",
    "\n",
    "labels = {\n",
    "    'peaks': [\"True\", \"False\"],\n",
    "    \"photon_energy\": [6000, 7000, 8000],\n",
    "    \"clen\": [\"1.5\", \"2.5\", \"3.5\"]\n",
    "}\n",
    "\n",
    "# # arguments: self, model, loader: list, criterion, optimizer, device, cfg: dict\n",
    "t = train_eval.TrainTestModels(model=model1, loader=[train_loader, test_loader], criterion=criterion, optimizer=optimizer, device=device, cfg=cfg, feature=feature, labels=labels['photon_energy'])"
   ]
  },
  {
   "cell_type": "code",
   "execution_count": 8,
   "metadata": {},
   "outputs": [
    {
     "name": "stdout",
     "output_type": "stream",
     "text": [
      "Model testing and validating: Photon_Scattering_CNN1\n",
      "Looking for the feature: photon_energy\n",
      "-- epoch 0\n",
      "Train loss: 0.8804052591323852\n",
      "Train accuracy: 1.0\n",
      "Test loss: 0.1419653296470642\n",
      "Test accuracy: 1.0\n",
      "-- epoch 1\n",
      "Train loss: 0.2571529299020767\n",
      "Train accuracy: 1.0\n",
      "Test loss: 2.171635642298497e-05\n",
      "Test accuracy: 1.0\n"
     ]
    },
    {
     "data": {
      "image/png": "[encoded data removed]",
      "text/plain": [
       "<Figure size 640x480 with 1 Axes>"
      ]
     },
     "metadata": {},
     "output_type": "display_data"
    }
   ],
   "source": [
    "t.epoch_loop()\n",
    "t.plot_loss_accuracy()"
   ]
  },
  {
   "cell_type": "code",
   "execution_count": 9,
   "metadata": {},
   "outputs": [
    {
     "name": "stdout",
     "output_type": "stream",
     "text": [
      "labels: ['6000', '7000', '8000']\n",
      "truth: [6000 6000 6000 6000 6000 6000 6000 6000 6000 6000 6000 6000]\n",
      "prediction: [6000 6000 6000 6000 6000 6000 6000 6000 6000 6000 6000 6000]\n"
     ]
    },
    {
     "data": {
      "image/png": "[encoded data removed]",
      "text/plain": [
       "<Figure size 480x480 with 2 Axes>"
      ]
     },
     "metadata": {},
     "output_type": "display_data"
    },
    {
     "data": {
      "text/plain": [
       "array([[0., 0., 0.],\n",
       "       [0., 0., 0.],\n",
       "       [0., 0., 0.]])"
      ]
     },
     "execution_count": 9,
     "metadata": {},
     "output_type": "execute_result"
    }
   ],
   "source": [
    "t.plot_confusion_matrix()\n",
    "t.get_confusion_matrix()"
   ]
  },
  {
   "cell_type": "code",
   "execution_count": 10,
   "metadata": {},
   "outputs": [
    {
     "name": "stdout",
     "output_type": "stream",
     "text": [
      "Attributes ['params'] assigned to c:\\Users\\eseveret\\Desktop\\cxls_hitfinder\\images\\peaks\\01\\empty_peak_01_00001.h5\n"
     ]
    }
   ],
   "source": [
    "test_peaks = myPaths.get_peak_image_paths(dataset=dataset)[0]\n",
    "test_water = myPaths.get_peaks_water_overlay_image_paths(dataset=dataset)[0]\n",
    "test_overlay = myPaths.get_peaks_water_overlay_image_paths(dataset=dataset)[0]\n",
    "param1, param2 = (0.5, 9000), (0.5, 9000, True)\n",
    "f.assign_attributes(file_path=test_peaks, params=param1)"
   ]
  },
  {
   "cell_type": "code",
   "execution_count": 11,
   "metadata": {},
   "outputs": [],
   "source": [
    "# t.save_model('../models/cnn3_test.pt')"
   ]
  },
  {
   "cell_type": "code",
   "execution_count": 12,
   "metadata": {},
   "outputs": [],
   "source": [
    "# test_model = m.BasicCNN3()\n",
    "# test_model.load_state_dict(torch.load('../models/cnn3_test.pt'))\n",
    "# test_model.eval()\n"
   ]
  },
  {
   "cell_type": "code",
   "execution_count": 13,
   "metadata": {},
   "outputs": [],
   "source": [
    "# for data, label, attribute in train_loader:\n",
    "#     peak, _ = data\n",
    "#     peak_image_attribute = attribute['peak']\n",
    "#     output = test_model(peak)\n",
    "#     print(peak_image_attribute)\n",
    "#     print(torch.sigmoid(output).reshape(1,-1) > 0.5)\n",
    "#     print('-------------------')"
   ]
  }
 ],
 "metadata": {
  "kernelspec": {
   "display_name": "torch",
   "language": "python",
   "name": "python3"
  },
  "language_info": {
   "codemirror_mode": {
    "name": "ipython",
    "version": 3
   },
   "file_extension": ".py",
   "mimetype": "text/x-python",
   "name": "python",
   "nbconvert_exporter": "python",
   "pygments_lexer": "ipython3",
   "version": "3.12.2"
  }
 },
 "nbformat": 4,
 "nbformat_minor": 2
}
