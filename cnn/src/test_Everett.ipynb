{
 "cells": [
  {
   "cell_type": "code",
   "execution_count": 1,
   "metadata": {},
   "outputs": [
    {
     "name": "stdout",
     "output_type": "stream",
     "text": [
      "clen: 1.5, photon_energy: 6000\n"
     ]
    }
   ],
   "source": [
    "import os\n",
    "import torch\n",
    "import torch.nn as nn\n",
    "import torch.optim as optim\n",
    "import torch.nn.functional as F\n",
    "import numpy as np\n",
    "import subprocess\n",
    "from glob import glob\n",
    "\n",
    "from pkg import u,m\n",
    "\n",
    "# dataset_num = input(\"Enter dataset number: \")\n",
    "# dataset = dataset_num.zfill(2) # string (ex '01')\n",
    "dataset = '01'\n",
    "\n",
    "pm = u.PathManager(dataset=dataset)\n",
    "p = u.Processor(paths=pm, dataset=dataset)\n",
    "clen, photon_energy = p.get_parameters()\n",
    "print(f\"clen: {clen}, photon_energy: {photon_energy}\")\n",
    "# instances\n",
    "pm = u.PathManager(dataset=dataset)\n",
    "peak_paths, water_peak_paths, labels, water_background_path = pm.select_dataset(dataset=dataset)\n",
    "p = u.Processor(paths=pm, dataset=dataset)"
   ]
  },
  {
   "cell_type": "code",
   "execution_count": 2,
   "metadata": {},
   "outputs": [
    {
     "name": "stdout",
     "output_type": "stream",
     "text": [
      "Paths refreshed for dataset 01.\n",
      "Directory: peaks/01\n",
      "  Total files: 54\n",
      "  Normal images: 39\n",
      "  Empty images: 15\n",
      "Directory: labels/01\n",
      "  Total files: 54\n",
      "  Normal images: 39\n",
      "  Empty images: 15\n",
      "Directory: peaks_water_overlay/01\n",
      "  Total files: 54\n",
      "  Normal images: 39\n",
      "  Empty images: 15\n",
      "Directories '01' through '09' already created in '../../images/labels'.\n",
      "Directories '01' through '09' already created in '../../images/peaks'.\n",
      "Directories '01' through '09' already created in '../../images/peaks_water_overlay'.\n",
      "Directories '01' through '09' already created in '../../images/water'.\n",
      "Directories for dataset 01 have been processed. Matching file counts found.\n",
      "Directories for dataset 02 have been processed. Matching file counts found.\n",
      "Directories for dataset 03 have been processed. Matching file counts found.\n",
      "Directories for dataset 04 have been processed. Matching file counts found.\n",
      "Directories for dataset 05 have been processed. Matching file counts found.\n",
      "Directories for dataset 06 have been processed. Matching file counts found.\n",
      "Directories for dataset 07 are ready for processing (Step 1).\n",
      "Directories for dataset 08 are ready for processing (Step 1).\n",
      "Directories for dataset 09 are ready for processing (Step 1).\n",
      "Directory structure and image count verification completed successfully. Proceeding with data processing.\n",
      "\n",
      "Proceeding with data processing...\n"
     ]
    },
    {
     "ename": "FileNotFoundError",
     "evalue": "[Errno 2] No such file or directory: '/home/eseverett/Desktop/CXFEL/cxls_hitfinder/images/peaks/00'",
     "output_type": "error",
     "traceback": [
      "\u001b[0;31m---------------------------------------------------------------------------\u001b[0m",
      "\u001b[0;31mFileNotFoundError\u001b[0m                         Traceback (most recent call last)",
      "File \u001b[0;32m~/Desktop/CXFEL/cxls_hitfinder/cnn/src/process_directory.py:145\u001b[0m\n\u001b[1;32m    142\u001b[0m parser\u001b[38;5;241m.\u001b[39madd_argument(\u001b[38;5;124m\"\u001b[39m\u001b[38;5;124m--percent_empty\u001b[39m\u001b[38;5;124m\"\u001b[39m, \u001b[38;5;28mtype\u001b[39m\u001b[38;5;241m=\u001b[39m\u001b[38;5;28mfloat\u001b[39m, default\u001b[38;5;241m=\u001b[39m\u001b[38;5;241m0.3\u001b[39m, help\u001b[38;5;241m=\u001b[39m\u001b[38;5;124m\"\u001b[39m\u001b[38;5;124mPercentage of empty images to add.\u001b[39m\u001b[38;5;124m\"\u001b[39m)\n\u001b[1;32m    143\u001b[0m args \u001b[38;5;241m=\u001b[39m parser\u001b[38;5;241m.\u001b[39mparse_args()\n\u001b[0;32m--> 145\u001b[0m main(images_dir\u001b[38;5;241m=\u001b[39margs\u001b[38;5;241m.\u001b[39mimages_dir, force\u001b[38;5;241m=\u001b[39margs\u001b[38;5;241m.\u001b[39mforce, percent_empty\u001b[38;5;241m=\u001b[39margs\u001b[38;5;241m.\u001b[39mpercent_empty)\n",
      "File \u001b[0;32m~/Desktop/CXFEL/cxls_hitfinder/cnn/src/process_directory.py:131\u001b[0m, in \u001b[0;36mmain\u001b[0;34m(images_dir, force, percent_empty)\u001b[0m\n\u001b[1;32m    129\u001b[0m     \u001b[38;5;28mprint\u001b[39m(\u001b[38;5;124m\"\u001b[39m\u001b[38;5;130;01m\\n\u001b[39;00m\u001b[38;5;124mProceeding with data processing...\u001b[39m\u001b[38;5;124m\"\u001b[39m)\n\u001b[1;32m    130\u001b[0m     \u001b[38;5;66;03m# generate labels, overlays, and images, then add empty images\u001b[39;00m\n\u001b[0;32m--> 131\u001b[0m     process_data(images_dir, percent_empty)\n\u001b[1;32m    132\u001b[0m \u001b[38;5;28;01melif\u001b[39;00m is_valid \u001b[38;5;129;01mand\u001b[39;00m \u001b[38;5;129;01mnot\u001b[39;00m proceed_with_processing:\n\u001b[1;32m    133\u001b[0m     \u001b[38;5;28mprint\u001b[39m(\u001b[38;5;124m\"\u001b[39m\u001b[38;5;124mProcessing not required. Directories already contain processed data.\u001b[39m\u001b[38;5;124m\"\u001b[39m)\n",
      "File \u001b[0;32m~/Desktop/CXFEL/cxls_hitfinder/cnn/src/process_directory.py:97\u001b[0m, in \u001b[0;36mprocess_data\u001b[0;34m(directory, percent_empty)\u001b[0m\n\u001b[1;32m     94\u001b[0m dataset_num \u001b[38;5;241m=\u001b[39m \u001b[38;5;28minput\u001b[39m(\u001b[38;5;124m\"\u001b[39m\u001b[38;5;124mEnter dataset number: \u001b[39m\u001b[38;5;124m\"\u001b[39m)\n\u001b[1;32m     95\u001b[0m dataset \u001b[38;5;241m=\u001b[39m dataset_num\u001b[38;5;241m.\u001b[39mzfill(\u001b[38;5;241m2\u001b[39m) \u001b[38;5;66;03m# string (ex '01')\u001b[39;00m\n\u001b[0;32m---> 97\u001b[0m pm \u001b[38;5;241m=\u001b[39m u\u001b[38;5;241m.\u001b[39mPathManager(dataset\u001b[38;5;241m=\u001b[39mdataset)\n\u001b[1;32m     98\u001b[0m p \u001b[38;5;241m=\u001b[39m u\u001b[38;5;241m.\u001b[39mProcessor(paths\u001b[38;5;241m=\u001b[39mpm, dataset\u001b[38;5;241m=\u001b[39mdataset)\n\u001b[1;32m     99\u001b[0m clen, photon_energy \u001b[38;5;241m=\u001b[39m p\u001b[38;5;241m.\u001b[39mget_parameters()\n",
      "File \u001b[0;32m~/Desktop/CXFEL/cxls_hitfinder/cnn/src/pkg/util.py:156\u001b[0m, in \u001b[0;36mPathManager.__init__\u001b[0;34m(self, dataset, root_dir)\u001b[0m\n\u001b[1;32m    154\u001b[0m     \u001b[38;5;28mself\u001b[39m\u001b[38;5;241m.\u001b[39mroot \u001b[38;5;241m=\u001b[39m root_dir  \u001b[38;5;66;03m# Directly using the provided root directory\u001b[39;00m\n\u001b[1;32m    155\u001b[0m \u001b[38;5;28mself\u001b[39m\u001b[38;5;241m.\u001b[39mdataset \u001b[38;5;241m=\u001b[39m dataset\n\u001b[0;32m--> 156\u001b[0m \u001b[38;5;28mself\u001b[39m\u001b[38;5;241m.\u001b[39msetup_directories()\n",
      "File \u001b[0;32m~/Desktop/CXFEL/cxls_hitfinder/cnn/src/pkg/util.py:166\u001b[0m, in \u001b[0;36mPathManager.setup_directories\u001b[0;34m(self)\u001b[0m\n\u001b[1;32m    164\u001b[0m \u001b[38;5;28mself\u001b[39m\u001b[38;5;241m.\u001b[39mwater_background_dir \u001b[38;5;241m=\u001b[39m os\u001b[38;5;241m.\u001b[39mpath\u001b[38;5;241m.\u001b[39mjoin(\u001b[38;5;28mself\u001b[39m\u001b[38;5;241m.\u001b[39mimages_dir, \u001b[38;5;124m'\u001b[39m\u001b[38;5;124mwater\u001b[39m\u001b[38;5;124m'\u001b[39m)\n\u001b[1;32m    165\u001b[0m \u001b[38;5;28mself\u001b[39m\u001b[38;5;241m.\u001b[39mtemp \u001b[38;5;241m=\u001b[39m os\u001b[38;5;241m.\u001b[39mpath\u001b[38;5;241m.\u001b[39mjoin(\u001b[38;5;28mself\u001b[39m\u001b[38;5;241m.\u001b[39mimages_dir, \u001b[38;5;124m'\u001b[39m\u001b[38;5;124mtemp\u001b[39m\u001b[38;5;124m'\u001b[39m)\n\u001b[0;32m--> 166\u001b[0m \u001b[38;5;28mself\u001b[39m\u001b[38;5;241m.\u001b[39mselect_dataset(dataset\u001b[38;5;241m=\u001b[39m\u001b[38;5;28mself\u001b[39m\u001b[38;5;241m.\u001b[39mdataset)\n",
      "File \u001b[0;32m~/Desktop/CXFEL/cxls_hitfinder/cnn/src/pkg/util.py:200\u001b[0m, in \u001b[0;36mPathManager.select_dataset\u001b[0;34m(self, dataset)\u001b[0m\n\u001b[1;32m    198\u001b[0m \u001b[38;5;28;01mdef\u001b[39;00m \u001b[38;5;21mselect_dataset\u001b[39m(\u001b[38;5;28mself\u001b[39m, dataset:\u001b[38;5;28mstr\u001b[39m) \u001b[38;5;241m-\u001b[39m\u001b[38;5;241m>\u001b[39m \u001b[38;5;28mtuple\u001b[39m:    \n\u001b[1;32m    199\u001b[0m     \u001b[38;5;28mself\u001b[39m\u001b[38;5;241m.\u001b[39mdataset \u001b[38;5;241m=\u001b[39m dataset \u001b[38;5;66;03m# select dataset 01 through 09\u001b[39;00m\n\u001b[0;32m--> 200\u001b[0m     \u001b[38;5;28;01mreturn\u001b[39;00m \u001b[38;5;28mself\u001b[39m\u001b[38;5;241m.\u001b[39minit_lists(\u001b[38;5;28mself\u001b[39m\u001b[38;5;241m.\u001b[39mdataset)\n",
      "File \u001b[0;32m~/Desktop/CXFEL/cxls_hitfinder/cnn/src/pkg/util.py:169\u001b[0m, in \u001b[0;36mPathManager.init_lists\u001b[0;34m(self, dataset)\u001b[0m\n\u001b[1;32m    168\u001b[0m \u001b[38;5;28;01mdef\u001b[39;00m \u001b[38;5;21minit_lists\u001b[39m(\u001b[38;5;28mself\u001b[39m, dataset:\u001b[38;5;28mstr\u001b[39m) \u001b[38;5;241m-\u001b[39m\u001b[38;5;241m>\u001b[39m \u001b[38;5;28;01mNone\u001b[39;00m:\n\u001b[0;32m--> 169\u001b[0m     \u001b[38;5;28mself\u001b[39m\u001b[38;5;241m.\u001b[39mpeak_list \u001b[38;5;241m=\u001b[39m \u001b[38;5;28mself\u001b[39m\u001b[38;5;241m.\u001b[39mget_peak_image_paths(\u001b[38;5;28mself\u001b[39m\u001b[38;5;241m.\u001b[39mdataset)\n\u001b[1;32m    170\u001b[0m     \u001b[38;5;28mself\u001b[39m\u001b[38;5;241m.\u001b[39mwater_peak_list \u001b[38;5;241m=\u001b[39m \u001b[38;5;28mself\u001b[39m\u001b[38;5;241m.\u001b[39mget_peaks_water_overlay_image_paths(\u001b[38;5;28mself\u001b[39m\u001b[38;5;241m.\u001b[39mdataset)\n\u001b[1;32m    171\u001b[0m     \u001b[38;5;28mself\u001b[39m\u001b[38;5;241m.\u001b[39mlabel_list \u001b[38;5;241m=\u001b[39m \u001b[38;5;28mself\u001b[39m\u001b[38;5;241m.\u001b[39mget_label_images_paths(\u001b[38;5;28mself\u001b[39m\u001b[38;5;241m.\u001b[39mdataset)\n",
      "File \u001b[0;32m~/Desktop/CXFEL/cxls_hitfinder/cnn/src/pkg/util.py:220\u001b[0m, in \u001b[0;36mPathManager.get_peak_image_paths\u001b[0;34m(self, dataset)\u001b[0m\n\u001b[1;32m    216\u001b[0m \u001b[38;5;129m@lru_cache\u001b[39m(maxsize\u001b[38;5;241m=\u001b[39m\u001b[38;5;241m32\u001b[39m)\n\u001b[1;32m    217\u001b[0m \u001b[38;5;28;01mdef\u001b[39;00m \u001b[38;5;21mget_peak_image_paths\u001b[39m(\u001b[38;5;28mself\u001b[39m, dataset:\u001b[38;5;28mstr\u001b[39m) \u001b[38;5;241m-\u001b[39m\u001b[38;5;241m>\u001b[39m \u001b[38;5;28mlist\u001b[39m:\n\u001b[1;32m    218\u001b[0m     \u001b[38;5;66;03m# returns all peak images of dataset 01 through 09\u001b[39;00m\n\u001b[1;32m    219\u001b[0m     dataset_dir \u001b[38;5;241m=\u001b[39m os\u001b[38;5;241m.\u001b[39mpath\u001b[38;5;241m.\u001b[39mjoin(\u001b[38;5;28mself\u001b[39m\u001b[38;5;241m.\u001b[39mpeaks_dir, dataset)\n\u001b[0;32m--> 220\u001b[0m     \u001b[38;5;28;01mreturn\u001b[39;00m [os\u001b[38;5;241m.\u001b[39mpath\u001b[38;5;241m.\u001b[39mjoin(dataset_dir, f) \u001b[38;5;28;01mfor\u001b[39;00m f \u001b[38;5;129;01min\u001b[39;00m os\u001b[38;5;241m.\u001b[39mlistdir(dataset_dir) \u001b[38;5;28;01mif\u001b[39;00m f\u001b[38;5;241m.\u001b[39mendswith(\u001b[38;5;124m'\u001b[39m\u001b[38;5;124m.h5\u001b[39m\u001b[38;5;124m'\u001b[39m)]\n",
      "\u001b[0;31mFileNotFoundError\u001b[0m: [Errno 2] No such file or directory: '/home/eseverett/Desktop/CXFEL/cxls_hitfinder/images/peaks/00'"
     ]
    },
    {
     "name": "stdout",
     "output_type": "stream",
     "text": [
      "Paths refreshed for dataset 01.\n",
      "Directory: peaks/01\n",
      "  Total files: 54\n",
      "  Normal images: 39\n",
      "  Empty images: 15\n",
      "Directory: labels/01\n",
      "  Total files: 54\n",
      "  Normal images: 39\n",
      "  Empty images: 15\n",
      "Directory: peaks_water_overlay/01\n",
      "  Total files: 54\n",
      "  Normal images: 39\n",
      "  Empty images: 15\n"
     ]
    }
   ],
   "source": [
    "u.get_counts(pm)\n",
    "%run process_directory.py ../../images  --percent_empty 0.4\n",
    "u.get_counts(pm)\n"
   ]
  },
  {
   "cell_type": "code",
   "execution_count": 3,
   "metadata": {},
   "outputs": [
    {
     "name": "stdout",
     "output_type": "stream",
     "text": [
      "Paths refreshed for dataset 01.\n",
      "Directory: peaks/01\n",
      "  Total files: 54\n",
      "  Normal images: 39\n",
      "  Empty images: 15\n",
      "Directory: labels/01\n",
      "  Total files: 54\n",
      "  Normal images: 39\n",
      "  Empty images: 15\n",
      "Directory: peaks_water_overlay/01\n",
      "  Total files: 54\n",
      "  Normal images: 39\n",
      "  Empty images: 15\n",
      "Paths refreshed for dataset 01.\n",
      "Actual percentage of empty images: 27.77777777777778% across peaks, water_overlays, and labels directories.\n",
      "\n",
      "All files in dataset 01 of type 'peak' have matching attributes.\n",
      "All files in dataset 01 of type 'label' have matching attributes.\n",
      "All files in dataset 01 of type 'overlay' have matching attributes.\n",
      "All files in dataset 01 of type 'background' have matching attributes.\n",
      "Dataset 01 authenticated.\n",
      "\n",
      "All files in dataset 01 of type 'peak' have matching attributes.\n",
      "All files in dataset 01 of type 'overlay' have matching attributes.\n",
      "All files in dataset 01 of type 'label' have matching attributes.\n",
      "\n",
      "Data prepared.\n",
      "Train size: 43\n",
      "Test size: 11\n",
      "Batch size: 10\n",
      "Number of batches in train_loader: 5 \n",
      "\n"
     ]
    }
   ],
   "source": [
    "dm = u.DatasetManager(paths=pm, dataset=dataset, parameters=(clen, photon_energy), transform=None)\n",
    "\n",
    "# peak, label, overlay are valid types\n",
    "u.check_attributes(paths=pm, dataset=dataset, type='peak') \n",
    "u.check_attributes(paths=pm, dataset=dataset, type='overlay')\n",
    "u.check_attributes(paths=pm, dataset=dataset, type='label')\n",
    "\n",
    "train_loader, test_loader = u.prepare(data_manager=dm, batch_size=10)"
   ]
  },
  {
   "cell_type": "code",
   "execution_count": 4,
   "metadata": {},
   "outputs": [
    {
     "data": {
      "text/plain": [
       "['BasicCNN1',\n",
       " 'BasicCNN2',\n",
       " 'DenseNet121_Weights',\n",
       " 'DenseNetBraggPeakClassifier',\n",
       " 'F',\n",
       " 'ResNet50BraggPeakClassifier',\n",
       " 'ResNet50_Weights',\n",
       " '__builtins__',\n",
       " '__cached__',\n",
       " '__doc__',\n",
       " '__file__',\n",
       " '__loader__',\n",
       " '__name__',\n",
       " '__package__',\n",
       " '__spec__',\n",
       " 'models',\n",
       " 'nn',\n",
       " 'np',\n",
       " 'optim',\n",
       " 'os',\n",
       " 'torch']"
      ]
     },
     "execution_count": 4,
     "metadata": {},
     "output_type": "execute_result"
    }
   ],
   "source": [
    "dir(m)"
   ]
  },
  {
   "cell_type": "code",
   "execution_count": 5,
   "metadata": {},
   "outputs": [],
   "source": [
    "model1 = m.BasicCNN1()\n",
    "criterion = nn.BCEWithLogitsLoss()\n",
    "optimizer = optim.Adam(model1.parameters(), lr=0.001)\n",
    "device = torch.device(\"cuda\" if torch.cuda.is_available() else \"cpu\")\n",
    "\n",
    "cfg = {\n",
    "    'num_epochs': 2,\n",
    "    'num_classes': 2,\n",
    "    'batch_size': train_loader.batch_size,\n",
    "    'test_size': len(train_loader.dataset),\n",
    "    'test_size': len(test_loader.dataset),\n",
    "    'criterion': criterion,\n",
    "    'optimizer': optimizer,\n",
    "    'device': device,\n",
    "    'model': model1,\n",
    "}\n",
    "\n",
    "# # arguments: self, model, loader: list, criterion, optimizer, device, cfg: dict\n",
    "t = u.TrainTestModels(model=model1, loader=[train_loader, test_loader], criterion=criterion, optimizer=optimizer, device=device, cfg=cfg)"
   ]
  },
  {
   "cell_type": "code",
   "execution_count": 6,
   "metadata": {},
   "outputs": [
    {
     "name": "stdout",
     "output_type": "stream",
     "text": [
      "Model testing and validating: BasicCNN1\n",
      "-- epoch 0\n"
     ]
    },
    {
     "name": "stdout",
     "output_type": "stream",
     "text": [
      "tensor([[[[ 0.0087,  0.0088,  0.0090,  ...,  0.0040,  0.0014, -0.0013],\n",
      "          [ 0.0102,  0.0113,  0.0125,  ...,  0.0098,  0.0073,  0.0048],\n",
      "          [ 0.0117,  0.0138,  0.0160,  ...,  0.0155,  0.0132,  0.0108],\n",
      "          ...,\n",
      "          [ 0.0081,  0.0144,  0.0208,  ...,  0.0287,  0.0262,  0.0238],\n",
      "          [ 0.0048,  0.0123,  0.0197,  ...,  0.0295,  0.0268,  0.0242],\n",
      "          [ 0.0015,  0.0101,  0.0187,  ...,  0.0303,  0.0274,  0.0246]]],\n",
      "\n",
      "\n",
      "        [[[ 0.0087,  0.0088,  0.0090,  ...,  0.0040,  0.0014, -0.0013],\n",
      "          [ 0.0102,  0.0113,  0.0125,  ...,  0.0098,  0.0073,  0.0048],\n",
      "          [ 0.0117,  0.0138,  0.0160,  ...,  0.0155,  0.0132,  0.0108],\n",
      "          ...,\n",
      "          [ 0.0081,  0.0144,  0.0208,  ...,  0.0287,  0.0262,  0.0238],\n",
      "          [ 0.0048,  0.0123,  0.0197,  ...,  0.0295,  0.0268,  0.0242],\n",
      "          [ 0.0015,  0.0101,  0.0187,  ...,  0.0303,  0.0274,  0.0246]]],\n",
      "\n",
      "\n",
      "        [[[ 0.0087,  0.0088,  0.0090,  ...,  0.0040,  0.0014, -0.0013],\n",
      "          [ 0.0102,  0.0113,  0.0125,  ...,  0.0098,  0.0073,  0.0048],\n",
      "          [ 0.0117,  0.0138,  0.0160,  ...,  0.0155,  0.0132,  0.0108],\n",
      "          ...,\n",
      "          [ 0.0081,  0.0144,  0.0208,  ...,  0.0287,  0.0262,  0.0238],\n",
      "          [ 0.0048,  0.0123,  0.0197,  ...,  0.0295,  0.0268,  0.0242],\n",
      "          [ 0.0015,  0.0101,  0.0187,  ...,  0.0303,  0.0274,  0.0246]]],\n",
      "\n",
      "\n",
      "        ...,\n",
      "\n",
      "\n",
      "        [[[ 0.0087,  0.0088,  0.0090,  ...,  0.0040,  0.0014, -0.0013],\n",
      "          [ 0.0102,  0.0113,  0.0125,  ...,  0.0098,  0.0073,  0.0048],\n",
      "          [ 0.0117,  0.0138,  0.0160,  ...,  0.0155,  0.0132,  0.0108],\n",
      "          ...,\n",
      "          [ 0.0081,  0.0144,  0.0208,  ...,  0.0287,  0.0262,  0.0238],\n",
      "          [ 0.0048,  0.0123,  0.0197,  ...,  0.0295,  0.0268,  0.0242],\n",
      "          [ 0.0015,  0.0101,  0.0187,  ...,  0.0303,  0.0274,  0.0246]]],\n",
      "\n",
      "\n",
      "        [[[ 0.0087,  0.0088,  0.0090,  ...,  0.0040,  0.0014, -0.0013],\n",
      "          [ 0.0102,  0.0113,  0.0125,  ...,  0.0098,  0.0073,  0.0048],\n",
      "          [ 0.0117,  0.0138,  0.0160,  ...,  0.0155,  0.0132,  0.0108],\n",
      "          ...,\n",
      "          [ 0.0081,  0.0144,  0.0208,  ...,  0.0287,  0.0262,  0.0238],\n",
      "          [ 0.0048,  0.0123,  0.0197,  ...,  0.0295,  0.0268,  0.0242],\n",
      "          [ 0.0015,  0.0101,  0.0187,  ...,  0.0303,  0.0274,  0.0246]]],\n",
      "\n",
      "\n",
      "        [[[ 0.0087,  0.0088,  0.0090,  ...,  0.0040,  0.0014, -0.0013],\n",
      "          [ 0.0102,  0.0113,  0.0125,  ...,  0.0098,  0.0073,  0.0048],\n",
      "          [ 0.0117,  0.0138,  0.0160,  ...,  0.0155,  0.0132,  0.0108],\n",
      "          ...,\n",
      "          [ 0.0081,  0.0144,  0.0208,  ...,  0.0287,  0.0262,  0.0238],\n",
      "          [ 0.0048,  0.0123,  0.0197,  ...,  0.0295,  0.0268,  0.0242],\n",
      "          [ 0.0015,  0.0101,  0.0187,  ...,  0.0303,  0.0274,  0.0246]]]],\n",
      "       grad_fn=<UpsampleBilinear2DBackward0>)\n",
      "tensor(0.7089, grad_fn=<BinaryCrossEntropyWithLogitsBackward0>)\n",
      "tensor([[[[ 5.3267e-03,  5.1445e-03,  4.9623e-03,  ..., -9.7614e-05,\n",
      "           -2.4355e-03, -4.7734e-03],\n",
      "          [ 6.5022e-03,  7.2794e-03,  8.0567e-03,  ...,  5.2700e-03,\n",
      "            3.1049e-03,  9.3985e-04],\n",
      "          [ 7.6777e-03,  9.4144e-03,  1.1151e-02,  ...,  1.0638e-02,\n",
      "            8.6454e-03,  6.6531e-03],\n",
      "          ...,\n",
      "          [ 4.0762e-03,  1.0035e-02,  1.5994e-02,  ...,  2.3757e-02,\n",
      "            2.1665e-02,  1.9573e-02],\n",
      "          [ 1.1096e-03,  8.2083e-03,  1.5307e-02,  ...,  2.4913e-02,\n",
      "            2.2599e-02,  2.0285e-02],\n",
      "          [-1.8562e-03,  6.3822e-03,  1.4621e-02,  ...,  2.6068e-02,\n",
      "            2.3532e-02,  2.0996e-02]]],\n",
      "\n",
      "\n",
      "        [[[ 5.3267e-03,  5.1445e-03,  4.9623e-03,  ..., -9.7614e-05,\n",
      "           -2.4355e-03, -4.7734e-03],\n",
      "          [ 6.5022e-03,  7.2794e-03,  8.0567e-03,  ...,  5.2700e-03,\n",
      "            3.1049e-03,  9.3985e-04],\n",
      "          [ 7.6777e-03,  9.4144e-03,  1.1151e-02,  ...,  1.0638e-02,\n",
      "            8.6454e-03,  6.6531e-03],\n",
      "          ...,\n",
      "          [ 4.0762e-03,  1.0035e-02,  1.5994e-02,  ...,  2.3757e-02,\n",
      "            2.1665e-02,  1.9573e-02],\n",
      "          [ 1.1096e-03,  8.2083e-03,  1.5307e-02,  ...,  2.4913e-02,\n",
      "            2.2599e-02,  2.0285e-02],\n",
      "          [-1.8562e-03,  6.3822e-03,  1.4621e-02,  ...,  2.6068e-02,\n",
      "            2.3532e-02,  2.0996e-02]]],\n",
      "\n",
      "\n",
      "        [[[ 5.3267e-03,  5.1445e-03,  4.9623e-03,  ..., -9.7614e-05,\n",
      "           -2.4355e-03, -4.7734e-03],\n",
      "          [ 6.5022e-03,  7.2794e-03,  8.0567e-03,  ...,  5.2700e-03,\n",
      "            3.1049e-03,  9.3985e-04],\n",
      "          [ 7.6777e-03,  9.4144e-03,  1.1151e-02,  ...,  1.0638e-02,\n",
      "            8.6454e-03,  6.6531e-03],\n",
      "          ...,\n",
      "          [ 4.0762e-03,  1.0035e-02,  1.5994e-02,  ...,  2.3757e-02,\n",
      "            2.1665e-02,  1.9573e-02],\n",
      "          [ 1.1096e-03,  8.2083e-03,  1.5307e-02,  ...,  2.4913e-02,\n",
      "            2.2599e-02,  2.0285e-02],\n",
      "          [-1.8562e-03,  6.3822e-03,  1.4621e-02,  ...,  2.6068e-02,\n",
      "            2.3532e-02,  2.0996e-02]]],\n",
      "\n",
      "\n",
      "        ...,\n",
      "\n",
      "\n",
      "        [[[ 5.3267e-03,  5.1445e-03,  4.9623e-03,  ..., -9.7614e-05,\n",
      "           -2.4355e-03, -4.7734e-03],\n",
      "          [ 6.5022e-03,  7.2794e-03,  8.0567e-03,  ...,  5.2700e-03,\n",
      "            3.1049e-03,  9.3985e-04],\n",
      "          [ 7.6777e-03,  9.4144e-03,  1.1151e-02,  ...,  1.0638e-02,\n",
      "            8.6454e-03,  6.6531e-03],\n",
      "          ...,\n",
      "          [ 4.0762e-03,  1.0035e-02,  1.5994e-02,  ...,  2.3757e-02,\n",
      "            2.1665e-02,  1.9573e-02],\n",
      "          [ 1.1096e-03,  8.2083e-03,  1.5307e-02,  ...,  2.4913e-02,\n",
      "            2.2599e-02,  2.0285e-02],\n",
      "          [-1.8562e-03,  6.3822e-03,  1.4621e-02,  ...,  2.6068e-02,\n",
      "            2.3532e-02,  2.0996e-02]]],\n",
      "\n",
      "\n",
      "        [[[ 5.3267e-03,  5.1445e-03,  4.9623e-03,  ..., -9.7614e-05,\n",
      "           -2.4355e-03, -4.7734e-03],\n",
      "          [ 6.5022e-03,  7.2794e-03,  8.0567e-03,  ...,  5.2700e-03,\n",
      "            3.1049e-03,  9.3985e-04],\n",
      "          [ 7.6777e-03,  9.4144e-03,  1.1151e-02,  ...,  1.0638e-02,\n",
      "            8.6454e-03,  6.6531e-03],\n",
      "          ...,\n",
      "          [ 4.0762e-03,  1.0035e-02,  1.5994e-02,  ...,  2.3757e-02,\n",
      "            2.1665e-02,  1.9573e-02],\n",
      "          [ 1.1096e-03,  8.2083e-03,  1.5307e-02,  ...,  2.4913e-02,\n",
      "            2.2599e-02,  2.0285e-02],\n",
      "          [-1.8562e-03,  6.3822e-03,  1.4621e-02,  ...,  2.6068e-02,\n",
      "            2.3532e-02,  2.0996e-02]]],\n",
      "\n",
      "\n",
      "        [[[ 5.3267e-03,  5.1445e-03,  4.9623e-03,  ..., -9.7614e-05,\n",
      "           -2.4355e-03, -4.7734e-03],\n",
      "          [ 6.5022e-03,  7.2794e-03,  8.0567e-03,  ...,  5.2700e-03,\n",
      "            3.1049e-03,  9.3985e-04],\n",
      "          [ 7.6777e-03,  9.4144e-03,  1.1151e-02,  ...,  1.0638e-02,\n",
      "            8.6454e-03,  6.6531e-03],\n",
      "          ...,\n",
      "          [ 4.0762e-03,  1.0035e-02,  1.5994e-02,  ...,  2.3757e-02,\n",
      "            2.1665e-02,  1.9573e-02],\n",
      "          [ 1.1096e-03,  8.2083e-03,  1.5307e-02,  ...,  2.4913e-02,\n",
      "            2.2599e-02,  2.0285e-02],\n",
      "          [-1.8562e-03,  6.3822e-03,  1.4621e-02,  ...,  2.6068e-02,\n",
      "            2.3532e-02,  2.0996e-02]]]], grad_fn=<UpsampleBilinear2DBackward0>)\n",
      "tensor(0.7056, grad_fn=<BinaryCrossEntropyWithLogitsBackward0>)\n",
      "tensor([[[[ 0.0020,  0.0015,  0.0010,  ..., -0.0041, -0.0062, -0.0082],\n",
      "          [ 0.0028,  0.0032,  0.0037,  ...,  0.0008, -0.0010, -0.0029],\n",
      "          [ 0.0037,  0.0050,  0.0064,  ...,  0.0058,  0.0042,  0.0025],\n",
      "          ...,\n",
      "          [ 0.0001,  0.0056,  0.0112,  ...,  0.0188,  0.0171,  0.0154],\n",
      "          [-0.0025,  0.0042,  0.0109,  ...,  0.0204,  0.0184,  0.0164],\n",
      "          [-0.0052,  0.0027,  0.0106,  ...,  0.0219,  0.0197,  0.0174]]],\n",
      "\n",
      "\n",
      "        [[[ 0.0020,  0.0015,  0.0010,  ..., -0.0041, -0.0062, -0.0082],\n",
      "          [ 0.0028,  0.0032,  0.0037,  ...,  0.0008, -0.0010, -0.0029],\n",
      "          [ 0.0037,  0.0050,  0.0064,  ...,  0.0058,  0.0042,  0.0025],\n",
      "          ...,\n",
      "          [ 0.0001,  0.0056,  0.0112,  ...,  0.0188,  0.0171,  0.0154],\n",
      "          [-0.0025,  0.0042,  0.0109,  ...,  0.0204,  0.0184,  0.0164],\n",
      "          [-0.0052,  0.0027,  0.0106,  ...,  0.0219,  0.0197,  0.0174]]],\n",
      "\n",
      "\n",
      "        [[[ 0.0020,  0.0015,  0.0010,  ..., -0.0041, -0.0062, -0.0082],\n",
      "          [ 0.0028,  0.0032,  0.0037,  ...,  0.0008, -0.0010, -0.0029],\n",
      "          [ 0.0037,  0.0050,  0.0064,  ...,  0.0058,  0.0042,  0.0025],\n",
      "          ...,\n",
      "          [ 0.0001,  0.0056,  0.0112,  ...,  0.0188,  0.0171,  0.0154],\n",
      "          [-0.0025,  0.0042,  0.0109,  ...,  0.0204,  0.0184,  0.0164],\n",
      "          [-0.0052,  0.0027,  0.0106,  ...,  0.0219,  0.0197,  0.0174]]],\n",
      "\n",
      "\n",
      "        ...,\n",
      "\n",
      "\n",
      "        [[[ 0.0020,  0.0015,  0.0010,  ..., -0.0041, -0.0062, -0.0082],\n",
      "          [ 0.0028,  0.0032,  0.0037,  ...,  0.0008, -0.0010, -0.0029],\n",
      "          [ 0.0037,  0.0050,  0.0064,  ...,  0.0058,  0.0042,  0.0025],\n",
      "          ...,\n",
      "          [ 0.0001,  0.0056,  0.0112,  ...,  0.0188,  0.0171,  0.0154],\n",
      "          [-0.0025,  0.0042,  0.0109,  ...,  0.0204,  0.0184,  0.0164],\n",
      "          [-0.0052,  0.0027,  0.0106,  ...,  0.0219,  0.0197,  0.0174]]],\n",
      "\n",
      "\n",
      "        [[[ 0.0020,  0.0015,  0.0010,  ..., -0.0041, -0.0062, -0.0082],\n",
      "          [ 0.0028,  0.0032,  0.0037,  ...,  0.0008, -0.0010, -0.0029],\n",
      "          [ 0.0037,  0.0050,  0.0064,  ...,  0.0058,  0.0042,  0.0025],\n",
      "          ...,\n",
      "          [ 0.0001,  0.0056,  0.0112,  ...,  0.0188,  0.0171,  0.0154],\n",
      "          [-0.0025,  0.0042,  0.0109,  ...,  0.0204,  0.0184,  0.0164],\n",
      "          [-0.0052,  0.0027,  0.0106,  ...,  0.0219,  0.0197,  0.0174]]],\n",
      "\n",
      "\n",
      "        [[[ 0.0020,  0.0015,  0.0010,  ..., -0.0041, -0.0062, -0.0082],\n",
      "          [ 0.0028,  0.0032,  0.0037,  ...,  0.0008, -0.0010, -0.0029],\n",
      "          [ 0.0037,  0.0050,  0.0064,  ...,  0.0058,  0.0042,  0.0025],\n",
      "          ...,\n",
      "          [ 0.0001,  0.0056,  0.0112,  ...,  0.0188,  0.0171,  0.0154],\n",
      "          [-0.0025,  0.0042,  0.0109,  ...,  0.0204,  0.0184,  0.0164],\n",
      "          [-0.0052,  0.0027,  0.0106,  ...,  0.0219,  0.0197,  0.0174]]]],\n",
      "       grad_fn=<UpsampleBilinear2DBackward0>)\n",
      "tensor(0.7023, grad_fn=<BinaryCrossEntropyWithLogitsBackward0>)\n"
     ]
    },
    {
     "ename": "KeyboardInterrupt",
     "evalue": "",
     "output_type": "error",
     "traceback": [
      "\u001b[0;31m---------------------------------------------------------------------------\u001b[0m",
      "\u001b[0;31mKeyboardInterrupt\u001b[0m                         Traceback (most recent call last)",
      "Cell \u001b[0;32mIn[6], line 1\u001b[0m\n\u001b[0;32m----> 1\u001b[0m t\u001b[38;5;241m.\u001b[39mepoch_loop()\n",
      "File \u001b[0;32m~/Desktop/CXFEL/cxls_hitfinder/cnn/src/pkg/util.py:805\u001b[0m, in \u001b[0;36mTrainTestModels.epoch_loop\u001b[0;34m(self)\u001b[0m\n\u001b[1;32m    802\u001b[0m \u001b[38;5;28mself\u001b[39m\u001b[38;5;241m.\u001b[39mlogger\u001b[38;5;241m.\u001b[39minfo(\u001b[38;5;124m'\u001b[39m\u001b[38;5;124m-- epoch \u001b[39m\u001b[38;5;124m'\u001b[39m\u001b[38;5;241m+\u001b[39m\u001b[38;5;28mstr\u001b[39m(epoch)) \n\u001b[1;32m    803\u001b[0m \u001b[38;5;28mprint\u001b[39m(\u001b[38;5;124m'\u001b[39m\u001b[38;5;124m-- epoch \u001b[39m\u001b[38;5;124m'\u001b[39m\u001b[38;5;241m+\u001b[39m\u001b[38;5;28mstr\u001b[39m(epoch)) \n\u001b[0;32m--> 805\u001b[0m \u001b[38;5;28mself\u001b[39m\u001b[38;5;241m.\u001b[39mtrain(epoch)\n\u001b[1;32m    806\u001b[0m \u001b[38;5;28mself\u001b[39m\u001b[38;5;241m.\u001b[39mtest(epoch)\n",
      "File \u001b[0;32m~/Desktop/CXFEL/cxls_hitfinder/cnn/src/pkg/util.py:674\u001b[0m, in \u001b[0;36mTrainTestModels.train\u001b[0;34m(self, epoch)\u001b[0m\n\u001b[1;32m    671\u001b[0m \u001b[38;5;28mprint\u001b[39m(score)\n\u001b[1;32m    672\u001b[0m \u001b[38;5;28mprint\u001b[39m(loss)\n\u001b[0;32m--> 674\u001b[0m loss\u001b[38;5;241m.\u001b[39mbackward()\n\u001b[1;32m    675\u001b[0m \u001b[38;5;28mself\u001b[39m\u001b[38;5;241m.\u001b[39moptimizer\u001b[38;5;241m.\u001b[39mstep()\n\u001b[1;32m    676\u001b[0m running_loss_train \u001b[38;5;241m+\u001b[39m\u001b[38;5;241m=\u001b[39m loss\u001b[38;5;241m.\u001b[39mitem()  \n",
      "File \u001b[0;32m~/anaconda3/lib/python3.11/site-packages/torch/_tensor.py:487\u001b[0m, in \u001b[0;36mTensor.backward\u001b[0;34m(self, gradient, retain_graph, create_graph, inputs)\u001b[0m\n\u001b[1;32m    477\u001b[0m \u001b[38;5;28;01mif\u001b[39;00m has_torch_function_unary(\u001b[38;5;28mself\u001b[39m):\n\u001b[1;32m    478\u001b[0m     \u001b[38;5;28;01mreturn\u001b[39;00m handle_torch_function(\n\u001b[1;32m    479\u001b[0m         Tensor\u001b[38;5;241m.\u001b[39mbackward,\n\u001b[1;32m    480\u001b[0m         (\u001b[38;5;28mself\u001b[39m,),\n\u001b[0;32m   (...)\u001b[0m\n\u001b[1;32m    485\u001b[0m         inputs\u001b[38;5;241m=\u001b[39minputs,\n\u001b[1;32m    486\u001b[0m     )\n\u001b[0;32m--> 487\u001b[0m torch\u001b[38;5;241m.\u001b[39mautograd\u001b[38;5;241m.\u001b[39mbackward(\n\u001b[1;32m    488\u001b[0m     \u001b[38;5;28mself\u001b[39m, gradient, retain_graph, create_graph, inputs\u001b[38;5;241m=\u001b[39minputs\n\u001b[1;32m    489\u001b[0m )\n",
      "File \u001b[0;32m~/anaconda3/lib/python3.11/site-packages/torch/autograd/__init__.py:200\u001b[0m, in \u001b[0;36mbackward\u001b[0;34m(tensors, grad_tensors, retain_graph, create_graph, grad_variables, inputs)\u001b[0m\n\u001b[1;32m    195\u001b[0m     retain_graph \u001b[38;5;241m=\u001b[39m create_graph\n\u001b[1;32m    197\u001b[0m \u001b[38;5;66;03m# The reason we repeat same the comment below is that\u001b[39;00m\n\u001b[1;32m    198\u001b[0m \u001b[38;5;66;03m# some Python versions print out the first line of a multi-line function\u001b[39;00m\n\u001b[1;32m    199\u001b[0m \u001b[38;5;66;03m# calls in the traceback and some print out the last line\u001b[39;00m\n\u001b[0;32m--> 200\u001b[0m Variable\u001b[38;5;241m.\u001b[39m_execution_engine\u001b[38;5;241m.\u001b[39mrun_backward(  \u001b[38;5;66;03m# Calls into the C++ engine to run the backward pass\u001b[39;00m\n\u001b[1;32m    201\u001b[0m     tensors, grad_tensors_, retain_graph, create_graph, inputs,\n\u001b[1;32m    202\u001b[0m     allow_unreachable\u001b[38;5;241m=\u001b[39m\u001b[38;5;28;01mTrue\u001b[39;00m, accumulate_grad\u001b[38;5;241m=\u001b[39m\u001b[38;5;28;01mTrue\u001b[39;00m)\n",
      "\u001b[0;31mKeyboardInterrupt\u001b[0m: "
     ]
    }
   ],
   "source": [
    "t.epoch_loop()"
   ]
  },
  {
   "cell_type": "code",
   "execution_count": null,
   "metadata": {},
   "outputs": [
    {
     "data": {
      "image/png": "[encoded data removed]",
      "text/plain": [
       "<Figure size 640x480 with 1 Axes>"
      ]
     },
     "metadata": {},
     "output_type": "display_data"
    }
   ],
   "source": [
    "t.plot_loss_accuracy()"
   ]
  },
  {
   "cell_type": "code",
   "execution_count": null,
   "metadata": {},
   "outputs": [
    {
     "data": {
      "image/png": "[encoded data removed]",
      "text/plain": [
       "<Figure size 480x480 with 2 Axes>"
      ]
     },
     "metadata": {},
     "output_type": "display_data"
    }
   ],
   "source": [
    "t.plot_confusion_matrix()"
   ]
  },
  {
   "cell_type": "code",
   "execution_count": null,
   "metadata": {},
   "outputs": [
    {
     "data": {
      "text/plain": [
       "array([[1.]])"
      ]
     },
     "execution_count": 15,
     "metadata": {},
     "output_type": "execute_result"
    }
   ],
   "source": [
    "t.get_confusion_matrix()"
   ]
  }
 ],
 "metadata": {
  "kernelspec": {
   "display_name": "torch",
   "language": "python",
   "name": "python3"
  },
  "language_info": {
   "codemirror_mode": {
    "name": "ipython",
    "version": 3
   },
   "file_extension": ".py",
   "mimetype": "text/x-python",
   "name": "python",
   "nbconvert_exporter": "python",
   "pygments_lexer": "ipython3",
   "version": "3.11.5"
  }
 },
 "nbformat": 4,
 "nbformat_minor": 2
}
