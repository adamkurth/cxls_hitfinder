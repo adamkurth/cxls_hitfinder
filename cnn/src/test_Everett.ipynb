{
 "cells": [
  {
   "cell_type": "code",
   "execution_count": 1,
   "metadata": {},
   "outputs": [],
   "source": [
    "from importlib import reload\n",
    "import os\n",
    "import torch\n",
    "import torch.nn as nn\n",
    "import torch.optim as optim\n",
    "import torch.nn.functional as F\n",
    "import numpy as np\n",
    "import subprocess\n",
    "from glob import glob\n",
    "from pkg import *\n",
    "from pkg.functions import convert2int, convert2str, get_params\n",
    "from typing import List, Dict, Any\n",
<<<<<<< HEAD
    "\n",
    "# from pkg.finder.background import wat"
=======
    "from torch.optim.lr_scheduler import ReduceLROnPlateau\n"
>>>>>>> progress-Everett
   ]
  },
  {
   "cell_type": "code",
   "execution_count": null,
   "metadata": {},
   "outputs": [
    {
     "name": "stdout",
     "output_type": "stream",
     "text": [
      "Water backgrounds initialized: 2\n",
      "{'01': {'clen': 0.15, 'photon_energy': 6000}, '04': {'clen': 0.25, 'photon_energy': 6000}}\n",
      "Paths refreshed for dataset ['01', '04'].\n",
      "Directory: peaks/01\n",
      "\tTotal files: 58\n",
      "\tNormal images: 39\n",
      "\tEmpty images: 19\n",
      "Directory: labels/01\n",
      "\tTotal files: 97\n",
      "\tNormal images: 78\n",
      "\tEmpty images: 19\n",
      "Directory: peaks_water_overlay/01\n",
      "\tTotal files: 97\n",
      "\tNormal images: 78\n",
      "\tEmpty images: 19\n",
      "Directory: peaks/04\n",
      "\tTotal files: 21\n",
      "\tNormal images: 14\n",
      "\tEmpty images: 7\n",
      "Directory: labels/04\n",
      "\tTotal files: 35\n",
      "\tNormal images: 28\n",
      "\tEmpty images: 7\n",
      "Directory: peaks_water_overlay/04\n",
      "\tTotal files: 35\n",
      "\tNormal images: 28\n",
      "\tEmpty images: 7\n"
     ]
    }
   ],
   "source": [
    "\n",
    "datasets = [1, 4]\n",
    "\n",
    "myPaths = path.PathManager(datasets=datasets)\n",
    "myProcessor = process.Processor(paths=myPaths, datasets=datasets)\n",
    "params = myProcessor.get_parameters()\n",
    "print(params)\n",
    "f.get_counts(paths=myPaths, datasets=datasets)\n",
    "\n",
    "# myDatasetManager = data.DatasetManager(paths=myPaths, datasets=datasets)\n",
    "\n",
    "# train_loader, test_loader = f.prepare(data_manager=myDatasetManager, batch_size=10)"
   ]
  },
  {
   "cell_type": "code",
   "execution_count": null,
   "metadata": {},
   "outputs": [
    {
     "name": "stdout",
     "output_type": "stream",
     "text": [
      "c:\\Users\\eseveret\\Desktop\\cxls_hitfinder\\images\\peaks\\01\\empty_peak_01_00001.h5 conforms to expected attributes.\n",
      "c:\\Users\\eseveret\\Desktop\\cxls_hitfinder\\images\\peaks\\01\\empty_peak_01_00001.h5:\n",
      "Expected Peak: False, Actual Peak: False\n",
      "c:\\Users\\eseveret\\Desktop\\cxls_hitfinder\\images\\peaks\\01\\empty_peak_01_00002.h5 conforms to expected attributes.\n",
      "c:\\Users\\eseveret\\Desktop\\cxls_hitfinder\\images\\peaks\\01\\empty_peak_01_00002.h5:\n",
      "Expected Peak: False, Actual Peak: False\n",
      "c:\\Users\\eseveret\\Desktop\\cxls_hitfinder\\images\\peaks\\01\\empty_peak_01_00003.h5 conforms to expected attributes.\n",
      "c:\\Users\\eseveret\\Desktop\\cxls_hitfinder\\images\\peaks\\01\\empty_peak_01_00003.h5:\n",
      "Expected Peak: False, Actual Peak: False\n",
      "c:\\Users\\eseveret\\Desktop\\cxls_hitfinder\\images\\peaks\\01\\empty_peak_01_00004.h5 conforms to expected attributes.\n",
      "c:\\Users\\eseveret\\Desktop\\cxls_hitfinder\\images\\peaks\\01\\empty_peak_01_00004.h5:\n",
      "Expected Peak: False, Actual Peak: False\n",
      "c:\\Users\\eseveret\\Desktop\\cxls_hitfinder\\images\\peaks\\01\\empty_peak_01_00005.h5 conforms to expected attributes.\n",
      "c:\\Users\\eseveret\\Desktop\\cxls_hitfinder\\images\\peaks\\01\\empty_peak_01_00005.h5:\n",
      "Expected Peak: False, Actual Peak: False\n",
      "c:\\Users\\eseveret\\Desktop\\cxls_hitfinder\\images\\peaks\\01\\empty_peak_01_00006.h5 conforms to expected attributes.\n",
      "c:\\Users\\eseveret\\Desktop\\cxls_hitfinder\\images\\peaks\\01\\empty_peak_01_00006.h5:\n",
      "Expected Peak: False, Actual Peak: False\n",
      "c:\\Users\\eseveret\\Desktop\\cxls_hitfinder\\images\\peaks\\01\\empty_peak_01_00007.h5 conforms to expected attributes.\n",
      "c:\\Users\\eseveret\\Desktop\\cxls_hitfinder\\images\\peaks\\01\\empty_peak_01_00007.h5:\n",
      "Expected Peak: False, Actual Peak: False\n",
      "c:\\Users\\eseveret\\Desktop\\cxls_hitfinder\\images\\peaks\\01\\empty_peak_01_00008.h5 conforms to expected attributes.\n",
      "c:\\Users\\eseveret\\Desktop\\cxls_hitfinder\\images\\peaks\\01\\empty_peak_01_00008.h5:\n",
      "Expected Peak: False, Actual Peak: False\n",
      "c:\\Users\\eseveret\\Desktop\\cxls_hitfinder\\images\\peaks\\01\\empty_peak_01_00009.h5 conforms to expected attributes.\n",
      "c:\\Users\\eseveret\\Desktop\\cxls_hitfinder\\images\\peaks\\01\\empty_peak_01_00009.h5:\n",
      "Expected Peak: False, Actual Peak: False\n",
      "c:\\Users\\eseveret\\Desktop\\cxls_hitfinder\\images\\peaks\\01\\empty_peak_01_00010.h5 conforms to expected attributes.\n",
      "c:\\Users\\eseveret\\Desktop\\cxls_hitfinder\\images\\peaks\\01\\empty_peak_01_00010.h5:\n",
      "Expected Peak: False, Actual Peak: False\n",
      "c:\\Users\\eseveret\\Desktop\\cxls_hitfinder\\images\\peaks\\01\\empty_peak_01_00011.h5 conforms to expected attributes.\n",
      "c:\\Users\\eseveret\\Desktop\\cxls_hitfinder\\images\\peaks\\01\\empty_peak_01_00011.h5:\n",
      "Expected Peak: False, Actual Peak: False\n",
      "c:\\Users\\eseveret\\Desktop\\cxls_hitfinder\\images\\peaks\\01\\empty_peak_01_00012.h5 conforms to expected attributes.\n",
      "c:\\Users\\eseveret\\Desktop\\cxls_hitfinder\\images\\peaks\\01\\empty_peak_01_00012.h5:\n",
      "Expected Peak: False, Actual Peak: False\n",
      "c:\\Users\\eseveret\\Desktop\\cxls_hitfinder\\images\\peaks\\01\\empty_peak_01_00013.h5 conforms to expected attributes.\n",
      "c:\\Users\\eseveret\\Desktop\\cxls_hitfinder\\images\\peaks\\01\\empty_peak_01_00013.h5:\n",
      "Expected Peak: False, Actual Peak: False\n",
      "c:\\Users\\eseveret\\Desktop\\cxls_hitfinder\\images\\peaks\\01\\empty_peak_01_00014.h5 conforms to expected attributes.\n",
      "c:\\Users\\eseveret\\Desktop\\cxls_hitfinder\\images\\peaks\\01\\empty_peak_01_00014.h5:\n",
      "Expected Peak: False, Actual Peak: False\n",
      "c:\\Users\\eseveret\\Desktop\\cxls_hitfinder\\images\\peaks\\01\\empty_peak_01_00015.h5 conforms to expected attributes.\n",
      "c:\\Users\\eseveret\\Desktop\\cxls_hitfinder\\images\\peaks\\01\\empty_peak_01_00015.h5:\n",
      "Expected Peak: False, Actual Peak: False\n",
      "c:\\Users\\eseveret\\Desktop\\cxls_hitfinder\\images\\peaks\\01\\empty_peak_01_00016.h5 conforms to expected attributes.\n",
      "c:\\Users\\eseveret\\Desktop\\cxls_hitfinder\\images\\peaks\\01\\empty_peak_01_00016.h5:\n",
      "Expected Peak: False, Actual Peak: False\n",
      "c:\\Users\\eseveret\\Desktop\\cxls_hitfinder\\images\\peaks\\01\\empty_peak_01_00017.h5 conforms to expected attributes.\n",
      "c:\\Users\\eseveret\\Desktop\\cxls_hitfinder\\images\\peaks\\01\\empty_peak_01_00017.h5:\n",
      "Expected Peak: False, Actual Peak: False\n",
      "c:\\Users\\eseveret\\Desktop\\cxls_hitfinder\\images\\peaks\\01\\empty_peak_01_00018.h5 conforms to expected attributes.\n",
      "c:\\Users\\eseveret\\Desktop\\cxls_hitfinder\\images\\peaks\\01\\empty_peak_01_00018.h5:\n",
      "Expected Peak: False, Actual Peak: False\n",
      "c:\\Users\\eseveret\\Desktop\\cxls_hitfinder\\images\\peaks\\01\\empty_peak_01_00019.h5 conforms to expected attributes.\n",
      "c:\\Users\\eseveret\\Desktop\\cxls_hitfinder\\images\\peaks\\01\\empty_peak_01_00019.h5:\n",
      "Expected Peak: False, Actual Peak: False\n",
      "c:\\Users\\eseveret\\Desktop\\cxls_hitfinder\\images\\peaks\\01\\img_6keV_clen01_00137.h5 conforms to expected attributes.\n",
      "c:\\Users\\eseveret\\Desktop\\cxls_hitfinder\\images\\peaks\\01\\img_6keV_clen01_00137.h5:\n",
      "Expected Peak: True, Actual Peak: True\n",
      "c:\\Users\\eseveret\\Desktop\\cxls_hitfinder\\images\\peaks\\01\\img_6keV_clen01_00138.h5 conforms to expected attributes.\n",
      "c:\\Users\\eseveret\\Desktop\\cxls_hitfinder\\images\\peaks\\01\\img_6keV_clen01_00138.h5:\n",
      "Expected Peak: True, Actual Peak: True\n",
      "c:\\Users\\eseveret\\Desktop\\cxls_hitfinder\\images\\peaks\\01\\img_6keV_clen01_00139.h5 conforms to expected attributes.\n",
      "c:\\Users\\eseveret\\Desktop\\cxls_hitfinder\\images\\peaks\\01\\img_6keV_clen01_00139.h5:\n",
      "Expected Peak: True, Actual Peak: True\n",
      "c:\\Users\\eseveret\\Desktop\\cxls_hitfinder\\images\\peaks\\01\\img_6keV_clen01_00140.h5 conforms to expected attributes.\n",
      "c:\\Users\\eseveret\\Desktop\\cxls_hitfinder\\images\\peaks\\01\\img_6keV_clen01_00140.h5:\n",
      "Expected Peak: True, Actual Peak: True\n",
      "c:\\Users\\eseveret\\Desktop\\cxls_hitfinder\\images\\peaks\\01\\img_6keV_clen01_00141.h5 conforms to expected attributes.\n",
      "c:\\Users\\eseveret\\Desktop\\cxls_hitfinder\\images\\peaks\\01\\img_6keV_clen01_00141.h5:\n",
      "Expected Peak: True, Actual Peak: True\n",
      "c:\\Users\\eseveret\\Desktop\\cxls_hitfinder\\images\\peaks\\01\\img_6keV_clen01_00142.h5 conforms to expected attributes.\n",
      "c:\\Users\\eseveret\\Desktop\\cxls_hitfinder\\images\\peaks\\01\\img_6keV_clen01_00142.h5:\n",
      "Expected Peak: True, Actual Peak: True\n",
      "c:\\Users\\eseveret\\Desktop\\cxls_hitfinder\\images\\peaks\\01\\img_6keV_clen01_00143.h5 conforms to expected attributes.\n",
      "c:\\Users\\eseveret\\Desktop\\cxls_hitfinder\\images\\peaks\\01\\img_6keV_clen01_00143.h5:\n",
      "Expected Peak: True, Actual Peak: True\n",
      "c:\\Users\\eseveret\\Desktop\\cxls_hitfinder\\images\\peaks\\01\\img_6keV_clen01_00144.h5 conforms to expected attributes.\n",
      "c:\\Users\\eseveret\\Desktop\\cxls_hitfinder\\images\\peaks\\01\\img_6keV_clen01_00144.h5:\n",
      "Expected Peak: True, Actual Peak: True\n",
      "c:\\Users\\eseveret\\Desktop\\cxls_hitfinder\\images\\peaks\\01\\img_6keV_clen01_00145.h5 conforms to expected attributes.\n",
      "c:\\Users\\eseveret\\Desktop\\cxls_hitfinder\\images\\peaks\\01\\img_6keV_clen01_00145.h5:\n",
      "Expected Peak: True, Actual Peak: True\n",
      "c:\\Users\\eseveret\\Desktop\\cxls_hitfinder\\images\\peaks\\01\\img_6keV_clen01_00146.h5 conforms to expected attributes.\n",
      "c:\\Users\\eseveret\\Desktop\\cxls_hitfinder\\images\\peaks\\01\\img_6keV_clen01_00146.h5:\n",
      "Expected Peak: True, Actual Peak: True\n",
      "c:\\Users\\eseveret\\Desktop\\cxls_hitfinder\\images\\peaks\\01\\img_6keV_clen01_00147.h5 conforms to expected attributes.\n",
      "c:\\Users\\eseveret\\Desktop\\cxls_hitfinder\\images\\peaks\\01\\img_6keV_clen01_00147.h5:\n",
      "Expected Peak: True, Actual Peak: True\n",
      "c:\\Users\\eseveret\\Desktop\\cxls_hitfinder\\images\\peaks\\01\\img_6keV_clen01_00148.h5 conforms to expected attributes.\n",
      "c:\\Users\\eseveret\\Desktop\\cxls_hitfinder\\images\\peaks\\01\\img_6keV_clen01_00148.h5:\n",
      "Expected Peak: True, Actual Peak: True\n",
      "c:\\Users\\eseveret\\Desktop\\cxls_hitfinder\\images\\peaks\\01\\img_6keV_clen01_00149.h5 conforms to expected attributes.\n",
      "c:\\Users\\eseveret\\Desktop\\cxls_hitfinder\\images\\peaks\\01\\img_6keV_clen01_00149.h5:\n",
      "Expected Peak: True, Actual Peak: True\n",
      "c:\\Users\\eseveret\\Desktop\\cxls_hitfinder\\images\\peaks\\01\\img_6keV_clen01_00150.h5 conforms to expected attributes.\n",
      "c:\\Users\\eseveret\\Desktop\\cxls_hitfinder\\images\\peaks\\01\\img_6keV_clen01_00150.h5:\n",
      "Expected Peak: True, Actual Peak: True\n",
      "c:\\Users\\eseveret\\Desktop\\cxls_hitfinder\\images\\peaks\\01\\img_6keV_clen01_00151.h5 conforms to expected attributes.\n",
      "c:\\Users\\eseveret\\Desktop\\cxls_hitfinder\\images\\peaks\\01\\img_6keV_clen01_00151.h5:\n",
      "Expected Peak: True, Actual Peak: True\n",
      "c:\\Users\\eseveret\\Desktop\\cxls_hitfinder\\images\\peaks\\01\\img_6keV_clen01_00152.h5 conforms to expected attributes.\n",
      "c:\\Users\\eseveret\\Desktop\\cxls_hitfinder\\images\\peaks\\01\\img_6keV_clen01_00152.h5:\n",
      "Expected Peak: True, Actual Peak: True\n",
      "c:\\Users\\eseveret\\Desktop\\cxls_hitfinder\\images\\peaks\\01\\img_6keV_clen01_00153.h5 conforms to expected attributes.\n",
      "c:\\Users\\eseveret\\Desktop\\cxls_hitfinder\\images\\peaks\\01\\img_6keV_clen01_00153.h5:\n",
      "Expected Peak: True, Actual Peak: True\n",
      "c:\\Users\\eseveret\\Desktop\\cxls_hitfinder\\images\\peaks\\01\\img_6keV_clen01_00154.h5 conforms to expected attributes.\n",
      "c:\\Users\\eseveret\\Desktop\\cxls_hitfinder\\images\\peaks\\01\\img_6keV_clen01_00154.h5:\n",
      "Expected Peak: True, Actual Peak: True\n",
      "c:\\Users\\eseveret\\Desktop\\cxls_hitfinder\\images\\peaks\\01\\img_6keV_clen01_00155.h5 conforms to expected attributes.\n",
      "c:\\Users\\eseveret\\Desktop\\cxls_hitfinder\\images\\peaks\\01\\img_6keV_clen01_00155.h5:\n",
      "Expected Peak: True, Actual Peak: True\n",
      "c:\\Users\\eseveret\\Desktop\\cxls_hitfinder\\images\\peaks\\01\\img_6keV_clen01_00156.h5 conforms to expected attributes.\n",
      "c:\\Users\\eseveret\\Desktop\\cxls_hitfinder\\images\\peaks\\01\\img_6keV_clen01_00156.h5:\n",
      "Expected Peak: True, Actual Peak: True\n",
      "c:\\Users\\eseveret\\Desktop\\cxls_hitfinder\\images\\peaks\\01\\img_6keV_clen01_00157.h5 conforms to expected attributes.\n",
      "c:\\Users\\eseveret\\Desktop\\cxls_hitfinder\\images\\peaks\\01\\img_6keV_clen01_00157.h5:\n",
      "Expected Peak: True, Actual Peak: True\n",
      "c:\\Users\\eseveret\\Desktop\\cxls_hitfinder\\images\\peaks\\01\\img_6keV_clen01_00158.h5 conforms to expected attributes.\n",
      "c:\\Users\\eseveret\\Desktop\\cxls_hitfinder\\images\\peaks\\01\\img_6keV_clen01_00158.h5:\n",
      "Expected Peak: True, Actual Peak: True\n",
      "c:\\Users\\eseveret\\Desktop\\cxls_hitfinder\\images\\peaks\\01\\img_6keV_clen01_00159.h5 conforms to expected attributes.\n",
      "c:\\Users\\eseveret\\Desktop\\cxls_hitfinder\\images\\peaks\\01\\img_6keV_clen01_00159.h5:\n",
      "Expected Peak: True, Actual Peak: True\n",
      "c:\\Users\\eseveret\\Desktop\\cxls_hitfinder\\images\\peaks\\01\\img_6keV_clen01_00160.h5 conforms to expected attributes.\n",
      "c:\\Users\\eseveret\\Desktop\\cxls_hitfinder\\images\\peaks\\01\\img_6keV_clen01_00160.h5:\n",
      "Expected Peak: True, Actual Peak: True\n",
      "c:\\Users\\eseveret\\Desktop\\cxls_hitfinder\\images\\peaks\\01\\img_6keV_clen01_00161.h5 conforms to expected attributes.\n",
      "c:\\Users\\eseveret\\Desktop\\cxls_hitfinder\\images\\peaks\\01\\img_6keV_clen01_00161.h5:\n",
      "Expected Peak: True, Actual Peak: True\n",
      "c:\\Users\\eseveret\\Desktop\\cxls_hitfinder\\images\\peaks\\01\\img_6keV_clen01_00162.h5 conforms to expected attributes.\n",
      "c:\\Users\\eseveret\\Desktop\\cxls_hitfinder\\images\\peaks\\01\\img_6keV_clen01_00162.h5:\n",
      "Expected Peak: True, Actual Peak: True\n",
      "c:\\Users\\eseveret\\Desktop\\cxls_hitfinder\\images\\peaks\\01\\img_6keV_clen01_00163.h5 conforms to expected attributes.\n",
      "c:\\Users\\eseveret\\Desktop\\cxls_hitfinder\\images\\peaks\\01\\img_6keV_clen01_00163.h5:\n",
      "Expected Peak: True, Actual Peak: True\n",
      "c:\\Users\\eseveret\\Desktop\\cxls_hitfinder\\images\\peaks\\01\\img_6keV_clen01_00164.h5 conforms to expected attributes.\n",
      "c:\\Users\\eseveret\\Desktop\\cxls_hitfinder\\images\\peaks\\01\\img_6keV_clen01_00164.h5:\n",
      "Expected Peak: True, Actual Peak: True\n",
      "c:\\Users\\eseveret\\Desktop\\cxls_hitfinder\\images\\peaks\\01\\img_6keV_clen01_00165.h5 conforms to expected attributes.\n",
      "c:\\Users\\eseveret\\Desktop\\cxls_hitfinder\\images\\peaks\\01\\img_6keV_clen01_00165.h5:\n",
      "Expected Peak: True, Actual Peak: True\n",
      "c:\\Users\\eseveret\\Desktop\\cxls_hitfinder\\images\\peaks\\01\\img_6keV_clen01_00166.h5 conforms to expected attributes.\n",
      "c:\\Users\\eseveret\\Desktop\\cxls_hitfinder\\images\\peaks\\01\\img_6keV_clen01_00166.h5:\n",
      "Expected Peak: True, Actual Peak: True\n",
      "c:\\Users\\eseveret\\Desktop\\cxls_hitfinder\\images\\peaks\\01\\img_6keV_clen01_00167.h5 conforms to expected attributes.\n",
      "c:\\Users\\eseveret\\Desktop\\cxls_hitfinder\\images\\peaks\\01\\img_6keV_clen01_00167.h5:\n",
      "Expected Peak: True, Actual Peak: True\n",
      "c:\\Users\\eseveret\\Desktop\\cxls_hitfinder\\images\\peaks\\01\\img_6keV_clen01_00168.h5 conforms to expected attributes.\n",
      "c:\\Users\\eseveret\\Desktop\\cxls_hitfinder\\images\\peaks\\01\\img_6keV_clen01_00168.h5:\n",
      "Expected Peak: True, Actual Peak: True\n",
      "c:\\Users\\eseveret\\Desktop\\cxls_hitfinder\\images\\peaks\\01\\img_6keV_clen01_00169.h5 conforms to expected attributes.\n",
      "c:\\Users\\eseveret\\Desktop\\cxls_hitfinder\\images\\peaks\\01\\img_6keV_clen01_00169.h5:\n",
      "Expected Peak: True, Actual Peak: True\n",
      "c:\\Users\\eseveret\\Desktop\\cxls_hitfinder\\images\\peaks\\01\\img_6keV_clen01_00170.h5 conforms to expected attributes.\n",
      "c:\\Users\\eseveret\\Desktop\\cxls_hitfinder\\images\\peaks\\01\\img_6keV_clen01_00170.h5:\n",
      "Expected Peak: True, Actual Peak: True\n",
      "c:\\Users\\eseveret\\Desktop\\cxls_hitfinder\\images\\peaks\\01\\img_6keV_clen01_00171.h5 conforms to expected attributes.\n",
      "c:\\Users\\eseveret\\Desktop\\cxls_hitfinder\\images\\peaks\\01\\img_6keV_clen01_00171.h5:\n",
      "Expected Peak: True, Actual Peak: True\n",
      "c:\\Users\\eseveret\\Desktop\\cxls_hitfinder\\images\\peaks\\01\\img_6keV_clen01_00172.h5 conforms to expected attributes.\n",
      "c:\\Users\\eseveret\\Desktop\\cxls_hitfinder\\images\\peaks\\01\\img_6keV_clen01_00172.h5:\n",
      "Expected Peak: True, Actual Peak: True\n",
      "c:\\Users\\eseveret\\Desktop\\cxls_hitfinder\\images\\peaks\\01\\img_6keV_clen01_00173.h5 conforms to expected attributes.\n",
      "c:\\Users\\eseveret\\Desktop\\cxls_hitfinder\\images\\peaks\\01\\img_6keV_clen01_00173.h5:\n",
      "Expected Peak: True, Actual Peak: True\n",
      "c:\\Users\\eseveret\\Desktop\\cxls_hitfinder\\images\\peaks\\01\\img_6keV_clen01_00174.h5 conforms to expected attributes.\n",
      "c:\\Users\\eseveret\\Desktop\\cxls_hitfinder\\images\\peaks\\01\\img_6keV_clen01_00174.h5:\n",
      "Expected Peak: True, Actual Peak: True\n",
      "c:\\Users\\eseveret\\Desktop\\cxls_hitfinder\\images\\peaks\\01\\img_6keV_clen01_00175.h5 conforms to expected attributes.\n",
      "c:\\Users\\eseveret\\Desktop\\cxls_hitfinder\\images\\peaks\\01\\img_6keV_clen01_00175.h5:\n",
      "Expected Peak: True, Actual Peak: True\n",
      "c:\\Users\\eseveret\\Desktop\\cxls_hitfinder\\images\\peaks\\04\\empty_peak_04_00001.h5 conforms to expected attributes.\n",
      "c:\\Users\\eseveret\\Desktop\\cxls_hitfinder\\images\\peaks\\04\\empty_peak_04_00001.h5:\n",
      "Expected Peak: False, Actual Peak: False\n",
      "c:\\Users\\eseveret\\Desktop\\cxls_hitfinder\\images\\peaks\\04\\empty_peak_04_00002.h5 conforms to expected attributes.\n",
      "c:\\Users\\eseveret\\Desktop\\cxls_hitfinder\\images\\peaks\\04\\empty_peak_04_00002.h5:\n",
      "Expected Peak: False, Actual Peak: False\n",
      "c:\\Users\\eseveret\\Desktop\\cxls_hitfinder\\images\\peaks\\04\\empty_peak_04_00003.h5 conforms to expected attributes.\n",
      "c:\\Users\\eseveret\\Desktop\\cxls_hitfinder\\images\\peaks\\04\\empty_peak_04_00003.h5:\n",
      "Expected Peak: False, Actual Peak: False\n",
      "c:\\Users\\eseveret\\Desktop\\cxls_hitfinder\\images\\peaks\\04\\empty_peak_04_00004.h5 conforms to expected attributes.\n",
      "c:\\Users\\eseveret\\Desktop\\cxls_hitfinder\\images\\peaks\\04\\empty_peak_04_00004.h5:\n",
      "Expected Peak: False, Actual Peak: False\n",
      "c:\\Users\\eseveret\\Desktop\\cxls_hitfinder\\images\\peaks\\04\\empty_peak_04_00005.h5 conforms to expected attributes.\n",
      "c:\\Users\\eseveret\\Desktop\\cxls_hitfinder\\images\\peaks\\04\\empty_peak_04_00005.h5:\n",
      "Expected Peak: False, Actual Peak: False\n",
      "c:\\Users\\eseveret\\Desktop\\cxls_hitfinder\\images\\peaks\\04\\empty_peak_04_00006.h5 conforms to expected attributes.\n",
      "c:\\Users\\eseveret\\Desktop\\cxls_hitfinder\\images\\peaks\\04\\empty_peak_04_00006.h5:\n",
      "Expected Peak: False, Actual Peak: False\n",
      "c:\\Users\\eseveret\\Desktop\\cxls_hitfinder\\images\\peaks\\04\\empty_peak_04_00007.h5 conforms to expected attributes.\n",
      "c:\\Users\\eseveret\\Desktop\\cxls_hitfinder\\images\\peaks\\04\\empty_peak_04_00007.h5:\n",
      "Expected Peak: False, Actual Peak: False\n",
      "c:\\Users\\eseveret\\Desktop\\cxls_hitfinder\\images\\peaks\\04\\img_6keV_clen02_00176.h5 conforms to expected attributes.\n",
      "c:\\Users\\eseveret\\Desktop\\cxls_hitfinder\\images\\peaks\\04\\img_6keV_clen02_00176.h5:\n",
      "Expected Peak: True, Actual Peak: True\n",
      "c:\\Users\\eseveret\\Desktop\\cxls_hitfinder\\images\\peaks\\04\\img_6keV_clen02_00177.h5 conforms to expected attributes.\n",
      "c:\\Users\\eseveret\\Desktop\\cxls_hitfinder\\images\\peaks\\04\\img_6keV_clen02_00177.h5:\n",
      "Expected Peak: True, Actual Peak: True\n",
      "c:\\Users\\eseveret\\Desktop\\cxls_hitfinder\\images\\peaks\\04\\img_6keV_clen02_00178.h5 conforms to expected attributes.\n",
      "c:\\Users\\eseveret\\Desktop\\cxls_hitfinder\\images\\peaks\\04\\img_6keV_clen02_00178.h5:\n",
      "Expected Peak: True, Actual Peak: True\n",
      "c:\\Users\\eseveret\\Desktop\\cxls_hitfinder\\images\\peaks\\04\\img_6keV_clen02_00179.h5 conforms to expected attributes.\n",
      "c:\\Users\\eseveret\\Desktop\\cxls_hitfinder\\images\\peaks\\04\\img_6keV_clen02_00179.h5:\n",
      "Expected Peak: True, Actual Peak: True\n",
      "c:\\Users\\eseveret\\Desktop\\cxls_hitfinder\\images\\peaks\\04\\img_6keV_clen02_00180.h5 conforms to expected attributes.\n",
      "c:\\Users\\eseveret\\Desktop\\cxls_hitfinder\\images\\peaks\\04\\img_6keV_clen02_00180.h5:\n",
      "Expected Peak: True, Actual Peak: True\n",
      "c:\\Users\\eseveret\\Desktop\\cxls_hitfinder\\images\\peaks\\04\\img_6keV_clen02_00181.h5 conforms to expected attributes.\n",
      "c:\\Users\\eseveret\\Desktop\\cxls_hitfinder\\images\\peaks\\04\\img_6keV_clen02_00181.h5:\n",
      "Expected Peak: True, Actual Peak: True\n",
      "c:\\Users\\eseveret\\Desktop\\cxls_hitfinder\\images\\peaks\\04\\img_6keV_clen02_00182.h5 conforms to expected attributes.\n",
      "c:\\Users\\eseveret\\Desktop\\cxls_hitfinder\\images\\peaks\\04\\img_6keV_clen02_00182.h5:\n",
      "Expected Peak: True, Actual Peak: True\n",
      "c:\\Users\\eseveret\\Desktop\\cxls_hitfinder\\images\\peaks\\04\\img_6keV_clen02_00183.h5 conforms to expected attributes.\n",
      "c:\\Users\\eseveret\\Desktop\\cxls_hitfinder\\images\\peaks\\04\\img_6keV_clen02_00183.h5:\n",
      "Expected Peak: True, Actual Peak: True\n",
      "c:\\Users\\eseveret\\Desktop\\cxls_hitfinder\\images\\peaks\\04\\img_6keV_clen02_00184.h5 conforms to expected attributes.\n",
      "c:\\Users\\eseveret\\Desktop\\cxls_hitfinder\\images\\peaks\\04\\img_6keV_clen02_00184.h5:\n",
      "Expected Peak: True, Actual Peak: True\n",
      "c:\\Users\\eseveret\\Desktop\\cxls_hitfinder\\images\\peaks\\04\\img_6keV_clen02_00185.h5 conforms to expected attributes.\n",
      "c:\\Users\\eseveret\\Desktop\\cxls_hitfinder\\images\\peaks\\04\\img_6keV_clen02_00185.h5:\n",
      "Expected Peak: True, Actual Peak: True\n",
      "c:\\Users\\eseveret\\Desktop\\cxls_hitfinder\\images\\peaks\\04\\img_6keV_clen02_00186.h5 conforms to expected attributes.\n",
      "c:\\Users\\eseveret\\Desktop\\cxls_hitfinder\\images\\peaks\\04\\img_6keV_clen02_00186.h5:\n",
      "Expected Peak: True, Actual Peak: True\n",
      "c:\\Users\\eseveret\\Desktop\\cxls_hitfinder\\images\\peaks\\04\\img_6keV_clen02_00187.h5 conforms to expected attributes.\n",
      "c:\\Users\\eseveret\\Desktop\\cxls_hitfinder\\images\\peaks\\04\\img_6keV_clen02_00187.h5:\n",
      "Expected Peak: True, Actual Peak: True\n",
      "c:\\Users\\eseveret\\Desktop\\cxls_hitfinder\\images\\peaks\\04\\img_6keV_clen02_00188.h5 conforms to expected attributes.\n",
      "c:\\Users\\eseveret\\Desktop\\cxls_hitfinder\\images\\peaks\\04\\img_6keV_clen02_00188.h5:\n",
      "Expected Peak: True, Actual Peak: True\n",
      "c:\\Users\\eseveret\\Desktop\\cxls_hitfinder\\images\\peaks\\04\\img_6keV_clen02_00189.h5 conforms to expected attributes.\n",
      "c:\\Users\\eseveret\\Desktop\\cxls_hitfinder\\images\\peaks\\04\\img_6keV_clen02_00189.h5:\n",
      "Expected Peak: True, Actual Peak: True\n",
      "{'01': {'clen': 0.15, 'photon_energy': 6000}, '04': {'clen': 0.25, 'photon_energy': 6000}}\n"
     ]
    },
    {
     "data": {
      "text/plain": [
       "{'clen': 0.15, 'peak': False, 'photon_energy': 6000}"
      ]
     },
     "execution_count": 3,
     "metadata": {},
     "output_type": "execute_result"
    }
   ],
   "source": [
    "f.check_attributes(paths=myPaths, datasets=f.convert2str(datasets), dir_type='peak')\n",
    "print(myProcessor.get_parameters())\n",
    "\n",
    "f.retrieve_attributes(file_path=myPaths.total_paths.water_background[0])"
   ]
  },
  {
   "cell_type": "code",
   "execution_count": null,
   "metadata": {},
   "outputs": [
    {
     "name": "stdout",
     "output_type": "stream",
     "text": [
      "Paths refreshed for dataset ['01', '04'].\n",
      "Directory: peaks/01\n",
      "\tTotal files: 58\n",
      "\tNormal images: 39\n",
      "\tEmpty images: 19\n",
      "Directory: labels/01\n",
      "\tTotal files: 97\n",
      "\tNormal images: 78\n",
      "\tEmpty images: 19\n",
      "Directory: peaks_water_overlay/01\n",
      "\tTotal files: 97\n",
      "\tNormal images: 78\n",
      "\tEmpty images: 19\n",
      "Directory: peaks/04\n",
      "\tTotal files: 21\n",
      "\tNormal images: 14\n",
      "\tEmpty images: 7\n",
      "Directory: labels/04\n",
      "\tTotal files: 35\n",
      "\tNormal images: 28\n",
      "\tEmpty images: 7\n",
      "Directory: peaks_water_overlay/04\n",
      "\tTotal files: 35\n",
      "\tNormal images: 28\n",
      "\tEmpty images: 7\n"
     ]
    }
   ],
   "source": [
    "f.get_counts(paths=myPaths, datasets=datasets)\n",
    "# %run process_directory.py ../../images  --percent_empty 0.5 "
   ]
  },
  {
   "cell_type": "code",
<<<<<<< HEAD
   "execution_count": null,
=======
   "execution_count": 5,
>>>>>>> progress-Everett
   "metadata": {},
   "outputs": [
    {
     "name": "stdout",
     "output_type": "stream",
     "text": [
      "Actual percentage of empty images: 22.740524781341108% across peaks, water_overlays, and labels directories.\n",
      "\n",
      "Final dataset sizes - Peaks: 79, Labels: 132, Overlays: 132\n",
      "\n",
      "Data prepared.\n",
      "Train size: 105\n",
      "Test size: 27\n",
      "Batch size: 10\n",
      "Number of batches in train_loader: 11 \n",
      "\n"
     ]
    }
   ],
   "source": [
    "myDataManager = data.DatasetManager(paths=myPaths, datasets=datasets, transform=None)\n",
    "\n",
    "\n",
    "train_loader, test_loader = f.prepare(data_manager=myDataManager, batch_size=10)"
   ]
  },
  {
   "cell_type": "code",
<<<<<<< HEAD
   "execution_count": null,
   "metadata": {},
   "outputs": [],
   "source": [
    "device = torch.device(\"cuda\" if torch.cuda.is_available() else \"cpu\")\n",
    "optimizer = optim.Adam\n",
    "\n",
    "cfg = {\n",
    "    \"loader\": [train_loader, test_loader],\n",
    "    'num_epochs': 10,\n",
    "    'batch_size': train_loader.batch_size,\n",
    "    'optimizer': optimizer,\n",
    "    'device': device,\n",
    "    }\n",
    "\n",
    "peak_config = eval.Peak_Detection_Configuration()\n",
    "photon_config = eval.Photon_Energy_Configuration()\n",
    "clen_config = eval.Camera_Length_Configureation()"
   ]
  },
  {
   "cell_type": "code",
   "execution_count": null,
=======
   "execution_count": 6,
>>>>>>> progress-Everett
   "metadata": {},
   "outputs": [
    {
     "name": "stdout",
     "output_type": "stream",
     "text": [
      "cuda\n",
      "Paths refreshed for dataset ['01', '04'].\n",
      "tensor([0.2453])\n",
      "Paths refreshed for dataset ['01', '04'].\n",
      "tensor([1.0000, 2.7714, 1.0000])\n",
      "Paths refreshed for dataset ['01', '04'].\n",
      "tensor([1.0000, 2.7714, 1.0000])\n"
     ]
    }
   ],
   "source": [
    "device = torch.device(\"cuda\" if torch.cuda.is_available() else \"cpu\")\n",
    "print(device)\n",
    "optimizer = optim.Adam\n",
    "scheduler = scheduler = ReduceLROnPlateau\n",
    "\n",
    "cfg = {\n",
    "    \"loader\": [train_loader, test_loader],\n",
    "    'num_epochs': 15,\n",
    "    'batch_size': train_loader.batch_size,\n",
    "    'optimizer': optimizer,\n",
    "    'device': device,\n",
    "    'scheduler': scheduler\n",
    "    }\n",
    "\n",
    "\n",
    "peak_config = eval.Peak_Detection_Configuration(myPaths, datasets, device, save_path='../models/peak_model.pt')\n",
    "print(peak_config.get_loss_weights())\n",
    "photon_config = eval.Photon_Energy_Configuration(myPaths, datasets, device, save_path='../models/photon_model.pt')\n",
    "print(photon_config.get_loss_weights())\n",
    "clen_config = eval.Camera_Length_Configureation(myPaths, datasets, device, save_path='../models/clen_model.pt')\n",
    "print(clen_config.get_loss_weights())"
   ]
  },
  {
   "cell_type": "code",
   "execution_count": 7,
   "metadata": {},
   "outputs": [
    {
     "name": "stdout",
     "output_type": "stream",
     "text": [
      "Model testing and validating: Multi_Class_CNN1\n",
      "Looking for the feature: peak\n",
      "-- epoch 0\n",
      "Train loss: 0.34598406099460344\n",
      "Train accuracy: 0.7904762029647827\n",
      "Test loss: 0.05287243388593197\n",
      "Test accuracy: 0.8518518805503845\n",
      "-- learning rate : [1e-05]\n",
      "-- epoch 1\n",
      "Train loss: 0.24072638560425152\n",
      "Train accuracy: 0.7714285850524902\n",
      "Test loss: 0.05193831995129585\n",
      "Test accuracy: 0.8518518805503845\n",
      "-- learning rate : [1e-05]\n",
      "-- epoch 2\n",
      "Train loss: 0.21645469692620364\n",
      "Train accuracy: 0.7904762029647827\n",
      "Test loss: 0.05306368470191956\n",
      "Test accuracy: 0.8518518805503845\n",
      "-- learning rate : [1.0000000000000002e-06]\n",
      "-- epoch 3\n",
      "Train loss: 0.20737166431817142\n",
      "Train accuracy: 0.7904762029647827\n"
     ]
    },
    {
     "ename": "KeyboardInterrupt",
     "evalue": "",
     "output_type": "error",
     "traceback": [
      "\u001b[1;31m---------------------------------------------------------------------------\u001b[0m",
      "\u001b[1;31mKeyboardInterrupt\u001b[0m                         Traceback (most recent call last)",
      "Cell \u001b[1;32mIn[7], line 2\u001b[0m\n\u001b[0;32m      1\u001b[0m a \u001b[38;5;241m=\u001b[39m train_eval\u001b[38;5;241m.\u001b[39mTrainTestModels(cfg, peak_config)\n\u001b[1;32m----> 2\u001b[0m a\u001b[38;5;241m.\u001b[39mepoch_loop()\n\u001b[0;32m      3\u001b[0m a\u001b[38;5;241m.\u001b[39mplot_loss_accuracy()\n\u001b[0;32m      4\u001b[0m a\u001b[38;5;241m.\u001b[39mplot_confusion_matrix()\n",
      "File \u001b[1;32mc:\\Users\\eseveret\\Desktop\\cxls_hitfinder\\cnn\\src\\pkg\\train_eval.py:228\u001b[0m, in \u001b[0;36mTrainTestModels.epoch_loop\u001b[1;34m(self)\u001b[0m\n\u001b[0;32m    225\u001b[0m \u001b[38;5;28mprint\u001b[39m(\u001b[38;5;124m'\u001b[39m\u001b[38;5;124m-- epoch \u001b[39m\u001b[38;5;124m'\u001b[39m\u001b[38;5;241m+\u001b[39m\u001b[38;5;28mstr\u001b[39m(epoch)) \n\u001b[0;32m    227\u001b[0m \u001b[38;5;28mself\u001b[39m\u001b[38;5;241m.\u001b[39mtrain(epoch)\n\u001b[1;32m--> 228\u001b[0m \u001b[38;5;28mself\u001b[39m\u001b[38;5;241m.\u001b[39mtest(epoch)\n\u001b[0;32m    230\u001b[0m \u001b[38;5;28mprint\u001b[39m(\u001b[38;5;124mf\u001b[39m\u001b[38;5;124m\"\u001b[39m\u001b[38;5;124m-- learning rate : \u001b[39m\u001b[38;5;132;01m{\u001b[39;00m\u001b[38;5;28mself\u001b[39m\u001b[38;5;241m.\u001b[39mscheduler\u001b[38;5;241m.\u001b[39mget_last_lr()\u001b[38;5;132;01m}\u001b[39;00m\u001b[38;5;124m\"\u001b[39m)\n",
      "File \u001b[1;32mc:\\Users\\eseveret\\Desktop\\cxls_hitfinder\\cnn\\src\\pkg\\train_eval.py:117\u001b[0m, in \u001b[0;36mTrainTestModels.test\u001b[1;34m(self, epoch)\u001b[0m\n\u001b[0;32m    115\u001b[0m \u001b[38;5;28mself\u001b[39m\u001b[38;5;241m.\u001b[39mmodel\u001b[38;5;241m.\u001b[39meval()\n\u001b[0;32m    116\u001b[0m \u001b[38;5;28;01mwith\u001b[39;00m torch\u001b[38;5;241m.\u001b[39mno_grad():\n\u001b[1;32m--> 117\u001b[0m     \u001b[38;5;28;01mfor\u001b[39;00m inputs, labels, attributes \u001b[38;5;129;01min\u001b[39;00m \u001b[38;5;28mself\u001b[39m\u001b[38;5;241m.\u001b[39mtest_loader:\n\u001b[0;32m    118\u001b[0m         inputs, labels \u001b[38;5;241m=\u001b[39m inputs\u001b[38;5;241m.\u001b[39mto(\u001b[38;5;28mself\u001b[39m\u001b[38;5;241m.\u001b[39mdevice), labels\u001b[38;5;241m.\u001b[39mto(\u001b[38;5;28mself\u001b[39m\u001b[38;5;241m.\u001b[39mdevice)\n\u001b[0;32m    120\u001b[0m         \u001b[38;5;28;01mwith\u001b[39;00m autocast():\n",
      "File \u001b[1;32mc:\\Users\\eseveret\\AppData\\Local\\anaconda3\\envs\\hitfinder_env\\Lib\\site-packages\\torch\\utils\\data\\dataloader.py:631\u001b[0m, in \u001b[0;36m_BaseDataLoaderIter.__next__\u001b[1;34m(self)\u001b[0m\n\u001b[0;32m    628\u001b[0m \u001b[38;5;28;01mif\u001b[39;00m \u001b[38;5;28mself\u001b[39m\u001b[38;5;241m.\u001b[39m_sampler_iter \u001b[38;5;129;01mis\u001b[39;00m \u001b[38;5;28;01mNone\u001b[39;00m:\n\u001b[0;32m    629\u001b[0m     \u001b[38;5;66;03m# TODO(https://github.com/pytorch/pytorch/issues/76750)\u001b[39;00m\n\u001b[0;32m    630\u001b[0m     \u001b[38;5;28mself\u001b[39m\u001b[38;5;241m.\u001b[39m_reset()  \u001b[38;5;66;03m# type: ignore[call-arg]\u001b[39;00m\n\u001b[1;32m--> 631\u001b[0m data \u001b[38;5;241m=\u001b[39m \u001b[38;5;28mself\u001b[39m\u001b[38;5;241m.\u001b[39m_next_data()\n\u001b[0;32m    632\u001b[0m \u001b[38;5;28mself\u001b[39m\u001b[38;5;241m.\u001b[39m_num_yielded \u001b[38;5;241m+\u001b[39m\u001b[38;5;241m=\u001b[39m \u001b[38;5;241m1\u001b[39m\n\u001b[0;32m    633\u001b[0m \u001b[38;5;28;01mif\u001b[39;00m \u001b[38;5;28mself\u001b[39m\u001b[38;5;241m.\u001b[39m_dataset_kind \u001b[38;5;241m==\u001b[39m _DatasetKind\u001b[38;5;241m.\u001b[39mIterable \u001b[38;5;129;01mand\u001b[39;00m \\\n\u001b[0;32m    634\u001b[0m         \u001b[38;5;28mself\u001b[39m\u001b[38;5;241m.\u001b[39m_IterableDataset_len_called \u001b[38;5;129;01mis\u001b[39;00m \u001b[38;5;129;01mnot\u001b[39;00m \u001b[38;5;28;01mNone\u001b[39;00m \u001b[38;5;129;01mand\u001b[39;00m \\\n\u001b[0;32m    635\u001b[0m         \u001b[38;5;28mself\u001b[39m\u001b[38;5;241m.\u001b[39m_num_yielded \u001b[38;5;241m>\u001b[39m \u001b[38;5;28mself\u001b[39m\u001b[38;5;241m.\u001b[39m_IterableDataset_len_called:\n",
      "File \u001b[1;32mc:\\Users\\eseveret\\AppData\\Local\\anaconda3\\envs\\hitfinder_env\\Lib\\site-packages\\torch\\utils\\data\\dataloader.py:675\u001b[0m, in \u001b[0;36m_SingleProcessDataLoaderIter._next_data\u001b[1;34m(self)\u001b[0m\n\u001b[0;32m    673\u001b[0m \u001b[38;5;28;01mdef\u001b[39;00m \u001b[38;5;21m_next_data\u001b[39m(\u001b[38;5;28mself\u001b[39m):\n\u001b[0;32m    674\u001b[0m     index \u001b[38;5;241m=\u001b[39m \u001b[38;5;28mself\u001b[39m\u001b[38;5;241m.\u001b[39m_next_index()  \u001b[38;5;66;03m# may raise StopIteration\u001b[39;00m\n\u001b[1;32m--> 675\u001b[0m     data \u001b[38;5;241m=\u001b[39m \u001b[38;5;28mself\u001b[39m\u001b[38;5;241m.\u001b[39m_dataset_fetcher\u001b[38;5;241m.\u001b[39mfetch(index)  \u001b[38;5;66;03m# may raise StopIteration\u001b[39;00m\n\u001b[0;32m    676\u001b[0m     \u001b[38;5;28;01mif\u001b[39;00m \u001b[38;5;28mself\u001b[39m\u001b[38;5;241m.\u001b[39m_pin_memory:\n\u001b[0;32m    677\u001b[0m         data \u001b[38;5;241m=\u001b[39m _utils\u001b[38;5;241m.\u001b[39mpin_memory\u001b[38;5;241m.\u001b[39mpin_memory(data, \u001b[38;5;28mself\u001b[39m\u001b[38;5;241m.\u001b[39m_pin_memory_device)\n",
      "File \u001b[1;32mc:\\Users\\eseveret\\AppData\\Local\\anaconda3\\envs\\hitfinder_env\\Lib\\site-packages\\torch\\utils\\data\\_utils\\fetch.py:49\u001b[0m, in \u001b[0;36m_MapDatasetFetcher.fetch\u001b[1;34m(self, possibly_batched_index)\u001b[0m\n\u001b[0;32m     47\u001b[0m \u001b[38;5;28;01mif\u001b[39;00m \u001b[38;5;28mself\u001b[39m\u001b[38;5;241m.\u001b[39mauto_collation:\n\u001b[0;32m     48\u001b[0m     \u001b[38;5;28;01mif\u001b[39;00m \u001b[38;5;28mhasattr\u001b[39m(\u001b[38;5;28mself\u001b[39m\u001b[38;5;241m.\u001b[39mdataset, \u001b[38;5;124m\"\u001b[39m\u001b[38;5;124m__getitems__\u001b[39m\u001b[38;5;124m\"\u001b[39m) \u001b[38;5;129;01mand\u001b[39;00m \u001b[38;5;28mself\u001b[39m\u001b[38;5;241m.\u001b[39mdataset\u001b[38;5;241m.\u001b[39m__getitems__:\n\u001b[1;32m---> 49\u001b[0m         data \u001b[38;5;241m=\u001b[39m \u001b[38;5;28mself\u001b[39m\u001b[38;5;241m.\u001b[39mdataset\u001b[38;5;241m.\u001b[39m__getitems__(possibly_batched_index)\n\u001b[0;32m     50\u001b[0m     \u001b[38;5;28;01melse\u001b[39;00m:\n\u001b[0;32m     51\u001b[0m         data \u001b[38;5;241m=\u001b[39m [\u001b[38;5;28mself\u001b[39m\u001b[38;5;241m.\u001b[39mdataset[idx] \u001b[38;5;28;01mfor\u001b[39;00m idx \u001b[38;5;129;01min\u001b[39;00m possibly_batched_index]\n",
      "File \u001b[1;32mc:\\Users\\eseveret\\AppData\\Local\\anaconda3\\envs\\hitfinder_env\\Lib\\site-packages\\torch\\utils\\data\\dataset.py:399\u001b[0m, in \u001b[0;36mSubset.__getitems__\u001b[1;34m(self, indices)\u001b[0m\n\u001b[0;32m    397\u001b[0m     \u001b[38;5;28;01mreturn\u001b[39;00m \u001b[38;5;28mself\u001b[39m\u001b[38;5;241m.\u001b[39mdataset\u001b[38;5;241m.\u001b[39m__getitems__([\u001b[38;5;28mself\u001b[39m\u001b[38;5;241m.\u001b[39mindices[idx] \u001b[38;5;28;01mfor\u001b[39;00m idx \u001b[38;5;129;01min\u001b[39;00m indices])  \u001b[38;5;66;03m# type: ignore[attr-defined]\u001b[39;00m\n\u001b[0;32m    398\u001b[0m \u001b[38;5;28;01melse\u001b[39;00m:\n\u001b[1;32m--> 399\u001b[0m     \u001b[38;5;28;01mreturn\u001b[39;00m [\u001b[38;5;28mself\u001b[39m\u001b[38;5;241m.\u001b[39mdataset[\u001b[38;5;28mself\u001b[39m\u001b[38;5;241m.\u001b[39mindices[idx]] \u001b[38;5;28;01mfor\u001b[39;00m idx \u001b[38;5;129;01min\u001b[39;00m indices]\n",
      "File \u001b[1;32mc:\\Users\\eseveret\\Desktop\\cxls_hitfinder\\cnn\\src\\pkg\\data.py:35\u001b[0m, in \u001b[0;36mDatasetManager.__getitem__\u001b[1;34m(self, idx)\u001b[0m\n\u001b[0;32m     34\u001b[0m \u001b[38;5;28;01mdef\u001b[39;00m \u001b[38;5;21m__getitem__\u001b[39m(\u001b[38;5;28mself\u001b[39m, idx:\u001b[38;5;28mint\u001b[39m) \u001b[38;5;241m-\u001b[39m\u001b[38;5;241m>\u001b[39m \u001b[38;5;28mtuple\u001b[39m:\n\u001b[1;32m---> 35\u001b[0m     water_image \u001b[38;5;241m=\u001b[39m load_h5(\u001b[38;5;28mself\u001b[39m\u001b[38;5;241m.\u001b[39mwater_peak_paths[idx])\n\u001b[0;32m     36\u001b[0m     label_image \u001b[38;5;241m=\u001b[39m load_h5(\u001b[38;5;28mself\u001b[39m\u001b[38;5;241m.\u001b[39mlabel_paths[idx])\n\u001b[0;32m     37\u001b[0m     image_attributes \u001b[38;5;241m=\u001b[39m  retrieve_attributes(\u001b[38;5;28mself\u001b[39m\u001b[38;5;241m.\u001b[39mwater_peak_paths[idx]) \n",
      "File \u001b[1;32mc:\\Users\\eseveret\\Desktop\\cxls_hitfinder\\cnn\\src\\pkg\\functions.py:70\u001b[0m, in \u001b[0;36mload_h5\u001b[1;34m(file_path)\u001b[0m\n\u001b[0;32m     68\u001b[0m \u001b[38;5;28;01mdef\u001b[39;00m \u001b[38;5;21mload_h5\u001b[39m(file_path:\u001b[38;5;28mstr\u001b[39m) \u001b[38;5;241m-\u001b[39m\u001b[38;5;241m>\u001b[39m np\u001b[38;5;241m.\u001b[39mndarray:\n\u001b[0;32m     69\u001b[0m     \u001b[38;5;28;01mwith\u001b[39;00m h5\u001b[38;5;241m.\u001b[39mFile(file_path, \u001b[38;5;124m'\u001b[39m\u001b[38;5;124mr\u001b[39m\u001b[38;5;124m'\u001b[39m) \u001b[38;5;28;01mas\u001b[39;00m file:\n\u001b[1;32m---> 70\u001b[0m         \u001b[38;5;28;01mreturn\u001b[39;00m np\u001b[38;5;241m.\u001b[39marray(file[\u001b[38;5;124m'\u001b[39m\u001b[38;5;124mentry/data/data\u001b[39m\u001b[38;5;124m'\u001b[39m])\n",
      "File \u001b[1;32mh5py\\_objects.pyx:54\u001b[0m, in \u001b[0;36mh5py._objects.with_phil.wrapper\u001b[1;34m()\u001b[0m\n",
      "File \u001b[1;32mh5py\\_objects.pyx:55\u001b[0m, in \u001b[0;36mh5py._objects.with_phil.wrapper\u001b[1;34m()\u001b[0m\n",
      "File \u001b[1;32mc:\\Users\\eseveret\\AppData\\Local\\anaconda3\\envs\\hitfinder_env\\Lib\\site-packages\\h5py\\_hl\\dataset.py:1063\u001b[0m, in \u001b[0;36mDataset.__array__\u001b[1;34m(self, dtype)\u001b[0m\n\u001b[0;32m   1060\u001b[0m \u001b[38;5;28;01mif\u001b[39;00m \u001b[38;5;28mself\u001b[39m\u001b[38;5;241m.\u001b[39msize \u001b[38;5;241m==\u001b[39m \u001b[38;5;241m0\u001b[39m:\n\u001b[0;32m   1061\u001b[0m     \u001b[38;5;28;01mreturn\u001b[39;00m arr\n\u001b[1;32m-> 1063\u001b[0m \u001b[38;5;28mself\u001b[39m\u001b[38;5;241m.\u001b[39mread_direct(arr)\n\u001b[0;32m   1064\u001b[0m \u001b[38;5;28;01mreturn\u001b[39;00m arr\n",
      "File \u001b[1;32mc:\\Users\\eseveret\\AppData\\Local\\anaconda3\\envs\\hitfinder_env\\Lib\\site-packages\\h5py\\_hl\\dataset.py:1024\u001b[0m, in \u001b[0;36mDataset.read_direct\u001b[1;34m(self, dest, source_sel, dest_sel)\u001b[0m\n\u001b[0;32m   1021\u001b[0m     dest_sel \u001b[38;5;241m=\u001b[39m sel\u001b[38;5;241m.\u001b[39mselect(dest\u001b[38;5;241m.\u001b[39mshape, dest_sel)\n\u001b[0;32m   1023\u001b[0m \u001b[38;5;28;01mfor\u001b[39;00m mspace \u001b[38;5;129;01min\u001b[39;00m dest_sel\u001b[38;5;241m.\u001b[39mbroadcast(source_sel\u001b[38;5;241m.\u001b[39marray_shape):\n\u001b[1;32m-> 1024\u001b[0m     \u001b[38;5;28mself\u001b[39m\u001b[38;5;241m.\u001b[39mid\u001b[38;5;241m.\u001b[39mread(mspace, fspace, dest, dxpl\u001b[38;5;241m=\u001b[39m\u001b[38;5;28mself\u001b[39m\u001b[38;5;241m.\u001b[39m_dxpl)\n",
      "\u001b[1;31mKeyboardInterrupt\u001b[0m: "
     ]
    }
   ],
   "source": [
    "a = train_eval.TrainTestModels(cfg, peak_config)\n",
    "a.epoch_loop()\n",
    "a.plot_loss_accuracy()\n",
    "a.plot_confusion_matrix()\n",
    "a.get_confusion_matrix()\n",
    "a.save_model()"
   ]
  },
  {
   "cell_type": "code",
   "execution_count": null,
   "metadata": {},
   "outputs": [
    {
     "name": "stdout",
     "output_type": "stream",
     "text": [
      "Model testing and validating: Multi_Class_CNN1\n",
      "Looking for the feature: photon_energy\n",
      "-- epoch 0\n"
     ]
    },
    {
     "ename": "KeyboardInterrupt",
     "evalue": "",
     "output_type": "error",
     "traceback": [
      "\u001b[1;31m---------------------------------------------------------------------------\u001b[0m",
      "\u001b[1;31mKeyboardInterrupt\u001b[0m                         Traceback (most recent call last)",
      "Cell \u001b[1;32mIn[8], line 2\u001b[0m\n\u001b[0;32m      1\u001b[0m b \u001b[38;5;241m=\u001b[39m train_eval\u001b[38;5;241m.\u001b[39mTrainTestModels(cfg, photon_config)\n\u001b[1;32m----> 2\u001b[0m b\u001b[38;5;241m.\u001b[39mepoch_loop()\n\u001b[0;32m      3\u001b[0m b\u001b[38;5;241m.\u001b[39mplot_loss_accuracy()\n\u001b[0;32m      4\u001b[0m b\u001b[38;5;241m.\u001b[39mplot_confusion_matrix()\n",
      "File \u001b[1;32mc:\\Users\\eseveret\\Desktop\\cxls_hitfinder\\cnn\\src\\pkg\\train_eval.py:227\u001b[0m, in \u001b[0;36mTrainTestModels.epoch_loop\u001b[1;34m(self)\u001b[0m\n\u001b[0;32m    224\u001b[0m \u001b[38;5;28mself\u001b[39m\u001b[38;5;241m.\u001b[39mlogger\u001b[38;5;241m.\u001b[39minfo(\u001b[38;5;124m'\u001b[39m\u001b[38;5;124m-- epoch \u001b[39m\u001b[38;5;124m'\u001b[39m\u001b[38;5;241m+\u001b[39m\u001b[38;5;28mstr\u001b[39m(epoch)) \n\u001b[0;32m    225\u001b[0m \u001b[38;5;28mprint\u001b[39m(\u001b[38;5;124m'\u001b[39m\u001b[38;5;124m-- epoch \u001b[39m\u001b[38;5;124m'\u001b[39m\u001b[38;5;241m+\u001b[39m\u001b[38;5;28mstr\u001b[39m(epoch)) \n\u001b[1;32m--> 227\u001b[0m \u001b[38;5;28mself\u001b[39m\u001b[38;5;241m.\u001b[39mtrain(epoch)\n\u001b[0;32m    228\u001b[0m \u001b[38;5;28mself\u001b[39m\u001b[38;5;241m.\u001b[39mtest(epoch)\n\u001b[0;32m    230\u001b[0m \u001b[38;5;28mprint\u001b[39m(\u001b[38;5;124mf\u001b[39m\u001b[38;5;124m\"\u001b[39m\u001b[38;5;124m-- learning rate : \u001b[39m\u001b[38;5;132;01m{\u001b[39;00m\u001b[38;5;28mself\u001b[39m\u001b[38;5;241m.\u001b[39mlearning_rate\u001b[38;5;132;01m}\u001b[39;00m\u001b[38;5;124m\"\u001b[39m)\n",
      "File \u001b[1;32mc:\\Users\\eseveret\\Desktop\\cxls_hitfinder\\cnn\\src\\pkg\\train_eval.py:70\u001b[0m, in \u001b[0;36mTrainTestModels.train\u001b[1;34m(self, epoch)\u001b[0m\n\u001b[0;32m     67\u001b[0m running_loss_train, accuracy_train, predictions, total_predictions \u001b[38;5;241m=\u001b[39m \u001b[38;5;241m0.0\u001b[39m, \u001b[38;5;241m0.0\u001b[39m, \u001b[38;5;241m0.0\u001b[39m, \u001b[38;5;241m0.0\u001b[39m\n\u001b[0;32m     69\u001b[0m \u001b[38;5;28mself\u001b[39m\u001b[38;5;241m.\u001b[39mmodel\u001b[38;5;241m.\u001b[39mtrain()\n\u001b[1;32m---> 70\u001b[0m \u001b[38;5;28;01mfor\u001b[39;00m inputs, labels, attributes \u001b[38;5;129;01min\u001b[39;00m \u001b[38;5;28mself\u001b[39m\u001b[38;5;241m.\u001b[39mtrain_loader:\n\u001b[0;32m     71\u001b[0m     inputs, labels \u001b[38;5;241m=\u001b[39m inputs\u001b[38;5;241m.\u001b[39mto(\u001b[38;5;28mself\u001b[39m\u001b[38;5;241m.\u001b[39mdevice), labels\u001b[38;5;241m.\u001b[39mto(\u001b[38;5;28mself\u001b[39m\u001b[38;5;241m.\u001b[39mdevice)\n\u001b[0;32m     73\u001b[0m     \u001b[38;5;28mself\u001b[39m\u001b[38;5;241m.\u001b[39moptimizer\u001b[38;5;241m.\u001b[39mzero_grad()\n",
      "File \u001b[1;32mc:\\Users\\eseveret\\AppData\\Local\\anaconda3\\envs\\hitfinder_env\\Lib\\site-packages\\torch\\utils\\data\\dataloader.py:631\u001b[0m, in \u001b[0;36m_BaseDataLoaderIter.__next__\u001b[1;34m(self)\u001b[0m\n\u001b[0;32m    628\u001b[0m \u001b[38;5;28;01mif\u001b[39;00m \u001b[38;5;28mself\u001b[39m\u001b[38;5;241m.\u001b[39m_sampler_iter \u001b[38;5;129;01mis\u001b[39;00m \u001b[38;5;28;01mNone\u001b[39;00m:\n\u001b[0;32m    629\u001b[0m     \u001b[38;5;66;03m# TODO(https://github.com/pytorch/pytorch/issues/76750)\u001b[39;00m\n\u001b[0;32m    630\u001b[0m     \u001b[38;5;28mself\u001b[39m\u001b[38;5;241m.\u001b[39m_reset()  \u001b[38;5;66;03m# type: ignore[call-arg]\u001b[39;00m\n\u001b[1;32m--> 631\u001b[0m data \u001b[38;5;241m=\u001b[39m \u001b[38;5;28mself\u001b[39m\u001b[38;5;241m.\u001b[39m_next_data()\n\u001b[0;32m    632\u001b[0m \u001b[38;5;28mself\u001b[39m\u001b[38;5;241m.\u001b[39m_num_yielded \u001b[38;5;241m+\u001b[39m\u001b[38;5;241m=\u001b[39m \u001b[38;5;241m1\u001b[39m\n\u001b[0;32m    633\u001b[0m \u001b[38;5;28;01mif\u001b[39;00m \u001b[38;5;28mself\u001b[39m\u001b[38;5;241m.\u001b[39m_dataset_kind \u001b[38;5;241m==\u001b[39m _DatasetKind\u001b[38;5;241m.\u001b[39mIterable \u001b[38;5;129;01mand\u001b[39;00m \\\n\u001b[0;32m    634\u001b[0m         \u001b[38;5;28mself\u001b[39m\u001b[38;5;241m.\u001b[39m_IterableDataset_len_called \u001b[38;5;129;01mis\u001b[39;00m \u001b[38;5;129;01mnot\u001b[39;00m \u001b[38;5;28;01mNone\u001b[39;00m \u001b[38;5;129;01mand\u001b[39;00m \\\n\u001b[0;32m    635\u001b[0m         \u001b[38;5;28mself\u001b[39m\u001b[38;5;241m.\u001b[39m_num_yielded \u001b[38;5;241m>\u001b[39m \u001b[38;5;28mself\u001b[39m\u001b[38;5;241m.\u001b[39m_IterableDataset_len_called:\n",
      "File \u001b[1;32mc:\\Users\\eseveret\\AppData\\Local\\anaconda3\\envs\\hitfinder_env\\Lib\\site-packages\\torch\\utils\\data\\dataloader.py:675\u001b[0m, in \u001b[0;36m_SingleProcessDataLoaderIter._next_data\u001b[1;34m(self)\u001b[0m\n\u001b[0;32m    673\u001b[0m \u001b[38;5;28;01mdef\u001b[39;00m \u001b[38;5;21m_next_data\u001b[39m(\u001b[38;5;28mself\u001b[39m):\n\u001b[0;32m    674\u001b[0m     index \u001b[38;5;241m=\u001b[39m \u001b[38;5;28mself\u001b[39m\u001b[38;5;241m.\u001b[39m_next_index()  \u001b[38;5;66;03m# may raise StopIteration\u001b[39;00m\n\u001b[1;32m--> 675\u001b[0m     data \u001b[38;5;241m=\u001b[39m \u001b[38;5;28mself\u001b[39m\u001b[38;5;241m.\u001b[39m_dataset_fetcher\u001b[38;5;241m.\u001b[39mfetch(index)  \u001b[38;5;66;03m# may raise StopIteration\u001b[39;00m\n\u001b[0;32m    676\u001b[0m     \u001b[38;5;28;01mif\u001b[39;00m \u001b[38;5;28mself\u001b[39m\u001b[38;5;241m.\u001b[39m_pin_memory:\n\u001b[0;32m    677\u001b[0m         data \u001b[38;5;241m=\u001b[39m _utils\u001b[38;5;241m.\u001b[39mpin_memory\u001b[38;5;241m.\u001b[39mpin_memory(data, \u001b[38;5;28mself\u001b[39m\u001b[38;5;241m.\u001b[39m_pin_memory_device)\n",
      "File \u001b[1;32mc:\\Users\\eseveret\\AppData\\Local\\anaconda3\\envs\\hitfinder_env\\Lib\\site-packages\\torch\\utils\\data\\_utils\\fetch.py:49\u001b[0m, in \u001b[0;36m_MapDatasetFetcher.fetch\u001b[1;34m(self, possibly_batched_index)\u001b[0m\n\u001b[0;32m     47\u001b[0m \u001b[38;5;28;01mif\u001b[39;00m \u001b[38;5;28mself\u001b[39m\u001b[38;5;241m.\u001b[39mauto_collation:\n\u001b[0;32m     48\u001b[0m     \u001b[38;5;28;01mif\u001b[39;00m \u001b[38;5;28mhasattr\u001b[39m(\u001b[38;5;28mself\u001b[39m\u001b[38;5;241m.\u001b[39mdataset, \u001b[38;5;124m\"\u001b[39m\u001b[38;5;124m__getitems__\u001b[39m\u001b[38;5;124m\"\u001b[39m) \u001b[38;5;129;01mand\u001b[39;00m \u001b[38;5;28mself\u001b[39m\u001b[38;5;241m.\u001b[39mdataset\u001b[38;5;241m.\u001b[39m__getitems__:\n\u001b[1;32m---> 49\u001b[0m         data \u001b[38;5;241m=\u001b[39m \u001b[38;5;28mself\u001b[39m\u001b[38;5;241m.\u001b[39mdataset\u001b[38;5;241m.\u001b[39m__getitems__(possibly_batched_index)\n\u001b[0;32m     50\u001b[0m     \u001b[38;5;28;01melse\u001b[39;00m:\n\u001b[0;32m     51\u001b[0m         data \u001b[38;5;241m=\u001b[39m [\u001b[38;5;28mself\u001b[39m\u001b[38;5;241m.\u001b[39mdataset[idx] \u001b[38;5;28;01mfor\u001b[39;00m idx \u001b[38;5;129;01min\u001b[39;00m possibly_batched_index]\n",
      "File \u001b[1;32mc:\\Users\\eseveret\\AppData\\Local\\anaconda3\\envs\\hitfinder_env\\Lib\\site-packages\\torch\\utils\\data\\dataset.py:399\u001b[0m, in \u001b[0;36mSubset.__getitems__\u001b[1;34m(self, indices)\u001b[0m\n\u001b[0;32m    397\u001b[0m     \u001b[38;5;28;01mreturn\u001b[39;00m \u001b[38;5;28mself\u001b[39m\u001b[38;5;241m.\u001b[39mdataset\u001b[38;5;241m.\u001b[39m__getitems__([\u001b[38;5;28mself\u001b[39m\u001b[38;5;241m.\u001b[39mindices[idx] \u001b[38;5;28;01mfor\u001b[39;00m idx \u001b[38;5;129;01min\u001b[39;00m indices])  \u001b[38;5;66;03m# type: ignore[attr-defined]\u001b[39;00m\n\u001b[0;32m    398\u001b[0m \u001b[38;5;28;01melse\u001b[39;00m:\n\u001b[1;32m--> 399\u001b[0m     \u001b[38;5;28;01mreturn\u001b[39;00m [\u001b[38;5;28mself\u001b[39m\u001b[38;5;241m.\u001b[39mdataset[\u001b[38;5;28mself\u001b[39m\u001b[38;5;241m.\u001b[39mindices[idx]] \u001b[38;5;28;01mfor\u001b[39;00m idx \u001b[38;5;129;01min\u001b[39;00m indices]\n",
      "File \u001b[1;32mc:\\Users\\eseveret\\Desktop\\cxls_hitfinder\\cnn\\src\\pkg\\data.py:43\u001b[0m, in \u001b[0;36mDatasetManager.__getitem__\u001b[1;34m(self, idx)\u001b[0m\n\u001b[0;32m     38\u001b[0m \u001b[38;5;66;03m# print(f'path : {self.water_peak_paths[idx]}')\u001b[39;00m\n\u001b[0;32m     39\u001b[0m \u001b[38;5;66;03m# print(f'water_image length : {len(self.water_peak_paths)}')\u001b[39;00m\n\u001b[0;32m     40\u001b[0m \u001b[38;5;66;03m# print(f'label_image length : {len(self.label_paths)}')\u001b[39;00m\n\u001b[0;32m     41\u001b[0m \u001b[38;5;66;03m# print(f'idx : {idx}')\u001b[39;00m\n\u001b[0;32m     42\u001b[0m \u001b[38;5;28;01mif\u001b[39;00m \u001b[38;5;28mself\u001b[39m\u001b[38;5;241m.\u001b[39mtransform:\n\u001b[1;32m---> 43\u001b[0m     water_image \u001b[38;5;241m=\u001b[39m \u001b[38;5;28mself\u001b[39m\u001b[38;5;241m.\u001b[39mtransform(water_image) \u001b[38;5;66;03m# dimensions: C x H x W\u001b[39;00m\n\u001b[0;32m     44\u001b[0m     label_image \u001b[38;5;241m=\u001b[39m \u001b[38;5;28mself\u001b[39m\u001b[38;5;241m.\u001b[39mtransform(label_image)\n\u001b[0;32m     46\u001b[0m \u001b[38;5;28;01mreturn\u001b[39;00m water_image, label_image, image_attributes\n",
      "File \u001b[1;32mc:\\Users\\eseveret\\Desktop\\cxls_hitfinder\\cnn\\src\\pkg\\transform.py:22\u001b[0m, in \u001b[0;36mTransformToTensor.__call__\u001b[1;34m(self, image)\u001b[0m\n\u001b[0;32m     20\u001b[0m \u001b[38;5;28;01melse\u001b[39;00m : \n\u001b[0;32m     21\u001b[0m     \u001b[38;5;28;01mraise\u001b[39;00m \u001b[38;5;167;01mValueError\u001b[39;00m(\u001b[38;5;124mf\u001b[39m\u001b[38;5;124m\"\u001b[39m\u001b[38;5;124mImage has invalid dimensions: \u001b[39m\u001b[38;5;132;01m{\u001b[39;00mimage\u001b[38;5;241m.\u001b[39mshape\u001b[38;5;132;01m}\u001b[39;00m\u001b[38;5;124m\"\u001b[39m)\n\u001b[1;32m---> 22\u001b[0m image_tensor \u001b[38;5;241m=\u001b[39m torch\u001b[38;5;241m.\u001b[39mfrom_numpy(image)\u001b[38;5;241m.\u001b[39mfloat()\u001b[38;5;241m.\u001b[39mto(dtype\u001b[38;5;241m=\u001b[39mtorch\u001b[38;5;241m.\u001b[39mfloat32)  \u001b[38;5;66;03m# Convert to tensor with dtype=torch.float32\u001b[39;00m\n\u001b[0;32m     23\u001b[0m \u001b[38;5;28;01mreturn\u001b[39;00m image_tensor\n",
      "\u001b[1;31mKeyboardInterrupt\u001b[0m: "
     ]
    }
   ],
   "source": [
    "b = train_eval.TrainTestModels(cfg, photon_config)\n",
    "b.epoch_loop()\n",
    "b.plot_loss_accuracy()\n",
    "b.plot_confusion_matrix()\n",
    "b.get_confusion_matrix()\n",
    "b.save_model()"
   ]
  },
  {
   "cell_type": "code",
   "execution_count": null,
   "metadata": {},
   "outputs": [
    {
     "name": "stdout",
     "output_type": "stream",
     "text": [
      "Model testing and validating: Multi_Class_CNN1\n",
      "Looking for the feature: clen\n",
      "-- epoch 0\n",
      "Train loss: 0.6919653297147967\n",
      "Train accuracy: 0.6380952596664429\n",
      "Test loss: 0.14900647699832917\n",
      "Test accuracy: 0.7407407760620117\n",
      "-- learning rate : 1e-05\n",
      "-- epoch 1\n",
      "Train loss: 0.30840380168096587\n",
      "Train accuracy: 0.7333333492279053\n",
      "Test loss: 0.07992670089006423\n",
      "Test accuracy: 0.7407407760620117\n",
      "-- learning rate : 1e-05\n",
      "-- epoch 2\n",
      "Train loss: 0.23101855475794186\n",
      "Train accuracy: 0.7333333492279053\n",
      "Test loss: 0.05897734016180038\n",
      "Test accuracy: 0.7407407760620117\n",
      "-- learning rate : 1e-05\n",
      "-- epoch 3\n",
      "Train loss: 0.15096816149624911\n",
      "Train accuracy: 0.8857142925262451\n",
      "Test loss: 0.037912937253713606\n",
      "Test accuracy: 0.8518518805503845\n",
      "-- learning rate : 1e-05\n",
      "-- epoch 4\n",
      "Train loss: 0.10016979615796696\n",
      "Train accuracy: 0.9809524416923523\n",
      "Test loss: 0.02429955266416073\n",
      "Test accuracy: 1.0\n",
      "-- learning rate : 1e-05\n",
      "-- epoch 5\n",
      "Train loss: 0.07308413139121099\n",
      "Train accuracy: 1.0\n",
      "Test loss: 0.01688930857926607\n",
      "Test accuracy: 1.0\n",
      "-- learning rate : 1e-05\n",
      "-- epoch 6\n",
      "Train loss: 0.05207471176981926\n",
      "Train accuracy: 1.0\n",
      "Test loss: 0.01292465478181839\n",
      "Test accuracy: 1.0\n",
      "-- learning rate : 1e-05\n",
      "-- epoch 7\n",
      "Train loss: 0.04031300070610913\n",
      "Train accuracy: 1.0\n",
      "Test loss: 0.010022107139229774\n",
      "Test accuracy: 1.0\n",
      "-- learning rate : 1e-05\n",
      "-- epoch 8\n",
      "Train loss: 0.03797448866746642\n",
      "Train accuracy: 1.0\n",
      "Test loss: 0.008252520579844713\n",
      "Test accuracy: 1.0\n",
      "-- learning rate : 1e-05\n",
      "-- epoch 9\n",
      "Train loss: 0.030194376764649696\n",
      "Train accuracy: 1.0\n",
      "Test loss: 0.006764496583491564\n",
      "Test accuracy: 1.0\n",
      "-- learning rate : 1e-05\n",
      "-- epoch 10\n",
      "Train loss: 0.022754084996201775\n",
      "Train accuracy: 1.0\n",
      "Test loss: 0.005763442907482386\n",
      "Test accuracy: 1.0\n",
      "-- learning rate : 1e-05\n",
      "-- epoch 11\n",
      "Train loss: 0.019565521146763454\n",
      "Train accuracy: 1.0\n",
      "Test loss: 0.004922587238252163\n",
      "Test accuracy: 1.0\n",
      "-- learning rate : 1e-05\n",
      "-- epoch 12\n",
      "Train loss: 0.016473086042837662\n",
      "Train accuracy: 1.0\n",
      "Test loss: 0.004326837649568915\n",
      "Test accuracy: 1.0\n",
      "-- learning rate : 1e-05\n",
      "-- epoch 13\n",
      "Train loss: 0.014634569810534065\n",
      "Train accuracy: 1.0\n",
      "Test loss: 0.0037501314654946327\n",
      "Test accuracy: 1.0\n",
      "-- learning rate : 1e-05\n",
      "-- epoch 14\n",
      "Train loss: 0.014190926978533918\n",
      "Train accuracy: 1.0\n",
      "Test loss: 0.003303321031853557\n",
      "Test accuracy: 1.0\n",
      "-- learning rate : 1e-05\n"
     ]
    },
    {
     "data": {
      "image/png": "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",
      "text/plain": [
       "<Figure size 640x480 with 1 Axes>"
      ]
     },
     "metadata": {},
     "output_type": "display_data"
    },
    {
     "name": "stdout",
     "output_type": "stream",
     "text": [
      "-- Labels      : [1 1 1 1 1 1 1 1 2 1 1 2 1 1 1 1 2 1 1 2 1 1 2 2 1 1 2]\n",
      "-- Predictions : [1 1 1 1 1 1 1 1 2 1 1 2 1 1 1 1 2 1 1 2 1 1 2 2 1 1 2]\n"
     ]
    },
    {
     "data": {
      "image/png": "iVBORw0KGgoAAAANSUhEUgAAAagAAAGXCAYAAADmnsS4AAAAOXRFWHRTb2Z0d2FyZQBNYXRwbG90bGliIHZlcnNpb24zLjguMCwgaHR0cHM6Ly9tYXRwbG90bGliLm9yZy81sbWrAAAACXBIWXMAAA9hAAAPYQGoP6dpAAAz3klEQVR4nO3de1xUZf4H8M/hNoMKo0CA6ICoqSjlBdJQyWsYum5s9UvTVVCkSNSQ0n7kJmq1pNuWpYKXVKTMrNSyIjc281JiiWEXo/ZXYqBCChajpFyf3x/GbCMDzDiD5xzn8/Z1XjXPPOec70DN1+9znvMcSQghQEREpDBOcgdARERkDhMUEREpEhMUEREpEhMUEREpEhMUEREpEhMUEREpEhMUEREpEhMUEREpEhMUEREpEhMUAQC++uorzJgxA8HBwdBqtejQoQMGDRqEFStW4Pz582167oKCAowYMQI6nQ6SJGHlypV2P4ckSViyZIndj9uarKwsSJIESZKwb9++Ju8LIdCzZ09IkoSRI0de0zkyMjKQlZVl1T779u1rNiYipXCROwCS34YNGzB79mz07t0bCxYsQN++fVFbW4v8/HysXbsWeXl52LVrV5udf+bMmaiqqsLrr7+OTp06oVu3bnY/R15eHrp27Wr341rKw8MDGzdubJKE9u/fjx9//BEeHh7XfOyMjAz4+PggLi7O4n0GDRqEvLw89O3b95rPS9TmBDm0Q4cOCWdnZ3HXXXeJy5cvN3m/urpavPPOO20ag4uLi3j44Yfb9Bxy2bx5swAgZs2aJdzd3UVlZaXJ+3/9619FRESE6NevnxgxYsQ1ncOafWtqakRtbe01nYcc1/79+8Wf/vQn0blzZwFA7Nq1q9V99u3bJwYNGiQ0Go0IDg4WmZmZVp+XQ3wO7u9//zskScL69euh0WiavO/m5oY///nPxtcNDQ1YsWIF+vTpA41GA19fX0yfPh2nTp0y2W/kyJEIDQ3FkSNHEBkZiXbt2qF79+549tln0dDQAOC/w191dXXIzMw0DoUBwJIlS4z//keN+5w8edLYtnfvXowcORLe3t5wd3dHYGAg7r33Xvz222/GPuaG+L755hvcfffd6NSpE7RaLQYMGIAtW7aY9GkcCtu2bRsWLVqEgIAAeHp6YuzYsfj+++8t+yEDeOCBBwAA27ZtM7ZVVlZix44dmDlzptl9li5diiFDhsDLywuenp4YNGgQNm7cCPGH9Z27deuG48ePY//+/cafX2MF2hj7K6+8gkcffRRdunSBRqPBDz/80GSIr7y8HHq9HkOHDkVtba3x+N9++y3at2+PadOmWfxZ6cZTVVWF/v37Y/Xq1Rb1Lyoqwvjx4xEZGYmCggI88cQTmDdvHnbs2GHdia3PpXSjqKurE+3atRNDhgyxeJ8HH3xQABBz5swRe/bsEWvXrhU33XST0Ov14ty5c8Z+I0aMEN7e3uLmm28Wa9euFbm5uWL27NkCgNiyZYsQQoizZ8+KvLw8AUDcd999Ii8vT+Tl5QkhhEhLSxPm/vNsrEiKioqEEEIUFRUJrVYr7rzzTvH222+Lffv2ia1bt4pp06aJX375xbgfAJGWlmZ8/d133wkPDw/Ro0cPkZ2dLd5//33xwAMPCABi+fLlxn4ff/yxACC6desmpk6dKt5//32xbds2ERgYKG6++WZRV1fX4s+rMd4jR46IadOmicGDBxvfy8zMFO3btxcGg8FsFRQXFyc2btwocnNzRW5urnjqqaeEu7u7WLp0qbHPF198Ibp37y4GDhxo/Pl98cUXJrF36dJF3HfffWL37t3ivffeExUVFcb3Pv74Y+OxPvnkE+Hi4iLmz58vhBCiqqpK9O3bV/Tp00dcvHixxc9JjgMWVFALFy4Uffr0MWl76KGHxO23327duawNjm4cZWVlAoCYPHmyRf0LCwsFADF79myT9s8++0wAEE888YSxbcSIEQKA+Oyzz0z69u3bV4wbN86kDYBISkoyabM0Qb311lsCgDh27FiLsV+doCZPniw0Go0oLi426RcdHS3atWsnfv31VyHEf7/kx48fb9LvjTfeEACMCbU5f0xQjcf65ptvhBBC3HbbbSIuLk4I0fowXX19vaitrRXLli0T3t7eoqGhwfhec/s2nu+OO+5o9r0/JighhFi+fLnxCyg2Nla4u7uLr776qsXPSI7FkgQVGRkp5s2bZ9K2c+dO4eLiImpqaiw+F4f4yGIff/wxADS5GD948GCEhITgo48+Mmn39/fH4MGDTdpuvfVW/PTTT3aLacCAAXBzc8ODDz6ILVu24MSJExbtt3fvXowZMwZ6vd6kPS4uDr/99hvy8vJM2v84zAlc+RwArPosI0aMQI8ePbBp0yZ8/fXXOHLkSLPDe40xjh07FjqdDs7OznB1dcXixYtRUVGBs2fPWnzee++91+K+CxYswIQJE/DAAw9gy5YtWLVqFW655RaL96e2dfnyZRgMBrtslZWVTdqqq6vtEmdZWRn8/PxM2vz8/FBXV4fy8nKLj8ME5cB8fHzQrl07FBUVWdS/oqICANC5c+cm7wUEBBjfb+Tt7d2kn0ajwaVLl64hWvN69OiBf//73/D19UVSUhJ69OiBHj164MUXX2xxv4qKimY/R+P7f3T1Z2m8XmfNZ5EkCTNmzMCrr76KtWvXolevXoiMjDTb9/PPP0dUVBSAK7MsP/30Uxw5cgSLFi2y+rzmPmdLMcbFxeHy5cvw9/fntScFuXz5Mtw9vKHT6eyyde3atUlbenq63eK9+hqy+P3aqblry83hNHMH5uzsjDFjxuCDDz7AqVOnWp2G3fglXVpa2qTvmTNn4OPjY7fYtFotAKC6utpk8oa5v31FRkYiMjIS9fX1yM/Px6pVq5CcnAw/Pz9MnjzZ7PG9vb1RWlrapP3MmTMAYNfP8kdxcXFYvHgx1q5di2eeeabZfq+//jpcXV3x3nvvGX8WAPD2229bfU5rvhBKS0uRlJSEAQMG4Pjx43jsscfw0ksvWX1Osr+amhqg7jdo+s0AnN1sO1h9DS4e34ySkhJ4enoam81NlLoW/v7+KCsrM2k7e/YsXFxczP7FtTmsoBxcamoqhBBISEi48j/AVWpra/Huu+8CAEaPHg0AePXVV036HDlyBIWFhRgzZozd4mqcifbVV1+ZtDfGYo6zszOGDBmCNWvWAAC++OKLZvuOGTMGe/fuNSakRtnZ2WjXrh1uv/32a4y8ZV26dMGCBQswceJExMbGNttPkiS4uLjA2dnZ2Hbp0iW88sorTfraqyqtr6/HAw88AEmS8MEHHyA9PR2rVq3Czp07bT422ZGLGyQXjU0bXK4kOE9PT5PNXgkqIiICubm5Jm0ffvghwsPD4erqavlHtUs0pFoRERHIzMzE7NmzERYWhocffhj9+vVDbW0tCgoKsH79eoSGhmLixIno3bs3HnzwQaxatQpOTk6Ijo7GyZMn8eSTT0Kv12P+/Pl2i2v8+PHw8vJCfHw8li1bBhcXF2RlZaGkpMSk39q1a7F3715MmDABgYGBuHz5MjZt2gQAGDt2bLPHT0tLw3vvvYdRo0Zh8eLF8PLywtatW/H+++9jxYoV0Ol0dvssV3v22Wdb7TNhwgQ8//zzmDJlCh588EFUVFTgueeeM/sFcsstt+D111/H9u3b0b17d2i12mu6bpSWloaDBw/iww8/hL+/Px599FHs378f8fHxGDhwIIKDg60+Jt0YLl68iB9++MH4uqioCMeOHYOXlxcCAwORmpqK06dPIzs7GwCQmJiI1atXIyUlBQkJCcjLy8PGjRtNbrOwBBMUISEhAYMHD8YLL7yA5cuXo6ysDK6urujVqxemTJmCOXPmGPtmZmaiR48e2LhxI9asWQOdToe77roL6enpVpXurfH09MSePXuQnJyMv/71r+jYsSNmzZqF6OhozJo1y9hvwIAB+PDDD5GWloaysjJ06NABoaGh2L17t/Eajjm9e/fGoUOH8MQTTyApKQmXLl1CSEgINm/ebNWKDG1l9OjR2LRpE5YvX46JEyeiS5cuSEhIgK+vL+Lj4036Ll26FKWlpUhISMCFCxcQFBRkcp+YJXJzc5Geno4nn3zSpBLOysrCwIEDMWnSJHzyySdwc7NxaIlsJzld2Ww9hhXy8/MxatQo4+uUlBQAQGxsLLKyslBaWori4mLj+8HBwcjJycH8+fOxZs0aBAQE4KWXXrJqwg4ASEL84a4/IiJSJIPBAJ1OB83A2ZCcbRuKE/XVqC7IQGVlpck1KKXhNSgiIlIkDvEREamJDEN8cmGCIiJSE0m6stl6DBVQRxolIiKHwwqKiEhV7DDEp5LahAmKiEhNOMRHREQkL1ZQRERq4kCz+NQR5Q0sIyMDwcHB0Gq1CAsLw8GDB+UOySEdOHAAEydOREBAACRJuqZFWck+0tPTcdttt8HDwwO+vr6IiYmx6unFN7zGIT5bNxVggpLR9u3bkZycjEWLFqGgoACRkZGIjo42WTKErg9rH2lNbWf//v1ISkrC4cOHkZubi7q6OkRFRaGqqkru0JShsYKydVMBLnUkoyFDhmDQoEHIzMw0toWEhCAmJsauz2Uh60iShF27diEmJkbuUAjAuXPn4Ovri/379+OOO+6QOxzZGJc6GrLgyorkNhB11aj+7B9c6ojMq6mpwdGjR5ssaBoVFYVDhw7JFBWR8lRWVgIAvLy8ZI5EIRxoiI+TJGRSXl6O+vp6s49FvvpBX0SOSgiBlJQUDB8+HKGhoXKHowwONEmCCUpm5h6LbM0TUIluZHPmzMFXX32FTz75RO5QSAZMUDLx8fGBs7Oz2cciX11VETmiuXPnYvfu3Thw4AC6du0qdzjKIUl2qKDU8ZdgddR5NyA3NzeEhYU1eSxybm4uhg4dKlNURPITQmDOnDnYuXMn9u7dyyf5Xs1Jss+mAqygZJSSkoJp06YhPDwcERERWL9+PYqLi5GYmCh3aA6ntUda0/WTlJSE1157De+88w48PDyMoww6nQ7u7u4yR0fXE6eZyywjIwMrVqxAaWkpQkND8cILLzj0VFq57Nu3z+SR1o0aH2lN109z12A3b96MuLi46xuMghinmUf+DZKL1qZjibrLqD74tOKnmTNBERGpgDFB3fGkfRLUgacUn6B4DYqIiBSJ16CIiNSE90EREZEi8XlQRERE8mIFRUSkJhziIyIiRXKgIT4mKCIiNXGgCkodUd7gqqursWTJElRXV8sdisPj70I5+Lsg3qirAI034Cn9pjlHwN+FcvB3Ycp4o+7Yv9vnRt1/P6H4ny2H+IiIVMUej2xXx+CZOqIkIiKHo+oKqqGhAWfOnIGHh4eqH/JnMBhM/kny4e9COW6U34UQAhcuXEBAQACcnOxQE3AWnzqcOXMGer1e7jDs5kb6LGrH34Vy3Ci/i5KSEvs8eNGBHlio6gTl4eEBAHDrGwvJ2U3maKh433Nyh0CkOBcMBvQM1hu/r8hyqk5QjcN6krMbE5QCKHk2EJHc7HYZwoHug1J1giIicjgOdA1KHWmUiIgcDisoIiI14RAfEREpEof4iIiI5MUKiohITTjER0REiuRAQ3xMUEREKiJJku33VKkkQamjziMiIofDCoqISEUcqYJigiIiUhPp983WY6gAh/iIiEiRWEEREakIh/iIiEiRHClBcYiPiIgUiRUUEZGKOFIFxQRFRKQijpSgOMRHRESKxAqKiEhNHOg+KCYoIiIV4RAfERGRzFhBERGpyJWnbdhaQdknlrbGBEVEpCIS7DDEp5IMxQRFRKQivAZFREQkM1ZQRERqwmnmRESkSHYY4hMc4iMiIrp2rKCIiFTEHpMkbJ8FeH0wQRERqYgjJSgO8RERkUUyMjIQHBwMrVaLsLAwHDx4sMX+W7duRf/+/dGuXTt07twZM2bMQEVFhcXnY4IiIlITyU6blbZv347k5GQsWrQIBQUFiIyMRHR0NIqLi832/+STTzB9+nTEx8fj+PHjePPNN3HkyBHMmjXL4nMyQRERqUjjEJ+tm7Wef/55xMfHY9asWQgJCcHKlSuh1+uRmZlptv/hw4fRrVs3zJs3D8HBwRg+fDgeeugh5OfnW3xOJigiIgdlMBhMturqarP9ampqcPToUURFRZm0R0VF4dChQ2b3GTp0KE6dOoWcnBwIIfDzzz/jrbfewoQJEyyOjwmKiEhF7FlB6fV66HQ645aenm72nOXl5aivr4efn59Ju5+fH8rKyszuM3ToUGzduhWTJk2Cm5sb/P390bFjR6xatcriz8pZfEREKmLPWXwlJSXw9PQ0tms0Gov2aySEaDaWb7/9FvPmzcPixYsxbtw4lJaWYsGCBUhMTMTGjRstipMJiojIQXl6epokqOb4+PjA2dm5SbV09uzZJlVVo/T0dAwbNgwLFiwAANx6661o3749IiMj8fTTT6Nz586tnpdDfEREKiLHJAk3NzeEhYUhNzfXpD03NxdDhw41u89vv/0GJyfTFOPs7AzgSuVlCVZQRERqItNisSkpKZg2bRrCw8MRERGB9evXo7i4GImJiQCA1NRUnD59GtnZ2QCAiRMnIiEhAZmZmcYhvuTkZAwePBgBAQEWnZMJiohIReRaSWLSpEmoqKjAsmXLUFpaitDQUOTk5CAoKAgAUFpaanJPVFxcHC5cuIDVq1fj0UcfRceOHTF69GgsX77c8jiFpbWWAhkMBuh0OmhuSYDk7CZ3OA7vlyOr5Q6BSHEMBgP8vHWorKy06HpPS8fR6XTwn/kqnNza2RRTQ81vKNv0V5tjamusoIiIVIRr8V1H1q7tRETkyORaSUIOsiYoa9d2IiIixyFrgrJ2bSciIocn02KxcpAtQV3L2k7V1dVN1o4iInIkHOK7Dq5lbaf09HSTdaP0ev31CJWIiGQg+yQJa9Z2Sk1NRWVlpXErKSm5HiESESmGI1VQsk0zv5a1nTQaTauLGRIR3cgk2GGauUouQslWQV3L2k5EROQ4ZL1Rt7W1nYiIyJQj3agra4JqbW0nIiK6ikyLxcpB9qWOZs+ejdmzZ8sdBhERKYzsCYqIiCzHIT4iIlIkJigiIlIkSbqy2XoMNZD9Rl0iIiJzWEEREanIlQrK1iE+OwXTxpigiIjUxA5DfGqZZs4hPiIiUiRWUEREKsJZfEREpEicxUdERCQzVlBERCri5CTBycm2EkjYuP/1wgRFRKQiHOIjIiKSGSsoIiIV4Sw+IiJSJEca4mOCIiJSEUeqoHgNioiIFIkVFBGRijhSBcUERUSkIo50DYpDfEREpEisoIiIVESCHYb4VPK8DSYoIiIV4RAfERGRzFhBERGpCGfxERGRInGIj4iISGasoIiIVIRDfEREpEgc4iMiIpIZKygiIhXhEB8RESmTHYb4VLKQBBMUEZGaOFIFxWtQRESkSKygiIhUxJFm8TFBERGpCIf4iIiIZMYKiohIRTjER0REisQhPiIiIpmxgiIiUhFHqqCYoIiIVMSRrkFxiI+IiBTphqigivc9B09PT7nDcHidbpsjdwj0B78cWS13CNQGOMRHRESKxCE+IiIimbGCIiJSEQ7xERGRIkmwwxCfXSJpe0xQREQq4iRJcLIxQ9m6//XCa1BERKRIrKCIiFTEkWbxMUEREamII02S4BAfERFZJCMjA8HBwdBqtQgLC8PBgwdb7F9dXY1FixYhKCgIGo0GPXr0wKZNmyw+HysoIiIVcZKubLYew1rbt29HcnIyMjIyMGzYMKxbtw7R0dH49ttvERgYaHaf+++/Hz///DM2btyInj174uzZs6irq7P4nExQRERqItlhiO4adn/++ecRHx+PWbNmAQBWrlyJf/3rX8jMzER6enqT/nv27MH+/ftx4sQJeHl5AQC6detm1Tk5xEdE5KAMBoPJVl1dbbZfTU0Njh49iqioKJP2qKgoHDp0yOw+u3fvRnh4OFasWIEuXbqgV69eeOyxx3Dp0iWL42MFRUSkIvacxafX603a09LSsGTJkib9y8vLUV9fDz8/P5N2Pz8/lJWVmT3HiRMn8Mknn0Cr1WLXrl0oLy/H7Nmzcf78eYuvQzFBERGpiPT7H1uPAQAlJSUmT4LQaDQt73dVZhRCNDvc2NDQAEmSsHXrVuh0OgBXhgnvu+8+rFmzBu7u7q3GySE+IiIH5enpabI1l6B8fHzg7OzcpFo6e/Zsk6qqUefOndGlSxdjcgKAkJAQCCFw6tQpi+JjgiIiUpHGWXy2btZwc3NDWFgYcnNzTdpzc3MxdOhQs/sMGzYMZ86cwcWLF41t//nPf+Dk5ISuXbtadF6Lhvh2795t0cEA4M9//rPFfYmIyDpy3aibkpKCadOmITw8HBEREVi/fj2Ki4uRmJgIAEhNTcXp06eRnZ0NAJgyZQqeeuopzJgxA0uXLkV5eTkWLFiAmTNnWjS8B1iYoGJiYiw6mCRJqK+vt6gvERGpx6RJk1BRUYFly5ahtLQUoaGhyMnJQVBQEACgtLQUxcXFxv4dOnRAbm4u5s6di/DwcHh7e+P+++/H008/bfE5LUpQDQ0NVn4UIiJqC3KuxTd79mzMnj3b7HtZWVlN2vr06dNkWNAaNs3iu3z5MrRarS2HICIiK/BxGy2or6/HU089hS5duqBDhw44ceIEAODJJ5/Exo0b7R4gERH9V2MFZeumBlYnqGeeeQZZWVlYsWIF3NzcjO233HILXn75ZbsGR0REjsvqBJWdnY3169dj6tSpcHZ2Nrbfeuut+O677+waHBERmWqcxWfrpgZWX4M6ffo0evbs2aS9oaEBtbW1dgmKiIjMc6QHFlpdQfXr18/sM0DefPNNDBw40C5BERERWV1BpaWlYdq0aTh9+jQaGhqwc+dOfP/998jOzsZ7773XFjESEdHvOIuvBRMnTsT27duRk5MDSZKwePFiFBYW4t1338Wdd97ZFjESEdHvJDttanBN90GNGzcO48aNs3csRERERtd8o25+fj4KCwshSRJCQkIQFhZmz7iIiMgMudbik4PVCerUqVN44IEH8Omnn6Jjx44AgF9//RVDhw7Ftm3bmjwAi4iI7OdaViM3dww1sPoa1MyZM1FbW4vCwkKcP38e58+fR2FhIYQQiI+Pb4sYiYjIAVldQR08eBCHDh1C7969jW29e/fGqlWrMGzYMLsGR0REpjjE14LAwECzN+TW1dWhS5cudgmKiIiap5L8YjOrh/hWrFiBuXPnIj8/H0IIAFcmTDzyyCN47rnn7B4gERE5JosqqE6dOpmUhFVVVRgyZAhcXK7sXldXBxcXF8ycOdPihxsSEZH1OMR3lZUrV7ZxGEREZAlHmsVnUYKKjY1t6ziIiMgCrKAsdOnSpSYTJjw9PW0KiIiICLiGSRJVVVWYM2cOfH190aFDB3Tq1MlkIyKituNIa/FZnaAWLlyIvXv3IiMjAxqNBi+//DKWLl2KgIAAZGdnt0WMRET0u8bVzG3d1MDqIb53330X2dnZGDlyJGbOnInIyEj07NkTQUFB2Lp1K6ZOndoWcRIRkYOxuoI6f/48goODAVy53nT+/HkAwPDhw3HgwAH7RkdERCYan6hr66YGVieo7t274+TJkwCAvn374o033gBwpbJqXDyWiIjaRuMsPls3NbA6Qc2YMQNffvklACA1NdV4LWr+/PlYsGCB3QMkIiLHZPU1qPnz5xv/fdSoUfjuu++Qn5+PHj16oH///nYNjoiITNljiE4lBZT1FdTVAgMDcc8998DLywszZ860at8DBw5g4sSJCAgIgCRJePvtt20Nh4johuZIs/hsTlCNzp8/jy1btli1T1VVFfr374/Vq1fbKwwiIrpB2LSShK2io6MRHR0tZwhERKriSEN8siYoIiKyDtfiU6jq6mpUV1cbXxsMBhmjISKitmRxgrrnnntafP/XX3+1NZZWpaenY+nSpW1+HiIipXKC7ZMH7Db5oI1ZnKB0Ol2r70+fPt3mgFqSmpqKlJQU42uDwQC9Xt+m5yQiUhIO8ZmxefPmtozDIhqNBhqNRu4wiIhkI9nhgYUqyU/yXoO6ePEifvjhB+ProqIiHDt2DF5eXggMDJQxMiIikpusCSo/Px+jRo0yvm4cvouNjUVWVpZMURERKRcf+X6djBw5EkIIOUMgIlIVR7oGpZbJHERE5GBUdR8UEZGjc6QhvmuqoF555RUMGzYMAQEB+OmnnwAAK1euxDvvvGPX4IiIyBQfWNiCzMxMpKSkYPz48fj1119RX18PAOjYsSNWrlxp7/iIiMhBWZ2gVq1ahQ0bNmDRokVwdnY2toeHh+Prr7+2a3BERGTKkR63YfU1qKKiIgwcOLBJu0ajQVVVlV2CIiIi8xxpqSOr4wwODsaxY8eatH/wwQfo27evPWIiIiKyvoJasGABkpKScPnyZQgh8Pnnn2Pbtm1IT0/Hyy+/3BYxEhHR7/g8qBbMmDEDdXV1WLhwIX777TdMmTIFXbp0wYsvvojJkye3RYxERPQ7J9h+DckJ6shQ13QfVEJCAhISElBeXo6Ghgb4+vraOy4iIjKDFZSFfHx87BUHERGRCasTVHBwcIvrOJ04ccKmgIiIqHmOtJKE1QkqOTnZ5HVtbS0KCgqwZ88eLFiwwF5xERGRGVeeB2XrYrF2CqaNWZ2gHnnkEbPta9asQX5+vs0BERERAXa8Xys6Oho7duyw1+GIiMgMR1qLz26rmb/11lvw8vKy1+GIiMgMXoNqwcCBA00mSQghUFZWhnPnziEjI8OuwRERkeOyOkHFxMSYvHZycsJNN92EkSNHok+fPvaKi4iIzJB+/2PrMdTAqgRVV1eHbt26Ydy4cfD392+rmIiIqBmONMRn1SQJFxcXPPzww6iurm6reIiIiABcwyy+IUOGoKCgoC1iISKiVjRWULZuamD1NajZs2fj0UcfxalTpxAWFob27dubvH/rrbfaLTgiIjIlSVKLq/lYegw1sDhBzZw5EytXrsSkSZMAAPPmzTO+J0kShBCQJMn4CHgiIiJbWJygtmzZgmeffRZFRUVtGQ8REbXAkSZJWJyghBAAgKCgoDYLhoiIWsbHbTRDLeOWREQ3KifJDg8sVMl3uVUJqlevXq0mqfPnz9sUEBEREWBlglq6dCl0Ol1bxUJERK2Q8xpURkYG/vGPf6C0tBT9+vXDypUrERkZ2ep+n376KUaMGIHQ0FAcO3bM4vNZlaAmT57Mx7sTEcnJHquRX8P+27dvR3JyMjIyMjBs2DCsW7cO0dHR+PbbbxEYGNjsfpWVlZg+fTrGjBmDn3/+2apzWnyjLq8/ERE5rueffx7x8fGYNWsWQkJCsHLlSuj1emRmZra430MPPYQpU6YgIiLC6nNanKAaZ/EREZF8nCDZZQMAg8FgsjW3jF1NTQ2OHj2KqKgok/aoqCgcOnSo2Vg3b96MH3/8EWlpadf4WS3U0NDA4T0iIpnZ84GFer0eOp3OuKWnp5s9Z3l5Oerr6+Hn52fS7ufnh7KyMrP7/N///R/+93//F1u3boWLy7U9etBuDywkIiJ1KSkpgaenp/G1RqNpsf/Vl3oaVxC6Wn19PaZMmYKlS5eiV69e1xwfExQRkYrYcxafp6enSYJqjo+PD5ydnZtUS2fPnm1SVQHAhQsXkJ+fj4KCAsyZMwfAlVE4IQRcXFzw4YcfYvTo0a2elwmKiEhF5LhR183NDWFhYcjNzcVf/vIXY3tubi7uvvvuJv09PT3x9ddfm7RlZGRg7969eOuttxAcHGzReZmgiIioVSkpKZg2bRrCw8MRERGB9evXo7i4GImJiQCA1NRUnD59GtnZ2XByckJoaKjJ/r6+vtBqtU3aW8IERUSkInKtxTdp0iRUVFRg2bJlKC0tRWhoKHJycozrs5aWlqK4uNi2wK6OU6h4/rjBYIBOp8PPFZUWjaNS2+p02xy5Q6A/+OXIarlDIFz5nvLz1qGy0rbvqcbvu1UffQP3Dh42xXTp4gXMHRNqc0xtzeon6hIREV0PHOIjIlIRPm6DiIgUyQm2D32pZeiMCYqISEUkSbJ5bVS1rK3KBEV2w4vyRGRPTFBERCoi4ZqeltHkGGrABEVEpCKO9Mh3tVwrIyIiB8MKiohIZdRR/9iOCYqISEUc6T4oDvEREZEisYIiIlIR3gdFRESK5EgrSaglTiIicjCsoIiIVIRDfEREpEiOtJIEh/iIiEiRWEEREakIh/iIiEiRHGkWHxMUEZGKOFIFpZZESkREDoYVFBGRijjSLD4mKCIiFeFisURERDJjBUVEpCJOkOBk4yCdrftfL0xQREQqwiE+IiIimbGCIiJSEen3P7YeQw2YoIiIVIRDfERERDJjBUVEpCKSHWbxcYiPiIjsjkN8REREMmMFRUSkIo5UQTFBERGpCKeZExGRIjlJVzZbj6EGvAZFRESKxAqKiEhFOMRHRESK5EiTJDjER0REisQKiohIRa488t3WIT51YIIiIlIRzuIjIiKSGSsoIiIV4Sw+IiJSJM7iIyIikhkrKCIiFZFg+yw8lRRQTFBERGriBAlONo7R2frAw+uFQ3xERKRIrKCIiFSEQ3xERKRMDpShZB3iS09Px2233QYPDw/4+voiJiYG33//vZwhEREpmmSnP2oga4Lav38/kpKScPjwYeTm5qKurg5RUVGoqqqSMywiIlIAWYf49uzZY/J68+bN8PX1xdGjR3HHHXfIFBURkYLZ4UZdlRRQyroGVVlZCQDw8vIy+351dTWqq6uNrw0Gw3WJi4hIKRzoEpRyppkLIZCSkoLhw4cjNDTUbJ/09HTodDrjptfrr3OURER0vSgmQc2ZMwdfffUVtm3b1myf1NRUVFZWGreSkpLrGCERkQJIdtpUQBFDfHPnzsXu3btx4MABdO3atdl+Go0GGo3mOkZGRKQsXM38OhFCYO7cudi1axf27duH4OBgOcMhIiIFkTVBJSUl4bXXXsM777wDDw8PlJWVAQB0Oh3c3d3lDI2ISJH4uI3rJDMzE5WVlRg5ciQ6d+5s3LZv3y5nWEREiuVAl6DkH+IjIiIyRxGTJIiIyEIOdCOUYqaZExFR6+Rciy8jIwPBwcHQarUICwvDwYMHm+27c+dO3Hnnnbjpppvg6emJiIgI/Otf/7LqfExQREQq0jhJwtbNWtu3b0dycjIWLVqEgoICREZGIjo6GsXFxWb7HzhwAHfeeSdycnJw9OhRjBo1ChMnTkRBQYHln1Wo+EKQwWCATqfDzxWV8PT0lDscIqImDAYD/Lx1qKy07Xuq8fvu4Den0MHDtu+7ixcMiAztalVMQ4YMwaBBg5CZmWlsCwkJQUxMDNLT0y06Rr9+/TBp0iQsXrzYov6soIiIVMSes/gMBoPJ9se1Tv+opqYGR48eRVRUlEl7VFQUDh06ZFHcDQ0NuHDhQrNrrZrDBEVEpCZ2zFB6vd5kfdPmKqHy8nLU19fDz8/PpN3Pz894/2pr/vnPf6Kqqgr333+/xR+Vs/iIiBxUSUmJyRBfa0vJSVddvBJCNGkzZ9u2bViyZAneeecd+Pr6WhwfExQRkYrYcy0+T09Pi65B+fj4wNnZuUm1dPbs2SZV1dW2b9+O+Ph4vPnmmxg7dqxVcXKIj4hIReSYxefm5oawsDDk5uaatOfm5mLo0KHN7rdt2zbExcXhtddew4QJE6z+rKygiIioVSkpKZg2bRrCw8MRERGB9evXo7i4GImJiQCuPA7p9OnTyM7OBnAlOU2fPh0vvvgibr/9dmP15e7uDp1OZ9E5maCIiFREroUkJk2ahIqKCixbtgylpaUIDQ1FTk4OgoKCAAClpaUm90StW7cOdXV1SEpKQlJSkrE9NjYWWVlZlsXJ+6CIiNqOve+Dyis8bZf7oCJCutgcU1vjNSgiIlIkDvEREakIn6hLRESKxAcWEhERyYwVFBGRijjQ46CYoIiIVMWBMhQTFBGRijjSJAlegyIiIkViBUVEpCKONIuPCYqISEUc6BIUh/iIiEiZWEEREamJA5VQTFBERCrCWXxEREQyYwVFRKQmdpjFp5ICigmKiEhNHOgSFIf4iIhImVhBERGpiQOVUExQREQqwll8REREMmMFRUSkIlyLj4iIFMmBLkExQRERqYoDZShegyIiIkViBUVEpCKONIuPCYqISEUk2GGShF0iaXsc4iMiIkViBUVEpCIONEeCCYqISE14H5RKCCEAABcMBpkjISIyr/H7qfH7iiyn6gR14cIFAEDPYL3MkRARtezChQvQ6XR2OJLjDPKpOkEFBASgpKQEHh4ekNRSs5phMBig1+tRUlICT09PucNxaPxdKMeN8rsQQuDChQsICAiwy/E4xKcSTk5O6Nq1q9xh2I2np6eq/0e8kfB3oRw3wu/CPpWT41F1giIicjSOM8DHBEVEpCqONMTHG3UVQKPRIC0tDRqNRu5QHB5/F8rB3wVJgnMfiYgUz2AwQKfT4T/F5fCw8ZrcBYMBvQJ9UFlZqejrexziIyJSEwe6CMUERUSkIg6Un3gNioiIlIkVFBGRinAWH5ECLVmyBAMGDDC+jouLQ0xMzHWP4+TJk5AkCceOHWuzc1z9Wa/F9YiTrj/JTn/UgAmKbBIXFwdJkiBJElxdXdG9e3c89thjqKqqavNzv/jii8jKyrKo7/X+sh45ciSSk5Ovy7mIblQc4iOb3XXXXdi8eTNqa2tx8OBBzJo1C1VVVcjMzGzSt7a2Fq6urnY5L5ePIYfkQLMkWEGRzTQaDfz9/aHX6zFlyhRMnToVb7/9NoD/DlVt2rQJ3bt3h0ajgRAClZWVePDBB+Hr6wtPT0+MHj0aX375pclxn332Wfj5+cHDwwPx8fG4fPmyyftXD/E1NDRg+fLl6NmzJzQaDQIDA/HMM88AAIKDgwEAAwcOhCRJGDlypHG/zZs3IyQkBFqtFn369EFGRobJeT7//HMMHDgQWq0W4eHhKCgosPln9vjjj6NXr15o164dunfvjieffBK1tbVN+q1btw56vR7t2rXD//zP/+DXX381eb+12OnGI9lpUwNWUGR37u7uJl+2P/zwA9544w3s2LEDzs7OAIAJEybAy8sLOTk50Ol0WLduHcaMGYP//Oc/8PLywhtvvIG0tDSsWbMGkZGReOWVV/DSSy+he/fuzZ43NTUVGzZswAsvvIDhw4ejtLQU3333HYArSWbw4MH497//jX79+sHNzQ0AsGHDBqSlpWH16tUYOHAgCgoKkJCQgPbt2yM2NhZVVVX405/+hNGjR+PVV19FUVERHnnkEZt/Rh4eHsjKykJAQAC+/vprJCQkwMPDAwsXLmzyc3v33XdhMBgQHx+PpKQkbN261aLYiVRPENkgNjZW3H333cbXn332mfD29hb333+/EEKItLQ04erqKs6ePWvs89FHHwlPT09x+fJlk2P16NFDrFu3TgghREREhEhMTDR5f8iQIaJ///5mz20wGIRGoxEbNmwwG2dRUZEAIAoKCkza9Xq9eO2110zannrqKRERESGEEGLdunXCy8tLVFVVGd/PzMw0e6w/GjFihHjkkUeaff9qK1asEGFhYcbXaWlpwtnZWZSUlBjbPvjgA+Hk5CRKS0stir25z0zqVFlZKQCIojMVovxirU1b0ZkKAUBUVlbK/bFaxAqKbPbee++hQ4cOqKurQ21tLe6++26sWrXK+H5QUBBuuukm4+ujR4/i4sWL8Pb2NjnOpUuX8OOPPwIACgsLkZiYaPJ+REQEPv74Y7MxFBYWorq6GmPGjLE47nPnzqGkpATx8fFISEgwttfV1RmvbxUWFqJ///5o166dSRy2euutt7By5Ur88MMPuHjxIurq6posORMYGGjyOJmIiAg0NDTg+++/h7Ozc6ux043KHrPw1DHIxwRFNhs1ahQyMzPh6uqKgICAJpMg2rdvb/K6oaEBnTt3xr59+5ocq2PHjtcUg7u7u9X7NDQ0ALgyVDZkyBCT9xqHIkUbLFV5+PBhTJ48GUuXLsW4ceOg0+nw+uuv45///GeL+zU+lFOSJItiJ1I7JiiyWfv27dGzZ0+L+w8aNAhlZWVwcXFBt27dzPYJCQnB4cOHMX36dGPb4cOHmz3mzTffDHd3d3z00UeYNWtWk/cbrznV19cb2/z8/NClSxecOHECU6dONXvcvn374pVXXsGlS5eMSbClOCzx6aefIigoCIsWLTK2/fTTT036FRcX48yZM8Ynsebl5cHJyQm9evWyKHa6MTnSjbpMUHTdjR07FhEREYiJicHy5cvRu3dvnDlzBjk5OYiJiUF4eDgeeeQRxMbGIjw8HMOHD8fWrVtx/PjxZidJaLVaPP7441i4cCHc3NwwbNgwnDt3DsePH0d8fDx8fX3h7u6OPXv2oGvXrtBqtdDpdFiyZAnmzZsHT09PREdHo7q6Gvn5+fjll1+QkpKCKVOmYNGiRYiPj8ff/vY3nDx5Es8995xFn/PcuXNN7rvy9/dHz549UVxcjNdffx233XYb3n//fezatcvsZ4qNjcVzzz0Hg8GAefPm4f7774e/vz8AtBo7kerJfRGM1O3qSRJXS0tLM5nY0MhgMIi5c+eKgIAA4erqKvR6vZg6daooLi429nnmmWeEj4+P6NChg4iNjRULFy5sdpKEEELU19eLp59+WgQFBQlXV1cRGBgo/v73vxvf37Bhg9Dr9cLJyUmMGDHC2L5161YxYMAA4ebmJjp16iTuuOMOsXPnTuP7eXl5on///sLNzU0MGDBA7Nixw6JJEgCabGlpaUIIIRYsWCC8vb1Fhw4dxKRJk8QLL7wgdDpdk59bRkaGCAgIEFqtVtxzzz3i/PnzJudpKXZOkrixNE6SOFl6XpyvqrNpO1l6XhWTJPg8KCIiFWh8HtRPZedtfoaTwWBAkL8XnwdFRET2Y4+19NSyFh8TFBGRijjSJAkudURERIrECoqISEUcaK1YJigiIlVxoAzFIT4iIlIkVlBERCrCWXxERKRInMVHREQkM1ZQREQq4kBzJFhBERGpiozPfM/IyEBwcDC0Wi3CwsJw8ODBFvvv378fYWFh0Gq16N69O9auXWvV+ZigiIioVdu3b0dycjIWLVqEgoICREZGIjo6GsXFxWb7FxUVYfz48YiMjERBQQGeeOIJzJs3Dzt27LD4nFwslohIBRoXiy0rt32BV4PBAH8fnVWLxQ4ZMgSDBg1CZmamsS0kJAQxMTFIT09v0v/xxx/H7t27UVhYaGxLTEzEl19+iby8PIvOyQqKiEhFGmfx2bpZo6amBkePHkVUVJRJe1RUFA4dOmR2n7y8vCb9x40bh/z8fNTW1lp0Xk6SICJSEYPBYLdjXH0sjUYDjUbTpH95eTnq6+vh5+dn0u7n54eysjKz5ygrKzPbv66uDuXl5ejcuXOrcTJBERGpgJubG/z9/XFzsN4ux+vQoQP0etNjpaWlYcmSJc3uI11VegkhmrS11t9ce3OYoIiIVECr1aKoqAg1NTV2OZ655GKuegIAHx8fODs7N6mWzp4926RKauTv72+2v4uLC7y9vS2KkQmKiEgltFottFrtdT+vm5sbwsLCkJubi7/85S/G9tzcXNx9991m94mIiMC7775r0vbhhx8iPDwcrq6uFp2XkySIiKhVKSkpePnll7Fp0yYUFhZi/vz5KC4uRmJiIgAgNTUV06dPN/ZPTEzETz/9hJSUFBQWFmLTpk3YuHEjHnvsMYvPyQqKiIhaNWnSJFRUVGDZsmUoLS1FaGgocnJyEBQUBAAoLS01uScqODgYOTk5mD9/PtasWYOAgAC89NJLuPfeey0+J++DIiIiReIQHxERKRITFBERKRITFBERKRITFBERKRITFBERKRITFBERKRITFBERKRITFBERKRITFBERKRITFBERKRITFBERKRITFBERKdL/A6KhHSXZbtBuAAAAAElFTkSuQmCC",
      "text/plain": [
       "<Figure size 480x480 with 2 Axes>"
      ]
     },
     "metadata": {},
     "output_type": "display_data"
    }
   ],
   "source": [
    "c = train_eval.TrainTestModels(cfg, clen_config)\n",
    "c.epoch_loop()\n",
    "c.plot_loss_accuracy()\n",
    "c.plot_confusion_matrix()\n",
    "c.get_confusion_matrix()\n",
    "c.save_model()"
   ]
  },
  {
   "cell_type": "code",
   "execution_count": null,
   "metadata": {},
   "outputs": [],
   "source": [
    "reload(pipe)\n",
    "pipeline = pipe.ModelPipeline(peak_config, photon_config, clen_config, device)"
   ]
  },
  {
   "cell_type": "code",
   "execution_count": null,
   "metadata": {},
   "outputs": [
    {
     "name": "stdout",
     "output_type": "stream",
     "text": [
      "\n",
      "Data prepared.\n",
      "Train size: 105\n",
      "Test size: 27\n",
      "Batch size: 1\n",
      "Number of batches in train_loader: 105 \n",
      "\n",
      "-- attributes: {'clen': tensor([0.2500], dtype=torch.float64), 'peak': tensor([True]), 'photon_energy': tensor([6000], dtype=torch.int32)}\n",
      "-- results: {'photon_energy': tensor([6000], device='cuda:0'), 'clen': tensor([0.2500], device='cuda:0')}\n"
     ]
    }
   ],
   "source": [
    "train_loader, test_loader = f.prepare(data_manager=myDataManager, batch_size=1)\n",
    "\n",
    "for inputs, labels, attributes in train_loader:\n",
    "    print(f'-- attributes: {attributes}')\n",
    "    results = pipeline.run(inputs.to(device))\n",
    "    print(f'-- results: {results}')\n",
    "    break"
   ]
  },
  {
   "cell_type": "code",
   "execution_count": null,
   "metadata": {},
   "outputs": [],
   "source": []
  },
  {
   "cell_type": "code",
   "execution_count": null,
   "metadata": {},
   "outputs": [
    {
     "data": {
      "text/plain": [
       "\"\\nHow I want the pipeline to look.\\n\\ncnn1_path = '../models/cnn1'\\ncnn2_path = '../models/cnn2'\\ncnn3_path = '../models/cnn3'\\n\\ncnn1 = m.BasicCNN1()\\ncnn2 = m.BasicCNN2()\\ncnn3 = m.BasicCNN3()\\n\\npipeline = pipe.ModelPipeline(cnn1_path, cnn2_path, cnn3_path, cnn1, cnn2, cnn3)\\npipeline.run(image)\\npipeline.evaluate_results(image_path)\\n\""
      ]
     },
     "execution_count": 12,
     "metadata": {},
     "output_type": "execute_result"
    }
   ],
   "source": [
    "\"\"\"\n",
    "How I want the pipeline to look.\n",
    "\n",
    "cnn1_path = '../models/cnn1'\n",
    "cnn2_path = '../models/cnn2'\n",
    "cnn3_path = '../models/cnn3'\n",
    "\n",
    "cnn1 = m.BasicCNN1()\n",
    "cnn2 = m.BasicCNN2()\n",
    "cnn3 = m.BasicCNN3()\n",
    "\n",
    "pipeline = pipe.ModelPipeline(cnn1_path, cnn2_path, cnn3_path, cnn1, cnn2, cnn3)\n",
    "pipeline.run(image)\n",
    "pipeline.evaluate_results(image_path)\n",
    "\"\"\""
   ]
  }
 ],
 "metadata": {
  "kernelspec": {
   "display_name": "torch",
   "language": "python",
   "name": "python3"
  },
  "language_info": {
   "codemirror_mode": {
    "name": "ipython",
    "version": 3
   },
   "file_extension": ".py",
   "mimetype": "text/x-python",
   "name": "python",
   "nbconvert_exporter": "python",
   "pygments_lexer": "ipython3",
   "version": "3.8.18"
  }
 },
 "nbformat": 4,
 "nbformat_minor": 2
}
