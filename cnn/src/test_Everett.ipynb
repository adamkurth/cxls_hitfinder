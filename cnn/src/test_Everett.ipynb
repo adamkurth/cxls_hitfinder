{
 "cells": [
  {
   "cell_type": "code",
   "execution_count": 5,
   "metadata": {},
   "outputs": [
    {
     "name": "stdout",
     "output_type": "stream",
     "text": [
      "[[(1.5, 6000.) (1.5, 7000.) (1.5, 8000.)]\n",
      " [(2.5, 6000.) (2.5, 7000.) (2.5, 8000.)]\n",
      " [(3.5, 6000.) (3.5, 7000.) (3.5, 8000.)]] \n",
      "\n",
      "[1.5, 6000]\n",
      "Found water background image: water01.h5\n",
      "Attributes 'clen' and 'photon_energy' assigned to /home/eseverett/Desktop/CXFEL/cxls_hitfinder/images/water/01/water01.h5\n",
      "Number of peak images: 39\n",
      "Number of water images: 39\n",
      "Number of label images: 40\n",
      "Check: Path to water background image: /home/eseverett/Desktop/CXFEL/cxls_hitfinder/images/water/01/water01.h5\n",
      "\n",
      "Attributes 'clen' and 'photon_energy' assigned to /home/eseverett/Desktop/CXFEL/cxls_hitfinder/images/labels/01/label_empty_01.h5\n",
      "File saved: /home/eseverett/Desktop/CXFEL/cxls_hitfinder/images/labels/01/label_empty_01.h5\n",
      "Empty label file created: /home/eseverett/Desktop/CXFEL/cxls_hitfinder/images/labels/01/label_empty_01.h5\n",
      "Attributes 'clen' and 'photon_energy' assigned to /home/eseverett/Desktop/CXFEL/cxls_hitfinder/images/labels/01/label_empty_01.h5\n",
      "File saved: /home/eseverett/Desktop/CXFEL/cxls_hitfinder/images/labels/01/label_empty_01.h5\n",
      "Empty label file created: /home/eseverett/Desktop/CXFEL/cxls_hitfinder/images/labels/01/label_empty_01.h5\n",
      "Attributes 'clen' and 'photon_energy' assigned to /home/eseverett/Desktop/CXFEL/cxls_hitfinder/images/labels/01/label_empty_01.h5\n",
      "File saved: /home/eseverett/Desktop/CXFEL/cxls_hitfinder/images/labels/01/label_empty_01.h5\n",
      "Empty label file created: /home/eseverett/Desktop/CXFEL/cxls_hitfinder/images/labels/01/label_empty_01.h5\n",
      "Attributes 'clen' and 'photon_energy' assigned to /home/eseverett/Desktop/CXFEL/cxls_hitfinder/images/labels/01/label_empty_01.h5\n",
      "File saved: /home/eseverett/Desktop/CXFEL/cxls_hitfinder/images/labels/01/label_empty_01.h5\n",
      "Empty label file created: /home/eseverett/Desktop/CXFEL/cxls_hitfinder/images/labels/01/label_empty_01.h5\n",
      "Attributes 'clen' and 'photon_energy' assigned to /home/eseverett/Desktop/CXFEL/cxls_hitfinder/images/labels/01/label_empty_01.h5\n",
      "File saved: /home/eseverett/Desktop/CXFEL/cxls_hitfinder/images/labels/01/label_empty_01.h5\n",
      "Empty label file created: /home/eseverett/Desktop/CXFEL/cxls_hitfinder/images/labels/01/label_empty_01.h5\n",
      "Attributes 'clen' and 'photon_energy' assigned to /home/eseverett/Desktop/CXFEL/cxls_hitfinder/images/labels/01/label_empty_01.h5\n",
      "File saved: /home/eseverett/Desktop/CXFEL/cxls_hitfinder/images/labels/01/label_empty_01.h5\n",
      "Empty label file created: /home/eseverett/Desktop/CXFEL/cxls_hitfinder/images/labels/01/label_empty_01.h5\n",
      "Attributes 'clen' and 'photon_energy' assigned to /home/eseverett/Desktop/CXFEL/cxls_hitfinder/images/labels/01/label_empty_01.h5\n",
      "File saved: /home/eseverett/Desktop/CXFEL/cxls_hitfinder/images/labels/01/label_empty_01.h5\n",
      "Empty label file created: /home/eseverett/Desktop/CXFEL/cxls_hitfinder/images/labels/01/label_empty_01.h5\n",
      "Attributes 'clen' and 'photon_energy' assigned to /home/eseverett/Desktop/CXFEL/cxls_hitfinder/images/labels/01/label_empty_01.h5\n",
      "File saved: /home/eseverett/Desktop/CXFEL/cxls_hitfinder/images/labels/01/label_empty_01.h5\n",
      "Empty label file created: /home/eseverett/Desktop/CXFEL/cxls_hitfinder/images/labels/01/label_empty_01.h5\n",
      "Attributes 'clen' and 'photon_energy' assigned to /home/eseverett/Desktop/CXFEL/cxls_hitfinder/images/labels/01/label_empty_01.h5\n",
      "File saved: /home/eseverett/Desktop/CXFEL/cxls_hitfinder/images/labels/01/label_empty_01.h5\n",
      "Empty label file created: /home/eseverett/Desktop/CXFEL/cxls_hitfinder/images/labels/01/label_empty_01.h5\n",
      "Attributes 'clen' and 'photon_energy' assigned to /home/eseverett/Desktop/CXFEL/cxls_hitfinder/images/labels/01/label_empty_01.h5\n",
      "File saved: /home/eseverett/Desktop/CXFEL/cxls_hitfinder/images/labels/01/label_empty_01.h5\n",
      "Empty label file created: /home/eseverett/Desktop/CXFEL/cxls_hitfinder/images/labels/01/label_empty_01.h5\n",
      "Attributes 'clen' and 'photon_energy' assigned to /home/eseverett/Desktop/CXFEL/cxls_hitfinder/images/labels/01/label_empty_01.h5\n",
      "File saved: /home/eseverett/Desktop/CXFEL/cxls_hitfinder/images/labels/01/label_empty_01.h5\n",
      "Empty label file created: /home/eseverett/Desktop/CXFEL/cxls_hitfinder/images/labels/01/label_empty_01.h5\n",
      "Attributes 'clen' and 'photon_energy' assigned to /home/eseverett/Desktop/CXFEL/cxls_hitfinder/images/labels/01/label_empty_01.h5\n",
      "File saved: /home/eseverett/Desktop/CXFEL/cxls_hitfinder/images/labels/01/label_empty_01.h5\n",
      "Empty label file created: /home/eseverett/Desktop/CXFEL/cxls_hitfinder/images/labels/01/label_empty_01.h5\n",
      "Attributes 'clen' and 'photon_energy' assigned to /home/eseverett/Desktop/CXFEL/cxls_hitfinder/images/labels/01/label_empty_01.h5\n",
      "File saved: /home/eseverett/Desktop/CXFEL/cxls_hitfinder/images/labels/01/label_empty_01.h5\n",
      "Empty label file created: /home/eseverett/Desktop/CXFEL/cxls_hitfinder/images/labels/01/label_empty_01.h5\n",
      "\n",
      "Total images (true peak count): 39\n",
      "Total images (including water background): 39\n",
      "Water background images added: 13\n",
      "\n"
     ]
    }
   ],
   "source": [
    "import os\n",
    "import torch\n",
    "import torch.nn as nn\n",
    "import torch.optim as optim\n",
    "import torch.nn.functional as F\n",
    "import numpy as np\n",
    "\n",
    "from pkg import u,m\n",
    "\n",
    "clen_values, photon_energy_values = [1.5, 2.5, 3.5], [6000, 7000, 8000]\n",
    "param_matrix = u.parameter_matrix(clen_values, photon_energy_values)\n",
    "print(param_matrix, '\\n')\n",
    "\n",
    "dataset_dict = {\n",
    "    '01': [clen_values[0], photon_energy_values[0]],\n",
    "    '02': [clen_values[0], photon_energy_values[1]],\n",
    "    '03': [clen_values[0], photon_energy_values[2]],\n",
    "    '04': [clen_values[1], photon_energy_values[0]],\n",
    "    '05': [clen_values[1], photon_energy_values[1]],\n",
    "    '06': [clen_values[1], photon_energy_values[2]],\n",
    "    '07': [clen_values[2], photon_energy_values[0]],\n",
    "    '08': [clen_values[2], photon_energy_values[1]],\n",
    "    '09': [clen_values[2], photon_energy_values[2]],\n",
    "}\n",
    "\n",
    "\n",
    "# parameters\n",
    "dataset = '01'\n",
    "print(dataset_dict[dataset])\n",
    "clen, photon_energy = dataset_dict[dataset]\n",
    "threshold = 1\n",
    "clen = 1.5 # meters \n",
    "photon_energy = 6000 # eV/ 6 keV\n",
    "\n",
    "# instances\n",
    "pm = u.PathManager()\n",
    "peak_paths, water_peak_paths, labels, water_background_path = pm.select_dataset(dataset=dataset)\n",
    "p = u.Processor(paths=pm, dataset=dataset)\n",
    "dm = u.DatasetManager(paths=pm, dataset=dataset, parameters=(clen, photon_energy), transform=None)"
   ]
  },
  {
   "cell_type": "code",
   "execution_count": 2,
   "metadata": {},
   "outputs": [],
   "source": [
    "# p.process_directory(dataset=dataset, clen=clen, photon_energy=photon_energy)"
   ]
  },
  {
   "cell_type": "code",
   "execution_count": 3,
   "metadata": {},
   "outputs": [
    {
     "name": "stdout",
     "output_type": "stream",
     "text": [
      "\n",
      "true parameter matrix...\n",
      "\n",
      "All files in dataset 01 of type 'label' have matching attributes.\n",
      "\n",
      "Data prepared.\n",
      "Train size: 31\n",
      "Test size: 8\n",
      "Batch size: 10\n",
      "Number of batches in train_loader: 4 \n",
      "\n"
     ]
    }
   ],
   "source": [
    "# generate peak/overlay/label and upate attributes\n",
    "# overlaying the correct water01.h5 path to the peak images\n",
    "# p.process_directory(dataset=dataset, clen=clen, photon_energy=photon_energy)\n",
    "\n",
    "# peak, label, overlay, background are valid types\n",
    "u.check_attributes(paths=pm, dataset=dataset, type='label') \n",
    "\n",
    "train_loader, test_loader = u.prepare(data_manager=dm, batch_size=10)"
   ]
  },
  {
   "cell_type": "code",
   "execution_count": 4,
   "metadata": {},
   "outputs": [],
   "source": [
    "model1 = m.BasicCNN1()\n",
    "criterion = nn.BCEWithLogitsLoss()\n",
    "optimizer = optim.Adam(model1.parameters(), lr=0.001)\n",
    "device = torch.device(\"cuda\" if torch.cuda.is_available() else \"cpu\")\n",
    "\n",
    "# for param in model1.parameters():\n",
    "#     param.requires_grad = False\n",
    "\n",
    "cfg = {\n",
    "    'num_epochs': 10,\n",
    "    'num_classes': 2,\n",
    "    'batch_size': train_loader.batch_size,\n",
    "    'test_size': len(train_loader.dataset),\n",
    "    'test_size': len(test_loader.dataset),\n",
    "    'criterion': criterion,\n",
    "    'optimizer': optimizer,\n",
    "    'device': device,\n",
    "    'model': model1,\n",
    "}\n",
    "\n",
    "# arguments: self, model, loader: list, criterion, optimizer, device, cfg: dict\n",
    "t = u.TrainTestModels(model=model1, loader=[train_loader, test_loader], criterion=criterion, optimizer=optimizer, device=device, cfg=cfg)"
   ]
  },
  {
   "cell_type": "code",
   "execution_count": 5,
   "metadata": {},
   "outputs": [
    {
     "name": "stdout",
     "output_type": "stream",
     "text": [
      "Model testing and validating: BasicCNN1\n",
      "-- epoch 0\n"
     ]
    },
    {
     "name": "stdout",
     "output_type": "stream",
     "text": [
      "Train loss: 0.26762461066246035\n",
      "Train accuracy: 0.9999675750732422\n",
      "Test loss: 0.06628686785697938\n",
      "Test accuracy: 0.9999905228614807\n",
      "-- epoch 1\n",
      "Train loss: 0.26363584995269773\n",
      "Train accuracy: 0.9999921321868896\n",
      "Test loss: 0.06527273058891296\n",
      "Test accuracy: 0.9999983310699463\n",
      "-- epoch 2\n",
      "Train loss: 0.2595135807991028\n",
      "Train accuracy: 0.999998152256012\n",
      "Test loss: 0.06421206593513488\n",
      "Test accuracy: 0.9999991059303284\n",
      "-- epoch 3\n",
      "Train loss: 0.25518991947174074\n",
      "Train accuracy: 0.9999989867210388\n",
      "Test loss: 0.0630938708782196\n",
      "Test accuracy: 0.9999991059303284\n",
      "-- epoch 4\n",
      "Train loss: 0.25061837434768675\n",
      "Train accuracy: 0.9999991059303284\n",
      "Test loss: 0.06191016435623169\n",
      "Test accuracy: 0.9999991059303284\n",
      "-- epoch 5\n",
      "Train loss: 0.24577704668045045\n",
      "Train accuracy: 0.9999992847442627\n",
      "Test loss: 0.060653358697891235\n",
      "Test accuracy: 0.9999991059303284\n",
      "-- epoch 6\n",
      "Train loss: 0.24063065648078918\n",
      "Train accuracy: 0.9999992847442627\n",
      "Test loss: 0.05931673645973205\n",
      "Test accuracy: 0.9999991059303284\n",
      "-- epoch 7\n",
      "Train loss: 0.23516582250595092\n",
      "Train accuracy: 0.9999992847442627\n",
      "Test loss: 0.057902032136917116\n",
      "Test accuracy: 0.9999991059303284\n",
      "-- epoch 8\n",
      "Train loss: 0.22938857674598695\n",
      "Train accuracy: 0.9999992847442627\n",
      "Test loss: 0.05640979409217835\n",
      "Test accuracy: 0.9999991059303284\n",
      "-- epoch 9\n",
      "Train loss: 0.22330509424209594\n",
      "Train accuracy: 0.9999992847442627\n",
      "Test loss: 0.05484214425086975\n",
      "Test accuracy: 0.9999991059303284\n"
     ]
    }
   ],
   "source": [
    "t.epoch_loop()"
   ]
  },
  {
   "cell_type": "code",
   "execution_count": 6,
   "metadata": {},
   "outputs": [
    {
     "data": {
      "image/png": "[encoded data removed]",
      "text/plain": [
       "<Figure size 640x480 with 1 Axes>"
      ]
     },
     "metadata": {},
     "output_type": "display_data"
    }
   ],
   "source": [
    "t.plot_loss_accuracy()"
   ]
  },
  {
   "cell_type": "code",
   "execution_count": 7,
   "metadata": {},
   "outputs": [
    {
     "data": {
      "image/png": "[encoded data removed]",
      "text/plain": [
       "<Figure size 480x480 with 2 Axes>"
      ]
     },
     "metadata": {},
     "output_type": "display_data"
    }
   ],
   "source": [
    "t.plot_confusion_matrix()"
   ]
  },
  {
   "cell_type": "code",
   "execution_count": 9,
   "metadata": {},
   "outputs": [
    {
     "data": {
      "text/plain": [
       "array([[1., 0.],\n",
       "       [1., 0.]])"
      ]
     },
     "execution_count": 9,
     "metadata": {},
     "output_type": "execute_result"
    }
   ],
   "source": [
    "t.get_confusion_matrix()"
   ]
  },
  {
   "cell_type": "code",
   "execution_count": 9,
   "metadata": {},
   "outputs": [
    {
     "data": {
      "text/plain": [
       "(1.5, 6000)"
      ]
     },
     "execution_count": 9,
     "metadata": {},
     "output_type": "execute_result"
    }
   ],
   "source": [
    "# def retrieve_attributes(file_path: str) -> tuple:\n",
    "# clen, photon_energy\n",
    "one, two = u.retrieve_attributes('../../images/peaks/01/img_6keV_clen01_00062.h5')\n",
    "one, two"
   ]
  }
 ],
 "metadata": {
  "kernelspec": {
   "display_name": "torch",
   "language": "python",
   "name": "python3"
  },
  "language_info": {
   "codemirror_mode": {
    "name": "ipython",
    "version": 3
   },
   "file_extension": ".py",
   "mimetype": "text/x-python",
   "name": "python",
   "nbconvert_exporter": "python",
   "pygments_lexer": "ipython3",
   "version": "3.11.5"
  }
 },
 "nbformat": 4,
 "nbformat_minor": 2
}
