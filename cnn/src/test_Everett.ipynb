{
 "cells": [
  {
   "cell_type": "code",
   "execution_count": 1,
   "metadata": {},
   "outputs": [],
   "source": [
    "import os\n",
    "import torch\n",
    "import torch.nn as nn\n",
    "import torch.optim as optim\n",
    "import torch.nn.functional as F\n",
    "import numpy as np\n",
    "import subprocess\n",
    "from glob import glob\n",
    "from pkg import *\n",
    "from pkg.functions import convert2int, convert2str, get_params\n",
    "from typing import List, Dict, Any"
   ]
  },
  {
   "cell_type": "code",
   "execution_count": 2,
   "metadata": {},
   "outputs": [
    {
     "name": "stdout",
     "output_type": "stream",
     "text": [
      "Water backgrounds initialized: 1\n",
      "{'01': {'clen': 0.15, 'photon_energy': 6000}}\n",
      "Paths refreshed for dataset ['01'].\n",
      "Directory: peaks/01\n",
      "\tTotal files: 58\n",
      "\tNormal images: 39\n",
      "\tEmpty images: 19\n",
      "Directory: labels/01\n",
      "\tTotal files: 97\n",
      "\tNormal images: 78\n",
      "\tEmpty images: 19\n",
      "Directory: peaks_water_overlay/01\n",
      "\tTotal files: 97\n",
      "\tNormal images: 78\n",
      "\tEmpty images: 19\n",
      "Actual percentage of empty images: 22.61904761904762% across peaks, water_overlays, and labels directories.\n",
      "\n",
      "Final dataset sizes - Peaks: 58, Labels: 97, Overlays: 97\n",
      "\n",
      "Data prepared.\n",
      "Train size: 46\n",
      "Test size: 12\n",
      "Batch size: 10\n",
      "Number of batches in train_loader: 5 \n",
      "\n"
     ]
    }
   ],
   "source": [
    "datasets = [1]\n",
    "\n",
    "myPaths = path.PathManager(datasets=datasets)\n",
    "myProcessor = process.Processor(paths=myPaths, datasets=datasets)\n",
    "params = myProcessor.get_parameters()\n",
    "print(params)\n",
    "f.get_counts(paths=myPaths, datasets=datasets)\n",
    "\n",
    "myDatasetManager = data.DatasetManager(paths=myPaths, datasets=datasets)\n",
    "\n",
    "train_loader, test_loader = f.prepare(data_manager=myDatasetManager, batch_size=10)"
   ]
  },
  {
   "cell_type": "code",
   "execution_count": 3,
   "metadata": {},
   "outputs": [
    {
     "name": "stdout",
     "output_type": "stream",
     "text": [
      "c:\\Users\\eseveret\\Desktop\\cxls_hitfinder\\images\\peaks\\01\\empty_peak_01_00001.h5 conforms to expected attributes.\n",
      "c:\\Users\\eseveret\\Desktop\\cxls_hitfinder\\images\\peaks\\01\\empty_peak_01_00001.h5:\n",
      "Expected Peak: False, Actual Peak: False\n",
      "c:\\Users\\eseveret\\Desktop\\cxls_hitfinder\\images\\peaks\\01\\empty_peak_01_00002.h5 conforms to expected attributes.\n",
      "c:\\Users\\eseveret\\Desktop\\cxls_hitfinder\\images\\peaks\\01\\empty_peak_01_00002.h5:\n",
      "Expected Peak: False, Actual Peak: False\n",
      "c:\\Users\\eseveret\\Desktop\\cxls_hitfinder\\images\\peaks\\01\\empty_peak_01_00003.h5 conforms to expected attributes.\n",
      "c:\\Users\\eseveret\\Desktop\\cxls_hitfinder\\images\\peaks\\01\\empty_peak_01_00003.h5:\n",
      "Expected Peak: False, Actual Peak: False\n",
      "c:\\Users\\eseveret\\Desktop\\cxls_hitfinder\\images\\peaks\\01\\empty_peak_01_00004.h5 conforms to expected attributes.\n",
      "c:\\Users\\eseveret\\Desktop\\cxls_hitfinder\\images\\peaks\\01\\empty_peak_01_00004.h5:\n",
      "Expected Peak: False, Actual Peak: False\n",
      "c:\\Users\\eseveret\\Desktop\\cxls_hitfinder\\images\\peaks\\01\\empty_peak_01_00005.h5 conforms to expected attributes.\n",
      "c:\\Users\\eseveret\\Desktop\\cxls_hitfinder\\images\\peaks\\01\\empty_peak_01_00005.h5:\n",
      "Expected Peak: False, Actual Peak: False\n",
      "c:\\Users\\eseveret\\Desktop\\cxls_hitfinder\\images\\peaks\\01\\empty_peak_01_00006.h5 conforms to expected attributes.\n",
      "c:\\Users\\eseveret\\Desktop\\cxls_hitfinder\\images\\peaks\\01\\empty_peak_01_00006.h5:\n",
      "Expected Peak: False, Actual Peak: False\n",
      "c:\\Users\\eseveret\\Desktop\\cxls_hitfinder\\images\\peaks\\01\\empty_peak_01_00007.h5 conforms to expected attributes.\n",
      "c:\\Users\\eseveret\\Desktop\\cxls_hitfinder\\images\\peaks\\01\\empty_peak_01_00007.h5:\n",
      "Expected Peak: False, Actual Peak: False\n",
      "c:\\Users\\eseveret\\Desktop\\cxls_hitfinder\\images\\peaks\\01\\empty_peak_01_00008.h5 conforms to expected attributes.\n",
      "c:\\Users\\eseveret\\Desktop\\cxls_hitfinder\\images\\peaks\\01\\empty_peak_01_00008.h5:\n",
      "Expected Peak: False, Actual Peak: False\n",
      "c:\\Users\\eseveret\\Desktop\\cxls_hitfinder\\images\\peaks\\01\\empty_peak_01_00009.h5 conforms to expected attributes.\n",
      "c:\\Users\\eseveret\\Desktop\\cxls_hitfinder\\images\\peaks\\01\\empty_peak_01_00009.h5:\n",
      "Expected Peak: False, Actual Peak: False\n",
      "c:\\Users\\eseveret\\Desktop\\cxls_hitfinder\\images\\peaks\\01\\empty_peak_01_00010.h5 conforms to expected attributes.\n",
      "c:\\Users\\eseveret\\Desktop\\cxls_hitfinder\\images\\peaks\\01\\empty_peak_01_00010.h5:\n",
      "Expected Peak: False, Actual Peak: False\n",
      "c:\\Users\\eseveret\\Desktop\\cxls_hitfinder\\images\\peaks\\01\\empty_peak_01_00011.h5 conforms to expected attributes.\n",
      "c:\\Users\\eseveret\\Desktop\\cxls_hitfinder\\images\\peaks\\01\\empty_peak_01_00011.h5:\n",
      "Expected Peak: False, Actual Peak: False\n",
      "c:\\Users\\eseveret\\Desktop\\cxls_hitfinder\\images\\peaks\\01\\empty_peak_01_00012.h5 conforms to expected attributes.\n",
      "c:\\Users\\eseveret\\Desktop\\cxls_hitfinder\\images\\peaks\\01\\empty_peak_01_00012.h5:\n",
      "Expected Peak: False, Actual Peak: False\n",
      "c:\\Users\\eseveret\\Desktop\\cxls_hitfinder\\images\\peaks\\01\\empty_peak_01_00013.h5 conforms to expected attributes.\n",
      "c:\\Users\\eseveret\\Desktop\\cxls_hitfinder\\images\\peaks\\01\\empty_peak_01_00013.h5:\n",
      "Expected Peak: False, Actual Peak: False\n",
      "c:\\Users\\eseveret\\Desktop\\cxls_hitfinder\\images\\peaks\\01\\empty_peak_01_00014.h5 conforms to expected attributes.\n",
      "c:\\Users\\eseveret\\Desktop\\cxls_hitfinder\\images\\peaks\\01\\empty_peak_01_00014.h5:\n",
      "Expected Peak: False, Actual Peak: False\n",
      "c:\\Users\\eseveret\\Desktop\\cxls_hitfinder\\images\\peaks\\01\\empty_peak_01_00015.h5 conforms to expected attributes.\n",
      "c:\\Users\\eseveret\\Desktop\\cxls_hitfinder\\images\\peaks\\01\\empty_peak_01_00015.h5:\n",
      "Expected Peak: False, Actual Peak: False\n",
      "c:\\Users\\eseveret\\Desktop\\cxls_hitfinder\\images\\peaks\\01\\empty_peak_01_00016.h5 conforms to expected attributes.\n",
      "c:\\Users\\eseveret\\Desktop\\cxls_hitfinder\\images\\peaks\\01\\empty_peak_01_00016.h5:\n",
      "Expected Peak: False, Actual Peak: False\n",
      "c:\\Users\\eseveret\\Desktop\\cxls_hitfinder\\images\\peaks\\01\\empty_peak_01_00017.h5 conforms to expected attributes.\n",
      "c:\\Users\\eseveret\\Desktop\\cxls_hitfinder\\images\\peaks\\01\\empty_peak_01_00017.h5:\n",
      "Expected Peak: False, Actual Peak: False\n",
      "c:\\Users\\eseveret\\Desktop\\cxls_hitfinder\\images\\peaks\\01\\empty_peak_01_00018.h5 conforms to expected attributes.\n",
      "c:\\Users\\eseveret\\Desktop\\cxls_hitfinder\\images\\peaks\\01\\empty_peak_01_00018.h5:\n",
      "Expected Peak: False, Actual Peak: False\n",
      "c:\\Users\\eseveret\\Desktop\\cxls_hitfinder\\images\\peaks\\01\\empty_peak_01_00019.h5 conforms to expected attributes.\n",
      "c:\\Users\\eseveret\\Desktop\\cxls_hitfinder\\images\\peaks\\01\\empty_peak_01_00019.h5:\n",
      "Expected Peak: False, Actual Peak: False\n",
      "c:\\Users\\eseveret\\Desktop\\cxls_hitfinder\\images\\peaks\\01\\img_6keV_clen01_00137.h5 conforms to expected attributes.\n",
      "c:\\Users\\eseveret\\Desktop\\cxls_hitfinder\\images\\peaks\\01\\img_6keV_clen01_00137.h5:\n",
      "Expected Peak: True, Actual Peak: True\n",
      "c:\\Users\\eseveret\\Desktop\\cxls_hitfinder\\images\\peaks\\01\\img_6keV_clen01_00138.h5 conforms to expected attributes.\n",
      "c:\\Users\\eseveret\\Desktop\\cxls_hitfinder\\images\\peaks\\01\\img_6keV_clen01_00138.h5:\n",
      "Expected Peak: True, Actual Peak: True\n",
      "c:\\Users\\eseveret\\Desktop\\cxls_hitfinder\\images\\peaks\\01\\img_6keV_clen01_00139.h5 conforms to expected attributes.\n",
      "c:\\Users\\eseveret\\Desktop\\cxls_hitfinder\\images\\peaks\\01\\img_6keV_clen01_00139.h5:\n",
      "Expected Peak: True, Actual Peak: True\n",
      "c:\\Users\\eseveret\\Desktop\\cxls_hitfinder\\images\\peaks\\01\\img_6keV_clen01_00140.h5 conforms to expected attributes.\n",
      "c:\\Users\\eseveret\\Desktop\\cxls_hitfinder\\images\\peaks\\01\\img_6keV_clen01_00140.h5:\n",
      "Expected Peak: True, Actual Peak: True\n",
      "c:\\Users\\eseveret\\Desktop\\cxls_hitfinder\\images\\peaks\\01\\img_6keV_clen01_00141.h5 conforms to expected attributes.\n",
      "c:\\Users\\eseveret\\Desktop\\cxls_hitfinder\\images\\peaks\\01\\img_6keV_clen01_00141.h5:\n",
      "Expected Peak: True, Actual Peak: True\n",
      "c:\\Users\\eseveret\\Desktop\\cxls_hitfinder\\images\\peaks\\01\\img_6keV_clen01_00142.h5 conforms to expected attributes.\n",
      "c:\\Users\\eseveret\\Desktop\\cxls_hitfinder\\images\\peaks\\01\\img_6keV_clen01_00142.h5:\n",
      "Expected Peak: True, Actual Peak: True\n",
      "c:\\Users\\eseveret\\Desktop\\cxls_hitfinder\\images\\peaks\\01\\img_6keV_clen01_00143.h5 conforms to expected attributes.\n",
      "c:\\Users\\eseveret\\Desktop\\cxls_hitfinder\\images\\peaks\\01\\img_6keV_clen01_00143.h5:\n",
      "Expected Peak: True, Actual Peak: True\n",
      "c:\\Users\\eseveret\\Desktop\\cxls_hitfinder\\images\\peaks\\01\\img_6keV_clen01_00144.h5 conforms to expected attributes.\n",
      "c:\\Users\\eseveret\\Desktop\\cxls_hitfinder\\images\\peaks\\01\\img_6keV_clen01_00144.h5:\n",
      "Expected Peak: True, Actual Peak: True\n",
      "c:\\Users\\eseveret\\Desktop\\cxls_hitfinder\\images\\peaks\\01\\img_6keV_clen01_00145.h5 conforms to expected attributes.\n",
      "c:\\Users\\eseveret\\Desktop\\cxls_hitfinder\\images\\peaks\\01\\img_6keV_clen01_00145.h5:\n",
      "Expected Peak: True, Actual Peak: True\n",
      "c:\\Users\\eseveret\\Desktop\\cxls_hitfinder\\images\\peaks\\01\\img_6keV_clen01_00146.h5 conforms to expected attributes.\n",
      "c:\\Users\\eseveret\\Desktop\\cxls_hitfinder\\images\\peaks\\01\\img_6keV_clen01_00146.h5:\n",
      "Expected Peak: True, Actual Peak: True\n",
      "c:\\Users\\eseveret\\Desktop\\cxls_hitfinder\\images\\peaks\\01\\img_6keV_clen01_00147.h5 conforms to expected attributes.\n",
      "c:\\Users\\eseveret\\Desktop\\cxls_hitfinder\\images\\peaks\\01\\img_6keV_clen01_00147.h5:\n",
      "Expected Peak: True, Actual Peak: True\n",
      "c:\\Users\\eseveret\\Desktop\\cxls_hitfinder\\images\\peaks\\01\\img_6keV_clen01_00148.h5 conforms to expected attributes.\n",
      "c:\\Users\\eseveret\\Desktop\\cxls_hitfinder\\images\\peaks\\01\\img_6keV_clen01_00148.h5:\n",
      "Expected Peak: True, Actual Peak: True\n",
      "c:\\Users\\eseveret\\Desktop\\cxls_hitfinder\\images\\peaks\\01\\img_6keV_clen01_00149.h5 conforms to expected attributes.\n",
      "c:\\Users\\eseveret\\Desktop\\cxls_hitfinder\\images\\peaks\\01\\img_6keV_clen01_00149.h5:\n",
      "Expected Peak: True, Actual Peak: True\n",
      "c:\\Users\\eseveret\\Desktop\\cxls_hitfinder\\images\\peaks\\01\\img_6keV_clen01_00150.h5 conforms to expected attributes.\n",
      "c:\\Users\\eseveret\\Desktop\\cxls_hitfinder\\images\\peaks\\01\\img_6keV_clen01_00150.h5:\n",
      "Expected Peak: True, Actual Peak: True\n",
      "c:\\Users\\eseveret\\Desktop\\cxls_hitfinder\\images\\peaks\\01\\img_6keV_clen01_00151.h5 conforms to expected attributes.\n",
      "c:\\Users\\eseveret\\Desktop\\cxls_hitfinder\\images\\peaks\\01\\img_6keV_clen01_00151.h5:\n",
      "Expected Peak: True, Actual Peak: True\n",
      "c:\\Users\\eseveret\\Desktop\\cxls_hitfinder\\images\\peaks\\01\\img_6keV_clen01_00152.h5 conforms to expected attributes.\n",
      "c:\\Users\\eseveret\\Desktop\\cxls_hitfinder\\images\\peaks\\01\\img_6keV_clen01_00152.h5:\n",
      "Expected Peak: True, Actual Peak: True\n",
      "c:\\Users\\eseveret\\Desktop\\cxls_hitfinder\\images\\peaks\\01\\img_6keV_clen01_00153.h5 conforms to expected attributes.\n",
      "c:\\Users\\eseveret\\Desktop\\cxls_hitfinder\\images\\peaks\\01\\img_6keV_clen01_00153.h5:\n",
      "Expected Peak: True, Actual Peak: True\n",
      "c:\\Users\\eseveret\\Desktop\\cxls_hitfinder\\images\\peaks\\01\\img_6keV_clen01_00154.h5 conforms to expected attributes.\n",
      "c:\\Users\\eseveret\\Desktop\\cxls_hitfinder\\images\\peaks\\01\\img_6keV_clen01_00154.h5:\n",
      "Expected Peak: True, Actual Peak: True\n",
      "c:\\Users\\eseveret\\Desktop\\cxls_hitfinder\\images\\peaks\\01\\img_6keV_clen01_00155.h5 conforms to expected attributes.\n",
      "c:\\Users\\eseveret\\Desktop\\cxls_hitfinder\\images\\peaks\\01\\img_6keV_clen01_00155.h5:\n",
      "Expected Peak: True, Actual Peak: True\n",
      "c:\\Users\\eseveret\\Desktop\\cxls_hitfinder\\images\\peaks\\01\\img_6keV_clen01_00156.h5 conforms to expected attributes.\n",
      "c:\\Users\\eseveret\\Desktop\\cxls_hitfinder\\images\\peaks\\01\\img_6keV_clen01_00156.h5:\n",
      "Expected Peak: True, Actual Peak: True\n",
      "c:\\Users\\eseveret\\Desktop\\cxls_hitfinder\\images\\peaks\\01\\img_6keV_clen01_00157.h5 conforms to expected attributes.\n",
      "c:\\Users\\eseveret\\Desktop\\cxls_hitfinder\\images\\peaks\\01\\img_6keV_clen01_00157.h5:\n",
      "Expected Peak: True, Actual Peak: True\n",
      "c:\\Users\\eseveret\\Desktop\\cxls_hitfinder\\images\\peaks\\01\\img_6keV_clen01_00158.h5 conforms to expected attributes.\n",
      "c:\\Users\\eseveret\\Desktop\\cxls_hitfinder\\images\\peaks\\01\\img_6keV_clen01_00158.h5:\n",
      "Expected Peak: True, Actual Peak: True\n",
      "c:\\Users\\eseveret\\Desktop\\cxls_hitfinder\\images\\peaks\\01\\img_6keV_clen01_00159.h5 conforms to expected attributes.\n",
      "c:\\Users\\eseveret\\Desktop\\cxls_hitfinder\\images\\peaks\\01\\img_6keV_clen01_00159.h5:\n",
      "Expected Peak: True, Actual Peak: True\n",
      "c:\\Users\\eseveret\\Desktop\\cxls_hitfinder\\images\\peaks\\01\\img_6keV_clen01_00160.h5 conforms to expected attributes.\n",
      "c:\\Users\\eseveret\\Desktop\\cxls_hitfinder\\images\\peaks\\01\\img_6keV_clen01_00160.h5:\n",
      "Expected Peak: True, Actual Peak: True\n",
      "c:\\Users\\eseveret\\Desktop\\cxls_hitfinder\\images\\peaks\\01\\img_6keV_clen01_00161.h5 conforms to expected attributes.\n",
      "c:\\Users\\eseveret\\Desktop\\cxls_hitfinder\\images\\peaks\\01\\img_6keV_clen01_00161.h5:\n",
      "Expected Peak: True, Actual Peak: True\n",
      "c:\\Users\\eseveret\\Desktop\\cxls_hitfinder\\images\\peaks\\01\\img_6keV_clen01_00162.h5 conforms to expected attributes.\n",
      "c:\\Users\\eseveret\\Desktop\\cxls_hitfinder\\images\\peaks\\01\\img_6keV_clen01_00162.h5:\n",
      "Expected Peak: True, Actual Peak: True\n",
      "c:\\Users\\eseveret\\Desktop\\cxls_hitfinder\\images\\peaks\\01\\img_6keV_clen01_00163.h5 conforms to expected attributes.\n",
      "c:\\Users\\eseveret\\Desktop\\cxls_hitfinder\\images\\peaks\\01\\img_6keV_clen01_00163.h5:\n",
      "Expected Peak: True, Actual Peak: True\n",
      "c:\\Users\\eseveret\\Desktop\\cxls_hitfinder\\images\\peaks\\01\\img_6keV_clen01_00164.h5 conforms to expected attributes.\n",
      "c:\\Users\\eseveret\\Desktop\\cxls_hitfinder\\images\\peaks\\01\\img_6keV_clen01_00164.h5:\n",
      "Expected Peak: True, Actual Peak: True\n",
      "c:\\Users\\eseveret\\Desktop\\cxls_hitfinder\\images\\peaks\\01\\img_6keV_clen01_00165.h5 conforms to expected attributes.\n",
      "c:\\Users\\eseveret\\Desktop\\cxls_hitfinder\\images\\peaks\\01\\img_6keV_clen01_00165.h5:\n",
      "Expected Peak: True, Actual Peak: True\n",
      "c:\\Users\\eseveret\\Desktop\\cxls_hitfinder\\images\\peaks\\01\\img_6keV_clen01_00166.h5 conforms to expected attributes.\n",
      "c:\\Users\\eseveret\\Desktop\\cxls_hitfinder\\images\\peaks\\01\\img_6keV_clen01_00166.h5:\n",
      "Expected Peak: True, Actual Peak: True\n",
      "c:\\Users\\eseveret\\Desktop\\cxls_hitfinder\\images\\peaks\\01\\img_6keV_clen01_00167.h5 conforms to expected attributes.\n",
      "c:\\Users\\eseveret\\Desktop\\cxls_hitfinder\\images\\peaks\\01\\img_6keV_clen01_00167.h5:\n",
      "Expected Peak: True, Actual Peak: True\n",
      "c:\\Users\\eseveret\\Desktop\\cxls_hitfinder\\images\\peaks\\01\\img_6keV_clen01_00168.h5 conforms to expected attributes.\n",
      "c:\\Users\\eseveret\\Desktop\\cxls_hitfinder\\images\\peaks\\01\\img_6keV_clen01_00168.h5:\n",
      "Expected Peak: True, Actual Peak: True\n",
      "c:\\Users\\eseveret\\Desktop\\cxls_hitfinder\\images\\peaks\\01\\img_6keV_clen01_00169.h5 conforms to expected attributes.\n",
      "c:\\Users\\eseveret\\Desktop\\cxls_hitfinder\\images\\peaks\\01\\img_6keV_clen01_00169.h5:\n",
      "Expected Peak: True, Actual Peak: True\n",
      "c:\\Users\\eseveret\\Desktop\\cxls_hitfinder\\images\\peaks\\01\\img_6keV_clen01_00170.h5 conforms to expected attributes.\n",
      "c:\\Users\\eseveret\\Desktop\\cxls_hitfinder\\images\\peaks\\01\\img_6keV_clen01_00170.h5:\n",
      "Expected Peak: True, Actual Peak: True\n",
      "c:\\Users\\eseveret\\Desktop\\cxls_hitfinder\\images\\peaks\\01\\img_6keV_clen01_00171.h5 conforms to expected attributes.\n",
      "c:\\Users\\eseveret\\Desktop\\cxls_hitfinder\\images\\peaks\\01\\img_6keV_clen01_00171.h5:\n",
      "Expected Peak: True, Actual Peak: True\n",
      "c:\\Users\\eseveret\\Desktop\\cxls_hitfinder\\images\\peaks\\01\\img_6keV_clen01_00172.h5 conforms to expected attributes.\n",
      "c:\\Users\\eseveret\\Desktop\\cxls_hitfinder\\images\\peaks\\01\\img_6keV_clen01_00172.h5:\n",
      "Expected Peak: True, Actual Peak: True\n",
      "c:\\Users\\eseveret\\Desktop\\cxls_hitfinder\\images\\peaks\\01\\img_6keV_clen01_00173.h5 conforms to expected attributes.\n",
      "c:\\Users\\eseveret\\Desktop\\cxls_hitfinder\\images\\peaks\\01\\img_6keV_clen01_00173.h5:\n",
      "Expected Peak: True, Actual Peak: True\n",
      "c:\\Users\\eseveret\\Desktop\\cxls_hitfinder\\images\\peaks\\01\\img_6keV_clen01_00174.h5 conforms to expected attributes.\n",
      "c:\\Users\\eseveret\\Desktop\\cxls_hitfinder\\images\\peaks\\01\\img_6keV_clen01_00174.h5:\n",
      "Expected Peak: True, Actual Peak: True\n",
      "c:\\Users\\eseveret\\Desktop\\cxls_hitfinder\\images\\peaks\\01\\img_6keV_clen01_00175.h5 conforms to expected attributes.\n",
      "c:\\Users\\eseveret\\Desktop\\cxls_hitfinder\\images\\peaks\\01\\img_6keV_clen01_00175.h5:\n",
      "Expected Peak: True, Actual Peak: True\n",
      "{'01': {'clen': 0.15, 'photon_energy': 6000}}\n"
     ]
    },
    {
     "data": {
      "text/plain": [
       "{'clen': 0.15, 'peak': False, 'photon_energy': 6000}"
      ]
     },
     "execution_count": 3,
     "metadata": {},
     "output_type": "execute_result"
    }
   ],
   "source": [
    "f.check_attributes(paths=myPaths, datasets=f.convert2str(datasets), dir_type='peak')\n",
    "print(myProcessor.get_parameters())\n",
    "\n",
    "f.retrieve_attributes(file_path=myPaths.total_paths.water_background[0])"
   ]
  },
  {
   "cell_type": "code",
   "execution_count": 4,
   "metadata": {},
   "outputs": [
    {
     "name": "stdout",
     "output_type": "stream",
     "text": [
      "Paths refreshed for dataset ['01'].\n",
      "Directory: peaks/01\n",
      "\tTotal files: 58\n",
      "\tNormal images: 39\n",
      "\tEmpty images: 19\n",
      "Directory: labels/01\n",
      "\tTotal files: 97\n",
      "\tNormal images: 78\n",
      "\tEmpty images: 19\n",
      "Directory: peaks_water_overlay/01\n",
      "\tTotal files: 97\n",
      "\tNormal images: 78\n",
      "\tEmpty images: 19\n"
     ]
    }
   ],
   "source": [
    "f.get_counts(paths=myPaths, datasets=datasets)\n",
    "# %run process_directory.py ../../images  --percent_empty 0.5 \n",
    "# f.get_counts(paths=myPaths, datasets=datasets)"
   ]
  },
  {
   "cell_type": "code",
   "execution_count": 5,
   "metadata": {},
   "outputs": [
    {
     "name": "stdout",
     "output_type": "stream",
     "text": [
      "Actual percentage of empty images: 22.61904761904762% across peaks, water_overlays, and labels directories.\n",
      "\n",
      "Final dataset sizes - Peaks: 58, Labels: 97, Overlays: 97\n",
      "\n",
      "Data prepared.\n",
      "Train size: 46\n",
      "Test size: 12\n",
      "Batch size: 10\n",
      "Number of batches in train_loader: 5 \n",
      "\n"
     ]
    }
   ],
   "source": [
    "myDataManager = data.DatasetManager(paths=myPaths, datasets=datasets, transform=None)\n",
    "\n",
    "# peak, label, overlay are valid types\n",
    "# clen, photon_energy = myProcessor.get_parameters()\n",
    "\n",
    "# f.check_attributes(paths=myPaths, dataset=datasets, type='peak', clen=clen, photon_energy=photon_energy) \n",
    "# f.check_attributes(paths=myPaths, dataset=datasets, type='overlay', clen=clen, photon_energy=photon_energy)\n",
    "# f.check_attributes(paths=myPaths, dataset=datasets, type='label', clen=clen, photon_energy=photon_energy)\n",
    "\n",
    "train_loader, test_loader = f.prepare(data_manager=myDataManager, batch_size=10)"
   ]
  },
  {
   "cell_type": "code",
   "execution_count": 6,
   "metadata": {},
   "outputs": [],
   "source": [
    "# for inputs, labels, attributes in train_loader:\n",
    "#     print(attributes)"
   ]
  },
  {
   "cell_type": "code",
   "execution_count": 7,
   "metadata": {},
   "outputs": [],
   "source": [
    "# f.check_attributes(paths=myPaths, dataset=datasets, type='peak', clen=clen, photon_energy=photon_energy)\n",
    "# test_path = myPaths.get_peak_image_paths(datasets)[0]\n",
    "# test = f.retrieve_attributes(test_path) \n",
    "# print(test)"
   ]
  },
  {
   "cell_type": "code",
   "execution_count": 8,
   "metadata": {},
   "outputs": [],
   "source": [
    "# dir(m)"
   ]
  },
  {
   "cell_type": "code",
   "execution_count": 18,
   "metadata": {},
   "outputs": [
    {
     "name": "stdout",
     "output_type": "stream",
     "text": [
      "cuda\n"
     ]
    }
   ],
   "source": [
    "device = torch.device(\"cuda\" if torch.cuda.is_available() else \"cpu\")\n",
    "# device = torch.device(\"cpu\")\n",
    "print(device)\n",
    "\n",
    "model1 = m.Multi_Class_CNN1().to(device)\n",
    "# model1 = m.BasicCNN3().to(device)\n",
    "# criterion = nn.BCEWithLogitsLoss()\n",
    "criterion = nn.CrossEntropyLoss()\n",
    "optimizer = optim.Adam(model1.parameters(), lr=0.001)\n",
    "\n",
    "feature = 'clen'\n",
    "\n",
    "cfg = {\n",
    "    'num_epochs': 2,\n",
    "    'num_classes': 3,\n",
    "    'batch_size': train_loader.batch_size,\n",
    "    'test_size': len(train_loader.dataset),\n",
    "    'test_size': len(test_loader.dataset),\n",
    "    'criterion': criterion,\n",
    "    'optimizer': optimizer,\n",
    "    'device': device,\n",
    "    'model': model1,\n",
    "    'threshold': 0.5\n",
    "    }\n",
    "\n",
    "labels = {\n",
    "    'peaks': [\"True\", \"False\"],\n",
    "    'photon_energy': [1,2,3],\n",
    "    'clen': [1,2,3]\n",
    "}\n",
    "\n",
    "# # arguments: self, model, loader: list, criterion, optimizer, device, cfg: dict\n",
    "t = train_eval.TrainTestModels(model=model1, loader=[train_loader, test_loader], criterion=criterion, optimizer=optimizer, device=device, cfg=cfg, feature=feature, labels=labels[feature])"
   ]
  },
  {
   "cell_type": "code",
   "execution_count": 19,
   "metadata": {},
   "outputs": [
    {
     "name": "stdout",
     "output_type": "stream",
     "text": [
      "Model testing and validating: Multi_Class_CNN1\n",
      "Looking for the feature: photon_energy\n",
      "-- epoch 0\n",
      "Train loss: 0.64052734375\n",
      "Train accuracy: 0.3478260934352875\n",
      "Test loss: 0.0\n",
      "Test accuracy: 2.0\n",
      "-- epoch 1\n",
      "Train loss: nan\n",
      "Train accuracy: 1.0\n",
      "Test loss: nan\n",
      "Test accuracy: 2.0\n"
     ]
    },
    {
     "data": {
      "image/png": "[encoded data removed]",
      "text/plain": [
       "<Figure size 640x480 with 1 Axes>"
      ]
     },
     "metadata": {},
     "output_type": "display_data"
    }
   ],
   "source": [
    "t.epoch_loop()\n",
    "t.plot_loss_accuracy()"
   ]
  },
  {
   "cell_type": "code",
   "execution_count": 20,
   "metadata": {},
   "outputs": [
    {
     "name": "stdout",
     "output_type": "stream",
     "text": [
      "Labels: [1 1 1 1 1 1 1 1 1 1 1 1]\n",
      "Predictions: [1 1 1 1 1 1 1 1 1 1 1 1]\n"
     ]
    },
    {
     "data": {
      "image/png": "[encoded data removed]",
      "text/plain": [
       "<Figure size 480x480 with 2 Axes>"
      ]
     },
     "metadata": {},
     "output_type": "display_data"
    },
    {
     "data": {
      "text/plain": [
       "array([[1., 0., 0.],\n",
       "       [0., 0., 0.],\n",
       "       [0., 0., 0.]])"
      ]
     },
     "execution_count": 20,
     "metadata": {},
     "output_type": "execute_result"
    }
   ],
   "source": [
    "t.plot_confusion_matrix()\n",
    "t.get_confusion_matrix()"
   ]
  },
  {
   "cell_type": "code",
   "execution_count": null,
   "metadata": {},
   "outputs": [],
   "source": [
    "# test_peaks = myPaths.get_peak_image_paths(dataset=dataset)[0]\n",
    "# test_water = myPaths.get_peaks_water_overlay_image_paths(dataset=dataset)[0]\n",
    "# test_overlay = myPaths.get_peaks_water_overlay_image_paths(dataset=dataset)[0]\n",
    "# param1, param2 = (0.5, 9000), (0.5, 9000, True)\n",
    "# f.assign_attributes(file_path=test_peaks, params=param1)"
   ]
  },
  {
   "cell_type": "code",
   "execution_count": null,
   "metadata": {},
   "outputs": [],
   "source": [
    "# t.save_model('../models/cnn3_test.pt')"
   ]
  },
  {
   "cell_type": "code",
   "execution_count": null,
   "metadata": {},
   "outputs": [],
   "source": [
    "# test_model = m.BasicCNN3()\n",
    "# test_model.load_state_dict(torch.load('../models/cnn3_test.pt'))\n",
    "# test_model.eval()\n"
   ]
  },
  {
   "cell_type": "code",
   "execution_count": null,
   "metadata": {},
   "outputs": [],
   "source": [
    "# for data, label, attribute in train_loader:\n",
    "#     peak, _ = data\n",
    "#     peak_image_attribute = attribute['peak']\n",
    "#     output = test_model(peak)\n",
    "#     print(peak_image_attribute)\n",
    "#     print(torch.sigmoid(output).reshape(1,-1) > 0.5)\n",
    "#     print('-------------------')"
   ]
  },
  {
   "cell_type": "code",
   "execution_count": null,
   "metadata": {},
   "outputs": [
    {
     "data": {
      "text/plain": [
       "'\\nHow I want the new training input to look.\\n\\nlearning_rate = 0.001\\nthreshold = 0.5\\ndevice = torch.device(\"cuda\" if torch.cuda.is_available() else \"cpu\")\\n\\noptimizer = optim.Adam(model1.parameters(), lr=learning_rate)\\n\\ncfg = {\\n    \"loader\": [train_loader, test_loader]\\n    \\'num_epochs\\': 2,\\n    \\'batch_size\\': train_loader.batch_size,\\n    \\'optimizer\\': optimizer,\\n    \\'device\\': device,\\n    \\'threshold\\': threshold\\n    }\\n\\npeak_config = eval.Peak_Detection_Configuration()\\n\\nt = train_eval.TrainTestModels(cfg, peak_config)\\nt.epoch_loop()\\nt.plot_loss_accuracy()\\nt.plot_confusion_matrix()\\nt.get_confusion_matrix()\\nt.save_model(\\'../models/cnn_name.pt\\')\\n'"
      ]
     },
     "execution_count": 16,
     "metadata": {},
     "output_type": "execute_result"
    }
   ],
   "source": [
    "\"\"\"\n",
    "How I want the new training input to look.\n",
    "\n",
    "learning_rate = 0.001\n",
    "threshold = 0.5\n",
    "device = torch.device(\"cuda\" if torch.cuda.is_available() else \"cpu\")\n",
    "\n",
    "optimizer = optim.Adam(model1.parameters(), lr=learning_rate)\n",
    "\n",
    "cfg = {\n",
    "    \"loader\": [train_loader, test_loader]\n",
    "    'num_epochs': 2,\n",
    "    'batch_size': train_loader.batch_size,\n",
    "    'optimizer': optimizer,\n",
    "    'device': device,\n",
    "    'threshold': threshold\n",
    "    }\n",
    "\n",
    "peak_config = eval.Peak_Detection_Configuration()\n",
    "\n",
    "t = train_eval.TrainTestModels(cfg, peak_config)\n",
    "t.epoch_loop()\n",
    "t.plot_loss_accuracy()\n",
    "t.plot_confusion_matrix()\n",
    "t.get_confusion_matrix()\n",
    "t.save_model('../models/cnn_name.pt')\n",
    "\"\"\""
   ]
  },
  {
   "cell_type": "code",
   "execution_count": null,
   "metadata": {},
   "outputs": [
    {
     "data": {
      "text/plain": [
       "\"\\nHow I want the pipeline to look.\\n\\ncnn1_path = '../models/cnn1'\\ncnn2_path = '../models/cnn2'\\ncnn3_path = '../models/cnn3'\\n\\ncnn1 = m.BasicCNN1()\\ncnn2 = m.BasicCNN2()\\ncnn3 = m.BasicCNN3()\\n\\npipeline = pipe.ModelPipeline(cnn1_path, cnn2_path, cnn3_path, cnn1, cnn2, cnn3)\\npipeline.run(image)\\npipeline.evaluate_results(image_path)\\n\""
      ]
     },
     "execution_count": 17,
     "metadata": {},
     "output_type": "execute_result"
    }
   ],
   "source": [
    "\"\"\"\n",
    "How I want the pipeline to look.\n",
    "\n",
    "cnn1_path = '../models/cnn1'\n",
    "cnn2_path = '../models/cnn2'\n",
    "cnn3_path = '../models/cnn3'\n",
    "\n",
    "cnn1 = m.BasicCNN1()\n",
    "cnn2 = m.BasicCNN2()\n",
    "cnn3 = m.BasicCNN3()\n",
    "\n",
    "pipeline = pipe.ModelPipeline(cnn1_path, cnn2_path, cnn3_path, cnn1, cnn2, cnn3)\n",
    "pipeline.run(image)\n",
    "pipeline.evaluate_results(image_path)\n",
    "\"\"\""
   ]
  }
 ],
 "metadata": {
  "kernelspec": {
   "display_name": "torch",
   "language": "python",
   "name": "python3"
  },
  "language_info": {
   "codemirror_mode": {
    "name": "ipython",
    "version": 3
   },
   "file_extension": ".py",
   "mimetype": "text/x-python",
   "name": "python",
   "nbconvert_exporter": "python",
   "pygments_lexer": "ipython3",
   "version": "3.12.2"
  }
 },
 "nbformat": 4,
 "nbformat_minor": 2
}
