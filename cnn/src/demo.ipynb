{
 "cells": [
  {
   "cell_type": "markdown",
   "metadata": {},
   "source": [
    "### **ResNet50 Demo**"
   ]
  },
  {
   "cell_type": "code",
   "execution_count": 20,
   "metadata": {},
   "outputs": [
    {
     "ename": "ImportError",
     "evalue": "cannot import name 'model' from 'pkg' (/home/labuser/Development/adam/vscode/cxfel/cxls_hitfinder/cnn/src/pkg/__init__.py)",
     "output_type": "error",
     "traceback": [
      "\u001b[0;31m---------------------------------------------------------------------------\u001b[0m",
      "\u001b[0;31mImportError\u001b[0m                               Traceback (most recent call last)",
      "Cell \u001b[0;32mIn[20], line 7\u001b[0m\n\u001b[1;32m      5\u001b[0m \u001b[38;5;28;01mfrom\u001b[39;00m \u001b[38;5;21;01mPIL\u001b[39;00m \u001b[38;5;28;01mimport\u001b[39;00m Image\n\u001b[1;32m      6\u001b[0m \u001b[38;5;28;01mfrom\u001b[39;00m \u001b[38;5;21;01mtorchvision\u001b[39;00m \u001b[38;5;28;01mimport\u001b[39;00m transforms\n\u001b[0;32m----> 7\u001b[0m \u001b[38;5;28;01mfrom\u001b[39;00m \u001b[38;5;21;01mpkg\u001b[39;00m \u001b[38;5;28;01mimport\u001b[39;00m classes \u001b[38;5;28;01mas\u001b[39;00m c, model \u001b[38;5;28;01mas\u001b[39;00m m, functions \u001b[38;5;28;01mas\u001b[39;00m f \n",
      "\u001b[0;31mImportError\u001b[0m: cannot import name 'model' from 'pkg' (/home/labuser/Development/adam/vscode/cxfel/cxls_hitfinder/cnn/src/pkg/__init__.py)"
     ]
    }
   ],
   "source": [
    "import os\n",
    "import torch\n",
    "import numpy as np\n",
    "\n",
    "from PIL import Image\n",
    "from torchvision import transforms\n",
    "from pkg import classes as c, models as m, functions as f "
   ]
  },
  {
   "cell_type": "code",
   "execution_count": 18,
   "metadata": {},
   "outputs": [
    {
     "name": "stdout",
     "output_type": "stream",
     "text": [
      "clean_sim did not move any files\n",
      "\n",
      "\n",
      "Number of Peak Images:  30 Number of Water Images 30\n",
      "Peak images path: /home/labuser/Development/adam/vscode/cxfel/cxls_hitfinder/images/peaks\n",
      "Water images path: /home/labuser/Development/adam/vscode/cxfel/cxls_hitfinder/images/data\n"
     ]
    }
   ],
   "source": [
    "\"\"\"instances\"\"\"\n",
    "paths = c.PathManager()\n",
    "dataset = c.PeakImageDataset(paths=paths, transform=None, augment=True)\n",
    "prep = c.DataPreparation(paths=paths, batch_size=5)\n",
    "\n",
    "\"\"\"Clean sim/ directory\"\"\"\n",
    "paths.clean_sim() # moves all .err, .out, .sh files sim_specs\n",
    "\n",
    "\"\"\"checks\"\"\"\n",
    "peak_paths = paths.__get_peak_images_paths__()\n",
    "water_paths = paths.__get_water_images_paths__()\n",
    "print('Number of Peak Images: ', len(peak_paths), 'Number of Water Images', len(water_paths))\n",
    "\n",
    "print(\"Peak images path:\", paths.peak_images_dir)\n",
    "print(\"Water images path:\", paths.water_images_dir)"
   ]
  },
  {
   "cell_type": "code",
   "execution_count": 19,
   "metadata": {},
   "outputs": [
    {
     "name": "stdout",
     "output_type": "stream",
     "text": [
      "Data prepared.\n",
      "Train size: 24\n",
      "Test size: 6\n",
      "Batch size: 5\n",
      "Number of batches: 5 \n",
      "\n",
      "\n"
     ]
    },
    {
     "ename": "AttributeError",
     "evalue": "module 'pkg.functions' has no attribute 'get_protein_map'",
     "output_type": "error",
     "traceback": [
      "\u001b[0;31m---------------------------------------------------------------------------\u001b[0m",
      "\u001b[0;31mAttributeError\u001b[0m                            Traceback (most recent call last)",
      "Cell \u001b[0;32mIn[19], line 5\u001b[0m\n\u001b[1;32m      2\u001b[0m train_loader, test_loader \u001b[38;5;241m=\u001b[39m prep\u001b[38;5;241m.\u001b[39mprep_data()\n\u001b[1;32m      4\u001b[0m \u001b[38;5;124;03m\"\"\"Protein Mapping\"\"\"\u001b[39;00m\n\u001b[0;32m----> 5\u001b[0m protein_map \u001b[38;5;241m=\u001b[39m \u001b[43mf\u001b[49m\u001b[38;5;241;43m.\u001b[39;49m\u001b[43mget_protein_map\u001b[49m()\n\u001b[1;32m      6\u001b[0m \u001b[38;5;66;03m# 1IC6 = 0, ...\u001b[39;00m\n",
      "\u001b[0;31mAttributeError\u001b[0m: module 'pkg.functions' has no attribute 'get_protein_map'"
     ]
    }
   ],
   "source": [
    "\"\"\"Train/Test Data Loaders\"\"\"\n",
    "train_loader, test_loader = prep.prep_data()\n",
    "\n",
    "\"\"\"Protein Mapping\"\"\"\n",
    "protein_map = f.get_protein_map()\n",
    "# 1IC6 = 0, ...\n",
    "\n"
   ]
  }
 ],
 "metadata": {
  "kernelspec": {
   "display_name": "torch",
   "language": "python",
   "name": "python3"
  },
  "language_info": {
   "codemirror_mode": {
    "name": "ipython",
    "version": 3
   },
   "file_extension": ".py",
   "mimetype": "text/x-python",
   "name": "python",
   "nbconvert_exporter": "python",
   "pygments_lexer": "ipython3",
   "version": "3.8.18"
  }
 },
 "nbformat": 4,
 "nbformat_minor": 2
}
