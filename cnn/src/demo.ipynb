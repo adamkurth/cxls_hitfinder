{
 "cells": [
  {
   "cell_type": "markdown",
   "metadata": {},
   "source": [
    "### **ResNet50 Demo**"
   ]
  },
  {
   "cell_type": "code",
   "execution_count": 10,
   "metadata": {},
   "outputs": [],
   "source": [
    "import os\n",
    "import torch\n",
    "import torch.nn as nn\n",
    "import torch.optim as optim\n",
    "import matplotlib.pyplot as plt\n",
    "import numpy as np\n",
    "import logging\n",
    "\n",
    "from PIL import Image\n",
    "from torchvision import transforms\n",
    "from pkg import classes as c, models as m, functions as f "
   ]
  },
  {
   "cell_type": "code",
   "execution_count": 11,
   "metadata": {},
   "outputs": [
    {
     "name": "stdout",
     "output_type": "stream",
     "text": [
      "clean_sim did not move any files\n",
      "\n",
      "\n",
      "Number of Peak Images:  30 Number of Water Images 30\n",
      "Peak images path: /home/labuser/Development/adam/vscode/cxfel/cxls_hitfinder/images/peaks\n",
      "Water images path: /home/labuser/Development/adam/vscode/cxfel/cxls_hitfinder/images/data\n"
     ]
    }
   ],
   "source": [
    "\"\"\"Instances\"\"\"\n",
    "paths = c.PathManager()\n",
    "dataset = c.PeakImageDataset(paths=paths, transform=None, augment=True)\n",
    "prep = c.DataPreparation(paths=paths, batch_size=5)\n",
    "\n",
    "\"\"\"Clean sim/ directory\"\"\"\n",
    "paths.clean_sim() # moves all .err, .out, .sh files sim_specs\n",
    "\n",
    "\"\"\"Checks\"\"\"\n",
    "peak_paths = paths.__get_peak_images_paths__()\n",
    "water_paths = paths.__get_water_images_paths__()\n",
    "print('Number of Peak Images: ', len(peak_paths), 'Number of Water Images', len(water_paths))\n",
    "\n",
    "print(\"Peak images path:\", paths.peak_images_dir)\n",
    "print(\"Water images path:\", paths.water_images_dir)"
   ]
  },
  {
   "cell_type": "code",
   "execution_count": 12,
   "metadata": {},
   "outputs": [
    {
     "name": "stdout",
     "output_type": "stream",
     "text": [
      "Data prepared.\n",
      "Train size: 24\n",
      "Test size: 6\n",
      "Batch size: 5\n",
      "Number of batches: 5 \n",
      "\n",
      "\n",
      "Criterion:  CrossEntropyLoss() CrossEntropyLoss()\n",
      "Optimizer: \n",
      " Adam (\n",
      "Parameter Group 0\n",
      "    amsgrad: False\n",
      "    betas: (0.9, 0.999)\n",
      "    capturable: False\n",
      "    differentiable: False\n",
      "    eps: 1e-08\n",
      "    foreach: None\n",
      "    fused: None\n",
      "    lr: 0.001\n",
      "    maximize: False\n",
      "    weight_decay: 0\n",
      ")\n",
      "Learning rate:  0.001\n"
     ]
    }
   ],
   "source": [
    "\"\"\"Train/Test Data Loaders\"\"\"\n",
    "train_loader, test_loader = prep.prep_data()\n",
    "\n",
    "\"\"\"Protein Mapping\"\"\"\n",
    "protein_to_idx = {\n",
    "    '1IC6': 0,\n",
    "    # To be developed\n",
    "}\n",
    "\n",
    "\"\"\"Models\"\"\"\n",
    "model_res50 = m.CustomResNet50(num_proteins=3, num_camlengths=3)\n",
    "\n",
    "\"\"\"Loss/Optimizer\"\"\"\n",
    "criterion_protein, criterion_camlength = torch.nn.CrossEntropyLoss(), torch.nn.CrossEntropyLoss()\n",
    "optimizer = torch.optim.Adam(model_res50.parameters(), lr=0.001)\n",
    "\n",
    "print(\"Criterion: \", criterion_protein, criterion_camlength)\n",
    "print(\"Optimizer: \\n\", optimizer)\n",
    "print(\"Learning rate: \", optimizer.param_groups[0]['lr'])\n",
    "\n",
    "\"\"\"Initial Setup\"\"\"\n",
    "logging.basicConfig(level=logging.INFO, format='%(asctime)s - %(levelname)s - %(message)s')\n",
    "train_losses = []\n",
    "test_losses = []\n"
   ]
  },
  {
   "cell_type": "code",
   "execution_count": 14,
   "metadata": {},
   "outputs": [
    {
     "name": "stderr",
     "output_type": "stream",
     "text": [
      "2024-03-05 12:30:39,464 - INFO - Staring training...\n"
     ]
    },
    {
     "name": "stdout",
     "output_type": "stream",
     "text": [
      "Peak Image Shape: torch.Size([1, 2163, 2069]), Water Image Shape: torch.Size([1, 2163, 2069])\n",
      "Protein: 1IC6, Camera Length: 0.01, Label Camera Length: 0\n",
      "Peak Image Shape: torch.Size([1, 2163, 2069]), Water Image Shape: torch.Size([1, 2163, 2069])\n",
      "Protein: 1IC6, Camera Length: 0.01, Label Camera Length: 0\n",
      "Peak Image Shape: torch.Size([1, 2163, 2069]), Water Image Shape: torch.Size([1, 2163, 2069])\n",
      "Protein: 1IC6, Camera Length: 0.01, Label Camera Length: 0\n",
      "Peak Image Shape: torch.Size([1, 2163, 2069]), Water Image Shape: torch.Size([1, 2163, 2069])\n",
      "Protein: 1IC6, Camera Length: 0.01, Label Camera Length: 0\n",
      "Peak Image Shape: torch.Size([1, 2163, 2069]), Water Image Shape: torch.Size([1, 2163, 2069])\n",
      "Protein: 1IC6, Camera Length: 0.01, Label Camera Length: 0\n"
     ]
    },
    {
     "name": "stderr",
     "output_type": "stream",
     "text": [
      "2024-03-05 12:30:39,776 - INFO - Epoch 1/2 - First batch label structure: ('1IC6', '1IC6', '1IC6', '1IC6', '1IC6') with type <class 'tuple'>\n"
     ]
    },
    {
     "name": "stdout",
     "output_type": "stream",
     "text": [
      "Label structure: ('1IC6', '1IC6', '1IC6', '1IC6', '1IC6') <class 'tuple'>\n",
      "\n",
      "\n",
      "Label structure: tensor([0.0100, 0.0100, 0.0100, 0.0100, 0.0100], dtype=torch.float64) <class 'torch.Tensor'>\n",
      "\n",
      "\n",
      "Label structure: tensor([0, 0, 0, 0, 0]) <class 'torch.Tensor'>\n",
      "\n",
      "\n",
      "Peak Image Shape: torch.Size([1, 2163, 2069]), Water Image Shape: torch.Size([1, 2163, 2069])\n",
      "Protein: 1IC6, Camera Length: 0.01, Label Camera Length: 0\n",
      "Peak Image Shape: torch.Size([1, 2163, 2069]), Water Image Shape: torch.Size([1, 2163, 2069])\n",
      "Protein: 1IC6, Camera Length: 0.01, Label Camera Length: 0\n",
      "Peak Image Shape: torch.Size([1, 2163, 2069]), Water Image Shape: torch.Size([1, 2163, 2069])\n",
      "Protein: 1IC6, Camera Length: 0.01, Label Camera Length: 0\n",
      "Peak Image Shape: torch.Size([1, 2163, 2069]), Water Image Shape: torch.Size([1, 2163, 2069])\n",
      "Protein: 1IC6, Camera Length: 0.01, Label Camera Length: 0\n",
      "Peak Image Shape: torch.Size([1, 2163, 2069]), Water Image Shape: torch.Size([1, 2163, 2069])\n",
      "Protein: 1IC6, Camera Length: 0.01, Label Camera Length: 0\n",
      "Label structure: ('1IC6', '1IC6', '1IC6', '1IC6', '1IC6') <class 'tuple'>\n",
      "\n",
      "\n",
      "Label structure: tensor([0.0100, 0.0100, 0.0100, 0.0100, 0.0100], dtype=torch.float64) <class 'torch.Tensor'>\n",
      "\n",
      "\n",
      "Label structure: tensor([0, 0, 0, 0, 0]) <class 'torch.Tensor'>\n",
      "\n",
      "\n",
      "Peak Image Shape: torch.Size([1, 2163, 2069]), Water Image Shape: torch.Size([1, 2163, 2069])\n",
      "Protein: 1IC6, Camera Length: 0.01, Label Camera Length: 0\n",
      "Peak Image Shape: torch.Size([1, 2163, 2069]), Water Image Shape: torch.Size([1, 2163, 2069])\n",
      "Protein: 1IC6, Camera Length: 0.01, Label Camera Length: 0\n",
      "Peak Image Shape: torch.Size([1, 2163, 2069]), Water Image Shape: torch.Size([1, 2163, 2069])\n",
      "Protein: 1IC6, Camera Length: 0.01, Label Camera Length: 0\n",
      "Peak Image Shape: torch.Size([1, 2163, 2069]), Water Image Shape: torch.Size([1, 2163, 2069])\n",
      "Protein: 1IC6, Camera Length: 0.01, Label Camera Length: 0\n",
      "Peak Image Shape: torch.Size([1, 2163, 2069]), Water Image Shape: torch.Size([1, 2163, 2069])\n",
      "Protein: 1IC6, Camera Length: 0.01, Label Camera Length: 0\n",
      "Label structure: ('1IC6', '1IC6', '1IC6', '1IC6', '1IC6') <class 'tuple'>\n",
      "\n",
      "\n",
      "Label structure: tensor([0.0100, 0.0100, 0.0100, 0.0100, 0.0100], dtype=torch.float64) <class 'torch.Tensor'>\n",
      "\n",
      "\n",
      "Label structure: tensor([0, 0, 0, 0, 0]) <class 'torch.Tensor'>\n",
      "\n",
      "\n",
      "Peak Image Shape: torch.Size([1, 2163, 2069]), Water Image Shape: torch.Size([1, 2163, 2069])\n",
      "Protein: 1IC6, Camera Length: 0.01, Label Camera Length: 0\n",
      "Peak Image Shape: torch.Size([1, 2163, 2069]), Water Image Shape: torch.Size([1, 2163, 2069])\n",
      "Protein: 1IC6, Camera Length: 0.01, Label Camera Length: 0\n",
      "Peak Image Shape: torch.Size([1, 2163, 2069]), Water Image Shape: torch.Size([1, 2163, 2069])\n",
      "Protein: 1IC6, Camera Length: 0.01, Label Camera Length: 0\n",
      "Peak Image Shape: torch.Size([1, 2163, 2069]), Water Image Shape: torch.Size([1, 2163, 2069])\n",
      "Protein: 1IC6, Camera Length: 0.01, Label Camera Length: 0\n",
      "Peak Image Shape: torch.Size([1, 2163, 2069]), Water Image Shape: torch.Size([1, 2163, 2069])\n",
      "Protein: 1IC6, Camera Length: 0.01, Label Camera Length: 0\n",
      "Label structure: ('1IC6', '1IC6', '1IC6', '1IC6', '1IC6') <class 'tuple'>\n",
      "\n",
      "\n",
      "Label structure: tensor([0.0100, 0.0100, 0.0100, 0.0100, 0.0100], dtype=torch.float64) <class 'torch.Tensor'>\n",
      "\n",
      "\n",
      "Label structure: tensor([0, 0, 0, 0, 0]) <class 'torch.Tensor'>\n",
      "\n",
      "\n",
      "Peak Image Shape: torch.Size([1, 2163, 2069]), Water Image Shape: torch.Size([1, 2163, 2069])\n",
      "Protein: 1IC6, Camera Length: 0.01, Label Camera Length: 0\n",
      "Peak Image Shape: torch.Size([1, 2163, 2069]), Water Image Shape: torch.Size([1, 2163, 2069])\n",
      "Protein: 1IC6, Camera Length: 0.01, Label Camera Length: 0\n",
      "Peak Image Shape: torch.Size([1, 2163, 2069]), Water Image Shape: torch.Size([1, 2163, 2069])\n",
      "Protein: 1IC6, Camera Length: 0.01, Label Camera Length: 0\n",
      "Peak Image Shape: torch.Size([1, 2163, 2069]), Water Image Shape: torch.Size([1, 2163, 2069])\n",
      "Protein: 1IC6, Camera Length: 0.01, Label Camera Length: 0\n",
      "Label structure: ('1IC6', '1IC6', '1IC6', '1IC6') <class 'tuple'>\n",
      "\n",
      "\n",
      "Label structure: tensor([0.0100, 0.0100, 0.0100, 0.0100], dtype=torch.float64) <class 'torch.Tensor'>\n",
      "\n",
      "\n",
      "Label structure: tensor([0, 0, 0, 0]) <class 'torch.Tensor'>\n",
      "\n",
      "\n"
     ]
    }
   ],
   "source": [
    "\"\"\"Training\"\"\"\n",
    "logging.info('Staring training...')\n",
    "num_epochs = 2\n",
    "\n",
    "for epoch in range(num_epochs):\n",
    "    model_res50.train()\n",
    "    running_loss = 0.0\n",
    "    batch_counter = 0\n",
    "    \n",
    "    for batch_index, ((peak_images, water_images), labels) in enumerate(train_loader, start=1):\n",
    "        if batch_index == 1:\n",
    "            logging.info(f\"Epoch {epoch+1}/{num_epochs} - First batch label structure: {labels[0]} with type {type(labels[0])}\")\n",
    "        \n",
    "        for label in labels:\n",
    "            print(f\"Label structure: {label} {type(label)}\\n\\n\")\n",
    "        # Extract the protein identifiers assuming they are always the first element in the label tuple\n",
    "        protein_identifiers = labels[0] # gives tuple ('1IC6', '1IC6', '1IC6', '1IC6', '1IC6')\n",
    "\n",
    "        try:\n",
    "            labels_protein = torch.tensor([protein_to_idx[protein] for protein in protein_identifiers], dtype=torch.long).to(peak_images.device)\n",
    "            labels_cam_len = labels[2].to(dtype=torch.long).to(peak_images.device)\n",
    "        except KeyError as e:\n",
    "            logging.error(f\"KeyError with label: {e}\")\n",
    "            print(f\"KeyError with label: {e}\")\n",
    "            print(labels[:5])\n",
    "            continue\n",
    "\n",
    "        optimizer.zero_grad()\n",
    "\n",
    "        # multi-task learning: predicting protein and camlength\n",
    "        protein_pred, camlen_pred = model_res50((peak_images, water_images))\n",
    "\n",
    "        protein_loss = criterion_protein(protein_pred, labels_protein.long())\n",
    "        camlength_loss = criterion_camlength(camlen_pred, labels_cam_len.long())\n",
    "\n",
    "        loss = protein_loss + camlength_loss\n",
    "        loss.backward()\n",
    "        optimizer.step()\n",
    "\n",
    "        running_loss += loss.item()\n",
    "        batch_counter += 1\n",
    "\n",
    "        if (batch_index + 1) % 10 == 0:  # Log every 10 batches\n",
    "            logging.info(f'Epoch {epoch+1}, Batch {batch_index + 1}: Loss = {running_loss/(batch_index+1)}')\n",
    "\n",
    "    avg_loss_train = running_loss / len(train_loader)\n",
    "    train_losses.append(avg_loss_train)\n",
    "    logging.info(f'Epoch {epoch+1} Training Completed. Avg Loss: {avg_loss_train:.4f}')\n"
   ]
  },
  {
   "cell_type": "code",
   "execution_count": null,
   "metadata": {},
   "outputs": [
    {
     "name": "stdout",
     "output_type": "stream",
     "text": [
      "Peak Image Shape: torch.Size([1, 2163, 2069]), Water Image Shape: torch.Size([1, 2163, 2069])\n",
      "Protein: 1IC6, Camera Length: 0.01, Label Camera Length: 0\n",
      "Peak Image Shape: torch.Size([1, 2163, 2069]), Water Image Shape: torch.Size([1, 2163, 2069])\n",
      "Protein: 1IC6, Camera Length: 0.01, Label Camera Length: 0\n",
      "Peak Image Shape: torch.Size([1, 2163, 2069]), Water Image Shape: torch.Size([1, 2163, 2069])\n",
      "Protein: 1IC6, Camera Length: 0.01, Label Camera Length: 0\n",
      "Peak Image Shape: torch.Size([1, 2163, 2069]), Water Image Shape: torch.Size([1, 2163, 2069])\n",
      "Protein: 1IC6, Camera Length: 0.01, Label Camera Length: 0\n",
      "Peak Image Shape: torch.Size([1, 2163, 2069]), Water Image Shape: torch.Size([1, 2163, 2069])\n",
      "Protein: 1IC6, Camera Length: 0.01, Label Camera Length: 0\n",
      "Peak Image Shape: torch.Size([1, 2163, 2069]), Water Image Shape: torch.Size([1, 2163, 2069])\n",
      "Protein: 1IC6, Camera Length: 0.01, Label Camera Length: 0\n"
     ]
    },
    {
     "name": "stderr",
     "output_type": "stream",
     "text": [
      "2024-03-05 11:49:12,816 - INFO - Test Loss: 0.0000, Protein Accuracy: 1.0000, Camera Length Accuracy: 1.0000\n",
      "2024-03-05 11:49:12,817 - INFO - Training completed.\n"
     ]
    }
   ],
   "source": [
    "\"\"\"Testing\"\"\"\n",
    "logging.info('Starting testing...')\n",
    "model_res50.eval()\n",
    "test_loss = 0 \n",
    "correct_protein = 0\n",
    "correct_camlen = 0\n",
    "total = 0\n",
    "\n",
    "with torch.no_grad():\n",
    "    for (peak_images, water_images), labels in test_loader:\n",
    "        labels_protein = torch.tensor([protein_to_idx[protein] for protein in labels[0]], dtype=torch.long).to(peak_images.device)\n",
    "        labels_camlen = labels[2].to(dtype=torch.long).to(peak_images.device)\n",
    "        \n",
    "        protein_pred, camlength_pred = model_res50((peak_images, water_images))\n",
    "        \n",
    "        loss_protein = criterion_protein(protein_pred, labels_protein)\n",
    "        loss_camlen = criterion_camlength(camlength_pred, labels_camlen)\n",
    "        \n",
    "        _, predicted_protein = torch.max(protein_pred, 1)\n",
    "        _, predicted_camlen = torch.max(camlength_pred, 1)\n",
    "        correct_protein += (predicted_protein == labels_protein).sum().item()\n",
    "        correct_camlen += (predicted_camlen == labels_camlen).sum().item()\n",
    "        total += labels_protein.size(0)\n",
    "    \n",
    "    avg_test_loss = test_loss / len(test_loader)\n",
    "    test_losses.append(avg_test_loss)\n",
    "    protein_accuracy = correct_protein / total\n",
    "    camlength_accuracy = correct_camlen / total\n",
    "\n",
    "    logging.info(f\"Test Loss: {avg_test_loss:.4f}, Protein Accuracy: {protein_accuracy:.4f}, Camera Length Accuracy: {camlength_accuracy:.4f}\")\n",
    "    \n",
    "logging.info('Testing completed.')"
   ]
  },
  {
   "cell_type": "code",
   "execution_count": null,
   "metadata": {},
   "outputs": [
    {
     "ename": "NameError",
     "evalue": "name 'train_losses' is not defined",
     "output_type": "error",
     "traceback": [
      "\u001b[0;31m---------------------------------------------------------------------------\u001b[0m",
      "\u001b[0;31mNameError\u001b[0m                                 Traceback (most recent call last)",
      "Cell \u001b[0;32mIn[8], line 2\u001b[0m\n\u001b[1;32m      1\u001b[0m plt\u001b[38;5;241m.\u001b[39mfigure(figsize\u001b[38;5;241m=\u001b[39m(\u001b[38;5;241m10\u001b[39m, \u001b[38;5;241m5\u001b[39m))\n\u001b[0;32m----> 2\u001b[0m plt\u001b[38;5;241m.\u001b[39mplot(\u001b[43mtrain_losses\u001b[49m, label\u001b[38;5;241m=\u001b[39m\u001b[38;5;124m'\u001b[39m\u001b[38;5;124mTraining Loss\u001b[39m\u001b[38;5;124m'\u001b[39m)\n\u001b[1;32m      3\u001b[0m plt\u001b[38;5;241m.\u001b[39mplot(test_losses, label\u001b[38;5;241m=\u001b[39m\u001b[38;5;124m'\u001b[39m\u001b[38;5;124mTesting Loss\u001b[39m\u001b[38;5;124m'\u001b[39m)\n\u001b[1;32m      4\u001b[0m plt\u001b[38;5;241m.\u001b[39mxlabel(\u001b[38;5;124m'\u001b[39m\u001b[38;5;124mEpoch\u001b[39m\u001b[38;5;124m'\u001b[39m)\n",
      "\u001b[0;31mNameError\u001b[0m: name 'train_losses' is not defined"
     ]
    },
    {
     "data": {
      "text/plain": [
       "<Figure size 1000x500 with 0 Axes>"
      ]
     },
     "metadata": {},
     "output_type": "display_data"
    }
   ],
   "source": [
    "\"\"\"Plotting\"\"\"\n",
    "plt.figure(figsize=(10, 5))\n",
    "plt.plot(range(1, num_epochs+1), train_losses, label='Training Loss')\n",
    "plt.plot(range(1, num_epochs+1), test_losses, label='Testing Loss')\n",
    "plt.xlabel('Epoch')\n",
    "plt.ylabel('Loss')\n",
    "plt.title('Training vs Testing Loss')\n",
    "plt.legend()\n",
    "plt.show()"
   ]
  }
 ],
 "metadata": {
  "kernelspec": {
   "display_name": "torch",
   "language": "python",
   "name": "python3"
  },
  "language_info": {
   "codemirror_mode": {
    "name": "ipython",
    "version": 3
   },
   "file_extension": ".py",
   "mimetype": "text/x-python",
   "name": "python",
   "nbconvert_exporter": "python",
   "pygments_lexer": "ipython3",
   "version": "3.8.18"
  }
 },
 "nbformat": 4,
 "nbformat_minor": 2
}
