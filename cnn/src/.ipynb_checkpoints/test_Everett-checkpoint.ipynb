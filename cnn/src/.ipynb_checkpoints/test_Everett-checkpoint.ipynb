{
 "cells": [
  {
   "cell_type": "code",
   "execution_count": 1,
   "metadata": {},
   "outputs": [],
   "source": [
    "from importlib import reload\n",
    "import os\n",
    "import torch\n",
    "import torch.nn as nn\n",
    "import torch.optim as optim\n",
    "import torch.nn.functional as F\n",
    "import numpy as np\n",
    "import subprocess\n",
    "from glob import glob\n",
    "from pkg import *\n",
    "from pkg.functions import convert2int, convert2str, get_params\n",
    "from typing import List, Dict, Any\n",
    "from torch.optim.lr_scheduler import ReduceLROnPlateau\n",
    "from torchvision import transforms\n",
    "from torchvision.transforms import v2\n",
    "from scipy.signal import find_peaks\n",
    "import matplotlib.pyplot as plt\n",
    "from skimage.filters import gaussian, sobel\n",
    "from matplotlib.colors import SymLogNorm\n",
    "\n",
    "os.environ['CUDA_LAUNCH_BLOCKING'] = '1'"
   ]
  },
  {
   "cell_type": "code",
   "execution_count": 2,
   "metadata": {},
   "outputs": [
    {
     "name": "stdout",
     "output_type": "stream",
     "text": [
      "Water backgrounds initialized: 1\n",
      "{'01': {'clen': 0.15, 'photon_energy': 6000}}\n",
      "Paths refreshed for dataset ['01'].\n",
      "Directory: peaks/01\n",
      "\tTotal files: 39\n",
      "\tNormal images: 26\n",
      "\tEmpty images: 13\n",
      "Directory: labels/01\n",
      "\tTotal files: 39\n",
      "\tNormal images: 26\n",
      "\tEmpty images: 13\n",
      "Directory: peaks_water_overlay/01\n",
      "\tTotal files: 39\n",
      "\tNormal images: 26\n",
      "\tEmpty images: 13\n"
     ]
    }
   ],
   "source": [
    "# datasets = [1, 2, 3, 4, 5, 6, 7, 8, 9]\n",
    "# datasets = [1]\n",
    "datasets = [1,4,5,6,7,8]\n",
    "\n",
    "myPaths = path.PathManager(datasets=datasets)\n",
    "myProcessor = process.Processor(paths=myPaths, datasets=datasets)\n",
    "params = myProcessor.get_parameters()\n",
    "print(params)\n",
    "f.get_counts(paths=myPaths, datasets=datasets)\n",
    "\n",
    "# myDatasetManager = data.DatasetManager(paths=myPaths, datasets=datasets)\n",
    "\n",
    "# train_loader, test_loader = f.prepare(data_manager=myDatasetManager, batch_size=10)"
   ]
  },
  {
   "cell_type": "code",
   "execution_count": 3,
   "metadata": {},
   "outputs": [
    {
     "name": "stdout",
     "output_type": "stream",
     "text": [
      "/scratch/eseveret/cxls_hitfinder/images/peaks/01/img_6keV_clen01_00020.h5 conforms to expected attributes.\n",
      "/scratch/eseveret/cxls_hitfinder/images/peaks/01/img_6keV_clen01_00020.h5:\n",
      "Expected Peak: True, Actual Peak: True\n",
      "/scratch/eseveret/cxls_hitfinder/images/peaks/01/empty_peak_01_00008.h5 conforms to expected attributes.\n",
      "/scratch/eseveret/cxls_hitfinder/images/peaks/01/empty_peak_01_00008.h5:\n",
      "Expected Peak: False, Actual Peak: False\n",
      "/scratch/eseveret/cxls_hitfinder/images/peaks/01/img_6keV_clen01_00024.h5 conforms to expected attributes.\n",
      "/scratch/eseveret/cxls_hitfinder/images/peaks/01/img_6keV_clen01_00024.h5:\n",
      "Expected Peak: True, Actual Peak: True\n",
      "/scratch/eseveret/cxls_hitfinder/images/peaks/01/img_6keV_clen01_00026.h5 conforms to expected attributes.\n",
      "/scratch/eseveret/cxls_hitfinder/images/peaks/01/img_6keV_clen01_00026.h5:\n",
      "Expected Peak: True, Actual Peak: True\n",
      "/scratch/eseveret/cxls_hitfinder/images/peaks/01/img_6keV_clen01_00017.h5 conforms to expected attributes.\n",
      "/scratch/eseveret/cxls_hitfinder/images/peaks/01/img_6keV_clen01_00017.h5:\n",
      "Expected Peak: True, Actual Peak: True\n",
      "/scratch/eseveret/cxls_hitfinder/images/peaks/01/img_6keV_clen01_00008.h5 conforms to expected attributes.\n",
      "/scratch/eseveret/cxls_hitfinder/images/peaks/01/img_6keV_clen01_00008.h5:\n",
      "Expected Peak: True, Actual Peak: True\n",
      "/scratch/eseveret/cxls_hitfinder/images/peaks/01/img_6keV_clen01_00009.h5 conforms to expected attributes.\n",
      "/scratch/eseveret/cxls_hitfinder/images/peaks/01/img_6keV_clen01_00009.h5:\n",
      "Expected Peak: True, Actual Peak: True\n",
      "/scratch/eseveret/cxls_hitfinder/images/peaks/01/empty_peak_01_00007.h5 conforms to expected attributes.\n",
      "/scratch/eseveret/cxls_hitfinder/images/peaks/01/empty_peak_01_00007.h5:\n",
      "Expected Peak: False, Actual Peak: False\n",
      "/scratch/eseveret/cxls_hitfinder/images/peaks/01/img_6keV_clen01_00013.h5 conforms to expected attributes.\n",
      "/scratch/eseveret/cxls_hitfinder/images/peaks/01/img_6keV_clen01_00013.h5:\n",
      "Expected Peak: True, Actual Peak: True\n",
      "/scratch/eseveret/cxls_hitfinder/images/peaks/01/img_6keV_clen01_00025.h5 conforms to expected attributes.\n",
      "/scratch/eseveret/cxls_hitfinder/images/peaks/01/img_6keV_clen01_00025.h5:\n",
      "Expected Peak: True, Actual Peak: True\n",
      "/scratch/eseveret/cxls_hitfinder/images/peaks/01/img_6keV_clen01_00003.h5 conforms to expected attributes.\n",
      "/scratch/eseveret/cxls_hitfinder/images/peaks/01/img_6keV_clen01_00003.h5:\n",
      "Expected Peak: True, Actual Peak: True\n",
      "/scratch/eseveret/cxls_hitfinder/images/peaks/01/empty_peak_01_00006.h5 conforms to expected attributes.\n",
      "/scratch/eseveret/cxls_hitfinder/images/peaks/01/empty_peak_01_00006.h5:\n",
      "Expected Peak: False, Actual Peak: False\n",
      "/scratch/eseveret/cxls_hitfinder/images/peaks/01/img_6keV_clen01_00004.h5 conforms to expected attributes.\n",
      "/scratch/eseveret/cxls_hitfinder/images/peaks/01/img_6keV_clen01_00004.h5:\n",
      "Expected Peak: True, Actual Peak: True\n",
      "/scratch/eseveret/cxls_hitfinder/images/peaks/01/img_6keV_clen01_00018.h5 conforms to expected attributes.\n",
      "/scratch/eseveret/cxls_hitfinder/images/peaks/01/img_6keV_clen01_00018.h5:\n",
      "Expected Peak: True, Actual Peak: True\n",
      "/scratch/eseveret/cxls_hitfinder/images/peaks/01/empty_peak_01_00001.h5 conforms to expected attributes.\n",
      "/scratch/eseveret/cxls_hitfinder/images/peaks/01/empty_peak_01_00001.h5:\n",
      "Expected Peak: False, Actual Peak: False\n",
      "/scratch/eseveret/cxls_hitfinder/images/peaks/01/img_6keV_clen01_00011.h5 conforms to expected attributes.\n",
      "/scratch/eseveret/cxls_hitfinder/images/peaks/01/img_6keV_clen01_00011.h5:\n",
      "Expected Peak: True, Actual Peak: True\n",
      "/scratch/eseveret/cxls_hitfinder/images/peaks/01/empty_peak_01_00004.h5 conforms to expected attributes.\n",
      "/scratch/eseveret/cxls_hitfinder/images/peaks/01/empty_peak_01_00004.h5:\n",
      "Expected Peak: False, Actual Peak: False\n",
      "/scratch/eseveret/cxls_hitfinder/images/peaks/01/img_6keV_clen01_00016.h5 conforms to expected attributes.\n",
      "/scratch/eseveret/cxls_hitfinder/images/peaks/01/img_6keV_clen01_00016.h5:\n",
      "Expected Peak: True, Actual Peak: True\n",
      "/scratch/eseveret/cxls_hitfinder/images/peaks/01/img_6keV_clen01_00001.h5 conforms to expected attributes.\n",
      "/scratch/eseveret/cxls_hitfinder/images/peaks/01/img_6keV_clen01_00001.h5:\n",
      "Expected Peak: True, Actual Peak: True\n",
      "/scratch/eseveret/cxls_hitfinder/images/peaks/01/img_6keV_clen01_00021.h5 conforms to expected attributes.\n",
      "/scratch/eseveret/cxls_hitfinder/images/peaks/01/img_6keV_clen01_00021.h5:\n",
      "Expected Peak: True, Actual Peak: True\n",
      "/scratch/eseveret/cxls_hitfinder/images/peaks/01/empty_peak_01_00011.h5 conforms to expected attributes.\n",
      "/scratch/eseveret/cxls_hitfinder/images/peaks/01/empty_peak_01_00011.h5:\n",
      "Expected Peak: False, Actual Peak: False\n",
      "/scratch/eseveret/cxls_hitfinder/images/peaks/01/img_6keV_clen01_00023.h5 conforms to expected attributes.\n",
      "/scratch/eseveret/cxls_hitfinder/images/peaks/01/img_6keV_clen01_00023.h5:\n",
      "Expected Peak: True, Actual Peak: True\n",
      "/scratch/eseveret/cxls_hitfinder/images/peaks/01/empty_peak_01_00003.h5 conforms to expected attributes.\n",
      "/scratch/eseveret/cxls_hitfinder/images/peaks/01/empty_peak_01_00003.h5:\n",
      "Expected Peak: False, Actual Peak: False\n",
      "/scratch/eseveret/cxls_hitfinder/images/peaks/01/img_6keV_clen01_00007.h5 conforms to expected attributes.\n",
      "/scratch/eseveret/cxls_hitfinder/images/peaks/01/img_6keV_clen01_00007.h5:\n",
      "Expected Peak: True, Actual Peak: True\n",
      "/scratch/eseveret/cxls_hitfinder/images/peaks/01/empty_peak_01_00009.h5 conforms to expected attributes.\n",
      "/scratch/eseveret/cxls_hitfinder/images/peaks/01/empty_peak_01_00009.h5:\n",
      "Expected Peak: False, Actual Peak: False\n",
      "/scratch/eseveret/cxls_hitfinder/images/peaks/01/empty_peak_01_00010.h5 conforms to expected attributes.\n",
      "/scratch/eseveret/cxls_hitfinder/images/peaks/01/empty_peak_01_00010.h5:\n",
      "Expected Peak: False, Actual Peak: False\n",
      "/scratch/eseveret/cxls_hitfinder/images/peaks/01/img_6keV_clen01_00010.h5 conforms to expected attributes.\n",
      "/scratch/eseveret/cxls_hitfinder/images/peaks/01/img_6keV_clen01_00010.h5:\n",
      "Expected Peak: True, Actual Peak: True\n",
      "/scratch/eseveret/cxls_hitfinder/images/peaks/01/img_6keV_clen01_00002.h5 conforms to expected attributes.\n",
      "/scratch/eseveret/cxls_hitfinder/images/peaks/01/img_6keV_clen01_00002.h5:\n",
      "Expected Peak: True, Actual Peak: True\n",
      "/scratch/eseveret/cxls_hitfinder/images/peaks/01/empty_peak_01_00002.h5 conforms to expected attributes.\n",
      "/scratch/eseveret/cxls_hitfinder/images/peaks/01/empty_peak_01_00002.h5:\n",
      "Expected Peak: False, Actual Peak: False\n",
      "/scratch/eseveret/cxls_hitfinder/images/peaks/01/img_6keV_clen01_00014.h5 conforms to expected attributes.\n",
      "/scratch/eseveret/cxls_hitfinder/images/peaks/01/img_6keV_clen01_00014.h5:\n",
      "Expected Peak: True, Actual Peak: True\n",
      "/scratch/eseveret/cxls_hitfinder/images/peaks/01/empty_peak_01_00012.h5 conforms to expected attributes.\n",
      "/scratch/eseveret/cxls_hitfinder/images/peaks/01/empty_peak_01_00012.h5:\n",
      "Expected Peak: False, Actual Peak: False\n",
      "/scratch/eseveret/cxls_hitfinder/images/peaks/01/img_6keV_clen01_00006.h5 conforms to expected attributes.\n",
      "/scratch/eseveret/cxls_hitfinder/images/peaks/01/img_6keV_clen01_00006.h5:\n",
      "Expected Peak: True, Actual Peak: True\n",
      "/scratch/eseveret/cxls_hitfinder/images/peaks/01/img_6keV_clen01_00019.h5 conforms to expected attributes.\n",
      "/scratch/eseveret/cxls_hitfinder/images/peaks/01/img_6keV_clen01_00019.h5:\n",
      "Expected Peak: True, Actual Peak: True\n",
      "/scratch/eseveret/cxls_hitfinder/images/peaks/01/img_6keV_clen01_00005.h5 conforms to expected attributes.\n",
      "/scratch/eseveret/cxls_hitfinder/images/peaks/01/img_6keV_clen01_00005.h5:\n",
      "Expected Peak: True, Actual Peak: True\n",
      "/scratch/eseveret/cxls_hitfinder/images/peaks/01/img_6keV_clen01_00022.h5 conforms to expected attributes.\n",
      "/scratch/eseveret/cxls_hitfinder/images/peaks/01/img_6keV_clen01_00022.h5:\n",
      "Expected Peak: True, Actual Peak: True\n",
      "/scratch/eseveret/cxls_hitfinder/images/peaks/01/img_6keV_clen01_00015.h5 conforms to expected attributes.\n",
      "/scratch/eseveret/cxls_hitfinder/images/peaks/01/img_6keV_clen01_00015.h5:\n",
      "Expected Peak: True, Actual Peak: True\n",
      "/scratch/eseveret/cxls_hitfinder/images/peaks/01/empty_peak_01_00013.h5 conforms to expected attributes.\n",
      "/scratch/eseveret/cxls_hitfinder/images/peaks/01/empty_peak_01_00013.h5:\n",
      "Expected Peak: False, Actual Peak: False\n",
      "/scratch/eseveret/cxls_hitfinder/images/peaks/01/empty_peak_01_00005.h5 conforms to expected attributes.\n",
      "/scratch/eseveret/cxls_hitfinder/images/peaks/01/empty_peak_01_00005.h5:\n",
      "Expected Peak: False, Actual Peak: False\n",
      "/scratch/eseveret/cxls_hitfinder/images/peaks/01/img_6keV_clen01_00012.h5 conforms to expected attributes.\n",
      "/scratch/eseveret/cxls_hitfinder/images/peaks/01/img_6keV_clen01_00012.h5:\n",
      "Expected Peak: True, Actual Peak: True\n",
      "{'01': {'clen': 0.15, 'photon_energy': 6000}}\n"
     ]
    }
   ],
   "source": [
    "f.check_attributes(paths=myPaths, datasets=f.convert2str(datasets), dir_type='peak')\n",
    "print(myProcessor.get_parameters())\n",
    "\n",
    "# f.retrieve_attributes(file_path=myPaths.total_paths.water_background[0])"
   ]
  },
  {
   "cell_type": "code",
   "execution_count": 4,
   "metadata": {},
   "outputs": [
    {
     "name": "stdout",
     "output_type": "stream",
     "text": [
      "Paths refreshed for dataset ['01'].\n",
      "Directory: peaks/01\n",
      "\tTotal files: 39\n",
      "\tNormal images: 26\n",
      "\tEmpty images: 13\n",
      "Directory: labels/01\n",
      "\tTotal files: 39\n",
      "\tNormal images: 26\n",
      "\tEmpty images: 13\n",
      "Directory: peaks_water_overlay/01\n",
      "\tTotal files: 39\n",
      "\tNormal images: 26\n",
      "\tEmpty images: 13\n"
     ]
    }
   ],
   "source": [
    "f.get_counts(paths=myPaths, datasets=datasets)\n",
    "# %run process_directory.py ../../images  --percent_empty 0.5 "
   ]
  },
  {
   "cell_type": "code",
   "execution_count": 5,
   "metadata": {},
   "outputs": [
    {
     "name": "stdout",
     "output_type": "stream",
     "text": [
      "Actual percentage of empty images: 33.33333333333333% across peaks, water_overlays, and labels directories.\n",
      "\n",
      "Final dataset sizes - Peaks: 39, Labels: 39, Overlays: 39\n",
      "\n",
      "Data prepared.\n",
      "Train size: 31\n",
      "Test size: 8\n",
      "Batch size: 20\n",
      "Number of batches in train_loader: 2 \n",
      "\n"
     ]
    }
   ],
   "source": [
    "# transform = v2.Compose([\n",
    "#     transform.TransformToTensor(),  # Custom transform to convert numpy array to tensor\n",
    "#     v2.RandomRotation(degrees=15)         # Random rotation by +/- 15 degrees\n",
    "# ])\n",
    "transform = None\n",
    "myDataManager = data.DatasetManager(paths=myPaths, datasets=datasets, transform=transform)\n",
    "train_loader, test_loader = f.prepare(data_manager=myDataManager, batch_size=20)"
   ]
  },
  {
   "cell_type": "code",
   "execution_count": 6,
   "metadata": {},
   "outputs": [
    {
     "name": "stdout",
     "output_type": "stream",
     "text": [
      "cuda\n",
      "Paths refreshed for dataset ['01'].\n",
      "weights for peak : tensor([0.5000])\n"
     ]
    }
   ],
   "source": [
    "device = torch.device(\"cuda\" if torch.cuda.is_available() else \"cpu\")\n",
    "print(device)\n",
    "scheduler = ReduceLROnPlateau\n",
    "\n",
    "cfg = {\n",
    "    \"loader\": [train_loader, test_loader],\n",
    "    'batch_size': train_loader.batch_size,\n",
    "    'device': device,\n",
    "    'scheduler': scheduler\n",
    "    }\n",
    "\n",
    "\n",
    "peak_config = eval.Peak_Detection_Configuration(myPaths, datasets, device, save_path='../models/peak_model.pt')\n",
    "print(f'weights for peak : {peak_config.get_loss_weights()}')\n",
    "# photon_config = eval.Photon_Energy_Configuration(myPaths, datasets, device, save_path='../models/photon_model.pt')\n",
    "# print(f'weights for photon energy : {photon_config.get_loss_weights()}')\n",
    "# clen_config = eval.Camera_Length_Configureation(myPaths, datasets, device, save_path='../models/clen_model.pt')\n",
    "# print(f'weights for camera length : {clen_config.get_loss_weights()}')\n",
    "# locate_config = eval.Peak_Finder_Configuration(myPaths, datasets, device, save_path='../models/locate_model.pt')\n",
    "# print(f'weights for peak_location : {locate_config.get_loss_weights()}')\n",
    "\n",
    "diagram_save_path = '../../docs/diagrams/'"
   ]
  },
  {
   "cell_type": "code",
   "execution_count": 7,
   "metadata": {},
   "outputs": [],
   "source": [
    "# # locate_config.get_model_diagram('first_peak_finder_model1.png', diagram_save_path, device)\n",
    "# d = train_eval.TrainTestModels(cfg, locate_config)\n",
    "# d.epoch_loop()\n",
    "# d.plot_loss_accuracy()\n",
    "# d.plot_confusion_matrix()"
   ]
  },
  {
   "cell_type": "code",
   "execution_count": 8,
   "metadata": {},
   "outputs": [],
   "source": [
    "# train_loader, test_loader = f.prepare(data_manager=myDataManager, batch_size=1)\n",
    "\n",
    "# for inputs, labels, attributes in train_loader:\n",
    "    \n",
    "#     break"
   ]
  },
  {
   "cell_type": "code",
   "execution_count": 9,
   "metadata": {},
   "outputs": [
    {
     "name": "stdout",
     "output_type": "stream",
     "text": [
      "Model testing and validating: Binary_Classification_With_Parameters\n",
      "Looking for the feature: peak\n",
      "-- epoch 0\n",
      "Train loss: 587.8761520385742\n",
      "Train accuracy: 0.6451612710952759\n",
      "Test loss: 9.2375\n",
      "Test accuracy: 0.75\n",
      "-- learning rate : [0.0001]\n",
      "-- epoch 1\n",
      "Train loss: 497.19091796875\n",
      "Train accuracy: 0.6451612710952759\n",
      "Test loss: 9.2375\n",
      "Test accuracy: 0.75\n",
      "-- learning rate : [0.0001]\n",
      "-- epoch 2\n",
      "Train loss: 418.2522850036621\n",
      "Train accuracy: 0.6451612710952759\n",
      "Test loss: 5.99296875\n",
      "Test accuracy: 0.375\n",
      "-- learning rate : [0.0001]\n"
     ]
    },
    {
     "data": {
      "image/png": "[encoded data removed]",
      "text/plain": [
       "<Figure size 640x480 with 1 Axes>"
      ]
     },
     "metadata": {},
     "output_type": "display_data"
    },
    {
     "data": {
      "image/png": "[encoded data removed]",
      "text/plain": [
       "<Figure size 480x480 with 2 Axes>"
      ]
     },
     "metadata": {},
     "output_type": "display_data"
    },
    {
     "name": "stdout",
     "output_type": "stream",
     "text": [
      "0: {'precision': 0.2857142857142857, 'recall': 1.0, 'f1-score': 0.4444444444444444, 'support': 2.0}\n",
      "1: {'precision': 1.0, 'recall': 0.16666666666666666, 'f1-score': 0.2857142857142857, 'support': 6.0}\n",
      "accuracy: 0.375\n",
      "macro avg: {'precision': 0.6428571428571428, 'recall': 0.5833333333333334, 'f1-score': 0.36507936507936506, 'support': 8.0}\n",
      "weighted avg: {'precision': 0.8214285714285714, 'recall': 0.375, 'f1-score': 0.32539682539682535, 'support': 8.0}\n"
     ]
    }
   ],
   "source": [
    "a = train_eval.TrainTestModels(cfg, peak_config)\n",
    "a.epoch_loop()\n",
    "# a.plot_loss_accuracy('../../../APM598/binary_loss5.png')\n",
    "# a.find_optimal_threshold()\n",
    "# a.plot_roc_curve()\n",
    "# a.plot_confusion_matrix('../../../APM598/binary_confusion_matrix5.png')\n",
    "a.plot_loss_accuracy()\n",
    "a.evaluate_model()\n",
    "a.plot_confusion_matrix()\n",
    "a.make_classification_report()\n",
    "# a.save_model()"
   ]
  },
  {
   "cell_type": "code",
   "execution_count": 10,
   "metadata": {},
   "outputs": [
    {
     "data": {
      "text/plain": [
       "array([[1.        , 0.        ],\n",
       "       [0.83333333, 0.16666667]])"
      ]
     },
     "execution_count": 10,
     "metadata": {},
     "output_type": "execute_result"
    }
   ],
   "source": [
    "a.get_confusion_matrix()"
   ]
  },
  {
   "cell_type": "code",
   "execution_count": 11,
   "metadata": {},
   "outputs": [],
   "source": [
    "# peak_config.get_model_diagram('peak_comparison_model2.png', diagram_save_path, device)"
   ]
  },
  {
   "cell_type": "code",
   "execution_count": 12,
   "metadata": {},
   "outputs": [],
   "source": [
    "# b = train_eval.TrainTestModels(cfg, photon_config)\n",
    "# b.epoch_loop()\n",
    "# # b.plot_loss_accuracy(diagram_save_path + 'photon_energy_loss_accuracy.png')\n",
    "# # b.plot_confusion_matrix(diagram_save_path + 'photon_energy_confusion_matrix.png')\n",
    "# b.save_model()\n",
    "# b.plot_loss_accuracy()\n",
    "# b.plot_confusion_matrix()"
   ]
  },
  {
   "cell_type": "code",
   "execution_count": 13,
   "metadata": {},
   "outputs": [],
   "source": [
    "# photon_config.get_model_diagram('photon_energy_model.png', diagram_save_path, device)"
   ]
  },
  {
   "cell_type": "code",
   "execution_count": 14,
   "metadata": {},
   "outputs": [],
   "source": [
    "# b.get_confusion_matrix()"
   ]
  },
  {
   "cell_type": "code",
   "execution_count": 15,
   "metadata": {},
   "outputs": [],
   "source": [
    "# c = train_eval.TrainTestModels(cfg, clen_config)\n",
    "# c.epoch_loop()\n",
    "# # c.plot_loss_accuracy(diagram_save_path + 'camera_length_loss_accuracy.png')\n",
    "# # c.plot_confusion_matrix(diagram_save_path + 'camera_length_confusion_matrix.png')\n",
    "# c.plot_loss_accuracy()\n",
    "# c.plot_confusion_matrix()\n",
    "# c.save_model()"
   ]
  },
  {
   "cell_type": "code",
   "execution_count": 16,
   "metadata": {},
   "outputs": [],
   "source": [
    "# clen_config.get_model_diagram('camera_length_model.png', diagram_save_path, device)"
   ]
  },
  {
   "cell_type": "code",
   "execution_count": 17,
   "metadata": {},
   "outputs": [],
   "source": [
    "# c.get_confusion_matrix()"
   ]
  },
  {
   "cell_type": "code",
   "execution_count": 18,
   "metadata": {},
   "outputs": [],
   "source": [
    "# reload(pipe)\n",
    "# # torch.cuda.synchronize()\n",
    "# # torch.cuda.empty_cache()\n",
    "# pipeline = pipe.ModelPipeline(peak_config, photon_config, clen_config, device)"
   ]
  },
  {
   "cell_type": "code",
   "execution_count": 19,
   "metadata": {},
   "outputs": [],
   "source": [
    "# train_loader, test_loader = f.prepare(data_manager=myDataManager, batch_size=1)\n",
    "\n",
    "# for inputs, labels, attributes in train_loader:\n",
    "#     inputs = inputs[1]\n",
    "#     # print(f'input size : {inputs.size()}')\n",
    "#     print(f'-- attributes: {attributes}')\n",
    "#     results = pipeline.run(inputs.to(device))\n",
    "#     print(f'-- results: {results}')\n",
    "#     break"
   ]
  }
 ],
 "metadata": {
  "kernelspec": {
   "display_name": "hitfinder_sol_env",
   "language": "python",
   "name": "hitfinder_sol_env"
  },
  "language_info": {
   "codemirror_mode": {
    "name": "ipython",
    "version": 3
   },
   "file_extension": ".py",
   "mimetype": "text/x-python",
   "name": "python",
   "nbconvert_exporter": "python",
   "pygments_lexer": "ipython3",
   "version": "3.12.2"
  }
 },
 "nbformat": 4,
 "nbformat_minor": 4
}
