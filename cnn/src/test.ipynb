{
 "cells": [
  {
   "cell_type": "code",
   "execution_count": 1,
   "metadata": {},
   "outputs": [
    {
     "name": "stdout",
     "output_type": "stream",
     "text": [
      "['01', '02', '03']\n",
      "['/Users/adamkurth/Documents/vscode/CXFEL/cxls_hitfinder/images/peaks/01/empty_peak_01_00004.h5', '/Users/adamkurth/Documents/vscode/CXFEL/cxls_hitfinder/images/peaks/01/empty_peak_01_00010.h5', '/Users/adamkurth/Documents/vscode/CXFEL/cxls_hitfinder/images/peaks/01/img_6keV_clen01_00078.h5', '/Users/adamkurth/Documents/vscode/CXFEL/cxls_hitfinder/images/peaks/01/img_6keV_clen01_00068.h5', '/Users/adamkurth/Documents/vscode/CXFEL/cxls_hitfinder/images/peaks/01/empty_peak_01_00011.h5', '/Users/adamkurth/Documents/vscode/CXFEL/cxls_hitfinder/images/peaks/01/img_6keV_clen01_00079.h5', '/Users/adamkurth/Documents/vscode/CXFEL/cxls_hitfinder/images/peaks/01/img_6keV_clen01_00069.h5', '/Users/adamkurth/Documents/vscode/CXFEL/cxls_hitfinder/images/peaks/01/empty_peak_01_00001.h5', '/Users/adamkurth/Documents/vscode/CXFEL/cxls_hitfinder/images/peaks/01/empty_peak_01_00005.h5', '/Users/adamkurth/Documents/vscode/CXFEL/cxls_hitfinder/images/peaks/01/img_6keV_clen01_00085.h5', '/Users/adamkurth/Documents/vscode/CXFEL/cxls_hitfinder/images/peaks/01/img_6keV_clen01_00076.h5', '/Users/adamkurth/Documents/vscode/CXFEL/cxls_hitfinder/images/peaks/01/img_6keV_clen01_00066.h5', '/Users/adamkurth/Documents/vscode/CXFEL/cxls_hitfinder/images/peaks/01/img_6keV_clen01_00095.h5', '/Users/adamkurth/Documents/vscode/CXFEL/cxls_hitfinder/images/peaks/01/img_6keV_clen01_00081.h5', '/Users/adamkurth/Documents/vscode/CXFEL/cxls_hitfinder/images/peaks/01/img_6keV_clen01_00072.h5', '/Users/adamkurth/Documents/vscode/CXFEL/cxls_hitfinder/images/peaks/01/img_6keV_clen01_00062.h5', '/Users/adamkurth/Documents/vscode/CXFEL/cxls_hitfinder/images/peaks/01/img_6keV_clen01_00091.h5', '/Users/adamkurth/Documents/vscode/CXFEL/cxls_hitfinder/images/peaks/01/img_6keV_clen01_00080.h5', '/Users/adamkurth/Documents/vscode/CXFEL/cxls_hitfinder/images/peaks/01/img_6keV_clen01_00073.h5', '/Users/adamkurth/Documents/vscode/CXFEL/cxls_hitfinder/images/peaks/01/img_6keV_clen01_00063.h5', '/Users/adamkurth/Documents/vscode/CXFEL/cxls_hitfinder/images/peaks/01/img_6keV_clen01_00090.h5', '/Users/adamkurth/Documents/vscode/CXFEL/cxls_hitfinder/images/peaks/01/img_6keV_clen01_00084.h5', '/Users/adamkurth/Documents/vscode/CXFEL/cxls_hitfinder/images/peaks/01/img_6keV_clen01_00077.h5', '/Users/adamkurth/Documents/vscode/CXFEL/cxls_hitfinder/images/peaks/01/img_6keV_clen01_00067.h5', '/Users/adamkurth/Documents/vscode/CXFEL/cxls_hitfinder/images/peaks/01/img_6keV_clen01_00094.h5', '/Users/adamkurth/Documents/vscode/CXFEL/cxls_hitfinder/images/peaks/01/img_6keV_clen01_00070.h5', '/Users/adamkurth/Documents/vscode/CXFEL/cxls_hitfinder/images/peaks/01/img_6keV_clen01_00083.h5', '/Users/adamkurth/Documents/vscode/CXFEL/cxls_hitfinder/images/peaks/01/img_6keV_clen01_00093.h5', '/Users/adamkurth/Documents/vscode/CXFEL/cxls_hitfinder/images/peaks/01/empty_peak_01_00008.h5', '/Users/adamkurth/Documents/vscode/CXFEL/cxls_hitfinder/images/peaks/01/img_6keV_clen01_00074.h5', '/Users/adamkurth/Documents/vscode/CXFEL/cxls_hitfinder/images/peaks/01/img_6keV_clen01_00087.h5', '/Users/adamkurth/Documents/vscode/CXFEL/cxls_hitfinder/images/peaks/01/img_6keV_clen01_00100.h5', '/Users/adamkurth/Documents/vscode/CXFEL/cxls_hitfinder/images/peaks/01/img_6keV_clen01_00097.h5', '/Users/adamkurth/Documents/vscode/CXFEL/cxls_hitfinder/images/peaks/01/img_6keV_clen01_00064.h5', '/Users/adamkurth/Documents/vscode/CXFEL/cxls_hitfinder/images/peaks/01/img_6keV_clen01_00075.h5', '/Users/adamkurth/Documents/vscode/CXFEL/cxls_hitfinder/images/peaks/01/img_6keV_clen01_00086.h5', '/Users/adamkurth/Documents/vscode/CXFEL/cxls_hitfinder/images/peaks/01/img_6keV_clen01_00096.h5', '/Users/adamkurth/Documents/vscode/CXFEL/cxls_hitfinder/images/peaks/01/img_6keV_clen01_00065.h5', '/Users/adamkurth/Documents/vscode/CXFEL/cxls_hitfinder/images/peaks/01/img_6keV_clen01_00071.h5', '/Users/adamkurth/Documents/vscode/CXFEL/cxls_hitfinder/images/peaks/01/img_6keV_clen01_00082.h5', '/Users/adamkurth/Documents/vscode/CXFEL/cxls_hitfinder/images/peaks/01/img_6keV_clen01_00092.h5', '/Users/adamkurth/Documents/vscode/CXFEL/cxls_hitfinder/images/peaks/01/empty_peak_01_00009.h5', '/Users/adamkurth/Documents/vscode/CXFEL/cxls_hitfinder/images/peaks/01/img_6keV_clen01_00089.h5', '/Users/adamkurth/Documents/vscode/CXFEL/cxls_hitfinder/images/peaks/01/img_6keV_clen01_00099.h5', '/Users/adamkurth/Documents/vscode/CXFEL/cxls_hitfinder/images/peaks/01/empty_peak_01_00002.h5', '/Users/adamkurth/Documents/vscode/CXFEL/cxls_hitfinder/images/peaks/01/empty_peak_01_00006.h5', '/Users/adamkurth/Documents/vscode/CXFEL/cxls_hitfinder/images/peaks/01/empty_peak_01_00007.h5', '/Users/adamkurth/Documents/vscode/CXFEL/cxls_hitfinder/images/peaks/01/img_6keV_clen01_00088.h5', '/Users/adamkurth/Documents/vscode/CXFEL/cxls_hitfinder/images/peaks/01/img_6keV_clen01_00098.h5', '/Users/adamkurth/Documents/vscode/CXFEL/cxls_hitfinder/images/peaks/01/empty_peak_01_00003.h5', '/Users/adamkurth/Documents/vscode/CXFEL/cxls_hitfinder/images/peaks/02/img_7keV_clen01_00051.h5', '/Users/adamkurth/Documents/vscode/CXFEL/cxls_hitfinder/images/peaks/02/empty_peak_02_00003.h5', '/Users/adamkurth/Documents/vscode/CXFEL/cxls_hitfinder/images/peaks/02/img_7keV_clen01_00061.h5', '/Users/adamkurth/Documents/vscode/CXFEL/cxls_hitfinder/images/peaks/02/img_7keV_clen01_00055.h5', '/Users/adamkurth/Documents/vscode/CXFEL/cxls_hitfinder/images/peaks/02/img_7keV_clen01_00045.h5', '/Users/adamkurth/Documents/vscode/CXFEL/cxls_hitfinder/images/peaks/02/img_7keV_clen01_00060.h5', '/Users/adamkurth/Documents/vscode/CXFEL/cxls_hitfinder/images/peaks/02/img_7keV_clen01_00054.h5', '/Users/adamkurth/Documents/vscode/CXFEL/cxls_hitfinder/images/peaks/02/img_7keV_clen01_00050.h5', '/Users/adamkurth/Documents/vscode/CXFEL/cxls_hitfinder/images/peaks/02/empty_peak_02_00002.h5', '/Users/adamkurth/Documents/vscode/CXFEL/cxls_hitfinder/images/peaks/02/img_7keV_clen01_00057.h5', '/Users/adamkurth/Documents/vscode/CXFEL/cxls_hitfinder/images/peaks/02/empty_peak_02_00005.h5', '/Users/adamkurth/Documents/vscode/CXFEL/cxls_hitfinder/images/peaks/02/img_7keV_clen01_00047.h5', '/Users/adamkurth/Documents/vscode/CXFEL/cxls_hitfinder/images/peaks/02/img_7keV_clen01_00053.h5', '/Users/adamkurth/Documents/vscode/CXFEL/cxls_hitfinder/images/peaks/02/empty_peak_02_00001.h5', '/Users/adamkurth/Documents/vscode/CXFEL/cxls_hitfinder/images/peaks/02/img_7keV_clen01_00052.h5', '/Users/adamkurth/Documents/vscode/CXFEL/cxls_hitfinder/images/peaks/02/img_7keV_clen01_00056.h5', '/Users/adamkurth/Documents/vscode/CXFEL/cxls_hitfinder/images/peaks/02/img_7keV_clen01_00046.h5', '/Users/adamkurth/Documents/vscode/CXFEL/cxls_hitfinder/images/peaks/02/empty_peak_02_00004.h5', '/Users/adamkurth/Documents/vscode/CXFEL/cxls_hitfinder/images/peaks/02/img_7keV_clen01_00059.h5', '/Users/adamkurth/Documents/vscode/CXFEL/cxls_hitfinder/images/peaks/02/img_7keV_clen01_00049.h5', '/Users/adamkurth/Documents/vscode/CXFEL/cxls_hitfinder/images/peaks/02/img_7keV_clen01_00058.h5', '/Users/adamkurth/Documents/vscode/CXFEL/cxls_hitfinder/images/peaks/02/img_7keV_clen01_00048.h5', '/Users/adamkurth/Documents/vscode/CXFEL/cxls_hitfinder/images/peaks/03/img_8keV_clen01_00008.h5', '/Users/adamkurth/Documents/vscode/CXFEL/cxls_hitfinder/images/peaks/03/img_8keV_clen01_00009.h5', '/Users/adamkurth/Documents/vscode/CXFEL/cxls_hitfinder/images/peaks/03/img_8keV_clen01_00002.h5', '/Users/adamkurth/Documents/vscode/CXFEL/cxls_hitfinder/images/peaks/03/img_8keV_clen01_00012.h5', '/Users/adamkurth/Documents/vscode/CXFEL/cxls_hitfinder/images/peaks/03/img_8keV_clen01_00006.h5', '/Users/adamkurth/Documents/vscode/CXFEL/cxls_hitfinder/images/peaks/03/img_8keV_clen01_00007.h5', '/Users/adamkurth/Documents/vscode/CXFEL/cxls_hitfinder/images/peaks/03/img_8keV_clen01_00003.h5', '/Users/adamkurth/Documents/vscode/CXFEL/cxls_hitfinder/images/peaks/03/img_8keV_clen01_00013.h5', '/Users/adamkurth/Documents/vscode/CXFEL/cxls_hitfinder/images/peaks/03/img_8keV_clen01_00004.h5', '/Users/adamkurth/Documents/vscode/CXFEL/cxls_hitfinder/images/peaks/03/img_8keV_clen01_00014.h5', '/Users/adamkurth/Documents/vscode/CXFEL/cxls_hitfinder/images/peaks/03/img_8keV_clen01_00010.h5', '/Users/adamkurth/Documents/vscode/CXFEL/cxls_hitfinder/images/peaks/03/img_8keV_clen01_00001.h5', '/Users/adamkurth/Documents/vscode/CXFEL/cxls_hitfinder/images/peaks/03/img_8keV_clen01_00011.h5', '/Users/adamkurth/Documents/vscode/CXFEL/cxls_hitfinder/images/peaks/03/img_8keV_clen01_00005.h5', '/Users/adamkurth/Documents/vscode/CXFEL/cxls_hitfinder/images/peaks/03/img_8keV_clen01_00015.h5']\n",
      "['/Users/adamkurth/Documents/vscode/CXFEL/cxls_hitfinder/images/water/01/water01.h5', '/Users/adamkurth/Documents/vscode/CXFEL/cxls_hitfinder/images/water/02/water02.h5', '/Users/adamkurth/Documents/vscode/CXFEL/cxls_hitfinder/images/water/03/water03.h5']\n",
      "['01', '02', '03']\n",
      "[1, 2, 3]\n",
      "{'01': '/Users/adamkurth/Documents/vscode/CXFEL/cxls_hitfinder/images/water/01/water01.h5', '02': '/Users/adamkurth/Documents/vscode/CXFEL/cxls_hitfinder/images/water/02/water02.h5', '03': '/Users/adamkurth/Documents/vscode/CXFEL/cxls_hitfinder/images/water/03/water03.h5'}\n",
      "\n",
      " {'01': [0.15, 6000], '02': [0.15, 7000], '03': [0.15, 8000], '04': [0.25, 6000], '05': [0.25, 7000], '06': [0.25, 8000], '07': [0.35, 6000], '08': [0.35, 7000], '09': [0.35, 8000]}\n"
     ]
    }
   ],
   "source": [
    "from pkg import *\n",
    "paths = path.PathManager(datasets=[1,2,3])\n",
    "# print(paths.total_paths.peaks)\n",
    "# print(paths.total_paths.water_background)\n",
    "\n",
    "processor = process.Processor(paths=paths, datasets=[1,2,3])\n",
    "# print(processor.water_backgrounds)\n",
    "\n",
    "# focus on water_background dict\n",
    "datasets_int = f.convert2int(processor.datasets)\n",
    "# print(processor.datasets)\n",
    "# print(datasets_int)\n",
    "\n",
    "# returns dictionary of selected water_background paths\n",
    "# print(processor.water_background_dict)\n",
    "\n",
    "# print('\\n', processor.dataset_dict)\n",
    "\n"
   ]
  },
  {
   "cell_type": "markdown",
   "metadata": {},
   "source": [
    "### Changes to `path.py`\n",
    "- `path.py` now takes in a list of ints, where each int corresponds to a dataset index. Inside of `path.select_datasets()`, this iterates through the list of ints and appends all paths to the corresponding datasets to the `datasets` list. This allows for the selection of multiple datasets at once.\n",
    "- The instance of PathManager, `myPaths`, now has the attribute of `total_paths` where this is a namedtuple that contains all the paths to the dataset(s).\n",
    "\n",
    "- This change makes it easier to select multiple datasets at once, and allows for the selection of datasets in a more flexible manner.\n",
    "\n",
    "\n",
    "- `init_list()` function takes the string `dataset` argument that pads the integer and has been casted to a string, then uses the `get_()` functions for all the files in the directories we need, returns many lists. "
   ]
  },
  {
   "cell_type": "code",
   "execution_count": 2,
   "metadata": {},
   "outputs": [
    {
     "name": "stdout",
     "output_type": "stream",
     "text": [
      "[1, 2]\n",
      "['01', '02']\n"
     ]
    }
   ],
   "source": [
    "ints = f.convert2int(datasets=['01','02'])\n",
    "print(ints)\n",
    "strs = f.convert2str(datasets=[1,2])\n",
    "print(strs)"
   ]
  },
  {
   "cell_type": "code",
   "execution_count": 35,
   "metadata": {},
   "outputs": [
    {
     "name": "stdout",
     "output_type": "stream",
     "text": [
      "['01', '02', '03']\n",
      "Water backgrounds initialized: 3\n",
      "{'01': {'clen': 0.15, 'photon_energy': 6000}, '02': {'clen': 0.15, 'photon_energy': 7000}, '03': {'clen': 0.15, 'photon_energy': 8000}}\n",
      "Paths refreshed for dataset ['01', '02', '03'].\n",
      "Directory: peaks/01\n",
      "\tTotal files: 58\n",
      "\tNormal images: 39\n",
      "\tEmpty images: 19\n",
      "Directory: labels/01\n",
      "\tTotal files: 58\n",
      "\tNormal images: 39\n",
      "\tEmpty images: 19\n",
      "Directory: peaks_water_overlay/01\n",
      "\tTotal files: 58\n",
      "\tNormal images: 39\n",
      "\tEmpty images: 19\n",
      "Directory: peaks/02\n",
      "\tTotal files: 25\n",
      "\tNormal images: 17\n",
      "\tEmpty images: 8\n",
      "Directory: labels/02\n",
      "\tTotal files: 25\n",
      "\tNormal images: 17\n",
      "\tEmpty images: 8\n",
      "Directory: peaks_water_overlay/02\n",
      "\tTotal files: 25\n",
      "\tNormal images: 17\n",
      "\tEmpty images: 8\n",
      "Directory: peaks/03\n",
      "\tTotal files: 22\n",
      "\tNormal images: 15\n",
      "\tEmpty images: 7\n",
      "Directory: labels/03\n",
      "\tTotal files: 22\n",
      "\tNormal images: 15\n",
      "\tEmpty images: 7\n",
      "Directory: peaks_water_overlay/03\n",
      "\tTotal files: 22\n",
      "\tNormal images: 15\n",
      "\tEmpty images: 7\n",
      "Actual percentage of empty images: 32.38095238095238% across peaks, water_overlays, and labels directories.\n",
      "\n",
      "Final dataset sizes - Peaks: 105, Labels: 105, Overlays: 105\n",
      "{'01': {'clen': 0.15, 'photon_energy': 6000}, '02': {'clen': 0.15, 'photon_energy': 7000}, '03': {'clen': 0.15, 'photon_energy': 8000}}\n",
      "\n",
      "Data prepared.\n",
      "Train size: 84\n",
      "Test size: 21\n",
      "Batch size: 10\n",
      "Number of batches in train_loader: 9 \n",
      "\n"
     ]
    }
   ],
   "source": [
    "import os\n",
    "import torch\n",
    "import torch.nn as nn\n",
    "import torch.optim as optim\n",
    "import torch.nn.functional as F\n",
    "import numpy as np\n",
    "import subprocess\n",
    "from glob import glob\n",
    "from pkg import *\n",
    "\n",
    "datasets = [1,2,3]\n",
    "\n",
    "myPaths = path.PathManager(datasets=datasets)\n",
    "myProcessor = process.Processor(paths=myPaths, datasets=datasets)\n",
    "params = myProcessor.get_parameters()\n",
    "print(params)\n",
    "f.get_counts(paths=myPaths, datasets=datasets)\n",
    "\n",
    "myDatasetManager = data.DatasetManager(paths=myPaths, datasets=datasets)\n",
    "\n",
    "# peak, label, overlay are valid types\n",
    "parameters_4_datasets = myProcessor.get_parameters()\n",
    "print(parameters_4_datasets)\n",
    "\n",
    "train_loader, test_loader = f.prepare(data_manager=myDatasetManager, batch_size=10)"
   ]
  },
  {
   "cell_type": "code",
   "execution_count": 2,
   "metadata": {},
   "outputs": [
    {
     "ename": "AttributeError",
     "evalue": "module 'pkg.functions' has no attribute 'check_attributes'",
     "output_type": "error",
     "traceback": [
      "\u001b[0;31m---------------------------------------------------------------------------\u001b[0m",
      "\u001b[0;31mAttributeError\u001b[0m                            Traceback (most recent call last)",
      "Cell \u001b[0;32mIn[2], line 1\u001b[0m\n\u001b[0;32m----> 1\u001b[0m \u001b[43mf\u001b[49m\u001b[38;5;241;43m.\u001b[39;49m\u001b[43mcheck_attributes\u001b[49m()\n",
      "\u001b[0;31mAttributeError\u001b[0m: module 'pkg.functions' has no attribute 'check_attributes'"
     ]
    }
   ],
   "source": [
    "f.check_attributes()"
   ]
  },
  {
   "cell_type": "code",
   "execution_count": 2,
   "metadata": {},
   "outputs": [
    {
     "name": "stdout",
     "output_type": "stream",
     "text": [
      "Paths refreshed for dataset ['01', '02', '03'].\n",
      "Directory: peaks/01\n",
      "\tTotal files: 58\n",
      "\tNormal images: 39\n",
      "\tEmpty images: 19\n",
      "Directory: labels/01\n",
      "\tTotal files: 58\n",
      "\tNormal images: 39\n",
      "\tEmpty images: 19\n",
      "Directory: peaks_water_overlay/01\n",
      "\tTotal files: 58\n",
      "\tNormal images: 39\n",
      "\tEmpty images: 19\n",
      "Directory: peaks/02\n",
      "\tTotal files: 25\n",
      "\tNormal images: 17\n",
      "\tEmpty images: 8\n",
      "Directory: labels/02\n",
      "\tTotal files: 25\n",
      "\tNormal images: 17\n",
      "\tEmpty images: 8\n",
      "Directory: peaks_water_overlay/02\n",
      "\tTotal files: 25\n",
      "\tNormal images: 17\n",
      "\tEmpty images: 8\n",
      "Directory: peaks/03\n",
      "\tTotal files: 22\n",
      "\tNormal images: 15\n",
      "\tEmpty images: 7\n",
      "Directory: labels/03\n",
      "\tTotal files: 22\n",
      "\tNormal images: 15\n",
      "\tEmpty images: 7\n",
      "Directory: peaks_water_overlay/03\n",
      "\tTotal files: 22\n",
      "\tNormal images: 15\n",
      "\tEmpty images: 7\n"
     ]
    }
   ],
   "source": [
    "f.get_counts(paths=myPaths, datasets=datasets)\n",
    "# %run process_directory.py ../../images  --percent_empty 0.5 \n",
    "# f.get_counts(paths=myPaths, datasets=datasets)"
   ]
  },
  {
   "cell_type": "code",
   "execution_count": 47,
   "metadata": {},
   "outputs": [
    {
     "name": "stdout",
     "output_type": "stream",
     "text": [
      "{'01': {'clen': 1.5, 'photon_energy': 6000}, '02': {'clen': 1.5, 'photon_energy': 7000}, '03': {'clen': 1.5, 'photon_energy': 8000}}\n",
      "True\n"
     ]
    }
   ],
   "source": [
    "from typing import List, Dict, Any\n",
    "from pkg.functions import convert2int, convert2str, get_params\n",
    "\n",
    "datasets = [1,2,3]\n",
    "datasets = f.convert2str(datasets)\n",
    "params = f.get_params(datasets=datasets)\n",
    "print(params)\n",
    "# f.check_attributes(paths=myPaths, datasets=datasets, dir_type='peak')\n",
    "\n",
    "def check_attributes(paths: path.PathManager, datasets: List[str], dir_type: str) -> None:\n",
    "    conform = True\n",
    "    params = get_params(datasets=datasets)\n",
    "    for dataset in datasets:\n",
    "        files = paths.fetch_paths_by_type(dataset=dataset, dir_type=dir_type)\n",
    "        exp_clen, exp_photon_energy = params.get(dataset)['clen'], params.get(dataset)['photon_energy']\n",
    "        for path in files:\n",
    "            attributes = f.retrieve_attributes(path)\n",
    "            act_clen, act_photon_energy = attributes['clen'], attributes['photon_energy']\n",
    "            if act_clen != exp_clen or act_photon_energy != exp_photon_energy:\n",
    "                conform = False\n",
    "                print(f'Error: {path} does not match expected attributes')\n",
    "                print(f'Expected: clen={exp_clen}, photon_energy={exp_photon_energy}')\n",
    "                print(f'Actual: clen={act_clen}, photon_energy={act_photon_energy}')\n",
    "        return conform\n",
    "\n",
    "conform = check_attributes(paths=myPaths, datasets=datasets, dir_type='peak')\n",
    "print(conform)\n"
   ]
  },
  {
   "cell_type": "code",
   "execution_count": null,
   "metadata": {},
   "outputs": [],
   "source": []
  },
  {
   "cell_type": "code",
   "execution_count": null,
   "metadata": {},
   "outputs": [],
   "source": []
  },
  {
   "cell_type": "code",
   "execution_count": 6,
   "metadata": {},
   "outputs": [
    {
     "name": "stdout",
     "output_type": "stream",
     "text": [
      "Model testing and validating: BasicCNN1\n",
      "-- epoch 0\n",
      "12\n",
      "11\n",
      "9\n",
      "27\n",
      "17\n",
      "26\n",
      "Train loss: 0.1879569947719574\n",
      "Train accuracy: 1.0\n",
      "Test loss: 0.06265233159065246\n",
      "Test accuracy: 1.0\n",
      "-- epoch 1\n",
      "17\n",
      "18\n",
      "13\n",
      "14\n",
      "17\n",
      "23\n",
      "Train loss: 0.1879569947719574\n",
      "Train accuracy: 1.0\n",
      "Test loss: 0.06265233159065246\n",
      "Test accuracy: 1.0\n",
      "-- epoch 2\n",
      "23\n",
      "25\n",
      "14\n",
      "12\n",
      "10\n",
      "18\n",
      "Train loss: 0.1879569947719574\n",
      "Train accuracy: 1.0\n",
      "Test loss: 0.06265233159065246\n",
      "Test accuracy: 1.0\n",
      "-- epoch 3\n",
      "32\n",
      "11\n",
      "8\n",
      "22\n",
      "12\n",
      "17\n",
      "Train loss: 0.1879569947719574\n",
      "Train accuracy: 1.0\n",
      "Test loss: 0.06265233159065246\n",
      "Test accuracy: 1.0\n",
      "-- epoch 4\n",
      "17\n",
      "16\n",
      "19\n",
      "22\n",
      "9\n",
      "19\n",
      "Train loss: 0.1879569947719574\n",
      "Train accuracy: 1.0\n",
      "Test loss: 0.06265233159065246\n",
      "Test accuracy: 1.0\n",
      "-- epoch 5\n",
      "11\n",
      "18\n",
      "16\n",
      "20\n",
      "19\n",
      "18\n",
      "Train loss: 0.1879569947719574\n",
      "Train accuracy: 1.0\n",
      "Test loss: 0.06265233159065246\n",
      "Test accuracy: 1.0\n",
      "-- epoch 6\n",
      "20\n",
      "16\n",
      "22\n",
      "5\n",
      "20\n",
      "19\n",
      "Train loss: 0.1879569947719574\n",
      "Train accuracy: 1.0\n",
      "Test loss: 0.06265233159065246\n",
      "Test accuracy: 1.0\n",
      "-- epoch 7\n",
      "21\n",
      "12\n",
      "20\n",
      "8\n",
      "30\n",
      "11\n",
      "Train loss: 0.1879569947719574\n",
      "Train accuracy: 1.0\n",
      "Test loss: 0.06265233159065246\n",
      "Test accuracy: 1.0\n",
      "-- epoch 8\n",
      "7\n",
      "15\n",
      "18\n",
      "18\n",
      "23\n",
      "21\n",
      "Train loss: 0.1879569947719574\n",
      "Train accuracy: 1.0\n",
      "Test loss: 0.06265233159065246\n",
      "Test accuracy: 1.0\n",
      "-- epoch 9\n",
      "16\n",
      "7\n",
      "15\n",
      "20\n",
      "24\n",
      "20\n",
      "Train loss: 0.1879569947719574\n",
      "Train accuracy: 1.0\n",
      "Test loss: 0.06265233159065246\n",
      "Test accuracy: 1.0\n"
     ]
    }
   ],
   "source": [
    "model1 = m.BasicCNN1()\n",
    "criterion = nn.BCEWithLogitsLoss()\n",
    "optimizer = optim.Adam(model1.parameters(), lr=0.001)\n",
    "device = torch.device(\"cuda\" if torch.cuda.is_available() else \"cpu\")\n",
    "cfg = {\n",
    "    'num_epochs': 10,\n",
    "    'num_classes': 2,\n",
    "    'batch_size': train_loader.batch_size,\n",
    "    'test_size': len(train_loader.dataset),\n",
    "    'test_size': len(test_loader.dataset),\n",
    "    'criterion': criterion,\n",
    "    'optimizer': optimizer,\n",
    "    'device': device,\n",
    "    'model': model1,\n",
    "    }\n",
    "\n",
    "# arguments: self, model, loader: list, criterion, optimizer, device, cfg: dict\n",
    "t = train_eval.TrainTestModels(model=model1, loader=[train_loader, test_loader], criterion=criterion, optimizer=optimizer, device=device, cfg=cfg)\n",
    "t.epoch_loop()"
   ]
  },
  {
   "cell_type": "code",
   "execution_count": null,
   "metadata": {},
   "outputs": [
    {
     "name": "stdout",
     "output_type": "stream",
     "text": [
      "Attributes ['params'] assigned to /Users/adamkurth/Documents/vscode/CXFEL/cxls_hitfinder/images/peaks/01/empty_peak_01_00020.h5\n"
     ]
    }
   ],
   "source": [
    "test_peaks = myPaths.get_peak_image_paths(dataset=dataset)[0]\n",
    "test_water = myPaths.get_peaks_water_overlay_image_paths(dataset=dataset)[0]\n",
    "test_overlay = myPaths.get_peaks_water_overlay_image_paths(dataset=dataset)[0]\n",
    "param1, param2 = (0.5, 9000), (0.5, 9000, True)\n",
    "f.assign_attributes(file_path=test_peaks, params=param1)"
   ]
  }
 ],
 "metadata": {
  "kernelspec": {
   "display_name": "torch",
   "language": "python",
   "name": "python3"
  },
  "language_info": {
   "codemirror_mode": {
    "name": "ipython",
    "version": 3
   },
   "file_extension": ".py",
   "mimetype": "text/x-python",
   "name": "python",
   "nbconvert_exporter": "python",
   "pygments_lexer": "ipython3",
   "version": "3.8.18"
  }
 },
 "nbformat": 4,
 "nbformat_minor": 2
}
