{
 "cells": [
  {
   "cell_type": "code",
   "execution_count": 26,
   "metadata": {},
   "outputs": [
    {
     "name": "stdout",
     "output_type": "stream",
     "text": [
      "\n",
      "true parameter matrix...\n",
      "\n",
      "[[(1.5, 6000.) (1.5, 7000.) (1.5, 8000.)]\n",
      " [(2.5, 6000.) (2.5, 7000.) (2.5, 8000.)]\n",
      " [(3.5, 6000.) (3.5, 7000.) (3.5, 8000.)]]\n",
      "[2.5, 8000]\n",
      "Found water background image: water06.h5\n",
      "Number of peak images: 19\n",
      "Number of water images: 0\n",
      "Number of label images: 0\n",
      "Check: Path to water background image: /Users/adamkurth/Documents/vscode/CXFEL/cxls_hitfinder/images/water/06/water06.h5\n",
      "\n"
     ]
    }
   ],
   "source": [
    "import os\n",
    "from pkg import u\n",
    "\n",
    "clen_values, photon_energy_values = [1.5, 2.5, 3.5], [6000, 7000, 8000]\n",
    "param_matrix = u.parameter_matrix(clen_values, photon_energy_values)\n",
    "print(param_matrix)\n",
    "\n",
    "dataset_dict = {\n",
    "    '01': [clen_values[0], photon_energy_values[0]],\n",
    "    '02': [clen_values[0], photon_energy_values[1]],\n",
    "    '03': [clen_values[0], photon_energy_values[2]],\n",
    "    '04': [clen_values[1], photon_energy_values[0]],\n",
    "    '05': [clen_values[1], photon_energy_values[1]],\n",
    "    '06': [clen_values[1], photon_energy_values[2]],\n",
    "    '07': [clen_values[2], photon_energy_values[0]],\n",
    "    '08': [clen_values[2], photon_energy_values[1]],\n",
    "    '09': [clen_values[2], photon_energy_values[2]],\n",
    "}\n",
    "\n",
    "\n",
    "# parameters\n",
    "dataset = '06'\n",
    "print(dataset_dict[dataset])\n",
    "clen, photon_energy = dataset_dict[dataset]\n",
    "threshold = 1\n",
    "# clen = 1.5 # meters \n",
    "# photon_energy = 6000 # eV/ 6 keV\n",
    "\n",
    "# instances\n",
    "pm = u.PathManager()\n",
    "peak_paths, water_peak_paths, labels, water_background_path = pm.select_dataset(dataset=dataset)\n",
    "p = u.Processor(paths=pm, dataset=dataset)\n",
    "dm = u.DatasetManager(paths=pm, dataset=dataset, transform=None)"
   ]
  },
  {
   "cell_type": "code",
   "execution_count": 27,
   "metadata": {},
   "outputs": [
    {
     "name": "stdout",
     "output_type": "stream",
     "text": [
      "'dataset' value 06 confirmed successfully.\n",
      "'clen' value 2.5 confirmed successfully.\n",
      "'photon_energy' value 8000 confirmed successfully.\n",
      "'water_background' value /Users/adamkurth/Documents/vscode/CXFEL/cxls_hitfinder/images/water/06/water06.h5 confirmed successfully.\n",
      "Attributes 'clen' and 'photon_energy' updated for /Users/adamkurth/Documents/vscode/CXFEL/cxls_hitfinder/images/peaks/06/img_8keV_clen02_00114.h5\n",
      "Attributes 'clen' and 'photon_energy' updated for /Users/adamkurth/Documents/vscode/CXFEL/cxls_hitfinder/images/peaks_water_overlay/06/overlay_img_8keV_clen02_00114.h5\n",
      "Attributes 'clen' and 'photon_energy' updated for /Users/adamkurth/Documents/vscode/CXFEL/cxls_hitfinder/images/labels/06/label_img_8keV_clen02_00114.h5\n",
      "Processed and labeled images for img_8keV_clen02_00114.h5 saved.\n",
      "Attributes 'clen' and 'photon_energy' updated for /Users/adamkurth/Documents/vscode/CXFEL/cxls_hitfinder/images/peaks/06/img_8keV_clen02_00104.h5\n",
      "Attributes 'clen' and 'photon_energy' updated for /Users/adamkurth/Documents/vscode/CXFEL/cxls_hitfinder/images/peaks_water_overlay/06/overlay_img_8keV_clen02_00104.h5\n",
      "Attributes 'clen' and 'photon_energy' updated for /Users/adamkurth/Documents/vscode/CXFEL/cxls_hitfinder/images/labels/06/label_img_8keV_clen02_00104.h5\n",
      "Processed and labeled images for img_8keV_clen02_00104.h5 saved.\n",
      "Attributes 'clen' and 'photon_energy' updated for /Users/adamkurth/Documents/vscode/CXFEL/cxls_hitfinder/images/peaks/06/img_8keV_clen02_00110.h5\n",
      "Attributes 'clen' and 'photon_energy' updated for /Users/adamkurth/Documents/vscode/CXFEL/cxls_hitfinder/images/peaks_water_overlay/06/overlay_img_8keV_clen02_00110.h5\n",
      "Attributes 'clen' and 'photon_energy' updated for /Users/adamkurth/Documents/vscode/CXFEL/cxls_hitfinder/images/labels/06/label_img_8keV_clen02_00110.h5\n",
      "Processed and labeled images for img_8keV_clen02_00110.h5 saved.\n",
      "Attributes 'clen' and 'photon_energy' updated for /Users/adamkurth/Documents/vscode/CXFEL/cxls_hitfinder/images/peaks/06/img_8keV_clen02_00111.h5\n",
      "Attributes 'clen' and 'photon_energy' updated for /Users/adamkurth/Documents/vscode/CXFEL/cxls_hitfinder/images/peaks_water_overlay/06/overlay_img_8keV_clen02_00111.h5\n",
      "Attributes 'clen' and 'photon_energy' updated for /Users/adamkurth/Documents/vscode/CXFEL/cxls_hitfinder/images/labels/06/label_img_8keV_clen02_00111.h5\n",
      "Processed and labeled images for img_8keV_clen02_00111.h5 saved.\n",
      "Attributes 'clen' and 'photon_energy' updated for /Users/adamkurth/Documents/vscode/CXFEL/cxls_hitfinder/images/peaks/06/img_8keV_clen02_00101.h5\n",
      "Attributes 'clen' and 'photon_energy' updated for /Users/adamkurth/Documents/vscode/CXFEL/cxls_hitfinder/images/peaks_water_overlay/06/overlay_img_8keV_clen02_00101.h5\n",
      "Attributes 'clen' and 'photon_energy' updated for /Users/adamkurth/Documents/vscode/CXFEL/cxls_hitfinder/images/labels/06/label_img_8keV_clen02_00101.h5\n",
      "Processed and labeled images for img_8keV_clen02_00101.h5 saved.\n",
      "Attributes 'clen' and 'photon_energy' updated for /Users/adamkurth/Documents/vscode/CXFEL/cxls_hitfinder/images/peaks/06/img_8keV_clen02_00115.h5\n",
      "Attributes 'clen' and 'photon_energy' updated for /Users/adamkurth/Documents/vscode/CXFEL/cxls_hitfinder/images/peaks_water_overlay/06/overlay_img_8keV_clen02_00115.h5\n",
      "Attributes 'clen' and 'photon_energy' updated for /Users/adamkurth/Documents/vscode/CXFEL/cxls_hitfinder/images/labels/06/label_img_8keV_clen02_00115.h5\n",
      "Processed and labeled images for img_8keV_clen02_00115.h5 saved.\n",
      "Attributes 'clen' and 'photon_energy' updated for /Users/adamkurth/Documents/vscode/CXFEL/cxls_hitfinder/images/peaks/06/img_8keV_clen02_00105.h5\n",
      "Attributes 'clen' and 'photon_energy' updated for /Users/adamkurth/Documents/vscode/CXFEL/cxls_hitfinder/images/peaks_water_overlay/06/overlay_img_8keV_clen02_00105.h5\n",
      "Attributes 'clen' and 'photon_energy' updated for /Users/adamkurth/Documents/vscode/CXFEL/cxls_hitfinder/images/labels/06/label_img_8keV_clen02_00105.h5\n",
      "Processed and labeled images for img_8keV_clen02_00105.h5 saved.\n",
      "Attributes 'clen' and 'photon_energy' updated for /Users/adamkurth/Documents/vscode/CXFEL/cxls_hitfinder/images/peaks/06/img_8keV_clen02_00118.h5\n",
      "Attributes 'clen' and 'photon_energy' updated for /Users/adamkurth/Documents/vscode/CXFEL/cxls_hitfinder/images/peaks_water_overlay/06/overlay_img_8keV_clen02_00118.h5\n",
      "Attributes 'clen' and 'photon_energy' updated for /Users/adamkurth/Documents/vscode/CXFEL/cxls_hitfinder/images/labels/06/label_img_8keV_clen02_00118.h5\n",
      "Processed and labeled images for img_8keV_clen02_00118.h5 saved.\n",
      "Attributes 'clen' and 'photon_energy' updated for /Users/adamkurth/Documents/vscode/CXFEL/cxls_hitfinder/images/peaks/06/img_8keV_clen02_00108.h5\n",
      "Attributes 'clen' and 'photon_energy' updated for /Users/adamkurth/Documents/vscode/CXFEL/cxls_hitfinder/images/peaks_water_overlay/06/overlay_img_8keV_clen02_00108.h5\n",
      "Attributes 'clen' and 'photon_energy' updated for /Users/adamkurth/Documents/vscode/CXFEL/cxls_hitfinder/images/labels/06/label_img_8keV_clen02_00108.h5\n",
      "Processed and labeled images for img_8keV_clen02_00108.h5 saved.\n",
      "Attributes 'clen' and 'photon_energy' updated for /Users/adamkurth/Documents/vscode/CXFEL/cxls_hitfinder/images/peaks/06/img_8keV_clen02_00119.h5\n",
      "Attributes 'clen' and 'photon_energy' updated for /Users/adamkurth/Documents/vscode/CXFEL/cxls_hitfinder/images/peaks_water_overlay/06/overlay_img_8keV_clen02_00119.h5\n",
      "Attributes 'clen' and 'photon_energy' updated for /Users/adamkurth/Documents/vscode/CXFEL/cxls_hitfinder/images/labels/06/label_img_8keV_clen02_00119.h5\n",
      "Processed and labeled images for img_8keV_clen02_00119.h5 saved.\n",
      "Attributes 'clen' and 'photon_energy' updated for /Users/adamkurth/Documents/vscode/CXFEL/cxls_hitfinder/images/peaks/06/img_8keV_clen02_00109.h5\n",
      "Attributes 'clen' and 'photon_energy' updated for /Users/adamkurth/Documents/vscode/CXFEL/cxls_hitfinder/images/peaks_water_overlay/06/overlay_img_8keV_clen02_00109.h5\n",
      "Attributes 'clen' and 'photon_energy' updated for /Users/adamkurth/Documents/vscode/CXFEL/cxls_hitfinder/images/labels/06/label_img_8keV_clen02_00109.h5\n",
      "Processed and labeled images for img_8keV_clen02_00109.h5 saved.\n",
      "Attributes 'clen' and 'photon_energy' updated for /Users/adamkurth/Documents/vscode/CXFEL/cxls_hitfinder/images/peaks/06/img_8keV_clen02_00112.h5\n",
      "Attributes 'clen' and 'photon_energy' updated for /Users/adamkurth/Documents/vscode/CXFEL/cxls_hitfinder/images/peaks_water_overlay/06/overlay_img_8keV_clen02_00112.h5\n",
      "Attributes 'clen' and 'photon_energy' updated for /Users/adamkurth/Documents/vscode/CXFEL/cxls_hitfinder/images/labels/06/label_img_8keV_clen02_00112.h5\n",
      "Processed and labeled images for img_8keV_clen02_00112.h5 saved.\n",
      "Attributes 'clen' and 'photon_energy' updated for /Users/adamkurth/Documents/vscode/CXFEL/cxls_hitfinder/images/peaks/06/img_8keV_clen02_00102.h5\n",
      "Attributes 'clen' and 'photon_energy' updated for /Users/adamkurth/Documents/vscode/CXFEL/cxls_hitfinder/images/peaks_water_overlay/06/overlay_img_8keV_clen02_00102.h5\n",
      "Attributes 'clen' and 'photon_energy' updated for /Users/adamkurth/Documents/vscode/CXFEL/cxls_hitfinder/images/labels/06/label_img_8keV_clen02_00102.h5\n",
      "Processed and labeled images for img_8keV_clen02_00102.h5 saved.\n",
      "Attributes 'clen' and 'photon_energy' updated for /Users/adamkurth/Documents/vscode/CXFEL/cxls_hitfinder/images/peaks/06/img_8keV_clen02_00116.h5\n",
      "Attributes 'clen' and 'photon_energy' updated for /Users/adamkurth/Documents/vscode/CXFEL/cxls_hitfinder/images/peaks_water_overlay/06/overlay_img_8keV_clen02_00116.h5\n",
      "Attributes 'clen' and 'photon_energy' updated for /Users/adamkurth/Documents/vscode/CXFEL/cxls_hitfinder/images/labels/06/label_img_8keV_clen02_00116.h5\n",
      "Processed and labeled images for img_8keV_clen02_00116.h5 saved.\n",
      "Attributes 'clen' and 'photon_energy' updated for /Users/adamkurth/Documents/vscode/CXFEL/cxls_hitfinder/images/peaks/06/img_8keV_clen02_00106.h5\n",
      "Attributes 'clen' and 'photon_energy' updated for /Users/adamkurth/Documents/vscode/CXFEL/cxls_hitfinder/images/peaks_water_overlay/06/overlay_img_8keV_clen02_00106.h5\n",
      "Attributes 'clen' and 'photon_energy' updated for /Users/adamkurth/Documents/vscode/CXFEL/cxls_hitfinder/images/labels/06/label_img_8keV_clen02_00106.h5\n",
      "Processed and labeled images for img_8keV_clen02_00106.h5 saved.\n",
      "Attributes 'clen' and 'photon_energy' updated for /Users/adamkurth/Documents/vscode/CXFEL/cxls_hitfinder/images/peaks/06/img_8keV_clen02_00117.h5\n",
      "Attributes 'clen' and 'photon_energy' updated for /Users/adamkurth/Documents/vscode/CXFEL/cxls_hitfinder/images/peaks_water_overlay/06/overlay_img_8keV_clen02_00117.h5\n",
      "Attributes 'clen' and 'photon_energy' updated for /Users/adamkurth/Documents/vscode/CXFEL/cxls_hitfinder/images/labels/06/label_img_8keV_clen02_00117.h5\n",
      "Processed and labeled images for img_8keV_clen02_00117.h5 saved.\n",
      "Attributes 'clen' and 'photon_energy' updated for /Users/adamkurth/Documents/vscode/CXFEL/cxls_hitfinder/images/peaks/06/img_8keV_clen02_00107.h5\n",
      "Attributes 'clen' and 'photon_energy' updated for /Users/adamkurth/Documents/vscode/CXFEL/cxls_hitfinder/images/peaks_water_overlay/06/overlay_img_8keV_clen02_00107.h5\n",
      "Attributes 'clen' and 'photon_energy' updated for /Users/adamkurth/Documents/vscode/CXFEL/cxls_hitfinder/images/labels/06/label_img_8keV_clen02_00107.h5\n",
      "Processed and labeled images for img_8keV_clen02_00107.h5 saved.\n",
      "Attributes 'clen' and 'photon_energy' updated for /Users/adamkurth/Documents/vscode/CXFEL/cxls_hitfinder/images/peaks/06/img_8keV_clen02_00113.h5\n",
      "Attributes 'clen' and 'photon_energy' updated for /Users/adamkurth/Documents/vscode/CXFEL/cxls_hitfinder/images/peaks_water_overlay/06/overlay_img_8keV_clen02_00113.h5\n",
      "Attributes 'clen' and 'photon_energy' updated for /Users/adamkurth/Documents/vscode/CXFEL/cxls_hitfinder/images/labels/06/label_img_8keV_clen02_00113.h5\n",
      "Processed and labeled images for img_8keV_clen02_00113.h5 saved.\n",
      "Attributes 'clen' and 'photon_energy' updated for /Users/adamkurth/Documents/vscode/CXFEL/cxls_hitfinder/images/peaks/06/img_8keV_clen02_00103.h5\n",
      "Attributes 'clen' and 'photon_energy' updated for /Users/adamkurth/Documents/vscode/CXFEL/cxls_hitfinder/images/peaks_water_overlay/06/overlay_img_8keV_clen02_00103.h5\n",
      "Attributes 'clen' and 'photon_energy' updated for /Users/adamkurth/Documents/vscode/CXFEL/cxls_hitfinder/images/labels/06/label_img_8keV_clen02_00103.h5\n",
      "Processed and labeled images for img_8keV_clen02_00103.h5 saved.\n"
     ]
    }
   ],
   "source": [
    "# p.process_directory(dataset=dataset, clen=clen, photon_energy=photon_energy)"
   ]
  },
  {
   "cell_type": "code",
   "execution_count": null,
   "metadata": {},
   "outputs": [],
   "source": []
  },
  {
   "cell_type": "code",
   "execution_count": 2,
   "metadata": {},
   "outputs": [
    {
     "name": "stdout",
     "output_type": "stream",
     "text": [
      "\n",
      "true parameter matrix...\n",
      "\n",
      "All files in dataset 01 of type 'label' have matching attributes.\n",
      "\n",
      "Data prepared.\n",
      "Train size: 31\n",
      "Test size: 8\n",
      "Batch size: 10\n",
      "Number of batches in train_loader: 4 \n",
      "\n"
     ]
    }
   ],
   "source": [
    "# generate peak/overlay/label and upate attributes\n",
    "# overlaying the correct water01.h5 path to the peak images\n",
    "# p.process_directory(dataset=dataset, clen=clen, photon_energy=photon_energy)\n",
    "\n",
    "# peak, label, overlay, background are valid types\n",
    "u.check_attributes(paths=pm, dataset=dataset, type='label') \n",
    "\n",
    "train_loader, test_loader = u.prepare(data_manager=dm, batch_size=10)"
   ]
  },
  {
   "cell_type": "code",
   "execution_count": 3,
   "metadata": {},
   "outputs": [
    {
     "name": "stdout",
     "output_type": "stream",
     "text": [
      "\n",
      "true parameter matrix...\n",
      "\n",
      "All files in dataset 01 of type 'label' have matching attributes.\n"
     ]
    },
    {
     "data": {
      "text/plain": [
       "True"
      ]
     },
     "execution_count": 3,
     "metadata": {},
     "output_type": "execute_result"
    }
   ],
   "source": []
  }
 ],
 "metadata": {
  "kernelspec": {
   "display_name": "torch",
   "language": "python",
   "name": "python3"
  },
  "language_info": {
   "codemirror_mode": {
    "name": "ipython",
    "version": 3
   },
   "file_extension": ".py",
   "mimetype": "text/x-python",
   "name": "python",
   "nbconvert_exporter": "python",
   "pygments_lexer": "ipython3",
   "version": "3.8.18"
  }
 },
 "nbformat": 4,
 "nbformat_minor": 2
}
