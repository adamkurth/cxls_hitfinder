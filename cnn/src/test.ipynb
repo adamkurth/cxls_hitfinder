{
 "cells": [
  {
   "cell_type": "code",
   "execution_count": 1,
   "metadata": {},
   "outputs": [
    {
     "ename": "AttributeError",
     "evalue": "'Processor' object has no attribute 'water_background_array'",
     "output_type": "error",
     "traceback": [
      "\u001b[0;31m---------------------------------------------------------------------------\u001b[0m",
      "\u001b[0;31mAttributeError\u001b[0m                            Traceback (most recent call last)",
      "Cell \u001b[0;32mIn[1], line 15\u001b[0m\n\u001b[1;32m     12\u001b[0m peak_paths, water_peak_paths, labels, water_background_path \u001b[38;5;241m=\u001b[39m pm\u001b[38;5;241m.\u001b[39mselect_dataset(\u001b[38;5;124m'\u001b[39m\u001b[38;5;124m01\u001b[39m\u001b[38;5;124m'\u001b[39m)\n\u001b[1;32m     14\u001b[0m p \u001b[38;5;241m=\u001b[39m u\u001b[38;5;241m.\u001b[39mProcessor(paths\u001b[38;5;241m=\u001b[39mpm, dataset\u001b[38;5;241m=\u001b[39mdataset)\n\u001b[0;32m---> 15\u001b[0m \u001b[43mp\u001b[49m\u001b[38;5;241;43m.\u001b[39;49m\u001b[43mprocess_directory\u001b[49m\u001b[43m(\u001b[49m\u001b[43mdataset\u001b[49m\u001b[38;5;241;43m=\u001b[39;49m\u001b[43mdataset\u001b[49m\u001b[43m,\u001b[49m\u001b[43m \u001b[49m\u001b[43mclen\u001b[49m\u001b[38;5;241;43m=\u001b[39;49m\u001b[43mclen\u001b[49m\u001b[43m,\u001b[49m\u001b[43m \u001b[49m\u001b[43mphoton_energy\u001b[49m\u001b[38;5;241;43m=\u001b[39;49m\u001b[43mphoton_energy\u001b[49m\u001b[43m)\u001b[49m\n",
      "File \u001b[0;32m~/Documents/vscode/CXFEL/cxls_hitfinder/cnn/src/pkg/util.py:161\u001b[0m, in \u001b[0;36mProcessor.process_directory\u001b[0;34m(self, dataset, clen, photon_energy)\u001b[0m\n\u001b[1;32m    159\u001b[0m labeled_array \u001b[38;5;241m=\u001b[39m \u001b[38;5;28mself\u001b[39m\u001b[38;5;241m.\u001b[39mheatmap(peak_image)\n\u001b[1;32m    160\u001b[0m \u001b[38;5;66;03m# apply water background array \u001b[39;00m\n\u001b[0;32m--> 161\u001b[0m peak_water_overlay_image \u001b[38;5;241m=\u001b[39m \u001b[38;5;28;43mself\u001b[39;49m\u001b[38;5;241;43m.\u001b[39;49m\u001b[43mapply_water_background\u001b[49m\u001b[43m(\u001b[49m\u001b[43mpeak_image\u001b[49m\u001b[43m)\u001b[49m\n\u001b[1;32m    162\u001b[0m \u001b[38;5;66;03m# save h5s\u001b[39;00m\n\u001b[1;32m    163\u001b[0m save_h5(out_overlay_path, peak_water_overlay_image) \u001b[38;5;66;03m# save peak_water_overlay_image\u001b[39;00m\n",
      "File \u001b[0;32m~/Documents/vscode/CXFEL/cxls_hitfinder/cnn/src/pkg/util.py:126\u001b[0m, in \u001b[0;36mProcessor.apply_water_background\u001b[0;34m(self, peak_image_array)\u001b[0m\n\u001b[1;32m    125\u001b[0m \u001b[38;5;28;01mdef\u001b[39;00m \u001b[38;5;21mapply_water_background\u001b[39m(\u001b[38;5;28mself\u001b[39m, peak_image_array: np\u001b[38;5;241m.\u001b[39mndarray) \u001b[38;5;241m-\u001b[39m\u001b[38;5;241m>\u001b[39m np\u001b[38;5;241m.\u001b[39mndarray:\n\u001b[0;32m--> 126\u001b[0m     \u001b[38;5;28;01mreturn\u001b[39;00m peak_image_array \u001b[38;5;241m+\u001b[39m \u001b[38;5;28;43mself\u001b[39;49m\u001b[38;5;241;43m.\u001b[39;49m\u001b[43mwater_background_array\u001b[49m\n",
      "\u001b[0;31mAttributeError\u001b[0m: 'Processor' object has no attribute 'water_background_array'"
     ]
    }
   ],
   "source": [
    "import os\n",
    "\n",
    "from pkg import u\n",
    "\n",
    "dataset = '01'\n",
    "threshold = 1\n",
    "clen = 1.5 # meters \n",
    "photon_energy = 6000 # eV/ 6 keV\n",
    "\n",
    "\n",
    "pm = u.PathManager()\n",
    "peak_paths, water_peak_paths, labels, water_background_path = pm.select_dataset('01')\n",
    "\n",
    "p = u.Processor(paths=pm, dataset=dataset)\n",
    "p.process_directory(dataset=dataset, clen=clen, photon_energy=photon_energy)\n"
   ]
  },
  {
   "cell_type": "code",
   "execution_count": null,
   "metadata": {},
   "outputs": [],
   "source": [
    "import numpy as np\n",
    "\n",
    "cameralength = np.array([clen, clen, clen])\n",
    "photon_energy = np.array([photon_energy, photon_energy, photon_energy])\n",
    "\n",
    "parameters = np.array([cameralength, photon_energy])\n"
   ]
  }
 ],
 "metadata": {
  "kernelspec": {
   "display_name": "torch",
   "language": "python",
   "name": "python3"
  },
  "language_info": {
   "codemirror_mode": {
    "name": "ipython",
    "version": 3
   },
   "file_extension": ".py",
   "mimetype": "text/x-python",
   "name": "python",
   "nbconvert_exporter": "python",
   "pygments_lexer": "ipython3",
   "version": "3.8.18"
  }
 },
 "nbformat": 4,
 "nbformat_minor": 2
}
