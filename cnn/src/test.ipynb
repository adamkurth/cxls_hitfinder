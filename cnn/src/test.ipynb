{
 "cells": [
  {
   "cell_type": "code",
   "execution_count": 5,
   "metadata": {},
   "outputs": [
    {
     "name": "stdout",
     "output_type": "stream",
     "text": [
      "\n",
      "true parameter matrix...\n",
      "\n",
      "Found water background image: water01.h5\n",
      "Number of peak images: 10\n",
      "Number of water images: 10\n",
      "Number of label images: 10\n",
      "Check: Path to water background image: /Users/adamkurth/Documents/vscode/CXFEL/cxls_hitfinder/images/water/01/water01.h5\n",
      "\n"
     ]
    }
   ],
   "source": [
    "import os\n",
    "from pkg import u\n",
    "\n",
    "clen_values, photon_energy_values = [1.5, 2.5, 3.5], [6000, 7000, 8000]\n",
    "param_matrix = u.parameter_matrix(clen_values, photon_energy_values)\n",
    "\n",
    "# parameters\n",
    "dataset = '01'\n",
    "threshold = 1\n",
    "clen = 1.5 # meters \n",
    "photon_energy = 6000 # eV/ 6 keV\n",
    "\n",
    "# instances\n",
    "pm = u.PathManager()\n",
    "peak_paths, water_peak_paths, labels, water_background_path = pm.select_dataset('01')\n",
    "p = u.Processor(paths=pm, dataset=dataset)\n",
    "dm = u.DatasetManager(paths=pm, dataset=dataset, transform=None)"
   ]
  },
  {
   "cell_type": "code",
   "execution_count": 4,
   "metadata": {},
   "outputs": [
    {
     "name": "stdout",
     "output_type": "stream",
     "text": [
      "\n",
      "true parameter matrix...\n",
      "\n",
      "All files in dataset 01 of type 'label' have matching attributes.\n",
      "\n",
      "Data prepared.\n",
      "Train size: 8\n",
      "Test size: 2\n",
      "Batch size: 10\n",
      "Number of batches in train_loader: 1 \n",
      "\n"
     ]
    }
   ],
   "source": [
    "# generate peak/overlay/label and upate attributes\n",
    "# overlaying the correct water01.h5 path to the peak images\n",
    "# p.process_directory(dataset=dataset, clen=clen, photon_energy=photon_energy)\n",
    "\n",
    "# peak, label, overlay, background are valid types\n",
    "u.check_attributes(paths=pm, dataset=dataset, type='label') \n",
    "\n",
    "train_loader, test_loader = u.prepare(data_manager=dm, batch_size=10)"
   ]
  },
  {
   "cell_type": "code",
   "execution_count": 3,
   "metadata": {},
   "outputs": [
    {
     "name": "stdout",
     "output_type": "stream",
     "text": [
      "\n",
      "true parameter matrix...\n",
      "\n",
      "All files in dataset 01 of type 'label' have matching attributes.\n"
     ]
    },
    {
     "data": {
      "text/plain": [
       "True"
      ]
     },
     "execution_count": 3,
     "metadata": {},
     "output_type": "execute_result"
    }
   ],
   "source": []
  }
 ],
 "metadata": {
  "kernelspec": {
   "display_name": "torch",
   "language": "python",
   "name": "python3"
  },
  "language_info": {
   "codemirror_mode": {
    "name": "ipython",
    "version": 3
   },
   "file_extension": ".py",
   "mimetype": "text/x-python",
   "name": "python",
   "nbconvert_exporter": "python",
   "pygments_lexer": "ipython3",
   "version": "3.8.18"
  }
 },
 "nbformat": 4,
 "nbformat_minor": 2
}
