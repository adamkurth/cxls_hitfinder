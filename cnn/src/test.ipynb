{
 "cells": [
  {
   "cell_type": "code",
   "execution_count": 1,
   "metadata": {},
   "outputs": [
    {
     "name": "stdout",
     "output_type": "stream",
     "text": [
      "Water backgrounds initialized: 3\n",
      "{'01': {'clen': 0.15, 'photon_energy': 6000}, '02': {'clen': 0.15, 'photon_energy': 7000}, '03': {'clen': 0.15, 'photon_energy': 8000}}\n",
      "Paths refreshed for dataset ['01', '02', '03'].\n",
      "Directory: peaks/01\n",
      "\tTotal files: 58\n",
      "\tNormal images: 39\n",
      "\tEmpty images: 19\n",
      "Directory: labels/01\n",
      "\tTotal files: 58\n",
      "\tNormal images: 39\n",
      "\tEmpty images: 19\n",
      "Directory: peaks_water_overlay/01\n",
      "\tTotal files: 58\n",
      "\tNormal images: 39\n",
      "\tEmpty images: 19\n",
      "Directory: peaks/02\n",
      "\tTotal files: 25\n",
      "\tNormal images: 17\n",
      "\tEmpty images: 8\n",
      "Directory: labels/02\n",
      "\tTotal files: 25\n",
      "\tNormal images: 17\n",
      "\tEmpty images: 8\n",
      "Directory: peaks_water_overlay/02\n",
      "\tTotal files: 25\n",
      "\tNormal images: 17\n",
      "\tEmpty images: 8\n",
      "Directory: peaks/03\n",
      "\tTotal files: 22\n",
      "\tNormal images: 15\n",
      "\tEmpty images: 7\n",
      "Directory: labels/03\n",
      "\tTotal files: 22\n",
      "\tNormal images: 15\n",
      "\tEmpty images: 7\n",
      "Directory: peaks_water_overlay/03\n",
      "\tTotal files: 22\n",
      "\tNormal images: 15\n",
      "\tEmpty images: 7\n",
      "Actual percentage of empty images: 32.38095238095238% across peaks, water_overlays, and labels directories.\n",
      "\n",
      "Dataset ['01', '02', '03'] authenticated successfully.\n",
      "\n",
      "Final dataset sizes - Peaks: 105, Labels: 105, Overlays: 105\n",
      "\n",
      "Data prepared.\n",
      "Train size: 84\n",
      "Test size: 21\n",
      "Batch size: 10\n",
      "Number of batches in train_loader: 9 \n",
      "\n"
     ]
    }
   ],
   "source": [
    "import os\n",
    "import torch\n",
    "import torch.nn as nn\n",
    "import torch.optim as optim\n",
    "import torch.nn.functional as F\n",
    "import numpy as np\n",
    "import subprocess\n",
    "from glob import glob\n",
    "from pkg import *\n",
    "\n",
    "datasets = [1,2,3]\n",
    "\n",
    "myPaths = path.PathManager(datasets=datasets)\n",
    "myProcessor = process.Processor(paths=myPaths, datasets=datasets)\n",
    "params = myProcessor.get_parameters()\n",
    "print(params)\n",
    "f.get_counts(paths=myPaths, datasets=datasets)\n",
    "\n",
    "myDatasetManager = data.DatasetManager(paths=myPaths, datasets=datasets)\n",
    "\n",
    "train_loader, test_loader = f.prepare(data_manager=myDatasetManager, batch_size=10)"
   ]
  },
  {
   "cell_type": "code",
   "execution_count": 7,
   "metadata": {},
   "outputs": [
    {
     "name": "stdout",
     "output_type": "stream",
     "text": [
      "{'01': {'clen': 0.15, 'photon_energy': 6000}, '02': {'clen': 0.15, 'photon_energy': 7000}, '03': {'clen': 0.15, 'photon_energy': 8000}}\n"
     ]
    }
   ],
   "source": [
    "f.check_attributes(paths=myPaths, datasets=f.convert2str(datasets), dir_type='peak')\n",
    "print(myProcessor.get_parameters())"
   ]
  },
  {
   "cell_type": "code",
   "execution_count": 8,
   "metadata": {},
   "outputs": [
    {
     "name": "stdout",
     "output_type": "stream",
     "text": [
      "Paths refreshed for dataset ['01', '02', '03'].\n",
      "Directory: peaks/01\n",
      "\tTotal files: 58\n",
      "\tNormal images: 39\n",
      "\tEmpty images: 19\n",
      "Directory: labels/01\n",
      "\tTotal files: 58\n",
      "\tNormal images: 39\n",
      "\tEmpty images: 19\n",
      "Directory: peaks_water_overlay/01\n",
      "\tTotal files: 58\n",
      "\tNormal images: 39\n",
      "\tEmpty images: 19\n",
      "Directory: peaks/02\n",
      "\tTotal files: 25\n",
      "\tNormal images: 17\n",
      "\tEmpty images: 8\n",
      "Directory: labels/02\n",
      "\tTotal files: 25\n",
      "\tNormal images: 17\n",
      "\tEmpty images: 8\n",
      "Directory: peaks_water_overlay/02\n",
      "\tTotal files: 25\n",
      "\tNormal images: 17\n",
      "\tEmpty images: 8\n",
      "Directory: peaks/03\n",
      "\tTotal files: 22\n",
      "\tNormal images: 15\n",
      "\tEmpty images: 7\n",
      "Directory: labels/03\n",
      "\tTotal files: 22\n",
      "\tNormal images: 15\n",
      "\tEmpty images: 7\n",
      "Directory: peaks_water_overlay/03\n",
      "\tTotal files: 22\n",
      "\tNormal images: 15\n",
      "\tEmpty images: 7\n"
     ]
    }
   ],
   "source": [
    "f.get_counts(paths=myPaths, datasets=datasets)\n",
    "# %run process_directory.py ../../images  --percent_empty 0.5 \n",
    "# f.get_counts(paths=myPaths, datasets=datasets)"
   ]
  },
  {
   "cell_type": "code",
   "execution_count": 47,
   "metadata": {},
   "outputs": [
    {
     "name": "stdout",
     "output_type": "stream",
     "text": [
      "{'01': {'clen': 1.5, 'photon_energy': 6000}, '02': {'clen': 1.5, 'photon_energy': 7000}, '03': {'clen': 1.5, 'photon_energy': 8000}}\n",
      "True\n"
     ]
    }
   ],
   "source": []
  },
  {
   "cell_type": "code",
   "execution_count": null,
   "metadata": {},
   "outputs": [],
   "source": []
  },
  {
   "cell_type": "code",
   "execution_count": null,
   "metadata": {},
   "outputs": [],
   "source": []
  },
  {
   "cell_type": "code",
   "execution_count": 14,
   "metadata": {},
   "outputs": [
    {
     "ename": "TypeError",
     "evalue": "'str' object is not callable",
     "output_type": "error",
     "traceback": [
      "\u001b[0;31m---------------------------------------------------------------------------\u001b[0m",
      "\u001b[0;31mTypeError\u001b[0m                                 Traceback (most recent call last)",
      "Cell \u001b[0;32mIn[14], line 22\u001b[0m\n\u001b[1;32m      7\u001b[0m cfg \u001b[38;5;241m=\u001b[39m {\n\u001b[1;32m      8\u001b[0m     \u001b[38;5;124m'\u001b[39m\u001b[38;5;124mnum_epochs\u001b[39m\u001b[38;5;124m'\u001b[39m: \u001b[38;5;241m2\u001b[39m,\n\u001b[1;32m      9\u001b[0m     \u001b[38;5;124m'\u001b[39m\u001b[38;5;124mnum_classes\u001b[39m\u001b[38;5;124m'\u001b[39m: \u001b[38;5;241m2\u001b[39m,\n\u001b[0;32m   (...)\u001b[0m\n\u001b[1;32m     18\u001b[0m     \u001b[38;5;124m'\u001b[39m\u001b[38;5;124mmodel\u001b[39m\u001b[38;5;124m'\u001b[39m: model1,\n\u001b[1;32m     19\u001b[0m     }\n\u001b[1;32m     21\u001b[0m \u001b[38;5;66;03m# self, model: nn.Module, loader: list, criterion, optimizer, device, cfg: dict, feature: str, labels: list\u001b[39;00m\n\u001b[0;32m---> 22\u001b[0m t \u001b[38;5;241m=\u001b[39m \u001b[43mtrain_eval\u001b[49m\u001b[38;5;241;43m.\u001b[39;49m\u001b[43mTrainTestModels\u001b[49m\u001b[43m(\u001b[49m\u001b[43mcfg\u001b[49m\u001b[38;5;241;43m=\u001b[39;49m\u001b[43mcfg\u001b[49m\u001b[43m,\u001b[49m\u001b[43m \u001b[49m\u001b[43mfeature_class\u001b[49m\u001b[38;5;241;43m=\u001b[39;49m\u001b[38;5;124;43m'\u001b[39;49m\u001b[38;5;124;43mpeak\u001b[39;49m\u001b[38;5;124;43m'\u001b[39;49m\u001b[43m)\u001b[49m\n\u001b[1;32m     23\u001b[0m t\u001b[38;5;241m.\u001b[39mepoch_loop()\n",
      "File \u001b[0;32m~/Documents/vscode/CXFEL/cxls_hitfinder/cnn/src/pkg/train_eval_copy.py:37\u001b[0m, in \u001b[0;36mTrainTestModels.__init__\u001b[0;34m(self, cfg, feature_class)\u001b[0m\n\u001b[1;32m     34\u001b[0m \u001b[38;5;28mself\u001b[39m\u001b[38;5;241m.\u001b[39mdevice \u001b[38;5;241m=\u001b[39m cfg[\u001b[38;5;124m'\u001b[39m\u001b[38;5;124mdevice\u001b[39m\u001b[38;5;124m'\u001b[39m]\n\u001b[1;32m     35\u001b[0m \u001b[38;5;28mself\u001b[39m\u001b[38;5;241m.\u001b[39mbatch \u001b[38;5;241m=\u001b[39m cfg[\u001b[38;5;124m'\u001b[39m\u001b[38;5;124mbatch_size\u001b[39m\u001b[38;5;124m'\u001b[39m]\n\u001b[0;32m---> 37\u001b[0m \u001b[38;5;28mself\u001b[39m\u001b[38;5;241m.\u001b[39mfeature_class \u001b[38;5;241m=\u001b[39m \u001b[43mfeature_class\u001b[49m\u001b[43m(\u001b[49m\u001b[43m)\u001b[49m\n\u001b[1;32m     38\u001b[0m \u001b[38;5;28mself\u001b[39m\u001b[38;5;241m.\u001b[39mmodel \u001b[38;5;241m=\u001b[39m feature_class\u001b[38;5;241m.\u001b[39mget_model()\u001b[38;5;241m.\u001b[39mto(\u001b[38;5;28mself\u001b[39m\u001b[38;5;241m.\u001b[39mdevice)\n\u001b[1;32m     39\u001b[0m \u001b[38;5;28mself\u001b[39m\u001b[38;5;241m.\u001b[39mcriterion \u001b[38;5;241m=\u001b[39m feature_class\u001b[38;5;241m.\u001b[39mget_criterion()\n",
      "\u001b[0;31mTypeError\u001b[0m: 'str' object is not callable"
     ]
    }
   ],
   "source": [
    "from pkg import train_eval_copy as train_eval\n",
    "\n",
    "model1 = m.BasicCNN1()\n",
    "criterion = nn.BCEWithLogitsLoss()\n",
    "optimizer = optim.Adam(model1.parameters(), lr=0.001)\n",
    "device = torch.device(\"cuda\" if torch.cuda.is_available() else \"cpu\")\n",
    "cfg = {\n",
    "    'num_epochs': 2,\n",
    "    'num_classes': 2,\n",
    "    'batch_size': 10,\n",
    "    'threshold':0.5,\n",
    "    'loader': [train_loader ,test_loader],\n",
    "    'train_size': len(train_loader.dataset),\n",
    "    'test_size': len(test_loader.dataset),\n",
    "    'criterion': criterion,\n",
    "    'optimizer': optimizer,\n",
    "    'device': device,\n",
    "    'model': model1,\n",
    "    }\n",
    "\n",
    "# self, model: nn.Module, loader: list, criterion, optimizer, device, cfg: dict, feature: str, labels: list\n",
    "t = train_eval.TrainTestModels(cfg=cfg, feature_class=)\n",
    "t.epoch_loop()"
   ]
  },
  {
   "cell_type": "code",
   "execution_count": null,
   "metadata": {},
   "outputs": [
    {
     "name": "stdout",
     "output_type": "stream",
     "text": [
      "Attributes ['params'] assigned to /Users/adamkurth/Documents/vscode/CXFEL/cxls_hitfinder/images/peaks/01/empty_peak_01_00020.h5\n"
     ]
    }
   ],
   "source": [
    "test_peaks = myPaths.get_peak_image_paths(dataset=dataset)[0]\n",
    "test_water = myPaths.get_peaks_water_overlay_image_paths(dataset=dataset)[0]\n",
    "test_overlay = myPaths.get_peaks_water_overlay_image_paths(dataset=dataset)[0]\n",
    "param1, param2 = (0.5, 9000), (0.5, 9000, True)\n",
    "f.assign_attributes(file_path=test_peaks, params=param1)"
   ]
  }
 ],
 "metadata": {
  "kernelspec": {
   "display_name": "torch",
   "language": "python",
   "name": "python3"
  },
  "language_info": {
   "codemirror_mode": {
    "name": "ipython",
    "version": 3
   },
   "file_extension": ".py",
   "mimetype": "text/x-python",
   "name": "python",
   "nbconvert_exporter": "python",
   "pygments_lexer": "ipython3",
   "version": "3.8.18"
  }
 },
 "nbformat": 4,
 "nbformat_minor": 2
}
