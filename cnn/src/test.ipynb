{
 "cells": [
  {
   "cell_type": "code",
   "execution_count": 1,
   "metadata": {},
   "outputs": [
    {
     "name": "stdout",
     "output_type": "stream",
     "text": [
      "\n",
      "true parameter matrix...\n",
      "\n",
      "[[(1.5, 6000.) (1.5, 7000.) (1.5, 8000.)]\n",
      " [(2.5, 6000.) (2.5, 7000.) (2.5, 8000.)]\n",
      " [(3.5, 6000.) (3.5, 7000.) (3.5, 8000.)]]\n"
     ]
    }
   ],
   "source": [
    "import os\n",
    "from pkg import u\n",
    "\n",
    "clen_values = [1.5, 2.5, 3.5]\n",
    "photon_energy_values = [6000, 7000, 8000]\n",
    "u.parameter_matrix(clen_values, photon_energy_values)\n",
    "\n",
    "dataset = '01'\n",
    "threshold = 1\n",
    "clen = 1.5 # meters \n",
    "photon_energy = 6000 # eV/ 6 keV\n",
    "\n",
    "pm = u.PathManager()\n",
    "peak_paths, water_peak_paths, labels, water_background_path = pm.select_dataset('01')\n",
    "\n",
    "p = u.Processor(paths=pm, dataset=dataset)\n",
    "# p.process_directory(dataset=dataset, clen=clen, photon_energy=photon_energy) # working \n"
   ]
  },
  {
   "cell_type": "code",
   "execution_count": null,
   "metadata": {},
   "outputs": [],
   "source": []
  }
 ],
 "metadata": {
  "kernelspec": {
   "display_name": "torch",
   "language": "python",
   "name": "python3"
  },
  "language_info": {
   "codemirror_mode": {
    "name": "ipython",
    "version": 3
   },
   "file_extension": ".py",
   "mimetype": "text/x-python",
   "name": "python",
   "nbconvert_exporter": "python",
   "pygments_lexer": "ipython3",
   "version": "3.8.18"
  }
 },
 "nbformat": 4,
 "nbformat_minor": 2
}
